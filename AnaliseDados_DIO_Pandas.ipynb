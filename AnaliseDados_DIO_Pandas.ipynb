{
  "nbformat": 4,
  "nbformat_minor": 0,
  "metadata": {
    "colab": {
      "name": " AnaliseDados_DIO-Pandas",
      "provenance": [],
      "collapsed_sections": []
    },
    "kernelspec": {
      "name": "python3",
      "display_name": "Python 3"
    },
    "language_info": {
      "name": "python"
    }
  },
  "cells": [
    {
      "cell_type": "code",
      "metadata": {
        "id": "csmiIdnkj58H"
      },
      "source": [
        "import pandas as pd\n",
        "df = pd.read_csv('/content/drive/MyDrive/datasets_projeto_DIO/Gapminder.csv', error_bad_lines=False, sep=';')\n",
        "df.rename(columns={'country': 'País', 'continent': 'Continente', 'year': 'Ano', 'lifeExp': 'Expectativa de vida', 'pop': 'População', 'gdpPercap': 'PIB per capta'}, inplace=True)"
      ],
      "execution_count": 143,
      "outputs": []
    },
    {
      "cell_type": "code",
      "metadata": {
        "colab": {
          "base_uri": "https://localhost:8080/",
          "height": 204
        },
        "id": "V39Vm3BpU5aT",
        "outputId": "dec1ef78-e7b4-45b2-d2cc-3a11f7dbe301"
      },
      "source": [
        "#Mostrar as 5 primeiras linhas do dataframe:\n",
        "df.head()"
      ],
      "execution_count": 144,
      "outputs": [
        {
          "output_type": "execute_result",
          "data": {
            "text/html": [
              "<div>\n",
              "<style scoped>\n",
              "    .dataframe tbody tr th:only-of-type {\n",
              "        vertical-align: middle;\n",
              "    }\n",
              "\n",
              "    .dataframe tbody tr th {\n",
              "        vertical-align: top;\n",
              "    }\n",
              "\n",
              "    .dataframe thead th {\n",
              "        text-align: right;\n",
              "    }\n",
              "</style>\n",
              "<table border=\"1\" class=\"dataframe\">\n",
              "  <thead>\n",
              "    <tr style=\"text-align: right;\">\n",
              "      <th></th>\n",
              "      <th>País</th>\n",
              "      <th>Continente</th>\n",
              "      <th>Ano</th>\n",
              "      <th>Expectativa de vida</th>\n",
              "      <th>População</th>\n",
              "      <th>PIB per capta</th>\n",
              "    </tr>\n",
              "  </thead>\n",
              "  <tbody>\n",
              "    <tr>\n",
              "      <th>0</th>\n",
              "      <td>Afghanistan</td>\n",
              "      <td>Asia</td>\n",
              "      <td>1952</td>\n",
              "      <td>28.80</td>\n",
              "      <td>8425333</td>\n",
              "      <td>779.45</td>\n",
              "    </tr>\n",
              "    <tr>\n",
              "      <th>1</th>\n",
              "      <td>Afghanistan</td>\n",
              "      <td>Asia</td>\n",
              "      <td>1957</td>\n",
              "      <td>30.33</td>\n",
              "      <td>9240934</td>\n",
              "      <td>820.85</td>\n",
              "    </tr>\n",
              "    <tr>\n",
              "      <th>2</th>\n",
              "      <td>Afghanistan</td>\n",
              "      <td>Asia</td>\n",
              "      <td>1962</td>\n",
              "      <td>32.00</td>\n",
              "      <td>10267083</td>\n",
              "      <td>853.10</td>\n",
              "    </tr>\n",
              "    <tr>\n",
              "      <th>3</th>\n",
              "      <td>Afghanistan</td>\n",
              "      <td>Asia</td>\n",
              "      <td>1967</td>\n",
              "      <td>34.02</td>\n",
              "      <td>11537966</td>\n",
              "      <td>836.20</td>\n",
              "    </tr>\n",
              "    <tr>\n",
              "      <th>4</th>\n",
              "      <td>Afghanistan</td>\n",
              "      <td>Asia</td>\n",
              "      <td>1972</td>\n",
              "      <td>36.09</td>\n",
              "      <td>13079460</td>\n",
              "      <td>739.98</td>\n",
              "    </tr>\n",
              "  </tbody>\n",
              "</table>\n",
              "</div>"
            ],
            "text/plain": [
              "          País Continente  ...  População        PIB per capta\n",
              "0  Afghanistan       Asia  ...    8425333               779.45\n",
              "1  Afghanistan       Asia  ...    9240934               820.85\n",
              "2  Afghanistan       Asia  ...   10267083               853.10\n",
              "3  Afghanistan       Asia  ...   11537966               836.20\n",
              "4  Afghanistan       Asia  ...   13079460               739.98\n",
              "\n",
              "[5 rows x 6 columns]"
            ]
          },
          "metadata": {},
          "execution_count": 144
        }
      ]
    },
    {
      "cell_type": "code",
      "metadata": {
        "colab": {
          "base_uri": "https://localhost:8080/",
          "height": 514
        },
        "id": "GnKj2GgdVAjg",
        "outputId": "47b1140c-3213-4471-f364-5452fddaba81"
      },
      "source": [
        "#Mostras as n primeiras linhas de um dataframe, onde n é passado como parâmetro para a função head():\n",
        "#Para n = 15:\n",
        "df.head(15)"
      ],
      "execution_count": 145,
      "outputs": [
        {
          "output_type": "execute_result",
          "data": {
            "text/html": [
              "<div>\n",
              "<style scoped>\n",
              "    .dataframe tbody tr th:only-of-type {\n",
              "        vertical-align: middle;\n",
              "    }\n",
              "\n",
              "    .dataframe tbody tr th {\n",
              "        vertical-align: top;\n",
              "    }\n",
              "\n",
              "    .dataframe thead th {\n",
              "        text-align: right;\n",
              "    }\n",
              "</style>\n",
              "<table border=\"1\" class=\"dataframe\">\n",
              "  <thead>\n",
              "    <tr style=\"text-align: right;\">\n",
              "      <th></th>\n",
              "      <th>País</th>\n",
              "      <th>Continente</th>\n",
              "      <th>Ano</th>\n",
              "      <th>Expectativa de vida</th>\n",
              "      <th>População</th>\n",
              "      <th>PIB per capta</th>\n",
              "    </tr>\n",
              "  </thead>\n",
              "  <tbody>\n",
              "    <tr>\n",
              "      <th>0</th>\n",
              "      <td>Afghanistan</td>\n",
              "      <td>Asia</td>\n",
              "      <td>1952</td>\n",
              "      <td>28.80</td>\n",
              "      <td>8425333</td>\n",
              "      <td>779.45</td>\n",
              "    </tr>\n",
              "    <tr>\n",
              "      <th>1</th>\n",
              "      <td>Afghanistan</td>\n",
              "      <td>Asia</td>\n",
              "      <td>1957</td>\n",
              "      <td>30.33</td>\n",
              "      <td>9240934</td>\n",
              "      <td>820.85</td>\n",
              "    </tr>\n",
              "    <tr>\n",
              "      <th>2</th>\n",
              "      <td>Afghanistan</td>\n",
              "      <td>Asia</td>\n",
              "      <td>1962</td>\n",
              "      <td>32.00</td>\n",
              "      <td>10267083</td>\n",
              "      <td>853.10</td>\n",
              "    </tr>\n",
              "    <tr>\n",
              "      <th>3</th>\n",
              "      <td>Afghanistan</td>\n",
              "      <td>Asia</td>\n",
              "      <td>1967</td>\n",
              "      <td>34.02</td>\n",
              "      <td>11537966</td>\n",
              "      <td>836.20</td>\n",
              "    </tr>\n",
              "    <tr>\n",
              "      <th>4</th>\n",
              "      <td>Afghanistan</td>\n",
              "      <td>Asia</td>\n",
              "      <td>1972</td>\n",
              "      <td>36.09</td>\n",
              "      <td>13079460</td>\n",
              "      <td>739.98</td>\n",
              "    </tr>\n",
              "    <tr>\n",
              "      <th>5</th>\n",
              "      <td>Afghanistan</td>\n",
              "      <td>Asia</td>\n",
              "      <td>1977</td>\n",
              "      <td>38.44</td>\n",
              "      <td>14880372</td>\n",
              "      <td>786.11</td>\n",
              "    </tr>\n",
              "    <tr>\n",
              "      <th>6</th>\n",
              "      <td>Afghanistan</td>\n",
              "      <td>Asia</td>\n",
              "      <td>1982</td>\n",
              "      <td>39.85</td>\n",
              "      <td>12881816</td>\n",
              "      <td>978.01</td>\n",
              "    </tr>\n",
              "    <tr>\n",
              "      <th>7</th>\n",
              "      <td>Afghanistan</td>\n",
              "      <td>Asia</td>\n",
              "      <td>1987</td>\n",
              "      <td>40.82</td>\n",
              "      <td>13867957</td>\n",
              "      <td>852.40</td>\n",
              "    </tr>\n",
              "    <tr>\n",
              "      <th>8</th>\n",
              "      <td>Afghanistan</td>\n",
              "      <td>Asia</td>\n",
              "      <td>1992</td>\n",
              "      <td>41.67</td>\n",
              "      <td>16317921</td>\n",
              "      <td>649.34</td>\n",
              "    </tr>\n",
              "    <tr>\n",
              "      <th>9</th>\n",
              "      <td>Afghanistan</td>\n",
              "      <td>Asia</td>\n",
              "      <td>1997</td>\n",
              "      <td>41.76</td>\n",
              "      <td>22227415</td>\n",
              "      <td>635.34</td>\n",
              "    </tr>\n",
              "    <tr>\n",
              "      <th>10</th>\n",
              "      <td>Afghanistan</td>\n",
              "      <td>Asia</td>\n",
              "      <td>2002</td>\n",
              "      <td>42.13</td>\n",
              "      <td>25268405</td>\n",
              "      <td>726.73</td>\n",
              "    </tr>\n",
              "    <tr>\n",
              "      <th>11</th>\n",
              "      <td>Afghanistan</td>\n",
              "      <td>Asia</td>\n",
              "      <td>2007</td>\n",
              "      <td>43.83</td>\n",
              "      <td>31889923</td>\n",
              "      <td>974.58</td>\n",
              "    </tr>\n",
              "    <tr>\n",
              "      <th>12</th>\n",
              "      <td>Albania</td>\n",
              "      <td>Europe</td>\n",
              "      <td>1952</td>\n",
              "      <td>55.23</td>\n",
              "      <td>1282697</td>\n",
              "      <td>1,601.06</td>\n",
              "    </tr>\n",
              "    <tr>\n",
              "      <th>13</th>\n",
              "      <td>Albania</td>\n",
              "      <td>Europe</td>\n",
              "      <td>1957</td>\n",
              "      <td>59.28</td>\n",
              "      <td>1476505</td>\n",
              "      <td>1,942.28</td>\n",
              "    </tr>\n",
              "    <tr>\n",
              "      <th>14</th>\n",
              "      <td>Albania</td>\n",
              "      <td>Europe</td>\n",
              "      <td>1962</td>\n",
              "      <td>64.82</td>\n",
              "      <td>1728137</td>\n",
              "      <td>2,312.89</td>\n",
              "    </tr>\n",
              "  </tbody>\n",
              "</table>\n",
              "</div>"
            ],
            "text/plain": [
              "           País Continente  ...  População        PIB per capta\n",
              "0   Afghanistan       Asia  ...    8425333               779.45\n",
              "1   Afghanistan       Asia  ...    9240934               820.85\n",
              "2   Afghanistan       Asia  ...   10267083               853.10\n",
              "3   Afghanistan       Asia  ...   11537966               836.20\n",
              "4   Afghanistan       Asia  ...   13079460               739.98\n",
              "5   Afghanistan       Asia  ...   14880372               786.11\n",
              "6   Afghanistan       Asia  ...   12881816               978.01\n",
              "7   Afghanistan       Asia  ...   13867957               852.40\n",
              "8   Afghanistan       Asia  ...   16317921               649.34\n",
              "9   Afghanistan       Asia  ...   22227415               635.34\n",
              "10  Afghanistan       Asia  ...   25268405               726.73\n",
              "11  Afghanistan       Asia  ...   31889923               974.58\n",
              "12      Albania     Europe  ...    1282697             1,601.06\n",
              "13      Albania     Europe  ...    1476505             1,942.28\n",
              "14      Albania     Europe  ...    1728137             2,312.89\n",
              "\n",
              "[15 rows x 6 columns]"
            ]
          },
          "metadata": {},
          "execution_count": 145
        }
      ]
    },
    {
      "cell_type": "code",
      "metadata": {
        "colab": {
          "base_uri": "https://localhost:8080/",
          "height": 204
        },
        "id": "dFDBXJdtVTTf",
        "outputId": "816f49d5-a435-4a6e-b5ae-300ffc8086dc"
      },
      "source": [
        "#Exibir as 5 últimas linhas do dataframe:\n",
        "df.tail()"
      ],
      "execution_count": 146,
      "outputs": [
        {
          "output_type": "execute_result",
          "data": {
            "text/html": [
              "<div>\n",
              "<style scoped>\n",
              "    .dataframe tbody tr th:only-of-type {\n",
              "        vertical-align: middle;\n",
              "    }\n",
              "\n",
              "    .dataframe tbody tr th {\n",
              "        vertical-align: top;\n",
              "    }\n",
              "\n",
              "    .dataframe thead th {\n",
              "        text-align: right;\n",
              "    }\n",
              "</style>\n",
              "<table border=\"1\" class=\"dataframe\">\n",
              "  <thead>\n",
              "    <tr style=\"text-align: right;\">\n",
              "      <th></th>\n",
              "      <th>País</th>\n",
              "      <th>Continente</th>\n",
              "      <th>Ano</th>\n",
              "      <th>Expectativa de vida</th>\n",
              "      <th>População</th>\n",
              "      <th>PIB per capta</th>\n",
              "    </tr>\n",
              "  </thead>\n",
              "  <tbody>\n",
              "    <tr>\n",
              "      <th>3307</th>\n",
              "      <td>Zimbabwe</td>\n",
              "      <td>Africa</td>\n",
              "      <td>1987</td>\n",
              "      <td>62.35</td>\n",
              "      <td>9216418</td>\n",
              "      <td>706.16</td>\n",
              "    </tr>\n",
              "    <tr>\n",
              "      <th>3308</th>\n",
              "      <td>Zimbabwe</td>\n",
              "      <td>Africa</td>\n",
              "      <td>1992</td>\n",
              "      <td>60.38</td>\n",
              "      <td>10704340</td>\n",
              "      <td>693.42</td>\n",
              "    </tr>\n",
              "    <tr>\n",
              "      <th>3309</th>\n",
              "      <td>Zimbabwe</td>\n",
              "      <td>Africa</td>\n",
              "      <td>1997</td>\n",
              "      <td>46.81</td>\n",
              "      <td>11404948</td>\n",
              "      <td>792.45</td>\n",
              "    </tr>\n",
              "    <tr>\n",
              "      <th>3310</th>\n",
              "      <td>Zimbabwe</td>\n",
              "      <td>Africa</td>\n",
              "      <td>2002</td>\n",
              "      <td>39.99</td>\n",
              "      <td>11926563</td>\n",
              "      <td>672.04</td>\n",
              "    </tr>\n",
              "    <tr>\n",
              "      <th>3311</th>\n",
              "      <td>Zimbabwe</td>\n",
              "      <td>Africa</td>\n",
              "      <td>2007</td>\n",
              "      <td>43.49</td>\n",
              "      <td>12311143</td>\n",
              "      <td>469.71</td>\n",
              "    </tr>\n",
              "  </tbody>\n",
              "</table>\n",
              "</div>"
            ],
            "text/plain": [
              "          País Continente  ...  População        PIB per capta\n",
              "3307  Zimbabwe     Africa  ...    9216418               706.16\n",
              "3308  Zimbabwe     Africa  ...   10704340               693.42\n",
              "3309  Zimbabwe     Africa  ...   11404948               792.45\n",
              "3310  Zimbabwe     Africa  ...   11926563               672.04\n",
              "3311  Zimbabwe     Africa  ...   12311143               469.71\n",
              "\n",
              "[5 rows x 6 columns]"
            ]
          },
          "metadata": {},
          "execution_count": 146
        }
      ]
    },
    {
      "cell_type": "code",
      "metadata": {
        "colab": {
          "base_uri": "https://localhost:8080/",
          "height": 328
        },
        "id": "3tb8LSMVVbXR",
        "outputId": "bd200e59-d08b-4952-c4ae-d7dfbcf6b988"
      },
      "source": [
        "#Exbir as 9 últimas linhas do dataframe:\n",
        "df.tail(9)"
      ],
      "execution_count": 147,
      "outputs": [
        {
          "output_type": "execute_result",
          "data": {
            "text/html": [
              "<div>\n",
              "<style scoped>\n",
              "    .dataframe tbody tr th:only-of-type {\n",
              "        vertical-align: middle;\n",
              "    }\n",
              "\n",
              "    .dataframe tbody tr th {\n",
              "        vertical-align: top;\n",
              "    }\n",
              "\n",
              "    .dataframe thead th {\n",
              "        text-align: right;\n",
              "    }\n",
              "</style>\n",
              "<table border=\"1\" class=\"dataframe\">\n",
              "  <thead>\n",
              "    <tr style=\"text-align: right;\">\n",
              "      <th></th>\n",
              "      <th>País</th>\n",
              "      <th>Continente</th>\n",
              "      <th>Ano</th>\n",
              "      <th>Expectativa de vida</th>\n",
              "      <th>População</th>\n",
              "      <th>PIB per capta</th>\n",
              "    </tr>\n",
              "  </thead>\n",
              "  <tbody>\n",
              "    <tr>\n",
              "      <th>3303</th>\n",
              "      <td>Zimbabwe</td>\n",
              "      <td>Africa</td>\n",
              "      <td>1967</td>\n",
              "      <td>53.99</td>\n",
              "      <td>4995432</td>\n",
              "      <td>569.80</td>\n",
              "    </tr>\n",
              "    <tr>\n",
              "      <th>3304</th>\n",
              "      <td>Zimbabwe</td>\n",
              "      <td>Africa</td>\n",
              "      <td>1972</td>\n",
              "      <td>55.63</td>\n",
              "      <td>5861135</td>\n",
              "      <td>799.36</td>\n",
              "    </tr>\n",
              "    <tr>\n",
              "      <th>3305</th>\n",
              "      <td>Zimbabwe</td>\n",
              "      <td>Africa</td>\n",
              "      <td>1977</td>\n",
              "      <td>57.67</td>\n",
              "      <td>6642107</td>\n",
              "      <td>685.59</td>\n",
              "    </tr>\n",
              "    <tr>\n",
              "      <th>3306</th>\n",
              "      <td>Zimbabwe</td>\n",
              "      <td>Africa</td>\n",
              "      <td>1982</td>\n",
              "      <td>60.36</td>\n",
              "      <td>7636524</td>\n",
              "      <td>788.86</td>\n",
              "    </tr>\n",
              "    <tr>\n",
              "      <th>3307</th>\n",
              "      <td>Zimbabwe</td>\n",
              "      <td>Africa</td>\n",
              "      <td>1987</td>\n",
              "      <td>62.35</td>\n",
              "      <td>9216418</td>\n",
              "      <td>706.16</td>\n",
              "    </tr>\n",
              "    <tr>\n",
              "      <th>3308</th>\n",
              "      <td>Zimbabwe</td>\n",
              "      <td>Africa</td>\n",
              "      <td>1992</td>\n",
              "      <td>60.38</td>\n",
              "      <td>10704340</td>\n",
              "      <td>693.42</td>\n",
              "    </tr>\n",
              "    <tr>\n",
              "      <th>3309</th>\n",
              "      <td>Zimbabwe</td>\n",
              "      <td>Africa</td>\n",
              "      <td>1997</td>\n",
              "      <td>46.81</td>\n",
              "      <td>11404948</td>\n",
              "      <td>792.45</td>\n",
              "    </tr>\n",
              "    <tr>\n",
              "      <th>3310</th>\n",
              "      <td>Zimbabwe</td>\n",
              "      <td>Africa</td>\n",
              "      <td>2002</td>\n",
              "      <td>39.99</td>\n",
              "      <td>11926563</td>\n",
              "      <td>672.04</td>\n",
              "    </tr>\n",
              "    <tr>\n",
              "      <th>3311</th>\n",
              "      <td>Zimbabwe</td>\n",
              "      <td>Africa</td>\n",
              "      <td>2007</td>\n",
              "      <td>43.49</td>\n",
              "      <td>12311143</td>\n",
              "      <td>469.71</td>\n",
              "    </tr>\n",
              "  </tbody>\n",
              "</table>\n",
              "</div>"
            ],
            "text/plain": [
              "          País Continente  ...  População        PIB per capta\n",
              "3303  Zimbabwe     Africa  ...    4995432               569.80\n",
              "3304  Zimbabwe     Africa  ...    5861135               799.36\n",
              "3305  Zimbabwe     Africa  ...    6642107               685.59\n",
              "3306  Zimbabwe     Africa  ...    7636524               788.86\n",
              "3307  Zimbabwe     Africa  ...    9216418               706.16\n",
              "3308  Zimbabwe     Africa  ...   10704340               693.42\n",
              "3309  Zimbabwe     Africa  ...   11404948               792.45\n",
              "3310  Zimbabwe     Africa  ...   11926563               672.04\n",
              "3311  Zimbabwe     Africa  ...   12311143               469.71\n",
              "\n",
              "[9 rows x 6 columns]"
            ]
          },
          "metadata": {},
          "execution_count": 147
        }
      ]
    },
    {
      "cell_type": "code",
      "metadata": {
        "colab": {
          "base_uri": "https://localhost:8080/",
          "height": 419
        },
        "id": "9IEM4RdDDL3L",
        "outputId": "2f98032d-2187-42e6-dc7e-34e1014a5e1f"
      },
      "source": [
        "#Filtro:\n",
        "oceania = df.loc[df.Continente == 'Oceania']\n",
        "oceania"
      ],
      "execution_count": 148,
      "outputs": [
        {
          "output_type": "execute_result",
          "data": {
            "text/html": [
              "<div>\n",
              "<style scoped>\n",
              "    .dataframe tbody tr th:only-of-type {\n",
              "        vertical-align: middle;\n",
              "    }\n",
              "\n",
              "    .dataframe tbody tr th {\n",
              "        vertical-align: top;\n",
              "    }\n",
              "\n",
              "    .dataframe thead th {\n",
              "        text-align: right;\n",
              "    }\n",
              "</style>\n",
              "<table border=\"1\" class=\"dataframe\">\n",
              "  <thead>\n",
              "    <tr style=\"text-align: right;\">\n",
              "      <th></th>\n",
              "      <th>País</th>\n",
              "      <th>Continente</th>\n",
              "      <th>Ano</th>\n",
              "      <th>Expectativa de vida</th>\n",
              "      <th>População</th>\n",
              "      <th>PIB per capta</th>\n",
              "    </tr>\n",
              "  </thead>\n",
              "  <tbody>\n",
              "    <tr>\n",
              "      <th>975</th>\n",
              "      <td>Fiji</td>\n",
              "      <td>Oceania</td>\n",
              "      <td>1962</td>\n",
              "      <td>56.49</td>\n",
              "      <td>421869</td>\n",
              "      <td>2,039.39</td>\n",
              "    </tr>\n",
              "    <tr>\n",
              "      <th>976</th>\n",
              "      <td>Fiji</td>\n",
              "      <td>Oceania</td>\n",
              "      <td>1967</td>\n",
              "      <td>58.61</td>\n",
              "      <td>485000</td>\n",
              "      <td>2,170.07</td>\n",
              "    </tr>\n",
              "    <tr>\n",
              "      <th>977</th>\n",
              "      <td>Fiji</td>\n",
              "      <td>Oceania</td>\n",
              "      <td>1972</td>\n",
              "      <td>60.64</td>\n",
              "      <td>544000</td>\n",
              "      <td>2,797.76</td>\n",
              "    </tr>\n",
              "    <tr>\n",
              "      <th>978</th>\n",
              "      <td>Fiji</td>\n",
              "      <td>Oceania</td>\n",
              "      <td>1977</td>\n",
              "      <td>62.67</td>\n",
              "      <td>599339</td>\n",
              "      <td>3,182.57</td>\n",
              "    </tr>\n",
              "    <tr>\n",
              "      <th>979</th>\n",
              "      <td>Fiji</td>\n",
              "      <td>Oceania</td>\n",
              "      <td>1982</td>\n",
              "      <td>64.68</td>\n",
              "      <td>658906</td>\n",
              "      <td>3,209.26</td>\n",
              "    </tr>\n",
              "    <tr>\n",
              "      <th>...</th>\n",
              "      <td>...</td>\n",
              "      <td>...</td>\n",
              "      <td>...</td>\n",
              "      <td>...</td>\n",
              "      <td>...</td>\n",
              "      <td>...</td>\n",
              "    </tr>\n",
              "    <tr>\n",
              "      <th>2696</th>\n",
              "      <td>Solomon Islands</td>\n",
              "      <td>Oceania</td>\n",
              "      <td>1987</td>\n",
              "      <td>55.78</td>\n",
              "      <td>300694</td>\n",
              "      <td>1,783.65</td>\n",
              "    </tr>\n",
              "    <tr>\n",
              "      <th>2697</th>\n",
              "      <td>Solomon Islands</td>\n",
              "      <td>Oceania</td>\n",
              "      <td>1992</td>\n",
              "      <td>58.27</td>\n",
              "      <td>358713</td>\n",
              "      <td>2,109.89</td>\n",
              "    </tr>\n",
              "    <tr>\n",
              "      <th>2698</th>\n",
              "      <td>Solomon Islands</td>\n",
              "      <td>Oceania</td>\n",
              "      <td>1997</td>\n",
              "      <td>60.71</td>\n",
              "      <td>424265</td>\n",
              "      <td>2,252.49</td>\n",
              "    </tr>\n",
              "    <tr>\n",
              "      <th>2699</th>\n",
              "      <td>Solomon Islands</td>\n",
              "      <td>Oceania</td>\n",
              "      <td>2002</td>\n",
              "      <td>62.27</td>\n",
              "      <td>494786</td>\n",
              "      <td>1,530.50</td>\n",
              "    </tr>\n",
              "    <tr>\n",
              "      <th>2700</th>\n",
              "      <td>Solomon Islands</td>\n",
              "      <td>Oceania</td>\n",
              "      <td>2007</td>\n",
              "      <td>63.57</td>\n",
              "      <td>566842</td>\n",
              "      <td>1,829.32</td>\n",
              "    </tr>\n",
              "  </tbody>\n",
              "</table>\n",
              "<p>74 rows × 6 columns</p>\n",
              "</div>"
            ],
            "text/plain": [
              "                 País Continente  ...  População        PIB per capta\n",
              "975              Fiji    Oceania  ...     421869             2,039.39\n",
              "976              Fiji    Oceania  ...     485000             2,170.07\n",
              "977              Fiji    Oceania  ...     544000             2,797.76\n",
              "978              Fiji    Oceania  ...     599339             3,182.57\n",
              "979              Fiji    Oceania  ...     658906             3,209.26\n",
              "...               ...        ...  ...        ...                  ...\n",
              "2696  Solomon Islands    Oceania  ...     300694             1,783.65\n",
              "2697  Solomon Islands    Oceania  ...     358713             2,109.89\n",
              "2698  Solomon Islands    Oceania  ...     424265             2,252.49\n",
              "2699  Solomon Islands    Oceania  ...     494786             1,530.50\n",
              "2700  Solomon Islands    Oceania  ...     566842             1,829.32\n",
              "\n",
              "[74 rows x 6 columns]"
            ]
          },
          "metadata": {},
          "execution_count": 148
        }
      ]
    },
    {
      "cell_type": "code",
      "metadata": {
        "colab": {
          "base_uri": "https://localhost:8080/"
        },
        "id": "_58p80C-Xiuy",
        "outputId": "1ee551c3-2595-4b9d-fc84-2874654a8682"
      },
      "source": [
        "#Exibir as dimensões do dataframe:\n",
        "df.shape #894 linha e 5 colunas"
      ],
      "execution_count": 149,
      "outputs": [
        {
          "output_type": "execute_result",
          "data": {
            "text/plain": [
              "(3312, 6)"
            ]
          },
          "metadata": {},
          "execution_count": 149
        }
      ]
    },
    {
      "cell_type": "code",
      "metadata": {
        "colab": {
          "base_uri": "https://localhost:8080/"
        },
        "id": "rNnSIwMkD5n0",
        "outputId": "28940f16-4e6d-422d-8d36-c8dece2ca7a0"
      },
      "source": [
        "#Groupby:\n",
        "print('Número de países por continente:')\n",
        "df.groupby('Continente')['País'].nunique()"
      ],
      "execution_count": 150,
      "outputs": [
        {
          "output_type": "stream",
          "name": "stdout",
          "text": [
            "Número de países por continente:\n"
          ]
        },
        {
          "output_type": "execute_result",
          "data": {
            "text/plain": [
              "Continente\n",
              "Africa      51\n",
              "Americas    25\n",
              "Asia        41\n",
              "Europe      35\n",
              "FSU          6\n",
              "Oceania      3\n",
              "Name: País, dtype: int64"
            ]
          },
          "metadata": {},
          "execution_count": 150
        }
      ]
    },
    {
      "cell_type": "code",
      "metadata": {
        "colab": {
          "base_uri": "https://localhost:8080/"
        },
        "id": "x1Y3iQYUEXX6",
        "outputId": "6eb2a63c-15cc-4688-ddc9-50087abc673f"
      },
      "source": [
        "#Espectativa de vida média para cada país da base de dados:\n",
        "print('Espectativa de vida média para cada país:')\n",
        "df.groupby('Ano')['Expectativa de vida'].mean()"
      ],
      "execution_count": 151,
      "outputs": [
        {
          "output_type": "stream",
          "name": "stdout",
          "text": [
            "Espectativa de vida média para cada país:\n"
          ]
        },
        {
          "output_type": "execute_result",
          "data": {
            "text/plain": [
              "Ano\n",
              "1950                  62.00\n",
              "1951                  65.90\n",
              "1952                  49.21\n",
              "1953                  66.67\n",
              "1954                  67.46\n",
              "1955                  67.81\n",
              "1956                  67.95\n",
              "1957                  51.61\n",
              "1958                  68.82\n",
              "1959                  68.23\n",
              "1960                  68.47\n",
              "1961                  68.86\n",
              "1962                  54.04\n",
              "1963                  69.60\n",
              "1964                  70.06\n",
              "1965                  70.26\n",
              "1966                  70.45\n",
              "1967                  56.26\n",
              "1968                  70.69\n",
              "1969                  70.65\n",
              "1970                  70.96\n",
              "1971                  71.10\n",
              "1972                  58.47\n",
              "1973                  71.50\n",
              "1974                  71.78\n",
              "1975                  71.94\n",
              "1976                  72.16\n",
              "1977                  60.43\n",
              "1978                  72.72\n",
              "1979                  73.02\n",
              "1980                  73.06\n",
              "1981                  73.34\n",
              "1982                  62.37\n",
              "1983                  73.79\n",
              "1984                  74.10\n",
              "1985                  74.11\n",
              "1986                  74.45\n",
              "1987                  63.98\n",
              "1988                  74.76\n",
              "1989                  74.92\n",
              "1990                  74.28\n",
              "1991                  74.37\n",
              "1992                  65.01\n",
              "1993                  74.32\n",
              "1994                  74.46\n",
              "1995                  74.55\n",
              "1996                  75.03\n",
              "1997                  65.87\n",
              "1998                  75.57\n",
              "1999                  75.70\n",
              "2000                  76.03\n",
              "2001                  76.26\n",
              "2002                  66.84\n",
              "2003                  76.59\n",
              "2004                  76.92\n",
              "2005                  76.72\n",
              "2006                  77.89\n",
              "2007                  67.87\n",
              "Name: Expectativa de vida, dtype: float64"
            ]
          },
          "metadata": {},
          "execution_count": 151
        }
      ]
    },
    {
      "cell_type": "code",
      "metadata": {
        "id": "-rLgIiW4PnoU"
      },
      "source": [
        "#Para arquivos do Excel:\n",
        "df1 = pd.read_excel('/content/drive/MyDrive/datasets_projeto_DIO/Aracaju.xlsx')\n",
        "df2 = pd.read_excel('/content/drive/MyDrive/datasets_projeto_DIO/Fortaleza.xlsx')\n",
        "df3 = pd.read_excel('/content/drive/MyDrive/datasets_projeto_DIO/Natal.xlsx')\n",
        "df4 = pd.read_excel('/content/drive/MyDrive/datasets_projeto_DIO/Recife.xlsx')\n",
        "df5 = pd.read_excel('/content/drive/MyDrive/datasets_projeto_DIO/Salvador.xlsx')"
      ],
      "execution_count": 152,
      "outputs": []
    },
    {
      "cell_type": "code",
      "metadata": {
        "colab": {
          "base_uri": "https://localhost:8080/",
          "height": 419
        },
        "id": "7w3SYKB_QOYC",
        "outputId": "7225d31d-9016-472f-c0e4-e16d6dcdff9a"
      },
      "source": [
        "df = pd.concat([df1, df2, df3, df4, df5])\n",
        "df"
      ],
      "execution_count": 153,
      "outputs": [
        {
          "output_type": "execute_result",
          "data": {
            "text/html": [
              "<div>\n",
              "<style scoped>\n",
              "    .dataframe tbody tr th:only-of-type {\n",
              "        vertical-align: middle;\n",
              "    }\n",
              "\n",
              "    .dataframe tbody tr th {\n",
              "        vertical-align: top;\n",
              "    }\n",
              "\n",
              "    .dataframe thead th {\n",
              "        text-align: right;\n",
              "    }\n",
              "</style>\n",
              "<table border=\"1\" class=\"dataframe\">\n",
              "  <thead>\n",
              "    <tr style=\"text-align: right;\">\n",
              "      <th></th>\n",
              "      <th>Cidade</th>\n",
              "      <th>Data</th>\n",
              "      <th>Vendas</th>\n",
              "      <th>LojaID</th>\n",
              "      <th>Qtde</th>\n",
              "    </tr>\n",
              "  </thead>\n",
              "  <tbody>\n",
              "    <tr>\n",
              "      <th>0</th>\n",
              "      <td>Aracaju</td>\n",
              "      <td>2018-01-01</td>\n",
              "      <td>142.00</td>\n",
              "      <td>1520</td>\n",
              "      <td>1</td>\n",
              "    </tr>\n",
              "    <tr>\n",
              "      <th>1</th>\n",
              "      <td>Aracaju</td>\n",
              "      <td>2018-01-01</td>\n",
              "      <td>14.21</td>\n",
              "      <td>1522</td>\n",
              "      <td>6</td>\n",
              "    </tr>\n",
              "    <tr>\n",
              "      <th>2</th>\n",
              "      <td>Aracaju</td>\n",
              "      <td>2018-01-01</td>\n",
              "      <td>71.55</td>\n",
              "      <td>1520</td>\n",
              "      <td>1</td>\n",
              "    </tr>\n",
              "    <tr>\n",
              "      <th>3</th>\n",
              "      <td>Aracaju</td>\n",
              "      <td>2018-01-01</td>\n",
              "      <td>3.01</td>\n",
              "      <td>1521</td>\n",
              "      <td>7</td>\n",
              "    </tr>\n",
              "    <tr>\n",
              "      <th>4</th>\n",
              "      <td>Aracaju</td>\n",
              "      <td>2018-01-01</td>\n",
              "      <td>24.51</td>\n",
              "      <td>1522</td>\n",
              "      <td>8</td>\n",
              "    </tr>\n",
              "    <tr>\n",
              "      <th>...</th>\n",
              "      <td>...</td>\n",
              "      <td>...</td>\n",
              "      <td>...</td>\n",
              "      <td>...</td>\n",
              "      <td>...</td>\n",
              "    </tr>\n",
              "    <tr>\n",
              "      <th>235</th>\n",
              "      <td>Salvador</td>\n",
              "      <td>2019-01-03</td>\n",
              "      <td>41.84</td>\n",
              "      <td>1034</td>\n",
              "      <td>1</td>\n",
              "    </tr>\n",
              "    <tr>\n",
              "      <th>236</th>\n",
              "      <td>Salvador</td>\n",
              "      <td>2019-01-03</td>\n",
              "      <td>126.29</td>\n",
              "      <td>1035</td>\n",
              "      <td>3</td>\n",
              "    </tr>\n",
              "    <tr>\n",
              "      <th>237</th>\n",
              "      <td>Salvador</td>\n",
              "      <td>2019-01-03</td>\n",
              "      <td>38.06</td>\n",
              "      <td>1036</td>\n",
              "      <td>3</td>\n",
              "    </tr>\n",
              "    <tr>\n",
              "      <th>238</th>\n",
              "      <td>Salvador</td>\n",
              "      <td>2019-01-03</td>\n",
              "      <td>139.64</td>\n",
              "      <td>1035</td>\n",
              "      <td>1</td>\n",
              "    </tr>\n",
              "    <tr>\n",
              "      <th>239</th>\n",
              "      <td>Salvador</td>\n",
              "      <td>2019-01-03</td>\n",
              "      <td>161.41</td>\n",
              "      <td>1037</td>\n",
              "      <td>3</td>\n",
              "    </tr>\n",
              "  </tbody>\n",
              "</table>\n",
              "<p>894 rows × 5 columns</p>\n",
              "</div>"
            ],
            "text/plain": [
              "       Cidade       Data               Vendas  LojaID  Qtde\n",
              "0     Aracaju 2018-01-01               142.00    1520     1\n",
              "1     Aracaju 2018-01-01                14.21    1522     6\n",
              "2     Aracaju 2018-01-01                71.55    1520     1\n",
              "3     Aracaju 2018-01-01                 3.01    1521     7\n",
              "4     Aracaju 2018-01-01                24.51    1522     8\n",
              "..        ...        ...                  ...     ...   ...\n",
              "235  Salvador 2019-01-03                41.84    1034     1\n",
              "236  Salvador 2019-01-03               126.29    1035     3\n",
              "237  Salvador 2019-01-03                38.06    1036     3\n",
              "238  Salvador 2019-01-03               139.64    1035     1\n",
              "239  Salvador 2019-01-03               161.41    1037     3\n",
              "\n",
              "[894 rows x 5 columns]"
            ]
          },
          "metadata": {},
          "execution_count": 153
        }
      ]
    },
    {
      "cell_type": "code",
      "metadata": {
        "colab": {
          "base_uri": "https://localhost:8080/",
          "height": 669
        },
        "id": "n5bFcsAyVlQq",
        "outputId": "18eb95a3-7de7-452b-d888-5d5466ef8326"
      },
      "source": [
        "#Pegar uma amostra aleatória de n elementos do dataframe:\n",
        "#Para n = 20:\n",
        "df.sample(20)"
      ],
      "execution_count": 154,
      "outputs": [
        {
          "output_type": "execute_result",
          "data": {
            "text/html": [
              "<div>\n",
              "<style scoped>\n",
              "    .dataframe tbody tr th:only-of-type {\n",
              "        vertical-align: middle;\n",
              "    }\n",
              "\n",
              "    .dataframe tbody tr th {\n",
              "        vertical-align: top;\n",
              "    }\n",
              "\n",
              "    .dataframe thead th {\n",
              "        text-align: right;\n",
              "    }\n",
              "</style>\n",
              "<table border=\"1\" class=\"dataframe\">\n",
              "  <thead>\n",
              "    <tr style=\"text-align: right;\">\n",
              "      <th></th>\n",
              "      <th>Cidade</th>\n",
              "      <th>Data</th>\n",
              "      <th>Vendas</th>\n",
              "      <th>LojaID</th>\n",
              "      <th>Qtde</th>\n",
              "    </tr>\n",
              "  </thead>\n",
              "  <tbody>\n",
              "    <tr>\n",
              "      <th>130</th>\n",
              "      <td>Recife</td>\n",
              "      <td>2019-03-02</td>\n",
              "      <td>12.36</td>\n",
              "      <td>983</td>\n",
              "      <td>4</td>\n",
              "    </tr>\n",
              "    <tr>\n",
              "      <th>66</th>\n",
              "      <td>Aracaju</td>\n",
              "      <td>2018-01-01</td>\n",
              "      <td>76.59</td>\n",
              "      <td>1523</td>\n",
              "      <td>4</td>\n",
              "    </tr>\n",
              "    <tr>\n",
              "      <th>69</th>\n",
              "      <td>Fortaleza</td>\n",
              "      <td>2019-01-01</td>\n",
              "      <td>216.65</td>\n",
              "      <td>1003</td>\n",
              "      <td>6</td>\n",
              "    </tr>\n",
              "    <tr>\n",
              "      <th>41</th>\n",
              "      <td>Salvador</td>\n",
              "      <td>2019-02-13</td>\n",
              "      <td>9.86</td>\n",
              "      <td>1035</td>\n",
              "      <td>2</td>\n",
              "    </tr>\n",
              "    <tr>\n",
              "      <th>44</th>\n",
              "      <td>Salvador</td>\n",
              "      <td>2019-01-01</td>\n",
              "      <td>43.26</td>\n",
              "      <td>1037</td>\n",
              "      <td>2</td>\n",
              "    </tr>\n",
              "    <tr>\n",
              "      <th>91</th>\n",
              "      <td>Aracaju</td>\n",
              "      <td>2018-01-01</td>\n",
              "      <td>200.85</td>\n",
              "      <td>1522</td>\n",
              "      <td>6</td>\n",
              "    </tr>\n",
              "    <tr>\n",
              "      <th>233</th>\n",
              "      <td>Salvador</td>\n",
              "      <td>2019-01-03</td>\n",
              "      <td>172.40</td>\n",
              "      <td>1036</td>\n",
              "      <td>2</td>\n",
              "    </tr>\n",
              "    <tr>\n",
              "      <th>6</th>\n",
              "      <td>Natal</td>\n",
              "      <td>2018-07-02</td>\n",
              "      <td>322.00</td>\n",
              "      <td>852</td>\n",
              "      <td>4</td>\n",
              "    </tr>\n",
              "    <tr>\n",
              "      <th>65</th>\n",
              "      <td>Salvador</td>\n",
              "      <td>2019-01-01</td>\n",
              "      <td>3.39</td>\n",
              "      <td>1034</td>\n",
              "      <td>2</td>\n",
              "    </tr>\n",
              "    <tr>\n",
              "      <th>51</th>\n",
              "      <td>Recife</td>\n",
              "      <td>2019-01-01</td>\n",
              "      <td>146.95</td>\n",
              "      <td>982</td>\n",
              "      <td>2</td>\n",
              "    </tr>\n",
              "    <tr>\n",
              "      <th>169</th>\n",
              "      <td>Natal</td>\n",
              "      <td>2019-01-02</td>\n",
              "      <td>166.73</td>\n",
              "      <td>1037</td>\n",
              "      <td>2</td>\n",
              "    </tr>\n",
              "    <tr>\n",
              "      <th>38</th>\n",
              "      <td>Fortaleza</td>\n",
              "      <td>2019-01-01</td>\n",
              "      <td>35.09</td>\n",
              "      <td>1004</td>\n",
              "      <td>4</td>\n",
              "    </tr>\n",
              "    <tr>\n",
              "      <th>34</th>\n",
              "      <td>Natal</td>\n",
              "      <td>2019-01-07</td>\n",
              "      <td>484.00</td>\n",
              "      <td>852</td>\n",
              "      <td>2</td>\n",
              "    </tr>\n",
              "    <tr>\n",
              "      <th>27</th>\n",
              "      <td>Recife</td>\n",
              "      <td>2019-01-01</td>\n",
              "      <td>22.25</td>\n",
              "      <td>980</td>\n",
              "      <td>7</td>\n",
              "    </tr>\n",
              "    <tr>\n",
              "      <th>149</th>\n",
              "      <td>Salvador</td>\n",
              "      <td>2019-01-02</td>\n",
              "      <td>22.38</td>\n",
              "      <td>1034</td>\n",
              "      <td>3</td>\n",
              "    </tr>\n",
              "    <tr>\n",
              "      <th>73</th>\n",
              "      <td>Aracaju</td>\n",
              "      <td>2018-01-01</td>\n",
              "      <td>159.78</td>\n",
              "      <td>1521</td>\n",
              "      <td>3</td>\n",
              "    </tr>\n",
              "    <tr>\n",
              "      <th>66</th>\n",
              "      <td>Recife</td>\n",
              "      <td>2019-01-01</td>\n",
              "      <td>14.59</td>\n",
              "      <td>983</td>\n",
              "      <td>7</td>\n",
              "    </tr>\n",
              "    <tr>\n",
              "      <th>19</th>\n",
              "      <td>Natal</td>\n",
              "      <td>2019-03-31</td>\n",
              "      <td>282.00</td>\n",
              "      <td>854</td>\n",
              "      <td>2</td>\n",
              "    </tr>\n",
              "    <tr>\n",
              "      <th>7</th>\n",
              "      <td>Natal</td>\n",
              "      <td>2019-03-18</td>\n",
              "      <td>886.00</td>\n",
              "      <td>853</td>\n",
              "      <td>4</td>\n",
              "    </tr>\n",
              "    <tr>\n",
              "      <th>52</th>\n",
              "      <td>Natal</td>\n",
              "      <td>2018-04-27</td>\n",
              "      <td>778.00</td>\n",
              "      <td>854</td>\n",
              "      <td>4</td>\n",
              "    </tr>\n",
              "  </tbody>\n",
              "</table>\n",
              "</div>"
            ],
            "text/plain": [
              "        Cidade       Data               Vendas  LojaID  Qtde\n",
              "130     Recife 2019-03-02                12.36     983     4\n",
              "66     Aracaju 2018-01-01                76.59    1523     4\n",
              "69   Fortaleza 2019-01-01               216.65    1003     6\n",
              "41    Salvador 2019-02-13                 9.86    1035     2\n",
              "44    Salvador 2019-01-01                43.26    1037     2\n",
              "91     Aracaju 2018-01-01               200.85    1522     6\n",
              "233   Salvador 2019-01-03               172.40    1036     2\n",
              "6        Natal 2018-07-02               322.00     852     4\n",
              "65    Salvador 2019-01-01                 3.39    1034     2\n",
              "51      Recife 2019-01-01               146.95     982     2\n",
              "169      Natal 2019-01-02               166.73    1037     2\n",
              "38   Fortaleza 2019-01-01                35.09    1004     4\n",
              "34       Natal 2019-01-07               484.00     852     2\n",
              "27      Recife 2019-01-01                22.25     980     7\n",
              "149   Salvador 2019-01-02                22.38    1034     3\n",
              "73     Aracaju 2018-01-01               159.78    1521     3\n",
              "66      Recife 2019-01-01                14.59     983     7\n",
              "19       Natal 2019-03-31               282.00     854     2\n",
              "7        Natal 2019-03-18               886.00     853     4\n",
              "52       Natal 2018-04-27               778.00     854     4"
            ]
          },
          "metadata": {},
          "execution_count": 154
        }
      ]
    },
    {
      "cell_type": "code",
      "metadata": {
        "colab": {
          "base_uri": "https://localhost:8080/"
        },
        "id": "5mDadu80QWJd",
        "outputId": "62ce5a0f-9b10-4d0b-a9a3-8369647b3305"
      },
      "source": [
        "df.dtypes"
      ],
      "execution_count": 155,
      "outputs": [
        {
          "output_type": "execute_result",
          "data": {
            "text/plain": [
              "Cidade            object\n",
              "Data      datetime64[ns]\n",
              "Vendas           float64\n",
              "LojaID             int64\n",
              "Qtde               int64\n",
              "dtype: object"
            ]
          },
          "metadata": {},
          "execution_count": 155
        }
      ]
    },
    {
      "cell_type": "code",
      "metadata": {
        "colab": {
          "base_uri": "https://localhost:8080/"
        },
        "id": "cjOsybYNR3n5",
        "outputId": "7b109051-0b2a-440a-b59a-5b95c8292479"
      },
      "source": [
        "df.LojaID = df.LojaID.astype('object')\n",
        "df.dtypes"
      ],
      "execution_count": 156,
      "outputs": [
        {
          "output_type": "execute_result",
          "data": {
            "text/plain": [
              "Cidade            object\n",
              "Data      datetime64[ns]\n",
              "Vendas           float64\n",
              "LojaID            object\n",
              "Qtde               int64\n",
              "dtype: object"
            ]
          },
          "metadata": {},
          "execution_count": 156
        }
      ]
    },
    {
      "cell_type": "code",
      "metadata": {
        "colab": {
          "base_uri": "https://localhost:8080/"
        },
        "id": "HiRPkuRdSnzL",
        "outputId": "a314a60d-8cc5-4671-a960-19084f627cf3"
      },
      "source": [
        "#Verificação de valores nulos por coluna:\n",
        "df.isnull().sum()"
      ],
      "execution_count": 157,
      "outputs": [
        {
          "output_type": "execute_result",
          "data": {
            "text/plain": [
              "Cidade    0\n",
              "Data      0\n",
              "Vendas    0\n",
              "LojaID    0\n",
              "Qtde      0\n",
              "dtype: int64"
            ]
          },
          "metadata": {},
          "execution_count": 157
        }
      ]
    },
    {
      "cell_type": "code",
      "metadata": {
        "id": "_rMjT6JDUQ2O"
      },
      "source": [
        "#Subustituição de valores nulos:\n",
        "#df.fillna(selecao_coluna e atribuicao_valor, inplace=True)"
      ],
      "execution_count": 158,
      "outputs": []
    },
    {
      "cell_type": "code",
      "metadata": {
        "id": "pjX5h3EmUr6w"
      },
      "source": [
        "#Apagar todas as linhas que contenham valores nulos em pelo menos uma coluna do dataframe:\n",
        "df.dropna(inplace=True)"
      ],
      "execution_count": 159,
      "outputs": []
    },
    {
      "cell_type": "code",
      "metadata": {
        "id": "iHv4xVM8YJUU"
      },
      "source": [
        "#Apagar todas as linhas com valores nulos de uma coluna específica:\n",
        "#df.dropna(subset=['nome_da_coluna'], inplace=True)\n",
        "df.dropna(subset=['Vendas'], inplace=True)"
      ],
      "execution_count": 160,
      "outputs": []
    },
    {
      "cell_type": "code",
      "metadata": {
        "id": "o5oGhh-uY6Co"
      },
      "source": [
        "#Apagar linhas que apresentam valores nulos para todas as colunas - apaga a linha na qual todos os valores são nulos\n",
        "df.dropna(how='all', inplace=True)"
      ],
      "execution_count": 161,
      "outputs": []
    },
    {
      "cell_type": "code",
      "metadata": {
        "colab": {
          "base_uri": "https://localhost:8080/",
          "height": 419
        },
        "id": "Du0t9tFsZ76K",
        "outputId": "43f24e57-13f9-4388-ddd8-d1dd1b34d18e"
      },
      "source": [
        "#Criação de uma nova coluna no dataframe:\n",
        "#df['nome_nova_coluna'] = definição_genérica_do_valor_de_cada_linha ou\n",
        "df['Receita'] = df.Vendas.mul(df.Qtde)\n",
        "df"
      ],
      "execution_count": 162,
      "outputs": [
        {
          "output_type": "execute_result",
          "data": {
            "text/html": [
              "<div>\n",
              "<style scoped>\n",
              "    .dataframe tbody tr th:only-of-type {\n",
              "        vertical-align: middle;\n",
              "    }\n",
              "\n",
              "    .dataframe tbody tr th {\n",
              "        vertical-align: top;\n",
              "    }\n",
              "\n",
              "    .dataframe thead th {\n",
              "        text-align: right;\n",
              "    }\n",
              "</style>\n",
              "<table border=\"1\" class=\"dataframe\">\n",
              "  <thead>\n",
              "    <tr style=\"text-align: right;\">\n",
              "      <th></th>\n",
              "      <th>Cidade</th>\n",
              "      <th>Data</th>\n",
              "      <th>Vendas</th>\n",
              "      <th>LojaID</th>\n",
              "      <th>Qtde</th>\n",
              "      <th>Receita</th>\n",
              "    </tr>\n",
              "  </thead>\n",
              "  <tbody>\n",
              "    <tr>\n",
              "      <th>0</th>\n",
              "      <td>Aracaju</td>\n",
              "      <td>2018-01-01</td>\n",
              "      <td>142.00</td>\n",
              "      <td>1520</td>\n",
              "      <td>1</td>\n",
              "      <td>142.00</td>\n",
              "    </tr>\n",
              "    <tr>\n",
              "      <th>1</th>\n",
              "      <td>Aracaju</td>\n",
              "      <td>2018-01-01</td>\n",
              "      <td>14.21</td>\n",
              "      <td>1522</td>\n",
              "      <td>6</td>\n",
              "      <td>85.26</td>\n",
              "    </tr>\n",
              "    <tr>\n",
              "      <th>2</th>\n",
              "      <td>Aracaju</td>\n",
              "      <td>2018-01-01</td>\n",
              "      <td>71.55</td>\n",
              "      <td>1520</td>\n",
              "      <td>1</td>\n",
              "      <td>71.55</td>\n",
              "    </tr>\n",
              "    <tr>\n",
              "      <th>3</th>\n",
              "      <td>Aracaju</td>\n",
              "      <td>2018-01-01</td>\n",
              "      <td>3.01</td>\n",
              "      <td>1521</td>\n",
              "      <td>7</td>\n",
              "      <td>21.07</td>\n",
              "    </tr>\n",
              "    <tr>\n",
              "      <th>4</th>\n",
              "      <td>Aracaju</td>\n",
              "      <td>2018-01-01</td>\n",
              "      <td>24.51</td>\n",
              "      <td>1522</td>\n",
              "      <td>8</td>\n",
              "      <td>196.08</td>\n",
              "    </tr>\n",
              "    <tr>\n",
              "      <th>...</th>\n",
              "      <td>...</td>\n",
              "      <td>...</td>\n",
              "      <td>...</td>\n",
              "      <td>...</td>\n",
              "      <td>...</td>\n",
              "      <td>...</td>\n",
              "    </tr>\n",
              "    <tr>\n",
              "      <th>235</th>\n",
              "      <td>Salvador</td>\n",
              "      <td>2019-01-03</td>\n",
              "      <td>41.84</td>\n",
              "      <td>1034</td>\n",
              "      <td>1</td>\n",
              "      <td>41.84</td>\n",
              "    </tr>\n",
              "    <tr>\n",
              "      <th>236</th>\n",
              "      <td>Salvador</td>\n",
              "      <td>2019-01-03</td>\n",
              "      <td>126.29</td>\n",
              "      <td>1035</td>\n",
              "      <td>3</td>\n",
              "      <td>378.87</td>\n",
              "    </tr>\n",
              "    <tr>\n",
              "      <th>237</th>\n",
              "      <td>Salvador</td>\n",
              "      <td>2019-01-03</td>\n",
              "      <td>38.06</td>\n",
              "      <td>1036</td>\n",
              "      <td>3</td>\n",
              "      <td>114.18</td>\n",
              "    </tr>\n",
              "    <tr>\n",
              "      <th>238</th>\n",
              "      <td>Salvador</td>\n",
              "      <td>2019-01-03</td>\n",
              "      <td>139.64</td>\n",
              "      <td>1035</td>\n",
              "      <td>1</td>\n",
              "      <td>139.64</td>\n",
              "    </tr>\n",
              "    <tr>\n",
              "      <th>239</th>\n",
              "      <td>Salvador</td>\n",
              "      <td>2019-01-03</td>\n",
              "      <td>161.41</td>\n",
              "      <td>1037</td>\n",
              "      <td>3</td>\n",
              "      <td>484.23</td>\n",
              "    </tr>\n",
              "  </tbody>\n",
              "</table>\n",
              "<p>894 rows × 6 columns</p>\n",
              "</div>"
            ],
            "text/plain": [
              "       Cidade       Data               Vendas LojaID  Qtde              Receita\n",
              "0     Aracaju 2018-01-01               142.00   1520     1               142.00\n",
              "1     Aracaju 2018-01-01                14.21   1522     6                85.26\n",
              "2     Aracaju 2018-01-01                71.55   1520     1                71.55\n",
              "3     Aracaju 2018-01-01                 3.01   1521     7                21.07\n",
              "4     Aracaju 2018-01-01                24.51   1522     8               196.08\n",
              "..        ...        ...                  ...    ...   ...                  ...\n",
              "235  Salvador 2019-01-03                41.84   1034     1                41.84\n",
              "236  Salvador 2019-01-03               126.29   1035     3               378.87\n",
              "237  Salvador 2019-01-03                38.06   1036     3               114.18\n",
              "238  Salvador 2019-01-03               139.64   1035     1               139.64\n",
              "239  Salvador 2019-01-03               161.41   1037     3               484.23\n",
              "\n",
              "[894 rows x 6 columns]"
            ]
          },
          "metadata": {},
          "execution_count": 162
        }
      ]
    },
    {
      "cell_type": "code",
      "metadata": {
        "colab": {
          "base_uri": "https://localhost:8080/"
        },
        "id": "sD05LORJbIjH",
        "outputId": "2129c323-8433-4633-92ce-72f88cc47d5c"
      },
      "source": [
        "#Maior elemeneto de uma coluna:\n",
        "#df['nome_coluna'].max() ou\n",
        "#df.nome_coluna.max()\n",
        "\n",
        "#Maior receita do dataframe:\n",
        "df.Receita.max()"
      ],
      "execution_count": 163,
      "outputs": [
        {
          "output_type": "execute_result",
          "data": {
            "text/plain": [
              "3544.0"
            ]
          },
          "metadata": {},
          "execution_count": 163
        }
      ]
    },
    {
      "cell_type": "code",
      "metadata": {
        "colab": {
          "base_uri": "https://localhost:8080/"
        },
        "id": "_zJqv-HWbWtd",
        "outputId": "424d93e6-22a1-4cb0-cf05-a019a550a306"
      },
      "source": [
        "#Menor elemeneto de uma coluna:\n",
        "#df['nome_coluna'].min() ou\n",
        "#df.nome_coluna.min()\n",
        "\n",
        "#Menor receita do dataframe:\n",
        "df.Receita.min()"
      ],
      "execution_count": 164,
      "outputs": [
        {
          "output_type": "execute_result",
          "data": {
            "text/plain": [
              "3.34"
            ]
          },
          "metadata": {},
          "execution_count": 164
        }
      ]
    },
    {
      "cell_type": "code",
      "metadata": {
        "colab": {
          "base_uri": "https://localhost:8080/",
          "height": 142
        },
        "id": "46RtxlQEb1so",
        "outputId": "aa67849a-9350-4dac-be20-d381ae4cc41c"
      },
      "source": [
        "#Exibir as n linhas com os maiores valores de uma coluna:\n",
        "#df.nlargest(n, nome_coluna)\n",
        "df.nlargest(3, 'Receita')"
      ],
      "execution_count": 165,
      "outputs": [
        {
          "output_type": "execute_result",
          "data": {
            "text/html": [
              "<div>\n",
              "<style scoped>\n",
              "    .dataframe tbody tr th:only-of-type {\n",
              "        vertical-align: middle;\n",
              "    }\n",
              "\n",
              "    .dataframe tbody tr th {\n",
              "        vertical-align: top;\n",
              "    }\n",
              "\n",
              "    .dataframe thead th {\n",
              "        text-align: right;\n",
              "    }\n",
              "</style>\n",
              "<table border=\"1\" class=\"dataframe\">\n",
              "  <thead>\n",
              "    <tr style=\"text-align: right;\">\n",
              "      <th></th>\n",
              "      <th>Cidade</th>\n",
              "      <th>Data</th>\n",
              "      <th>Vendas</th>\n",
              "      <th>LojaID</th>\n",
              "      <th>Qtde</th>\n",
              "      <th>Receita</th>\n",
              "    </tr>\n",
              "  </thead>\n",
              "  <tbody>\n",
              "    <tr>\n",
              "      <th>7</th>\n",
              "      <td>Natal</td>\n",
              "      <td>2019-03-18</td>\n",
              "      <td>886.00</td>\n",
              "      <td>853</td>\n",
              "      <td>4</td>\n",
              "      <td>3,544.00</td>\n",
              "    </tr>\n",
              "    <tr>\n",
              "      <th>51</th>\n",
              "      <td>Natal</td>\n",
              "      <td>2018-01-21</td>\n",
              "      <td>859.00</td>\n",
              "      <td>852</td>\n",
              "      <td>4</td>\n",
              "      <td>3,436.00</td>\n",
              "    </tr>\n",
              "    <tr>\n",
              "      <th>55</th>\n",
              "      <td>Natal</td>\n",
              "      <td>2019-01-08</td>\n",
              "      <td>859.00</td>\n",
              "      <td>854</td>\n",
              "      <td>4</td>\n",
              "      <td>3,436.00</td>\n",
              "    </tr>\n",
              "  </tbody>\n",
              "</table>\n",
              "</div>"
            ],
            "text/plain": [
              "   Cidade       Data               Vendas LojaID  Qtde              Receita\n",
              "7   Natal 2019-03-18               886.00    853     4             3,544.00\n",
              "51  Natal 2018-01-21               859.00    852     4             3,436.00\n",
              "55  Natal 2019-01-08               859.00    854     4             3,436.00"
            ]
          },
          "metadata": {},
          "execution_count": 165
        }
      ]
    },
    {
      "cell_type": "code",
      "metadata": {
        "colab": {
          "base_uri": "https://localhost:8080/",
          "height": 142
        },
        "id": "MTCZLNJccMW-",
        "outputId": "f1e505af-116a-461f-c3ea-57c97aa4d3c1"
      },
      "source": [
        "#Exibir as n linhas com os menores valores de uma coluna:\n",
        "#df.nsmallest(n, nome_coluna)\n",
        "df.nsmallest(3, 'Receita')"
      ],
      "execution_count": 166,
      "outputs": [
        {
          "output_type": "execute_result",
          "data": {
            "text/html": [
              "<div>\n",
              "<style scoped>\n",
              "    .dataframe tbody tr th:only-of-type {\n",
              "        vertical-align: middle;\n",
              "    }\n",
              "\n",
              "    .dataframe tbody tr th {\n",
              "        vertical-align: top;\n",
              "    }\n",
              "\n",
              "    .dataframe thead th {\n",
              "        text-align: right;\n",
              "    }\n",
              "</style>\n",
              "<table border=\"1\" class=\"dataframe\">\n",
              "  <thead>\n",
              "    <tr style=\"text-align: right;\">\n",
              "      <th></th>\n",
              "      <th>Cidade</th>\n",
              "      <th>Data</th>\n",
              "      <th>Vendas</th>\n",
              "      <th>LojaID</th>\n",
              "      <th>Qtde</th>\n",
              "      <th>Receita</th>\n",
              "    </tr>\n",
              "  </thead>\n",
              "  <tbody>\n",
              "    <tr>\n",
              "      <th>118</th>\n",
              "      <td>Aracaju</td>\n",
              "      <td>2018-01-01</td>\n",
              "      <td>3.34</td>\n",
              "      <td>1522</td>\n",
              "      <td>1</td>\n",
              "      <td>3.34</td>\n",
              "    </tr>\n",
              "    <tr>\n",
              "      <th>65</th>\n",
              "      <td>Recife</td>\n",
              "      <td>2019-01-01</td>\n",
              "      <td>4.01</td>\n",
              "      <td>981</td>\n",
              "      <td>1</td>\n",
              "      <td>4.01</td>\n",
              "    </tr>\n",
              "    <tr>\n",
              "      <th>92</th>\n",
              "      <td>Natal</td>\n",
              "      <td>2019-01-02</td>\n",
              "      <td>4.57</td>\n",
              "      <td>1035</td>\n",
              "      <td>1</td>\n",
              "      <td>4.57</td>\n",
              "    </tr>\n",
              "  </tbody>\n",
              "</table>\n",
              "</div>"
            ],
            "text/plain": [
              "      Cidade       Data               Vendas LojaID  Qtde              Receita\n",
              "118  Aracaju 2018-01-01                 3.34   1522     1                 3.34\n",
              "65    Recife 2019-01-01                 4.01    981     1                 4.01\n",
              "92     Natal 2019-01-02                 4.57   1035     1                 4.57"
            ]
          },
          "metadata": {},
          "execution_count": 166
        }
      ]
    },
    {
      "cell_type": "code",
      "metadata": {
        "colab": {
          "base_uri": "https://localhost:8080/"
        },
        "id": "hhB2WKfAcg8x",
        "outputId": "5b5b36e9-be81-43ab-96bf-f84ca86548a4"
      },
      "source": [
        "#Agrupamento da receita por cidade:\n",
        "df.groupby('Cidade').Receita.sum()"
      ],
      "execution_count": 167,
      "outputs": [
        {
          "output_type": "execute_result",
          "data": {
            "text/plain": [
              "Cidade\n",
              "Aracaju                48,748.25\n",
              "Fortaleza              37,913.97\n",
              "Natal                 167,227.52\n",
              "Recife                 51,936.51\n",
              "Salvador               40,596.73\n",
              "Name: Receita, dtype: float64"
            ]
          },
          "metadata": {},
          "execution_count": 167
        }
      ]
    },
    {
      "cell_type": "code",
      "metadata": {
        "colab": {
          "base_uri": "https://localhost:8080/",
          "height": 204
        },
        "id": "M0zPMzRSc7vq",
        "outputId": "a5ee0ad9-7a2a-4df4-f1de-5b60e5597b7a"
      },
      "source": [
        "#Ordenação de valores:\n",
        "#df.sort_values('nome_coluna', ascending=[True | False]) #se ascending=True: ordem crescente; se ascending=False: ordem decrescente\n",
        "df.sort_values('Receita', ascending=False).head()"
      ],
      "execution_count": 168,
      "outputs": [
        {
          "output_type": "execute_result",
          "data": {
            "text/html": [
              "<div>\n",
              "<style scoped>\n",
              "    .dataframe tbody tr th:only-of-type {\n",
              "        vertical-align: middle;\n",
              "    }\n",
              "\n",
              "    .dataframe tbody tr th {\n",
              "        vertical-align: top;\n",
              "    }\n",
              "\n",
              "    .dataframe thead th {\n",
              "        text-align: right;\n",
              "    }\n",
              "</style>\n",
              "<table border=\"1\" class=\"dataframe\">\n",
              "  <thead>\n",
              "    <tr style=\"text-align: right;\">\n",
              "      <th></th>\n",
              "      <th>Cidade</th>\n",
              "      <th>Data</th>\n",
              "      <th>Vendas</th>\n",
              "      <th>LojaID</th>\n",
              "      <th>Qtde</th>\n",
              "      <th>Receita</th>\n",
              "    </tr>\n",
              "  </thead>\n",
              "  <tbody>\n",
              "    <tr>\n",
              "      <th>7</th>\n",
              "      <td>Natal</td>\n",
              "      <td>2019-03-18</td>\n",
              "      <td>886.00</td>\n",
              "      <td>853</td>\n",
              "      <td>4</td>\n",
              "      <td>3,544.00</td>\n",
              "    </tr>\n",
              "    <tr>\n",
              "      <th>55</th>\n",
              "      <td>Natal</td>\n",
              "      <td>2019-01-08</td>\n",
              "      <td>859.00</td>\n",
              "      <td>854</td>\n",
              "      <td>4</td>\n",
              "      <td>3,436.00</td>\n",
              "    </tr>\n",
              "    <tr>\n",
              "      <th>51</th>\n",
              "      <td>Natal</td>\n",
              "      <td>2018-01-21</td>\n",
              "      <td>859.00</td>\n",
              "      <td>852</td>\n",
              "      <td>4</td>\n",
              "      <td>3,436.00</td>\n",
              "    </tr>\n",
              "    <tr>\n",
              "      <th>30</th>\n",
              "      <td>Natal</td>\n",
              "      <td>2018-10-02</td>\n",
              "      <td>856.00</td>\n",
              "      <td>853</td>\n",
              "      <td>4</td>\n",
              "      <td>3,424.00</td>\n",
              "    </tr>\n",
              "    <tr>\n",
              "      <th>41</th>\n",
              "      <td>Natal</td>\n",
              "      <td>2018-05-20</td>\n",
              "      <td>835.00</td>\n",
              "      <td>852</td>\n",
              "      <td>4</td>\n",
              "      <td>3,340.00</td>\n",
              "    </tr>\n",
              "  </tbody>\n",
              "</table>\n",
              "</div>"
            ],
            "text/plain": [
              "   Cidade       Data               Vendas LojaID  Qtde              Receita\n",
              "7   Natal 2019-03-18               886.00    853     4             3,544.00\n",
              "55  Natal 2019-01-08               859.00    854     4             3,436.00\n",
              "51  Natal 2018-01-21               859.00    852     4             3,436.00\n",
              "30  Natal 2018-10-02               856.00    853     4             3,424.00\n",
              "41  Natal 2018-05-20               835.00    852     4             3,340.00"
            ]
          },
          "metadata": {},
          "execution_count": 168
        }
      ]
    },
    {
      "cell_type": "code",
      "metadata": {
        "colab": {
          "base_uri": "https://localhost:8080/"
        },
        "id": "D-GPWe-yj8M7",
        "outputId": "01f6eb7b-4da5-401a-946a-59a1d89c5986"
      },
      "source": [
        "df.dtypes"
      ],
      "execution_count": 169,
      "outputs": [
        {
          "output_type": "execute_result",
          "data": {
            "text/plain": [
              "Cidade             object\n",
              "Data       datetime64[ns]\n",
              "Vendas            float64\n",
              "LojaID             object\n",
              "Qtde                int64\n",
              "Receita           float64\n",
              "dtype: object"
            ]
          },
          "metadata": {},
          "execution_count": 169
        }
      ]
    },
    {
      "cell_type": "code",
      "metadata": {
        "colab": {
          "base_uri": "https://localhost:8080/"
        },
        "id": "SqHsdtShjOg0",
        "outputId": "676ffa95-fe42-42c9-c628-32c07414ec8d"
      },
      "source": [
        "#Transformar a data para inteiro:\n",
        "df.Data = df.Data.astype('int64')\n",
        "df.dtypes"
      ],
      "execution_count": 170,
      "outputs": [
        {
          "output_type": "execute_result",
          "data": {
            "text/plain": [
              "Cidade      object\n",
              "Data         int64\n",
              "Vendas     float64\n",
              "LojaID      object\n",
              "Qtde         int64\n",
              "Receita    float64\n",
              "dtype: object"
            ]
          },
          "metadata": {},
          "execution_count": 170
        }
      ]
    },
    {
      "cell_type": "code",
      "metadata": {
        "colab": {
          "base_uri": "https://localhost:8080/"
        },
        "id": "bi-LXY8KkoIl",
        "outputId": "32f71c07-6dc8-4e12-d70e-d79dee26a6db"
      },
      "source": [
        "#Transformar a data para datetime:\n",
        "#Funçao to_datetime():\n",
        "#df.nome_coluna = pd.todatetime()\n",
        "df.Data = pd.to_datetime(df.Data)\n",
        "df.dtypes"
      ],
      "execution_count": 171,
      "outputs": [
        {
          "output_type": "execute_result",
          "data": {
            "text/plain": [
              "Cidade             object\n",
              "Data       datetime64[ns]\n",
              "Vendas            float64\n",
              "LojaID             object\n",
              "Qtde                int64\n",
              "Receita           float64\n",
              "dtype: object"
            ]
          },
          "metadata": {},
          "execution_count": 171
        }
      ]
    },
    {
      "cell_type": "code",
      "metadata": {
        "colab": {
          "base_uri": "https://localhost:8080/"
        },
        "id": "FEckKNS7l7uw",
        "outputId": "b2baf6be-614d-42bb-8f79-43343031c30c"
      },
      "source": [
        "#Agrupamento da receita por ano:\n",
        "#Atributo year do atributo dt - dt.year:\n",
        "#df.coluna_data.dt.year\n",
        "df.groupby(df.Data.dt.year)['Receita'].sum()"
      ],
      "execution_count": 172,
      "outputs": [
        {
          "output_type": "execute_result",
          "data": {
            "text/plain": [
              "Data\n",
              "2018             118,176.53\n",
              "2019             228,246.45\n",
              "Name: Receita, dtype: float64"
            ]
          },
          "metadata": {},
          "execution_count": 172
        }
      ]
    },
    {
      "cell_type": "code",
      "metadata": {
        "colab": {
          "base_uri": "https://localhost:8080/",
          "height": 204
        },
        "id": "mvCJbB3Dm_QH",
        "outputId": "0d3dee26-3b4c-46ee-e84e-3ce03bb87885"
      },
      "source": [
        "#Criação de uma coluna com os respectivos anos:\n",
        "df['Ano'] = df.Data.dt.year\n",
        "df.head()"
      ],
      "execution_count": 173,
      "outputs": [
        {
          "output_type": "execute_result",
          "data": {
            "text/html": [
              "<div>\n",
              "<style scoped>\n",
              "    .dataframe tbody tr th:only-of-type {\n",
              "        vertical-align: middle;\n",
              "    }\n",
              "\n",
              "    .dataframe tbody tr th {\n",
              "        vertical-align: top;\n",
              "    }\n",
              "\n",
              "    .dataframe thead th {\n",
              "        text-align: right;\n",
              "    }\n",
              "</style>\n",
              "<table border=\"1\" class=\"dataframe\">\n",
              "  <thead>\n",
              "    <tr style=\"text-align: right;\">\n",
              "      <th></th>\n",
              "      <th>Cidade</th>\n",
              "      <th>Data</th>\n",
              "      <th>Vendas</th>\n",
              "      <th>LojaID</th>\n",
              "      <th>Qtde</th>\n",
              "      <th>Receita</th>\n",
              "      <th>Ano</th>\n",
              "    </tr>\n",
              "  </thead>\n",
              "  <tbody>\n",
              "    <tr>\n",
              "      <th>0</th>\n",
              "      <td>Aracaju</td>\n",
              "      <td>2018-01-01</td>\n",
              "      <td>142.00</td>\n",
              "      <td>1520</td>\n",
              "      <td>1</td>\n",
              "      <td>142.00</td>\n",
              "      <td>2018</td>\n",
              "    </tr>\n",
              "    <tr>\n",
              "      <th>1</th>\n",
              "      <td>Aracaju</td>\n",
              "      <td>2018-01-01</td>\n",
              "      <td>14.21</td>\n",
              "      <td>1522</td>\n",
              "      <td>6</td>\n",
              "      <td>85.26</td>\n",
              "      <td>2018</td>\n",
              "    </tr>\n",
              "    <tr>\n",
              "      <th>2</th>\n",
              "      <td>Aracaju</td>\n",
              "      <td>2018-01-01</td>\n",
              "      <td>71.55</td>\n",
              "      <td>1520</td>\n",
              "      <td>1</td>\n",
              "      <td>71.55</td>\n",
              "      <td>2018</td>\n",
              "    </tr>\n",
              "    <tr>\n",
              "      <th>3</th>\n",
              "      <td>Aracaju</td>\n",
              "      <td>2018-01-01</td>\n",
              "      <td>3.01</td>\n",
              "      <td>1521</td>\n",
              "      <td>7</td>\n",
              "      <td>21.07</td>\n",
              "      <td>2018</td>\n",
              "    </tr>\n",
              "    <tr>\n",
              "      <th>4</th>\n",
              "      <td>Aracaju</td>\n",
              "      <td>2018-01-01</td>\n",
              "      <td>24.51</td>\n",
              "      <td>1522</td>\n",
              "      <td>8</td>\n",
              "      <td>196.08</td>\n",
              "      <td>2018</td>\n",
              "    </tr>\n",
              "  </tbody>\n",
              "</table>\n",
              "</div>"
            ],
            "text/plain": [
              "    Cidade       Data               Vendas  ... Qtde              Receita   Ano\n",
              "0  Aracaju 2018-01-01               142.00  ...    1               142.00  2018\n",
              "1  Aracaju 2018-01-01                14.21  ...    6                85.26  2018\n",
              "2  Aracaju 2018-01-01                71.55  ...    1                71.55  2018\n",
              "3  Aracaju 2018-01-01                 3.01  ...    7                21.07  2018\n",
              "4  Aracaju 2018-01-01                24.51  ...    8               196.08  2018\n",
              "\n",
              "[5 rows x 7 columns]"
            ]
          },
          "metadata": {},
          "execution_count": 173
        }
      ]
    },
    {
      "cell_type": "code",
      "metadata": {
        "colab": {
          "base_uri": "https://localhost:8080/",
          "height": 297
        },
        "id": "kzF6mjqxnZc6",
        "outputId": "85be878a-c399-451c-cb2e-75691a17672c"
      },
      "source": [
        "#Criação de uma coluna para o mês e outra para o dia das vendas:\n",
        "df['Mês'] = df.Data.dt.month\n",
        "df['Dia'] = df.Data.dt.day\n",
        "df.sample(8)"
      ],
      "execution_count": 174,
      "outputs": [
        {
          "output_type": "execute_result",
          "data": {
            "text/html": [
              "<div>\n",
              "<style scoped>\n",
              "    .dataframe tbody tr th:only-of-type {\n",
              "        vertical-align: middle;\n",
              "    }\n",
              "\n",
              "    .dataframe tbody tr th {\n",
              "        vertical-align: top;\n",
              "    }\n",
              "\n",
              "    .dataframe thead th {\n",
              "        text-align: right;\n",
              "    }\n",
              "</style>\n",
              "<table border=\"1\" class=\"dataframe\">\n",
              "  <thead>\n",
              "    <tr style=\"text-align: right;\">\n",
              "      <th></th>\n",
              "      <th>Cidade</th>\n",
              "      <th>Data</th>\n",
              "      <th>Vendas</th>\n",
              "      <th>LojaID</th>\n",
              "      <th>Qtde</th>\n",
              "      <th>Receita</th>\n",
              "      <th>Ano</th>\n",
              "      <th>Mês</th>\n",
              "      <th>Dia</th>\n",
              "    </tr>\n",
              "  </thead>\n",
              "  <tbody>\n",
              "    <tr>\n",
              "      <th>180</th>\n",
              "      <td>Salvador</td>\n",
              "      <td>2019-01-02</td>\n",
              "      <td>116.63</td>\n",
              "      <td>1035</td>\n",
              "      <td>2</td>\n",
              "      <td>233.26</td>\n",
              "      <td>2019</td>\n",
              "      <td>1</td>\n",
              "      <td>2</td>\n",
              "    </tr>\n",
              "    <tr>\n",
              "      <th>112</th>\n",
              "      <td>Aracaju</td>\n",
              "      <td>2018-01-01</td>\n",
              "      <td>4.52</td>\n",
              "      <td>1522</td>\n",
              "      <td>8</td>\n",
              "      <td>36.16</td>\n",
              "      <td>2018</td>\n",
              "      <td>1</td>\n",
              "      <td>1</td>\n",
              "    </tr>\n",
              "    <tr>\n",
              "      <th>65</th>\n",
              "      <td>Salvador</td>\n",
              "      <td>2019-01-01</td>\n",
              "      <td>3.39</td>\n",
              "      <td>1034</td>\n",
              "      <td>2</td>\n",
              "      <td>6.78</td>\n",
              "      <td>2019</td>\n",
              "      <td>1</td>\n",
              "      <td>1</td>\n",
              "    </tr>\n",
              "    <tr>\n",
              "      <th>23</th>\n",
              "      <td>Fortaleza</td>\n",
              "      <td>2019-01-01</td>\n",
              "      <td>85.90</td>\n",
              "      <td>1004</td>\n",
              "      <td>5</td>\n",
              "      <td>429.50</td>\n",
              "      <td>2019</td>\n",
              "      <td>1</td>\n",
              "      <td>1</td>\n",
              "    </tr>\n",
              "    <tr>\n",
              "      <th>213</th>\n",
              "      <td>Natal</td>\n",
              "      <td>2019-01-02</td>\n",
              "      <td>42.12</td>\n",
              "      <td>1035</td>\n",
              "      <td>1</td>\n",
              "      <td>42.12</td>\n",
              "      <td>2019</td>\n",
              "      <td>1</td>\n",
              "      <td>2</td>\n",
              "    </tr>\n",
              "    <tr>\n",
              "      <th>77</th>\n",
              "      <td>Aracaju</td>\n",
              "      <td>2018-01-01</td>\n",
              "      <td>24.10</td>\n",
              "      <td>1522</td>\n",
              "      <td>1</td>\n",
              "      <td>24.10</td>\n",
              "      <td>2018</td>\n",
              "      <td>1</td>\n",
              "      <td>1</td>\n",
              "    </tr>\n",
              "    <tr>\n",
              "      <th>20</th>\n",
              "      <td>Aracaju</td>\n",
              "      <td>2018-01-01</td>\n",
              "      <td>39.86</td>\n",
              "      <td>1522</td>\n",
              "      <td>9</td>\n",
              "      <td>358.74</td>\n",
              "      <td>2018</td>\n",
              "      <td>1</td>\n",
              "      <td>1</td>\n",
              "    </tr>\n",
              "    <tr>\n",
              "      <th>129</th>\n",
              "      <td>Fortaleza</td>\n",
              "      <td>2019-03-02</td>\n",
              "      <td>35.34</td>\n",
              "      <td>982</td>\n",
              "      <td>7</td>\n",
              "      <td>247.38</td>\n",
              "      <td>2019</td>\n",
              "      <td>3</td>\n",
              "      <td>2</td>\n",
              "    </tr>\n",
              "  </tbody>\n",
              "</table>\n",
              "</div>"
            ],
            "text/plain": [
              "        Cidade       Data               Vendas  ...   Ano  Mês  Dia\n",
              "180   Salvador 2019-01-02               116.63  ...  2019    1    2\n",
              "112    Aracaju 2018-01-01                 4.52  ...  2018    1    1\n",
              "65    Salvador 2019-01-01                 3.39  ...  2019    1    1\n",
              "23   Fortaleza 2019-01-01                85.90  ...  2019    1    1\n",
              "213      Natal 2019-01-02                42.12  ...  2019    1    2\n",
              "77     Aracaju 2018-01-01                24.10  ...  2018    1    1\n",
              "20     Aracaju 2018-01-01                39.86  ...  2018    1    1\n",
              "129  Fortaleza 2019-03-02                35.34  ...  2019    3    2\n",
              "\n",
              "[8 rows x 9 columns]"
            ]
          },
          "metadata": {},
          "execution_count": 174
        }
      ]
    },
    {
      "cell_type": "code",
      "metadata": {
        "colab": {
          "base_uri": "https://localhost:8080/"
        },
        "id": "x-1WxYmSpJU2",
        "outputId": "252b42cd-94a5-4a0f-ff6b-0211ebf1e1a2"
      },
      "source": [
        "#Data da venda mais antiga:\n",
        "df.Data.min()"
      ],
      "execution_count": 175,
      "outputs": [
        {
          "output_type": "execute_result",
          "data": {
            "text/plain": [
              "Timestamp('2018-01-01 00:00:00')"
            ]
          },
          "metadata": {},
          "execution_count": 175
        }
      ]
    },
    {
      "cell_type": "code",
      "metadata": {
        "colab": {
          "base_uri": "https://localhost:8080/"
        },
        "id": "yFYJLT_Ep9UM",
        "outputId": "2a941f3a-f8ce-4582-fa95-b1f9d5dde4fb"
      },
      "source": [
        "#Data da venda mais recente:\n",
        "df.Data.max()"
      ],
      "execution_count": 176,
      "outputs": [
        {
          "output_type": "execute_result",
          "data": {
            "text/plain": [
              "Timestamp('2019-04-05 00:00:00')"
            ]
          },
          "metadata": {},
          "execution_count": 176
        }
      ]
    },
    {
      "cell_type": "code",
      "metadata": {
        "colab": {
          "base_uri": "https://localhost:8080/",
          "height": 297
        },
        "id": "GwQBZde2qTVz",
        "outputId": "f1d8e6a3-64d2-431b-cdfc-6b3689a9d71b"
      },
      "source": [
        "#Calculo de diferença de dias entre datas:\n",
        "df['Diferença_dias'] = df.Data - df.Data.min()\n",
        "df.sample(8)"
      ],
      "execution_count": 177,
      "outputs": [
        {
          "output_type": "execute_result",
          "data": {
            "text/html": [
              "<div>\n",
              "<style scoped>\n",
              "    .dataframe tbody tr th:only-of-type {\n",
              "        vertical-align: middle;\n",
              "    }\n",
              "\n",
              "    .dataframe tbody tr th {\n",
              "        vertical-align: top;\n",
              "    }\n",
              "\n",
              "    .dataframe thead th {\n",
              "        text-align: right;\n",
              "    }\n",
              "</style>\n",
              "<table border=\"1\" class=\"dataframe\">\n",
              "  <thead>\n",
              "    <tr style=\"text-align: right;\">\n",
              "      <th></th>\n",
              "      <th>Cidade</th>\n",
              "      <th>Data</th>\n",
              "      <th>Vendas</th>\n",
              "      <th>LojaID</th>\n",
              "      <th>Qtde</th>\n",
              "      <th>Receita</th>\n",
              "      <th>Ano</th>\n",
              "      <th>Mês</th>\n",
              "      <th>Dia</th>\n",
              "      <th>Diferença_dias</th>\n",
              "    </tr>\n",
              "  </thead>\n",
              "  <tbody>\n",
              "    <tr>\n",
              "      <th>19</th>\n",
              "      <td>Natal</td>\n",
              "      <td>2019-03-31</td>\n",
              "      <td>282.00</td>\n",
              "      <td>854</td>\n",
              "      <td>2</td>\n",
              "      <td>564.00</td>\n",
              "      <td>2019</td>\n",
              "      <td>3</td>\n",
              "      <td>31</td>\n",
              "      <td>454 days</td>\n",
              "    </tr>\n",
              "    <tr>\n",
              "      <th>220</th>\n",
              "      <td>Natal</td>\n",
              "      <td>2019-01-02</td>\n",
              "      <td>42.71</td>\n",
              "      <td>1035</td>\n",
              "      <td>1</td>\n",
              "      <td>42.71</td>\n",
              "      <td>2019</td>\n",
              "      <td>1</td>\n",
              "      <td>2</td>\n",
              "      <td>366 days</td>\n",
              "    </tr>\n",
              "    <tr>\n",
              "      <th>138</th>\n",
              "      <td>Recife</td>\n",
              "      <td>2019-03-02</td>\n",
              "      <td>150.38</td>\n",
              "      <td>983</td>\n",
              "      <td>6</td>\n",
              "      <td>902.28</td>\n",
              "      <td>2019</td>\n",
              "      <td>3</td>\n",
              "      <td>2</td>\n",
              "      <td>425 days</td>\n",
              "    </tr>\n",
              "    <tr>\n",
              "      <th>7</th>\n",
              "      <td>Natal</td>\n",
              "      <td>2019-03-18</td>\n",
              "      <td>886.00</td>\n",
              "      <td>853</td>\n",
              "      <td>4</td>\n",
              "      <td>3,544.00</td>\n",
              "      <td>2019</td>\n",
              "      <td>3</td>\n",
              "      <td>18</td>\n",
              "      <td>441 days</td>\n",
              "    </tr>\n",
              "    <tr>\n",
              "      <th>178</th>\n",
              "      <td>Salvador</td>\n",
              "      <td>2019-01-02</td>\n",
              "      <td>39.28</td>\n",
              "      <td>1037</td>\n",
              "      <td>3</td>\n",
              "      <td>117.84</td>\n",
              "      <td>2019</td>\n",
              "      <td>1</td>\n",
              "      <td>2</td>\n",
              "      <td>366 days</td>\n",
              "    </tr>\n",
              "    <tr>\n",
              "      <th>29</th>\n",
              "      <td>Natal</td>\n",
              "      <td>2019-03-09</td>\n",
              "      <td>646.00</td>\n",
              "      <td>854</td>\n",
              "      <td>2</td>\n",
              "      <td>1,292.00</td>\n",
              "      <td>2019</td>\n",
              "      <td>3</td>\n",
              "      <td>9</td>\n",
              "      <td>432 days</td>\n",
              "    </tr>\n",
              "    <tr>\n",
              "      <th>94</th>\n",
              "      <td>Fortaleza</td>\n",
              "      <td>2019-01-01</td>\n",
              "      <td>150.49</td>\n",
              "      <td>1003</td>\n",
              "      <td>5</td>\n",
              "      <td>752.45</td>\n",
              "      <td>2019</td>\n",
              "      <td>1</td>\n",
              "      <td>1</td>\n",
              "      <td>365 days</td>\n",
              "    </tr>\n",
              "    <tr>\n",
              "      <th>70</th>\n",
              "      <td>Aracaju</td>\n",
              "      <td>2018-01-01</td>\n",
              "      <td>8.44</td>\n",
              "      <td>1523</td>\n",
              "      <td>9</td>\n",
              "      <td>75.96</td>\n",
              "      <td>2018</td>\n",
              "      <td>1</td>\n",
              "      <td>1</td>\n",
              "      <td>0 days</td>\n",
              "    </tr>\n",
              "  </tbody>\n",
              "</table>\n",
              "</div>"
            ],
            "text/plain": [
              "        Cidade       Data               Vendas  ... Mês  Dia  Diferença_dias\n",
              "19       Natal 2019-03-31               282.00  ...   3   31        454 days\n",
              "220      Natal 2019-01-02                42.71  ...   1    2        366 days\n",
              "138     Recife 2019-03-02               150.38  ...   3    2        425 days\n",
              "7        Natal 2019-03-18               886.00  ...   3   18        441 days\n",
              "178   Salvador 2019-01-02                39.28  ...   1    2        366 days\n",
              "29       Natal 2019-03-09               646.00  ...   3    9        432 days\n",
              "94   Fortaleza 2019-01-01               150.49  ...   1    1        365 days\n",
              "70     Aracaju 2018-01-01                 8.44  ...   1    1          0 days\n",
              "\n",
              "[8 rows x 10 columns]"
            ]
          },
          "metadata": {},
          "execution_count": 177
        }
      ]
    },
    {
      "cell_type": "code",
      "metadata": {
        "colab": {
          "base_uri": "https://localhost:8080/",
          "height": 359
        },
        "id": "mFBnY7jdq1ek",
        "outputId": "dfdd9a55-78f7-4817-b08f-afc15d53ff75"
      },
      "source": [
        "#Adição da coluna do trimestre do ano em que cada venda ocorreu:\n",
        "#Atributo quarter - dt.quarter:\n",
        "df['Trimestre'] = df.Data.dt.quarter\n",
        "df.sample(10)"
      ],
      "execution_count": 178,
      "outputs": [
        {
          "output_type": "execute_result",
          "data": {
            "text/html": [
              "<div>\n",
              "<style scoped>\n",
              "    .dataframe tbody tr th:only-of-type {\n",
              "        vertical-align: middle;\n",
              "    }\n",
              "\n",
              "    .dataframe tbody tr th {\n",
              "        vertical-align: top;\n",
              "    }\n",
              "\n",
              "    .dataframe thead th {\n",
              "        text-align: right;\n",
              "    }\n",
              "</style>\n",
              "<table border=\"1\" class=\"dataframe\">\n",
              "  <thead>\n",
              "    <tr style=\"text-align: right;\">\n",
              "      <th></th>\n",
              "      <th>Cidade</th>\n",
              "      <th>Data</th>\n",
              "      <th>Vendas</th>\n",
              "      <th>LojaID</th>\n",
              "      <th>Qtde</th>\n",
              "      <th>Receita</th>\n",
              "      <th>Ano</th>\n",
              "      <th>Mês</th>\n",
              "      <th>Dia</th>\n",
              "      <th>Diferença_dias</th>\n",
              "      <th>Trimestre</th>\n",
              "    </tr>\n",
              "  </thead>\n",
              "  <tbody>\n",
              "    <tr>\n",
              "      <th>139</th>\n",
              "      <td>Recife</td>\n",
              "      <td>2019-03-02</td>\n",
              "      <td>141.16</td>\n",
              "      <td>980</td>\n",
              "      <td>7</td>\n",
              "      <td>988.12</td>\n",
              "      <td>2019</td>\n",
              "      <td>3</td>\n",
              "      <td>2</td>\n",
              "      <td>425 days</td>\n",
              "      <td>1</td>\n",
              "    </tr>\n",
              "    <tr>\n",
              "      <th>51</th>\n",
              "      <td>Natal</td>\n",
              "      <td>2018-01-21</td>\n",
              "      <td>859.00</td>\n",
              "      <td>852</td>\n",
              "      <td>4</td>\n",
              "      <td>3,436.00</td>\n",
              "      <td>2018</td>\n",
              "      <td>1</td>\n",
              "      <td>21</td>\n",
              "      <td>20 days</td>\n",
              "      <td>1</td>\n",
              "    </tr>\n",
              "    <tr>\n",
              "      <th>128</th>\n",
              "      <td>Natal</td>\n",
              "      <td>2019-01-02</td>\n",
              "      <td>36.84</td>\n",
              "      <td>1034</td>\n",
              "      <td>1</td>\n",
              "      <td>36.84</td>\n",
              "      <td>2019</td>\n",
              "      <td>1</td>\n",
              "      <td>2</td>\n",
              "      <td>366 days</td>\n",
              "      <td>1</td>\n",
              "    </tr>\n",
              "    <tr>\n",
              "      <th>54</th>\n",
              "      <td>Natal</td>\n",
              "      <td>2018-10-03</td>\n",
              "      <td>373.00</td>\n",
              "      <td>852</td>\n",
              "      <td>4</td>\n",
              "      <td>1,492.00</td>\n",
              "      <td>2018</td>\n",
              "      <td>10</td>\n",
              "      <td>3</td>\n",
              "      <td>275 days</td>\n",
              "      <td>4</td>\n",
              "    </tr>\n",
              "    <tr>\n",
              "      <th>65</th>\n",
              "      <td>Aracaju</td>\n",
              "      <td>2018-01-01</td>\n",
              "      <td>145.54</td>\n",
              "      <td>1522</td>\n",
              "      <td>3</td>\n",
              "      <td>436.62</td>\n",
              "      <td>2018</td>\n",
              "      <td>1</td>\n",
              "      <td>1</td>\n",
              "      <td>0 days</td>\n",
              "      <td>1</td>\n",
              "    </tr>\n",
              "    <tr>\n",
              "      <th>100</th>\n",
              "      <td>Aracaju</td>\n",
              "      <td>2018-01-01</td>\n",
              "      <td>180.57</td>\n",
              "      <td>1520</td>\n",
              "      <td>6</td>\n",
              "      <td>1,083.42</td>\n",
              "      <td>2018</td>\n",
              "      <td>1</td>\n",
              "      <td>1</td>\n",
              "      <td>0 days</td>\n",
              "      <td>1</td>\n",
              "    </tr>\n",
              "    <tr>\n",
              "      <th>25</th>\n",
              "      <td>Aracaju</td>\n",
              "      <td>2018-01-01</td>\n",
              "      <td>34.66</td>\n",
              "      <td>1521</td>\n",
              "      <td>8</td>\n",
              "      <td>277.28</td>\n",
              "      <td>2018</td>\n",
              "      <td>1</td>\n",
              "      <td>1</td>\n",
              "      <td>0 days</td>\n",
              "      <td>1</td>\n",
              "    </tr>\n",
              "    <tr>\n",
              "      <th>135</th>\n",
              "      <td>Recife</td>\n",
              "      <td>2019-03-02</td>\n",
              "      <td>10.79</td>\n",
              "      <td>983</td>\n",
              "      <td>5</td>\n",
              "      <td>53.95</td>\n",
              "      <td>2019</td>\n",
              "      <td>3</td>\n",
              "      <td>2</td>\n",
              "      <td>425 days</td>\n",
              "      <td>1</td>\n",
              "    </tr>\n",
              "    <tr>\n",
              "      <th>48</th>\n",
              "      <td>Aracaju</td>\n",
              "      <td>2018-01-01</td>\n",
              "      <td>35.90</td>\n",
              "      <td>1521</td>\n",
              "      <td>8</td>\n",
              "      <td>287.20</td>\n",
              "      <td>2018</td>\n",
              "      <td>1</td>\n",
              "      <td>1</td>\n",
              "      <td>0 days</td>\n",
              "      <td>1</td>\n",
              "    </tr>\n",
              "    <tr>\n",
              "      <th>87</th>\n",
              "      <td>Recife</td>\n",
              "      <td>2019-01-01</td>\n",
              "      <td>210.06</td>\n",
              "      <td>983</td>\n",
              "      <td>4</td>\n",
              "      <td>840.24</td>\n",
              "      <td>2019</td>\n",
              "      <td>1</td>\n",
              "      <td>1</td>\n",
              "      <td>365 days</td>\n",
              "      <td>1</td>\n",
              "    </tr>\n",
              "  </tbody>\n",
              "</table>\n",
              "</div>"
            ],
            "text/plain": [
              "      Cidade       Data               Vendas  ... Dia  Diferença_dias  Trimestre\n",
              "139   Recife 2019-03-02               141.16  ...   2        425 days          1\n",
              "51     Natal 2018-01-21               859.00  ...  21         20 days          1\n",
              "128    Natal 2019-01-02                36.84  ...   2        366 days          1\n",
              "54     Natal 2018-10-03               373.00  ...   3        275 days          4\n",
              "65   Aracaju 2018-01-01               145.54  ...   1          0 days          1\n",
              "100  Aracaju 2018-01-01               180.57  ...   1          0 days          1\n",
              "25   Aracaju 2018-01-01                34.66  ...   1          0 days          1\n",
              "135   Recife 2019-03-02                10.79  ...   2        425 days          1\n",
              "48   Aracaju 2018-01-01                35.90  ...   1          0 days          1\n",
              "87    Recife 2019-01-01               210.06  ...   1        365 days          1\n",
              "\n",
              "[10 rows x 11 columns]"
            ]
          },
          "metadata": {},
          "execution_count": 178
        }
      ]
    },
    {
      "cell_type": "code",
      "metadata": {
        "colab": {
          "base_uri": "https://localhost:8080/",
          "height": 359
        },
        "id": "UR-S8v42tMR7",
        "outputId": "8b3d14e2-a097-4968-d874-a00b5c55ef92"
      },
      "source": [
        "#Filtrar as vendas de 2019 do mês de março\n",
        "vendas_marco_2019 = df.loc[(df.Data.dt.year == 2019) & (df.Data.dt.month == 3)]\n",
        "vendas_marco_2019.sample(10)"
      ],
      "execution_count": 179,
      "outputs": [
        {
          "output_type": "execute_result",
          "data": {
            "text/html": [
              "<div>\n",
              "<style scoped>\n",
              "    .dataframe tbody tr th:only-of-type {\n",
              "        vertical-align: middle;\n",
              "    }\n",
              "\n",
              "    .dataframe tbody tr th {\n",
              "        vertical-align: top;\n",
              "    }\n",
              "\n",
              "    .dataframe thead th {\n",
              "        text-align: right;\n",
              "    }\n",
              "</style>\n",
              "<table border=\"1\" class=\"dataframe\">\n",
              "  <thead>\n",
              "    <tr style=\"text-align: right;\">\n",
              "      <th></th>\n",
              "      <th>Cidade</th>\n",
              "      <th>Data</th>\n",
              "      <th>Vendas</th>\n",
              "      <th>LojaID</th>\n",
              "      <th>Qtde</th>\n",
              "      <th>Receita</th>\n",
              "      <th>Ano</th>\n",
              "      <th>Mês</th>\n",
              "      <th>Dia</th>\n",
              "      <th>Diferença_dias</th>\n",
              "      <th>Trimestre</th>\n",
              "    </tr>\n",
              "  </thead>\n",
              "  <tbody>\n",
              "    <tr>\n",
              "      <th>108</th>\n",
              "      <td>Recife</td>\n",
              "      <td>2019-03-02</td>\n",
              "      <td>152.89</td>\n",
              "      <td>981</td>\n",
              "      <td>4</td>\n",
              "      <td>611.56</td>\n",
              "      <td>2019</td>\n",
              "      <td>3</td>\n",
              "      <td>2</td>\n",
              "      <td>425 days</td>\n",
              "      <td>1</td>\n",
              "    </tr>\n",
              "    <tr>\n",
              "      <th>117</th>\n",
              "      <td>Salvador</td>\n",
              "      <td>2019-03-02</td>\n",
              "      <td>39.41</td>\n",
              "      <td>1034</td>\n",
              "      <td>1</td>\n",
              "      <td>39.41</td>\n",
              "      <td>2019</td>\n",
              "      <td>3</td>\n",
              "      <td>2</td>\n",
              "      <td>425 days</td>\n",
              "      <td>1</td>\n",
              "    </tr>\n",
              "    <tr>\n",
              "      <th>114</th>\n",
              "      <td>Recife</td>\n",
              "      <td>2019-03-02</td>\n",
              "      <td>16.82</td>\n",
              "      <td>983</td>\n",
              "      <td>4</td>\n",
              "      <td>67.28</td>\n",
              "      <td>2019</td>\n",
              "      <td>3</td>\n",
              "      <td>2</td>\n",
              "      <td>425 days</td>\n",
              "      <td>1</td>\n",
              "    </tr>\n",
              "    <tr>\n",
              "      <th>138</th>\n",
              "      <td>Fortaleza</td>\n",
              "      <td>2019-03-02</td>\n",
              "      <td>150.38</td>\n",
              "      <td>983</td>\n",
              "      <td>6</td>\n",
              "      <td>902.28</td>\n",
              "      <td>2019</td>\n",
              "      <td>3</td>\n",
              "      <td>2</td>\n",
              "      <td>425 days</td>\n",
              "      <td>1</td>\n",
              "    </tr>\n",
              "    <tr>\n",
              "      <th>75</th>\n",
              "      <td>Natal</td>\n",
              "      <td>2019-03-30</td>\n",
              "      <td>706.00</td>\n",
              "      <td>854</td>\n",
              "      <td>2</td>\n",
              "      <td>1,412.00</td>\n",
              "      <td>2019</td>\n",
              "      <td>3</td>\n",
              "      <td>30</td>\n",
              "      <td>453 days</td>\n",
              "      <td>1</td>\n",
              "    </tr>\n",
              "    <tr>\n",
              "      <th>124</th>\n",
              "      <td>Salvador</td>\n",
              "      <td>2019-03-02</td>\n",
              "      <td>44.82</td>\n",
              "      <td>1034</td>\n",
              "      <td>3</td>\n",
              "      <td>134.46</td>\n",
              "      <td>2019</td>\n",
              "      <td>3</td>\n",
              "      <td>2</td>\n",
              "      <td>425 days</td>\n",
              "      <td>1</td>\n",
              "    </tr>\n",
              "    <tr>\n",
              "      <th>126</th>\n",
              "      <td>Salvador</td>\n",
              "      <td>2019-03-02</td>\n",
              "      <td>41.69</td>\n",
              "      <td>1036</td>\n",
              "      <td>2</td>\n",
              "      <td>83.38</td>\n",
              "      <td>2019</td>\n",
              "      <td>3</td>\n",
              "      <td>2</td>\n",
              "      <td>425 days</td>\n",
              "      <td>1</td>\n",
              "    </tr>\n",
              "    <tr>\n",
              "      <th>32</th>\n",
              "      <td>Natal</td>\n",
              "      <td>2019-03-17</td>\n",
              "      <td>244.00</td>\n",
              "      <td>854</td>\n",
              "      <td>2</td>\n",
              "      <td>488.00</td>\n",
              "      <td>2019</td>\n",
              "      <td>3</td>\n",
              "      <td>17</td>\n",
              "      <td>440 days</td>\n",
              "      <td>1</td>\n",
              "    </tr>\n",
              "    <tr>\n",
              "      <th>123</th>\n",
              "      <td>Fortaleza</td>\n",
              "      <td>2019-03-02</td>\n",
              "      <td>20.22</td>\n",
              "      <td>981</td>\n",
              "      <td>6</td>\n",
              "      <td>121.32</td>\n",
              "      <td>2019</td>\n",
              "      <td>3</td>\n",
              "      <td>2</td>\n",
              "      <td>425 days</td>\n",
              "      <td>1</td>\n",
              "    </tr>\n",
              "    <tr>\n",
              "      <th>123</th>\n",
              "      <td>Salvador</td>\n",
              "      <td>2019-03-02</td>\n",
              "      <td>127.45</td>\n",
              "      <td>1036</td>\n",
              "      <td>3</td>\n",
              "      <td>382.35</td>\n",
              "      <td>2019</td>\n",
              "      <td>3</td>\n",
              "      <td>2</td>\n",
              "      <td>425 days</td>\n",
              "      <td>1</td>\n",
              "    </tr>\n",
              "  </tbody>\n",
              "</table>\n",
              "</div>"
            ],
            "text/plain": [
              "        Cidade       Data               Vendas  ... Dia  Diferença_dias  Trimestre\n",
              "108     Recife 2019-03-02               152.89  ...   2        425 days          1\n",
              "117   Salvador 2019-03-02                39.41  ...   2        425 days          1\n",
              "114     Recife 2019-03-02                16.82  ...   2        425 days          1\n",
              "138  Fortaleza 2019-03-02               150.38  ...   2        425 days          1\n",
              "75       Natal 2019-03-30               706.00  ...  30        453 days          1\n",
              "124   Salvador 2019-03-02                44.82  ...   2        425 days          1\n",
              "126   Salvador 2019-03-02                41.69  ...   2        425 days          1\n",
              "32       Natal 2019-03-17               244.00  ...  17        440 days          1\n",
              "123  Fortaleza 2019-03-02                20.22  ...   2        425 days          1\n",
              "123   Salvador 2019-03-02               127.45  ...   2        425 days          1\n",
              "\n",
              "[10 rows x 11 columns]"
            ]
          },
          "metadata": {},
          "execution_count": 179
        }
      ]
    },
    {
      "cell_type": "code",
      "metadata": {
        "colab": {
          "base_uri": "https://localhost:8080/"
        },
        "id": "H8U9w6LeRp4y",
        "outputId": "6c96eac7-18e5-4ac5-91c5-f1c2ed978204"
      },
      "source": [
        "#Contar o  número de vendas de cada loja e exibi-los em ordem crescente:\n",
        "#Método value_counts() - conta o número de ocorrências de cada única ocorrência de uma coluna e as agrupa, retornando o resultado do agrupamento\n",
        "#Embora lembre o agrupamento pelo groupby, o value_counts() relaciona cada valor único de uma coluna com o seu número de ocorrênias na coluna,\n",
        "#ao passo que o groupby relaciona duas variáveis - em termos estatísticos - de um dataframe ao acumular os valores de uma coluna que são correspondentes\n",
        "#a um valor específico de outra, e então agrupá-los, mostrando a relação resutlante dessa operação\n",
        "df.LojaID.value_counts(ascending=False)"
      ],
      "execution_count": 180,
      "outputs": [
        {
          "output_type": "execute_result",
          "data": {
            "text/plain": [
              "1036    117\n",
              "1035    112\n",
              "1037    101\n",
              "1034     67\n",
              "983      65\n",
              "982      44\n",
              "1522     41\n",
              "1520     39\n",
              "980      36\n",
              "981      31\n",
              "1002     30\n",
              "1005     30\n",
              "852      29\n",
              "1523     29\n",
              "1004     28\n",
              "854      28\n",
              "853      26\n",
              "1521     21\n",
              "1003     20\n",
              "Name: LojaID, dtype: int64"
            ]
          },
          "metadata": {},
          "execution_count": 180
        }
      ]
    },
    {
      "cell_type": "code",
      "metadata": {
        "colab": {
          "base_uri": "https://localhost:8080/",
          "height": 359
        },
        "id": "eq3GE8ZZSRwI",
        "outputId": "a91588d1-dcad-440b-bd07-d56f6b0f089a"
      },
      "source": [
        "#Gráfico de barras verticais para o número de vendas de cada loja:\n",
        "#Método plot.bar()\n",
        "df.LojaID.value_counts(ascending=False).plot.bar();"
      ],
      "execution_count": 181,
      "outputs": [
        {
          "output_type": "display_data",
          "data": {
            "image/png": "[encoded data removed]",
            "text/plain": [
              "<Figure size 576x396 with 1 Axes>"
            ]
          },
          "metadata": {}
        }
      ]
    },
    {
      "cell_type": "code",
      "metadata": {
        "colab": {
          "base_uri": "https://localhost:8080/",
          "height": 347
        },
        "id": "sc9na0etSpLw",
        "outputId": "4d84bc95-b202-4e09-9856-250c447c12a2"
      },
      "source": [
        "#Gráfico de barras horizontais para o número de vendas de cada loja do menor para o maoir:\n",
        "#Método plot.barh(), com ascending=False\n",
        "df.LojaID.value_counts(ascending=False).plot.barh(); #ou\n",
        "#df.LojaID.value_counts().plot.barh()"
      ],
      "execution_count": 182,
      "outputs": [
        {
          "output_type": "display_data",
          "data": {
            "image/png": "[encoded data removed]",
            "text/plain": [
              "<Figure size 576x396 with 1 Axes>"
            ]
          },
          "metadata": {}
        }
      ]
    },
    {
      "cell_type": "code",
      "metadata": {
        "colab": {
          "base_uri": "https://localhost:8080/",
          "height": 347
        },
        "id": "1zS9ovw6TOqS",
        "outputId": "8d220979-7aa9-4bef-ec70-83f6307d6b88"
      },
      "source": [
        "#Gráfico de barras horizontais para o número de vendas de cada loja do maior para o menor:\n",
        "#Método plot.barh(), com ascending=True\n",
        "df.LojaID.value_counts(ascending=True).plot.barh();"
      ],
      "execution_count": 183,
      "outputs": [
        {
          "output_type": "display_data",
          "data": {
            "image/png": "[encoded data removed]",
            "text/plain": [
              "<Figure size 576x396 with 1 Axes>"
            ]
          },
          "metadata": {}
        }
      ]
    },
    {
      "cell_type": "code",
      "metadata": {
        "colab": {
          "base_uri": "https://localhost:8080/",
          "height": 330
        },
        "id": "-lsChmFsTrGW",
        "outputId": "9faec73d-a393-4193-df0f-44848086df0d"
      },
      "source": [
        "#Gráfico de pizza para a receita\n",
        "#Método plot.pie()\n",
        "df.groupby(df.Data.dt.year)['Receita'].sum().plot.pie();"
      ],
      "execution_count": 184,
      "outputs": [
        {
          "output_type": "display_data",
          "data": {
            "image/png": "[encoded data removed]",
            "text/plain": [
              "<Figure size 576x396 with 1 Axes>"
            ]
          },
          "metadata": {}
        }
      ]
    },
    {
      "cell_type": "code",
      "metadata": {
        "colab": {
          "base_uri": "https://localhost:8080/"
        },
        "id": "kiXYyG9KUi2l",
        "outputId": "87f0f7a5-88f0-4666-8bbb-1e55345eacb3"
      },
      "source": [
        "#Total de vendas por cidade usando o value_counts():\n",
        "df.Cidade.value_counts()"
      ],
      "execution_count": 185,
      "outputs": [
        {
          "output_type": "execute_result",
          "data": {
            "text/plain": [
              "Salvador     240\n",
              "Natal        240\n",
              "Fortaleza    142\n",
              "Recife       142\n",
              "Aracaju      130\n",
              "Name: Cidade, dtype: int64"
            ]
          },
          "metadata": {},
          "execution_count": 185
        }
      ]
    },
    {
      "cell_type": "code",
      "metadata": {
        "colab": {
          "base_uri": "https://localhost:8080/",
          "height": 408
        },
        "id": "aWZ8gy0mVMOt",
        "outputId": "37ff6678-7393-49fd-90c7-d0b195359051"
      },
      "source": [
        "#Adicionar um título para o gráfico e labels nos seus eixos:\n",
        "#Para isso é necessário usar o método pyplot da biblioteca Matplotlib\n",
        "#Parâmetro title para o método bar de plor\n",
        "#Métodos xlabel e ylabel de pyplot\n",
        "import matplotlib.pyplot as plt\n",
        "df.Cidade.value_counts().plot.bar(title='Vendas por Cidade')\n",
        "plt.xlabel('Cidade')\n",
        "plt.ylabel('Total de vendas');"
      ],
      "execution_count": 186,
      "outputs": [
        {
          "output_type": "display_data",
          "data": {
            "image/png": "[encoded data removed]",
            "text/plain": [
              "<Figure size 576x396 with 1 Axes>"
            ]
          },
          "metadata": {}
        }
      ]
    },
    {
      "cell_type": "code",
      "metadata": {
        "colab": {
          "base_uri": "https://localhost:8080/",
          "height": 408
        },
        "id": "IcFzhnyBXFgW",
        "outputId": "739e34fc-5ff7-450c-9683-97e1a5972066"
      },
      "source": [
        "#Altear a cor do gráfico:\n",
        "df.Cidade.value_counts().plot.bar(title='Vendas por Cidade', color='purple')\n",
        "plt.xlabel('Cidade')\n",
        "plt.ylabel('Total de vendas');"
      ],
      "execution_count": 187,
      "outputs": [
        {
          "output_type": "display_data",
          "data": {
            "image/png": "[encoded data removed]",
            "text/plain": [
              "<Figure size 576x396 with 1 Axes>"
            ]
          },
          "metadata": {}
        }
      ]
    },
    {
      "cell_type": "code",
      "metadata": {
        "colab": {
          "base_uri": "https://localhost:8080/",
          "height": 380
        },
        "id": "9qWS733lXFxG",
        "outputId": "96e6318b-6f70-4609-bbb9-20001726f363"
      },
      "source": [
        "#Alterar o estilo do gráfico:\n",
        "#Método style.use() do pyplot\n",
        "plt.style.use('ggplot')\n",
        "\n",
        "#Agrupar quantidade de venas por mês:\n",
        "df.groupby(df.Mês)['Qtde'].sum().plot(title = 'Vendas por mês')\n",
        "plt.xlabel('Mês')\n",
        "plt.ylabel('Vendas')\n",
        "plt.legend();"
      ],
      "execution_count": 188,
      "outputs": [
        {
          "output_type": "display_data",
          "data": {
            "image/png": "[encoded data removed]",
            "text/plain": [
              "<Figure size 576x396 with 1 Axes>"
            ]
          },
          "metadata": {}
        }
      ]
    },
    {
      "cell_type": "code",
      "metadata": {
        "colab": {
          "base_uri": "https://localhost:8080/",
          "height": 347
        },
        "id": "_1Q2urE-dXW4",
        "outputId": "c9edc1eb-5973-47d5-f12c-021a89245c23"
      },
      "source": [
        "#Boxplot para a quantidade de vendas por loja:\n",
        "\n",
        "#Vendas por loja:\n",
        "vendas_loja = df.groupby(df.LojaID)['Qtde'].sum()\n",
        "plt.boxplot(vendas_loja);"
      ],
      "execution_count": 189,
      "outputs": [
        {
          "output_type": "display_data",
          "data": {
            "image/png": "[encoded data removed]",
            "text/plain": [
              "<Figure size 576x396 with 1 Axes>"
            ]
          },
          "metadata": {}
        }
      ]
    },
    {
      "cell_type": "code",
      "metadata": {
        "colab": {
          "base_uri": "https://localhost:8080/"
        },
        "id": "Zapxjb4Ygsgv",
        "outputId": "48e11985-ac5e-4faf-d3ff-2f4375246c11"
      },
      "source": [
        "#Conferindo os quartis:\n",
        "q1 = vendas_loja.quantile(0.25)\n",
        "q2 = vendas_loja.quantile(0.50) #mediana\n",
        "q3 = vendas_loja.quantile(0.75)\n",
        "print('25% das lojas tiveram um total de vendas menor ou igual', q1)\n",
        "print('50% das lojas tiveram um total de vendas menor ou igual', q2)\n",
        "print('75% das lojas tiveram um total de vendas menor ou igual', q3)\n",
        "\n",
        "#25% das lojas tiveram um total de vendas menor ou igual a 97.5\n",
        "#50% das lojas tiveram um total de vendas menor ou igual a 132.0\n",
        "#75% das lojas tiveram um total de vendas menor ou igual a 205.\n",
        "\n",
        "#Exatamente como o boxplot sugere"
      ],
      "execution_count": 190,
      "outputs": [
        {
          "output_type": "stream",
          "name": "stdout",
          "text": [
            "25% das lojas tiveram um total de vendas menor ou igual 97.5\n",
            "50% das lojas tiveram um total de vendas menor ou igual 132.0\n",
            "75% das lojas tiveram um total de vendas menor ou igual 205.5\n"
          ]
        }
      ]
    },
    {
      "cell_type": "code",
      "metadata": {
        "colab": {
          "base_uri": "https://localhost:8080/"
        },
        "id": "WGUMLLTFi1Ka",
        "outputId": "d716ba7c-4a6d-4a55-9494-2bc2fa0474e7"
      },
      "source": [
        "#Comparando a mediana com o segundo quartil:\n",
        "mediana = vendas_loja.median()\n",
        "print('Mediana:', mediana)\n",
        "print('Segundo quartil:', q2)"
      ],
      "execution_count": 191,
      "outputs": [
        {
          "output_type": "stream",
          "name": "stdout",
          "text": [
            "Mediana: 132.0\n",
            "Segundo quartil: 132.0\n"
          ]
        }
      ]
    },
    {
      "cell_type": "code",
      "metadata": {
        "colab": {
          "base_uri": "https://localhost:8080/",
          "height": 204
        },
        "id": "9zPC2_fCjEzI",
        "outputId": "c8b96e98-ab1e-4ba4-b1ef-d46e36a6f4c2"
      },
      "source": [
        "#Selecionando as vendas do ano 2019\n",
        "df_2019 = df[df.Ano == 2019]\n",
        "df_2019.sample(5)"
      ],
      "execution_count": 192,
      "outputs": [
        {
          "output_type": "execute_result",
          "data": {
            "text/html": [
              "<div>\n",
              "<style scoped>\n",
              "    .dataframe tbody tr th:only-of-type {\n",
              "        vertical-align: middle;\n",
              "    }\n",
              "\n",
              "    .dataframe tbody tr th {\n",
              "        vertical-align: top;\n",
              "    }\n",
              "\n",
              "    .dataframe thead th {\n",
              "        text-align: right;\n",
              "    }\n",
              "</style>\n",
              "<table border=\"1\" class=\"dataframe\">\n",
              "  <thead>\n",
              "    <tr style=\"text-align: right;\">\n",
              "      <th></th>\n",
              "      <th>Cidade</th>\n",
              "      <th>Data</th>\n",
              "      <th>Vendas</th>\n",
              "      <th>LojaID</th>\n",
              "      <th>Qtde</th>\n",
              "      <th>Receita</th>\n",
              "      <th>Ano</th>\n",
              "      <th>Mês</th>\n",
              "      <th>Dia</th>\n",
              "      <th>Diferença_dias</th>\n",
              "      <th>Trimestre</th>\n",
              "    </tr>\n",
              "  </thead>\n",
              "  <tbody>\n",
              "    <tr>\n",
              "      <th>102</th>\n",
              "      <td>Fortaleza</td>\n",
              "      <td>2019-01-01</td>\n",
              "      <td>13.99</td>\n",
              "      <td>1004</td>\n",
              "      <td>3</td>\n",
              "      <td>41.97</td>\n",
              "      <td>2019</td>\n",
              "      <td>1</td>\n",
              "      <td>1</td>\n",
              "      <td>365 days</td>\n",
              "      <td>1</td>\n",
              "    </tr>\n",
              "    <tr>\n",
              "      <th>137</th>\n",
              "      <td>Natal</td>\n",
              "      <td>2019-01-02</td>\n",
              "      <td>51.66</td>\n",
              "      <td>1036</td>\n",
              "      <td>3</td>\n",
              "      <td>154.98</td>\n",
              "      <td>2019</td>\n",
              "      <td>1</td>\n",
              "      <td>2</td>\n",
              "      <td>366 days</td>\n",
              "      <td>1</td>\n",
              "    </tr>\n",
              "    <tr>\n",
              "      <th>11</th>\n",
              "      <td>Aracaju</td>\n",
              "      <td>2019-01-01</td>\n",
              "      <td>161.53</td>\n",
              "      <td>1520</td>\n",
              "      <td>4</td>\n",
              "      <td>646.12</td>\n",
              "      <td>2019</td>\n",
              "      <td>1</td>\n",
              "      <td>1</td>\n",
              "      <td>365 days</td>\n",
              "      <td>1</td>\n",
              "    </tr>\n",
              "    <tr>\n",
              "      <th>171</th>\n",
              "      <td>Natal</td>\n",
              "      <td>2019-01-02</td>\n",
              "      <td>136.45</td>\n",
              "      <td>1035</td>\n",
              "      <td>3</td>\n",
              "      <td>409.35</td>\n",
              "      <td>2019</td>\n",
              "      <td>1</td>\n",
              "      <td>2</td>\n",
              "      <td>366 days</td>\n",
              "      <td>1</td>\n",
              "    </tr>\n",
              "    <tr>\n",
              "      <th>36</th>\n",
              "      <td>Natal</td>\n",
              "      <td>2019-02-09</td>\n",
              "      <td>328.00</td>\n",
              "      <td>853</td>\n",
              "      <td>2</td>\n",
              "      <td>656.00</td>\n",
              "      <td>2019</td>\n",
              "      <td>2</td>\n",
              "      <td>9</td>\n",
              "      <td>404 days</td>\n",
              "      <td>1</td>\n",
              "    </tr>\n",
              "  </tbody>\n",
              "</table>\n",
              "</div>"
            ],
            "text/plain": [
              "        Cidade       Data               Vendas  ... Dia  Diferença_dias  Trimestre\n",
              "102  Fortaleza 2019-01-01                13.99  ...   1        365 days          1\n",
              "137      Natal 2019-01-02                51.66  ...   2        366 days          1\n",
              "11     Aracaju 2019-01-01               161.53  ...   1        365 days          1\n",
              "171      Natal 2019-01-02               136.45  ...   2        366 days          1\n",
              "36       Natal 2019-02-09               328.00  ...   9        404 days          1\n",
              "\n",
              "[5 rows x 11 columns]"
            ]
          },
          "metadata": {},
          "execution_count": 192
        }
      ]
    },
    {
      "cell_type": "code",
      "metadata": {
        "colab": {
          "base_uri": "https://localhost:8080/",
          "height": 397
        },
        "id": "sWitYaBUrTIU",
        "outputId": "8efd35c3-acca-4c22-e7a7-9d5d2f5a3dc1"
      },
      "source": [
        "#Total de vendas para cada mês do ano de 2019:\n",
        "df_2019.groupby(df_2019.Mês)['Qtde'].sum().plot(title='Vendas por mês de 2019',marker='o')\n",
        "plt.xlabel('Mês')\n",
        "plt.ylabel('Vendas')\n",
        "plt.legend()"
      ],
      "execution_count": 193,
      "outputs": [
        {
          "output_type": "execute_result",
          "data": {
            "text/plain": [
              "<matplotlib.legend.Legend at 0x7fbfaf9dfbd0>"
            ]
          },
          "metadata": {},
          "execution_count": 193
        },
        {
          "output_type": "display_data",
          "data": {
            "image/png": "[encoded data removed]",
            "text/plain": [
              "<Figure size 576x396 with 1 Axes>"
            ]
          },
          "metadata": {}
        }
      ]
    },
    {
      "cell_type": "code",
      "metadata": {
        "colab": {
          "base_uri": "https://localhost:8080/",
          "height": 347
        },
        "id": "fDTBsgW7tZ9f",
        "outputId": "cc3c8a0b-4e68-4936-82ac-69d5b5d4283e"
      },
      "source": [
        "#Histograma das quantidades de vendas:\n",
        "#Método hist()\n",
        "plt.hist(df.Qtde, color='black');"
      ],
      "execution_count": 194,
      "outputs": [
        {
          "output_type": "display_data",
          "data": {
            "image/png": "[encoded data removed]",
            "text/plain": [
              "<Figure size 576x396 with 1 Axes>"
            ]
          },
          "metadata": {}
        }
      ]
    },
    {
      "cell_type": "code",
      "metadata": {
        "colab": {
          "base_uri": "https://localhost:8080/",
          "height": 347
        },
        "id": "beTr1ul0uCSS",
        "outputId": "b8c0b934-3150-470e-c589-ff18f2d01df8"
      },
      "source": [
        "#Gráfico de dispersão para os dias e as receitas do ano de 2019\n",
        "#Método scatter()\n",
        "plt.scatter(x = df_2019.Dia, y = df_2019.Receita, color='black')\n",
        "\n",
        "#Salvar o gráfico gerado:\n",
        "plt.savefig('Gráfico de dispersão Dias x Receitas 2019.png')"
      ],
      "execution_count": 195,
      "outputs": [
        {
          "output_type": "display_data",
          "data": {
            "image/png": "[encoded data removed]",
            "text/plain": [
              "<Figure size 576x396 with 1 Axes>"
            ]
          },
          "metadata": {}
        }
      ]
    },
    {
      "cell_type": "code",
      "metadata": {
        "id": "JQ5fHeu7umv0"
      },
      "source": [
        "plt.style.use('seaborn')"
      ],
      "execution_count": 196,
      "outputs": []
    },
    {
      "cell_type": "code",
      "metadata": {
        "colab": {
          "base_uri": "https://localhost:8080/",
          "height": 476
        },
        "id": "imL6kkFbpfgs",
        "outputId": "690aa426-e50b-49d3-dd10-64bdb3a74b63"
      },
      "source": [
        "df = pd.read_excel('/content/drive/MyDrive/datasets_projeto_DIO/AdventureWorks.xlsx')\n",
        "df.head()"
      ],
      "execution_count": 197,
      "outputs": [
        {
          "output_type": "execute_result",
          "data": {
            "text/html": [
              "<div>\n",
              "<style scoped>\n",
              "    .dataframe tbody tr th:only-of-type {\n",
              "        vertical-align: middle;\n",
              "    }\n",
              "\n",
              "    .dataframe tbody tr th {\n",
              "        vertical-align: top;\n",
              "    }\n",
              "\n",
              "    .dataframe thead th {\n",
              "        text-align: right;\n",
              "    }\n",
              "</style>\n",
              "<table border=\"1\" class=\"dataframe\">\n",
              "  <thead>\n",
              "    <tr style=\"text-align: right;\">\n",
              "      <th></th>\n",
              "      <th>Data Venda</th>\n",
              "      <th>Data Envio</th>\n",
              "      <th>ID Loja</th>\n",
              "      <th>ID Produto</th>\n",
              "      <th>ID Cliente</th>\n",
              "      <th>No. Venda</th>\n",
              "      <th>Custo Unitário</th>\n",
              "      <th>Preço Unitário</th>\n",
              "      <th>Quantidade</th>\n",
              "      <th>Valor Desconto</th>\n",
              "      <th>Valor Venda</th>\n",
              "      <th>Produto</th>\n",
              "      <th>Fabricante</th>\n",
              "      <th>Marca</th>\n",
              "      <th>Classe</th>\n",
              "      <th>Cor</th>\n",
              "    </tr>\n",
              "  </thead>\n",
              "  <tbody>\n",
              "    <tr>\n",
              "      <th>0</th>\n",
              "      <td>2008-05-09</td>\n",
              "      <td>2008-05-29</td>\n",
              "      <td>199</td>\n",
              "      <td>384</td>\n",
              "      <td>18839</td>\n",
              "      <td>200805093CS607</td>\n",
              "      <td>348.58</td>\n",
              "      <td>758.00</td>\n",
              "      <td>6</td>\n",
              "      <td>0.00</td>\n",
              "      <td>4,548.00</td>\n",
              "      <td>Adventure Works Laptop15.4W M1548 Red</td>\n",
              "      <td>Adventure Works</td>\n",
              "      <td>Adventure Works</td>\n",
              "      <td>Regular</td>\n",
              "      <td>Red</td>\n",
              "    </tr>\n",
              "    <tr>\n",
              "      <th>1</th>\n",
              "      <td>2008-05-12</td>\n",
              "      <td>2008-05-17</td>\n",
              "      <td>306</td>\n",
              "      <td>384</td>\n",
              "      <td>19051</td>\n",
              "      <td>200805123CS567</td>\n",
              "      <td>348.58</td>\n",
              "      <td>758.00</td>\n",
              "      <td>6</td>\n",
              "      <td>0.00</td>\n",
              "      <td>4,548.00</td>\n",
              "      <td>Adventure Works Laptop15.4W M1548 Red</td>\n",
              "      <td>Adventure Works</td>\n",
              "      <td>Adventure Works</td>\n",
              "      <td>Regular</td>\n",
              "      <td>Red</td>\n",
              "    </tr>\n",
              "    <tr>\n",
              "      <th>2</th>\n",
              "      <td>2008-05-14</td>\n",
              "      <td>2008-05-20</td>\n",
              "      <td>306</td>\n",
              "      <td>384</td>\n",
              "      <td>19052</td>\n",
              "      <td>200805143CS576</td>\n",
              "      <td>348.58</td>\n",
              "      <td>758.00</td>\n",
              "      <td>6</td>\n",
              "      <td>0.00</td>\n",
              "      <td>4,548.00</td>\n",
              "      <td>Adventure Works Laptop15.4W M1548 Red</td>\n",
              "      <td>Adventure Works</td>\n",
              "      <td>Adventure Works</td>\n",
              "      <td>Regular</td>\n",
              "      <td>Red</td>\n",
              "    </tr>\n",
              "    <tr>\n",
              "      <th>3</th>\n",
              "      <td>2008-05-21</td>\n",
              "      <td>2008-05-27</td>\n",
              "      <td>306</td>\n",
              "      <td>384</td>\n",
              "      <td>19052</td>\n",
              "      <td>200805213CS576</td>\n",
              "      <td>348.58</td>\n",
              "      <td>758.00</td>\n",
              "      <td>6</td>\n",
              "      <td>0.00</td>\n",
              "      <td>4,548.00</td>\n",
              "      <td>Adventure Works Laptop15.4W M1548 Red</td>\n",
              "      <td>Adventure Works</td>\n",
              "      <td>Adventure Works</td>\n",
              "      <td>Regular</td>\n",
              "      <td>Red</td>\n",
              "    </tr>\n",
              "    <tr>\n",
              "      <th>4</th>\n",
              "      <td>2008-06-20</td>\n",
              "      <td>2008-06-27</td>\n",
              "      <td>306</td>\n",
              "      <td>384</td>\n",
              "      <td>19053</td>\n",
              "      <td>200806203CS586</td>\n",
              "      <td>348.58</td>\n",
              "      <td>758.00</td>\n",
              "      <td>6</td>\n",
              "      <td>0.00</td>\n",
              "      <td>4,548.00</td>\n",
              "      <td>Adventure Works Laptop15.4W M1548 Red</td>\n",
              "      <td>Adventure Works</td>\n",
              "      <td>Adventure Works</td>\n",
              "      <td>Regular</td>\n",
              "      <td>Red</td>\n",
              "    </tr>\n",
              "  </tbody>\n",
              "</table>\n",
              "</div>"
            ],
            "text/plain": [
              "  Data Venda Data Envio  ID Loja  ...            Marca   Classe  Cor\n",
              "0 2008-05-09 2008-05-29      199  ...  Adventure Works  Regular  Red\n",
              "1 2008-05-12 2008-05-17      306  ...  Adventure Works  Regular  Red\n",
              "2 2008-05-14 2008-05-20      306  ...  Adventure Works  Regular  Red\n",
              "3 2008-05-21 2008-05-27      306  ...  Adventure Works  Regular  Red\n",
              "4 2008-06-20 2008-06-27      306  ...  Adventure Works  Regular  Red\n",
              "\n",
              "[5 rows x 16 columns]"
            ]
          },
          "metadata": {},
          "execution_count": 197
        }
      ]
    },
    {
      "cell_type": "code",
      "metadata": {
        "colab": {
          "base_uri": "https://localhost:8080/"
        },
        "id": "7DUkhruWvBvk",
        "outputId": "fa5cb601-6876-41a0-d994-695ff6404a70"
      },
      "source": [
        "df.shape #904 linhas, 16 colunas"
      ],
      "execution_count": 198,
      "outputs": [
        {
          "output_type": "execute_result",
          "data": {
            "text/plain": [
              "(904, 16)"
            ]
          },
          "metadata": {},
          "execution_count": 198
        }
      ]
    },
    {
      "cell_type": "code",
      "metadata": {
        "colab": {
          "base_uri": "https://localhost:8080/"
        },
        "id": "Ehfv1iqkvR2Y",
        "outputId": "7a599032-e2cf-4226-e172-cbb2ff507a1a"
      },
      "source": [
        "#Tipos dos dados das colunas\n",
        "df.dtypes"
      ],
      "execution_count": 199,
      "outputs": [
        {
          "output_type": "execute_result",
          "data": {
            "text/plain": [
              "Data Venda        datetime64[ns]\n",
              "Data Envio        datetime64[ns]\n",
              "ID Loja                    int64\n",
              "ID Produto                 int64\n",
              "ID Cliente                 int64\n",
              "No. Venda                 object\n",
              "Custo Unitário           float64\n",
              "Preço Unitário           float64\n",
              "Quantidade                 int64\n",
              "Valor Desconto           float64\n",
              "Valor Venda              float64\n",
              "Produto                   object\n",
              "Fabricante                object\n",
              "Marca                     object\n",
              "Classe                    object\n",
              "Cor                       object\n",
              "dtype: object"
            ]
          },
          "metadata": {},
          "execution_count": 199
        }
      ]
    },
    {
      "cell_type": "code",
      "metadata": {
        "colab": {
          "base_uri": "https://localhost:8080/"
        },
        "id": "b0HJVzdevZxc",
        "outputId": "88ad7901-2f96-448e-8a00-1aa8a6929178"
      },
      "source": [
        "#Receita total:\n",
        "df['Valor Venda'].sum()"
      ],
      "execution_count": 200,
      "outputs": [
        {
          "output_type": "execute_result",
          "data": {
            "text/plain": [
              "5984606.1426"
            ]
          },
          "metadata": {},
          "execution_count": 200
        }
      ]
    },
    {
      "cell_type": "code",
      "metadata": {
        "colab": {
          "base_uri": "https://localhost:8080/",
          "height": 349
        },
        "id": "GzUBo-YvvwCw",
        "outputId": "aff4c798-9b39-420c-f447-abe8d1347866"
      },
      "source": [
        "#Criação de uma coluna de custo total para cada linha do dataframe:\n",
        "df['Custo'] = df['Custo Unitário'].mul(df['Quantidade'])\n",
        "df.sample(3)"
      ],
      "execution_count": 201,
      "outputs": [
        {
          "output_type": "execute_result",
          "data": {
            "text/html": [
              "<div>\n",
              "<style scoped>\n",
              "    .dataframe tbody tr th:only-of-type {\n",
              "        vertical-align: middle;\n",
              "    }\n",
              "\n",
              "    .dataframe tbody tr th {\n",
              "        vertical-align: top;\n",
              "    }\n",
              "\n",
              "    .dataframe thead th {\n",
              "        text-align: right;\n",
              "    }\n",
              "</style>\n",
              "<table border=\"1\" class=\"dataframe\">\n",
              "  <thead>\n",
              "    <tr style=\"text-align: right;\">\n",
              "      <th></th>\n",
              "      <th>Data Venda</th>\n",
              "      <th>Data Envio</th>\n",
              "      <th>ID Loja</th>\n",
              "      <th>ID Produto</th>\n",
              "      <th>ID Cliente</th>\n",
              "      <th>No. Venda</th>\n",
              "      <th>Custo Unitário</th>\n",
              "      <th>Preço Unitário</th>\n",
              "      <th>Quantidade</th>\n",
              "      <th>Valor Desconto</th>\n",
              "      <th>Valor Venda</th>\n",
              "      <th>Produto</th>\n",
              "      <th>Fabricante</th>\n",
              "      <th>Marca</th>\n",
              "      <th>Classe</th>\n",
              "      <th>Cor</th>\n",
              "      <th>Custo</th>\n",
              "    </tr>\n",
              "  </thead>\n",
              "  <tbody>\n",
              "    <tr>\n",
              "      <th>793</th>\n",
              "      <td>2009-06-08</td>\n",
              "      <td>2009-06-17</td>\n",
              "      <td>307</td>\n",
              "      <td>2497</td>\n",
              "      <td>19125</td>\n",
              "      <td>200906085CS715</td>\n",
              "      <td>5.09</td>\n",
              "      <td>9.99</td>\n",
              "      <td>576</td>\n",
              "      <td>575.42</td>\n",
              "      <td>5,178.82</td>\n",
              "      <td>Headphone Adapter for Contoso Phone E130 White</td>\n",
              "      <td>Contoso, Ltd</td>\n",
              "      <td>Contoso</td>\n",
              "      <td>Economy</td>\n",
              "      <td>White</td>\n",
              "      <td>2,931.84</td>\n",
              "    </tr>\n",
              "    <tr>\n",
              "      <th>227</th>\n",
              "      <td>2009-07-30</td>\n",
              "      <td>2009-08-03</td>\n",
              "      <td>307</td>\n",
              "      <td>366</td>\n",
              "      <td>19130</td>\n",
              "      <td>200907303CS720</td>\n",
              "      <td>348.58</td>\n",
              "      <td>758.00</td>\n",
              "      <td>8</td>\n",
              "      <td>0.00</td>\n",
              "      <td>6,064.00</td>\n",
              "      <td>Adventure Works Laptop15.4W M1548 Black</td>\n",
              "      <td>Adventure Works</td>\n",
              "      <td>Adventure Works</td>\n",
              "      <td>Regular</td>\n",
              "      <td>Black</td>\n",
              "      <td>2,788.64</td>\n",
              "    </tr>\n",
              "    <tr>\n",
              "      <th>317</th>\n",
              "      <td>2008-12-23</td>\n",
              "      <td>2008-12-28</td>\n",
              "      <td>307</td>\n",
              "      <td>384</td>\n",
              "      <td>19111</td>\n",
              "      <td>200812233CS669</td>\n",
              "      <td>348.58</td>\n",
              "      <td>758.00</td>\n",
              "      <td>14</td>\n",
              "      <td>1,591.80</td>\n",
              "      <td>9,020.20</td>\n",
              "      <td>Adventure Works Laptop15.4W M1548 Red</td>\n",
              "      <td>Adventure Works</td>\n",
              "      <td>Adventure Works</td>\n",
              "      <td>Regular</td>\n",
              "      <td>Red</td>\n",
              "      <td>4,880.12</td>\n",
              "    </tr>\n",
              "  </tbody>\n",
              "</table>\n",
              "</div>"
            ],
            "text/plain": [
              "    Data Venda Data Envio  ID Loja  ...   Classe    Cor                Custo\n",
              "793 2009-06-08 2009-06-17      307  ...  Economy  White             2,931.84\n",
              "227 2009-07-30 2009-08-03      307  ...  Regular  Black             2,788.64\n",
              "317 2008-12-23 2008-12-28      307  ...  Regular    Red             4,880.12\n",
              "\n",
              "[3 rows x 17 columns]"
            ]
          },
          "metadata": {},
          "execution_count": 201
        }
      ]
    },
    {
      "cell_type": "code",
      "metadata": {
        "colab": {
          "base_uri": "https://localhost:8080/"
        },
        "id": "XFfpT5igwnRC",
        "outputId": "fba9dd6b-287c-4867-8e08-e66e5e073155"
      },
      "source": [
        "#Custo total considerando todo o dataframe, arredondando para duas casas decimais:\n",
        "round(df.Custo.sum(), 2)"
      ],
      "execution_count": 202,
      "outputs": [
        {
          "output_type": "execute_result",
          "data": {
            "text/plain": [
              "2486783.05"
            ]
          },
          "metadata": {},
          "execution_count": 202
        }
      ]
    },
    {
      "cell_type": "code",
      "metadata": {
        "colab": {
          "base_uri": "https://localhost:8080/",
          "height": 168
        },
        "id": "SfARf240x0xj",
        "outputId": "be0972df-1481-49cc-bcc1-1f8e80391ce2"
      },
      "source": [
        "#Lucro para cada registro do dataframe:\n",
        "df['Lucro'] = df['Valor Venda'] - df['Custo']\n",
        "df.head(1)"
      ],
      "execution_count": 203,
      "outputs": [
        {
          "output_type": "execute_result",
          "data": {
            "text/html": [
              "<div>\n",
              "<style scoped>\n",
              "    .dataframe tbody tr th:only-of-type {\n",
              "        vertical-align: middle;\n",
              "    }\n",
              "\n",
              "    .dataframe tbody tr th {\n",
              "        vertical-align: top;\n",
              "    }\n",
              "\n",
              "    .dataframe thead th {\n",
              "        text-align: right;\n",
              "    }\n",
              "</style>\n",
              "<table border=\"1\" class=\"dataframe\">\n",
              "  <thead>\n",
              "    <tr style=\"text-align: right;\">\n",
              "      <th></th>\n",
              "      <th>Data Venda</th>\n",
              "      <th>Data Envio</th>\n",
              "      <th>ID Loja</th>\n",
              "      <th>ID Produto</th>\n",
              "      <th>ID Cliente</th>\n",
              "      <th>No. Venda</th>\n",
              "      <th>Custo Unitário</th>\n",
              "      <th>Preço Unitário</th>\n",
              "      <th>Quantidade</th>\n",
              "      <th>Valor Desconto</th>\n",
              "      <th>Valor Venda</th>\n",
              "      <th>Produto</th>\n",
              "      <th>Fabricante</th>\n",
              "      <th>Marca</th>\n",
              "      <th>Classe</th>\n",
              "      <th>Cor</th>\n",
              "      <th>Custo</th>\n",
              "      <th>Lucro</th>\n",
              "    </tr>\n",
              "  </thead>\n",
              "  <tbody>\n",
              "    <tr>\n",
              "      <th>0</th>\n",
              "      <td>2008-05-09</td>\n",
              "      <td>2008-05-29</td>\n",
              "      <td>199</td>\n",
              "      <td>384</td>\n",
              "      <td>18839</td>\n",
              "      <td>200805093CS607</td>\n",
              "      <td>348.58</td>\n",
              "      <td>758.00</td>\n",
              "      <td>6</td>\n",
              "      <td>0.00</td>\n",
              "      <td>4,548.00</td>\n",
              "      <td>Adventure Works Laptop15.4W M1548 Red</td>\n",
              "      <td>Adventure Works</td>\n",
              "      <td>Adventure Works</td>\n",
              "      <td>Regular</td>\n",
              "      <td>Red</td>\n",
              "      <td>2,091.48</td>\n",
              "      <td>2,456.52</td>\n",
              "    </tr>\n",
              "  </tbody>\n",
              "</table>\n",
              "</div>"
            ],
            "text/plain": [
              "  Data Venda Data Envio  ID Loja  ...  Cor                Custo                Lucro\n",
              "0 2008-05-09 2008-05-29      199  ...  Red             2,091.48             2,456.52\n",
              "\n",
              "[1 rows x 18 columns]"
            ]
          },
          "metadata": {},
          "execution_count": 203
        }
      ]
    },
    {
      "cell_type": "code",
      "metadata": {
        "colab": {
          "base_uri": "https://localhost:8080/"
        },
        "id": "XDTzMA3-y2e0",
        "outputId": "e35c968b-8a4e-4c5d-c2aa-cbe6edbc5f25"
      },
      "source": [
        "#Lucro total considerando todos os registros do dataframe:\n",
        "round(df.Lucro.sum(), 2)"
      ],
      "execution_count": 204,
      "outputs": [
        {
          "output_type": "execute_result",
          "data": {
            "text/plain": [
              "3497823.09"
            ]
          },
          "metadata": {},
          "execution_count": 204
        }
      ]
    },
    {
      "cell_type": "code",
      "metadata": {
        "colab": {
          "base_uri": "https://localhost:8080/",
          "height": 168
        },
        "id": "pfK1-4ZizX1A",
        "outputId": "1bf205b1-02c0-43f6-dd44-2b98a90bc3bb"
      },
      "source": [
        "#Criação de uma coluna para relacionar cada produto o seu tempo de envio (em dias):\n",
        "df['Tempo Envio'] = df['Data Envio'] - df['Data Venda']\n",
        "df.head(1)"
      ],
      "execution_count": 205,
      "outputs": [
        {
          "output_type": "execute_result",
          "data": {
            "text/html": [
              "<div>\n",
              "<style scoped>\n",
              "    .dataframe tbody tr th:only-of-type {\n",
              "        vertical-align: middle;\n",
              "    }\n",
              "\n",
              "    .dataframe tbody tr th {\n",
              "        vertical-align: top;\n",
              "    }\n",
              "\n",
              "    .dataframe thead th {\n",
              "        text-align: right;\n",
              "    }\n",
              "</style>\n",
              "<table border=\"1\" class=\"dataframe\">\n",
              "  <thead>\n",
              "    <tr style=\"text-align: right;\">\n",
              "      <th></th>\n",
              "      <th>Data Venda</th>\n",
              "      <th>Data Envio</th>\n",
              "      <th>ID Loja</th>\n",
              "      <th>ID Produto</th>\n",
              "      <th>ID Cliente</th>\n",
              "      <th>No. Venda</th>\n",
              "      <th>Custo Unitário</th>\n",
              "      <th>Preço Unitário</th>\n",
              "      <th>Quantidade</th>\n",
              "      <th>Valor Desconto</th>\n",
              "      <th>Valor Venda</th>\n",
              "      <th>Produto</th>\n",
              "      <th>Fabricante</th>\n",
              "      <th>Marca</th>\n",
              "      <th>Classe</th>\n",
              "      <th>Cor</th>\n",
              "      <th>Custo</th>\n",
              "      <th>Lucro</th>\n",
              "      <th>Tempo Envio</th>\n",
              "    </tr>\n",
              "  </thead>\n",
              "  <tbody>\n",
              "    <tr>\n",
              "      <th>0</th>\n",
              "      <td>2008-05-09</td>\n",
              "      <td>2008-05-29</td>\n",
              "      <td>199</td>\n",
              "      <td>384</td>\n",
              "      <td>18839</td>\n",
              "      <td>200805093CS607</td>\n",
              "      <td>348.58</td>\n",
              "      <td>758.00</td>\n",
              "      <td>6</td>\n",
              "      <td>0.00</td>\n",
              "      <td>4,548.00</td>\n",
              "      <td>Adventure Works Laptop15.4W M1548 Red</td>\n",
              "      <td>Adventure Works</td>\n",
              "      <td>Adventure Works</td>\n",
              "      <td>Regular</td>\n",
              "      <td>Red</td>\n",
              "      <td>2,091.48</td>\n",
              "      <td>2,456.52</td>\n",
              "      <td>20 days</td>\n",
              "    </tr>\n",
              "  </tbody>\n",
              "</table>\n",
              "</div>"
            ],
            "text/plain": [
              "  Data Venda Data Envio  ...                Lucro  Tempo Envio\n",
              "0 2008-05-09 2008-05-29  ...             2,456.52      20 days\n",
              "\n",
              "[1 rows x 19 columns]"
            ]
          },
          "metadata": {},
          "execution_count": 205
        }
      ]
    },
    {
      "cell_type": "code",
      "metadata": {
        "colab": {
          "base_uri": "https://localhost:8080/"
        },
        "id": "Yx0_9X-D0UDz",
        "outputId": "6da61714-7c75-4c98-bbd1-af730de11be9"
      },
      "source": [
        "#No entanto, o tempo de envio está em um formato que não admite operações matemáticas sem que seja convertido para o formato inteiro a  cada operação, sendo necessário ser transformado para inteiro para facilitar os cálculos:\n",
        "df['Tempo Envio'].dtypes"
      ],
      "execution_count": 206,
      "outputs": [
        {
          "output_type": "execute_result",
          "data": {
            "text/plain": [
              "dtype('<m8[ns]')"
            ]
          },
          "metadata": {},
          "execution_count": 206
        }
      ]
    },
    {
      "cell_type": "code",
      "metadata": {
        "colab": {
          "base_uri": "https://localhost:8080/",
          "height": 168
        },
        "id": "Il1dp1tuzwkp",
        "outputId": "cb6a9c33-0a2b-4971-a2c5-f9edbc3bcf2f"
      },
      "source": [
        "#Para fazer a transformação, extraimos apenas os dias do tempo de envio:\n",
        "df['Tempo Envio'] = (df['Data Envio'] - df['Data Venda']).dt.days\n",
        "df.head(1)"
      ],
      "execution_count": 207,
      "outputs": [
        {
          "output_type": "execute_result",
          "data": {
            "text/html": [
              "<div>\n",
              "<style scoped>\n",
              "    .dataframe tbody tr th:only-of-type {\n",
              "        vertical-align: middle;\n",
              "    }\n",
              "\n",
              "    .dataframe tbody tr th {\n",
              "        vertical-align: top;\n",
              "    }\n",
              "\n",
              "    .dataframe thead th {\n",
              "        text-align: right;\n",
              "    }\n",
              "</style>\n",
              "<table border=\"1\" class=\"dataframe\">\n",
              "  <thead>\n",
              "    <tr style=\"text-align: right;\">\n",
              "      <th></th>\n",
              "      <th>Data Venda</th>\n",
              "      <th>Data Envio</th>\n",
              "      <th>ID Loja</th>\n",
              "      <th>ID Produto</th>\n",
              "      <th>ID Cliente</th>\n",
              "      <th>No. Venda</th>\n",
              "      <th>Custo Unitário</th>\n",
              "      <th>Preço Unitário</th>\n",
              "      <th>Quantidade</th>\n",
              "      <th>Valor Desconto</th>\n",
              "      <th>Valor Venda</th>\n",
              "      <th>Produto</th>\n",
              "      <th>Fabricante</th>\n",
              "      <th>Marca</th>\n",
              "      <th>Classe</th>\n",
              "      <th>Cor</th>\n",
              "      <th>Custo</th>\n",
              "      <th>Lucro</th>\n",
              "      <th>Tempo Envio</th>\n",
              "    </tr>\n",
              "  </thead>\n",
              "  <tbody>\n",
              "    <tr>\n",
              "      <th>0</th>\n",
              "      <td>2008-05-09</td>\n",
              "      <td>2008-05-29</td>\n",
              "      <td>199</td>\n",
              "      <td>384</td>\n",
              "      <td>18839</td>\n",
              "      <td>200805093CS607</td>\n",
              "      <td>348.58</td>\n",
              "      <td>758.00</td>\n",
              "      <td>6</td>\n",
              "      <td>0.00</td>\n",
              "      <td>4,548.00</td>\n",
              "      <td>Adventure Works Laptop15.4W M1548 Red</td>\n",
              "      <td>Adventure Works</td>\n",
              "      <td>Adventure Works</td>\n",
              "      <td>Regular</td>\n",
              "      <td>Red</td>\n",
              "      <td>2,091.48</td>\n",
              "      <td>2,456.52</td>\n",
              "      <td>20</td>\n",
              "    </tr>\n",
              "  </tbody>\n",
              "</table>\n",
              "</div>"
            ],
            "text/plain": [
              "  Data Venda Data Envio  ...                Lucro  Tempo Envio\n",
              "0 2008-05-09 2008-05-29  ...             2,456.52           20\n",
              "\n",
              "[1 rows x 19 columns]"
            ]
          },
          "metadata": {},
          "execution_count": 207
        }
      ]
    },
    {
      "cell_type": "code",
      "metadata": {
        "colab": {
          "base_uri": "https://localhost:8080/"
        },
        "id": "Avn_6F5M1PlJ",
        "outputId": "0cd57520-b0e9-4b23-b479-d7dce6741e4e"
      },
      "source": [
        "#Agora a coluna Tempo Envio contém dados do tipo inteiro:\n",
        "df['Tempo Envio'].dtypes"
      ],
      "execution_count": 208,
      "outputs": [
        {
          "output_type": "execute_result",
          "data": {
            "text/plain": [
              "dtype('int64')"
            ]
          },
          "metadata": {},
          "execution_count": 208
        }
      ]
    },
    {
      "cell_type": "code",
      "metadata": {
        "colab": {
          "base_uri": "https://localhost:8080/"
        },
        "id": "f2tSVey83PNU",
        "outputId": "5ecf4e7b-c716-49c2-bd2a-fcbc734b4b6b"
      },
      "source": [
        "#Média do tempo de envio para cada marca:\n",
        "df.groupby(df['Marca'])['Tempo Envio'].mean()"
      ],
      "execution_count": 209,
      "outputs": [
        {
          "output_type": "execute_result",
          "data": {
            "text/plain": [
              "Marca\n",
              "Adventure Works                   8.66\n",
              "Contoso                           8.47\n",
              "Fabrikam                          8.51\n",
              "Name: Tempo Envio, dtype: float64"
            ]
          },
          "metadata": {},
          "execution_count": 209
        }
      ]
    },
    {
      "cell_type": "code",
      "metadata": {
        "colab": {
          "base_uri": "https://localhost:8080/"
        },
        "id": "p16Lhh8K3v73",
        "outputId": "67ba5ada-a285-4ad6-a12c-5936739fe478"
      },
      "source": [
        "#Verificação de valores nulos no dataframe:\n",
        "df.isnull().sum()"
      ],
      "execution_count": 210,
      "outputs": [
        {
          "output_type": "execute_result",
          "data": {
            "text/plain": [
              "Data Venda        0\n",
              "Data Envio        0\n",
              "ID Loja           0\n",
              "ID Produto        0\n",
              "ID Cliente        0\n",
              "No. Venda         0\n",
              "Custo Unitário    0\n",
              "Preço Unitário    0\n",
              "Quantidade        0\n",
              "Valor Desconto    0\n",
              "Valor Venda       0\n",
              "Produto           0\n",
              "Fabricante        0\n",
              "Marca             0\n",
              "Classe            0\n",
              "Cor               0\n",
              "Custo             0\n",
              "Lucro             0\n",
              "Tempo Envio       0\n",
              "dtype: int64"
            ]
          },
          "metadata": {},
          "execution_count": 210
        }
      ]
    },
    {
      "cell_type": "code",
      "metadata": {
        "colab": {
          "base_uri": "https://localhost:8080/"
        },
        "id": "rVps2Jma339C",
        "outputId": "c6076f6b-6c5d-4ec9-a926-d4f10fecf26e"
      },
      "source": [
        "#Agrupamento do lucro por ano da venda e marca:\n",
        "pd.options.display.float_format = '{:20,.2f}'.format #setar a exibição apropriada dos dados em ponto flutuante\n",
        "df.groupby([df['Data Venda'].dt.year, df['Marca']])['Lucro'].sum()"
      ],
      "execution_count": 211,
      "outputs": [
        {
          "output_type": "execute_result",
          "data": {
            "text/plain": [
              "Data Venda  Marca          \n",
              "2008        Adventure Works             306,641.16\n",
              "            Contoso                      56,416.00\n",
              "            Fabrikam                  1,557,020.55\n",
              "2009        Adventure Works             405,395.08\n",
              "            Contoso                     138,258.95\n",
              "            Fabrikam                  1,034,091.35\n",
              "Name: Lucro, dtype: float64"
            ]
          },
          "metadata": {},
          "execution_count": 211
        }
      ]
    },
    {
      "cell_type": "code",
      "metadata": {
        "colab": {
          "base_uri": "https://localhost:8080/",
          "height": 235
        },
        "id": "BqHlZyjb509j",
        "outputId": "53bde209-7c57-48f2-a5a5-ccfe674c9196"
      },
      "source": [
        "#Transformando os valores do agrupamento obtido acima para o formato de dataframe\n",
        "#Usando o método reset_index()\n",
        "lucro_ano = df.groupby([df['Data Venda'].dt.year, df['Marca']])['Lucro'].sum().reset_index()\n",
        "lucro_ano"
      ],
      "execution_count": 212,
      "outputs": [
        {
          "output_type": "execute_result",
          "data": {
            "text/html": [
              "<div>\n",
              "<style scoped>\n",
              "    .dataframe tbody tr th:only-of-type {\n",
              "        vertical-align: middle;\n",
              "    }\n",
              "\n",
              "    .dataframe tbody tr th {\n",
              "        vertical-align: top;\n",
              "    }\n",
              "\n",
              "    .dataframe thead th {\n",
              "        text-align: right;\n",
              "    }\n",
              "</style>\n",
              "<table border=\"1\" class=\"dataframe\">\n",
              "  <thead>\n",
              "    <tr style=\"text-align: right;\">\n",
              "      <th></th>\n",
              "      <th>Data Venda</th>\n",
              "      <th>Marca</th>\n",
              "      <th>Lucro</th>\n",
              "    </tr>\n",
              "  </thead>\n",
              "  <tbody>\n",
              "    <tr>\n",
              "      <th>0</th>\n",
              "      <td>2008</td>\n",
              "      <td>Adventure Works</td>\n",
              "      <td>306,641.16</td>\n",
              "    </tr>\n",
              "    <tr>\n",
              "      <th>1</th>\n",
              "      <td>2008</td>\n",
              "      <td>Contoso</td>\n",
              "      <td>56,416.00</td>\n",
              "    </tr>\n",
              "    <tr>\n",
              "      <th>2</th>\n",
              "      <td>2008</td>\n",
              "      <td>Fabrikam</td>\n",
              "      <td>1,557,020.55</td>\n",
              "    </tr>\n",
              "    <tr>\n",
              "      <th>3</th>\n",
              "      <td>2009</td>\n",
              "      <td>Adventure Works</td>\n",
              "      <td>405,395.08</td>\n",
              "    </tr>\n",
              "    <tr>\n",
              "      <th>4</th>\n",
              "      <td>2009</td>\n",
              "      <td>Contoso</td>\n",
              "      <td>138,258.95</td>\n",
              "    </tr>\n",
              "    <tr>\n",
              "      <th>5</th>\n",
              "      <td>2009</td>\n",
              "      <td>Fabrikam</td>\n",
              "      <td>1,034,091.35</td>\n",
              "    </tr>\n",
              "  </tbody>\n",
              "</table>\n",
              "</div>"
            ],
            "text/plain": [
              "   Data Venda            Marca                Lucro\n",
              "0        2008  Adventure Works           306,641.16\n",
              "1        2008          Contoso            56,416.00\n",
              "2        2008         Fabrikam         1,557,020.55\n",
              "3        2009  Adventure Works           405,395.08\n",
              "4        2009          Contoso           138,258.95\n",
              "5        2009         Fabrikam         1,034,091.35"
            ]
          },
          "metadata": {},
          "execution_count": 212
        }
      ]
    },
    {
      "cell_type": "code",
      "metadata": {
        "colab": {
          "base_uri": "https://localhost:8080/",
          "height": 328
        },
        "id": "2XiFXFSo6W5x",
        "outputId": "86396902-86b7-4ea0-9b23-f5bb8554a7fd"
      },
      "source": [
        "#Agrupamento em ordem crescente do número total de produtos vendidos para cada produto:\n",
        "df.groupby(df['Produto'])['Quantidade'].sum().sort_values(ascending=False).reset_index()"
      ],
      "execution_count": 213,
      "outputs": [
        {
          "output_type": "execute_result",
          "data": {
            "text/html": [
              "<div>\n",
              "<style scoped>\n",
              "    .dataframe tbody tr th:only-of-type {\n",
              "        vertical-align: middle;\n",
              "    }\n",
              "\n",
              "    .dataframe tbody tr th {\n",
              "        vertical-align: top;\n",
              "    }\n",
              "\n",
              "    .dataframe thead th {\n",
              "        text-align: right;\n",
              "    }\n",
              "</style>\n",
              "<table border=\"1\" class=\"dataframe\">\n",
              "  <thead>\n",
              "    <tr style=\"text-align: right;\">\n",
              "      <th></th>\n",
              "      <th>Produto</th>\n",
              "      <th>Quantidade</th>\n",
              "    </tr>\n",
              "  </thead>\n",
              "  <tbody>\n",
              "    <tr>\n",
              "      <th>0</th>\n",
              "      <td>Headphone Adapter for Contoso Phone E130 Silver</td>\n",
              "      <td>25232</td>\n",
              "    </tr>\n",
              "    <tr>\n",
              "      <th>1</th>\n",
              "      <td>Headphone Adapter for Contoso Phone E130 White</td>\n",
              "      <td>25008</td>\n",
              "    </tr>\n",
              "    <tr>\n",
              "      <th>2</th>\n",
              "      <td>Adventure Works Laptop15.4W M1548 Black</td>\n",
              "      <td>1089</td>\n",
              "    </tr>\n",
              "    <tr>\n",
              "      <th>3</th>\n",
              "      <td>Fabrikam Trendsetter 2/3'' 17mm X100 Grey</td>\n",
              "      <td>1087</td>\n",
              "    </tr>\n",
              "    <tr>\n",
              "      <th>4</th>\n",
              "      <td>Adventure Works Laptop15.4W M1548 Red</td>\n",
              "      <td>1047</td>\n",
              "    </tr>\n",
              "    <tr>\n",
              "      <th>5</th>\n",
              "      <td>Fabrikam Trendsetter 2/3'' 17mm X100 Black</td>\n",
              "      <td>926</td>\n",
              "    </tr>\n",
              "    <tr>\n",
              "      <th>6</th>\n",
              "      <td>Fabrikam Trendsetter 1/3'' 8.5mm X200 Black</td>\n",
              "      <td>884</td>\n",
              "    </tr>\n",
              "    <tr>\n",
              "      <th>7</th>\n",
              "      <td>Fabrikam Trendsetter 1/3'' 8.5mm X200 Grey</td>\n",
              "      <td>845</td>\n",
              "    </tr>\n",
              "    <tr>\n",
              "      <th>8</th>\n",
              "      <td>Fabrikam Trendsetter 1/3'' 8.5mm X200 White</td>\n",
              "      <td>789</td>\n",
              "    </tr>\n",
              "  </tbody>\n",
              "</table>\n",
              "</div>"
            ],
            "text/plain": [
              "                                           Produto  Quantidade\n",
              "0  Headphone Adapter for Contoso Phone E130 Silver       25232\n",
              "1   Headphone Adapter for Contoso Phone E130 White       25008\n",
              "2          Adventure Works Laptop15.4W M1548 Black        1089\n",
              "3        Fabrikam Trendsetter 2/3'' 17mm X100 Grey        1087\n",
              "4            Adventure Works Laptop15.4W M1548 Red        1047\n",
              "5       Fabrikam Trendsetter 2/3'' 17mm X100 Black         926\n",
              "6      Fabrikam Trendsetter 1/3'' 8.5mm X200 Black         884\n",
              "7       Fabrikam Trendsetter 1/3'' 8.5mm X200 Grey         845\n",
              "8      Fabrikam Trendsetter 1/3'' 8.5mm X200 White         789"
            ]
          },
          "metadata": {},
          "execution_count": 213
        }
      ]
    },
    {
      "cell_type": "code",
      "metadata": {
        "colab": {
          "base_uri": "https://localhost:8080/",
          "height": 393
        },
        "id": "UPKtmr377JDk",
        "outputId": "f57f420b-525a-4af2-c561-c5d0998236bc"
      },
      "source": [
        "#Gráfico da relação Produto x Quantidade - quantidade de cada produto vendido - com a visualização do gráfico horizontal em ordem decrescente:\n",
        "df.groupby(df['Produto'])['Quantidade'].sum().sort_values(ascending=True).plot.barh(title='Vendas dos produtos', color='black');\n",
        "plt.xlabel('Vendas')\n",
        "plt.ylabel('Produtos')"
      ],
      "execution_count": 214,
      "outputs": [
        {
          "output_type": "execute_result",
          "data": {
            "text/plain": [
              "Text(0, 0.5, 'Produtos')"
            ]
          },
          "metadata": {},
          "execution_count": 214
        },
        {
          "output_type": "display_data",
          "data": {
            "image/png": "[encoded data removed]",
            "text/plain": [
              "<Figure size 576x396 with 1 Axes>"
            ]
          },
          "metadata": {}
        }
      ]
    },
    {
      "cell_type": "code",
      "metadata": {
        "colab": {
          "base_uri": "https://localhost:8080/",
          "height": 388
        },
        "id": "h5DwPLGV8z8l",
        "outputId": "bb1bc131-914f-46b2-d8e0-493e043d4925"
      },
      "source": [
        "#Gráfico da relação Lucro x Ano - valor do lucro para cada ano - com a visualização do gráfico vertical em ordem decrescente:\n",
        "df.groupby(df['Data Venda'].dt.year)['Lucro'].sum().sort_values(ascending=False).plot.bar(title='Lucro no ano', color='black')\n",
        "plt.xlabel('Lucro')\n",
        "plt.ylabel('Ano');"
      ],
      "execution_count": 215,
      "outputs": [
        {
          "output_type": "display_data",
          "data": {
            "image/png": "[encoded data removed]",
            "text/plain": [
              "<Figure size 576x396 with 1 Axes>"
            ]
          },
          "metadata": {}
        }
      ]
    },
    {
      "cell_type": "code",
      "metadata": {
        "colab": {
          "base_uri": "https://localhost:8080/"
        },
        "id": "59Lj7eYh-XBU",
        "outputId": "6a30e449-76e8-4df8-945d-38f7c0b9425f"
      },
      "source": [
        "#Agrupamento dos valores analisados acima:\n",
        "df.groupby(df['Data Venda'].dt.year)['Lucro'].sum().sort_values(ascending=False)\n"
      ],
      "execution_count": 216,
      "outputs": [
        {
          "output_type": "execute_result",
          "data": {
            "text/plain": [
              "Data Venda\n",
              "2008           1,920,077.71\n",
              "2009           1,577,745.38\n",
              "Name: Lucro, dtype: float64"
            ]
          },
          "metadata": {},
          "execution_count": 216
        }
      ]
    },
    {
      "cell_type": "code",
      "metadata": {
        "colab": {
          "base_uri": "https://localhost:8080/",
          "height": 742
        },
        "id": "jTRgf-YO91Zw",
        "outputId": "b9dffd03-de5c-497a-d545-094550f8f5ee"
      },
      "source": [
        "#Vendas do ano 2009:\n",
        "df_2009 = df[df['Data Venda'].dt.year == 2009]\n",
        "df_2009.sample(8)"
      ],
      "execution_count": 217,
      "outputs": [
        {
          "output_type": "execute_result",
          "data": {
            "text/html": [
              "<div>\n",
              "<style scoped>\n",
              "    .dataframe tbody tr th:only-of-type {\n",
              "        vertical-align: middle;\n",
              "    }\n",
              "\n",
              "    .dataframe tbody tr th {\n",
              "        vertical-align: top;\n",
              "    }\n",
              "\n",
              "    .dataframe thead th {\n",
              "        text-align: right;\n",
              "    }\n",
              "</style>\n",
              "<table border=\"1\" class=\"dataframe\">\n",
              "  <thead>\n",
              "    <tr style=\"text-align: right;\">\n",
              "      <th></th>\n",
              "      <th>Data Venda</th>\n",
              "      <th>Data Envio</th>\n",
              "      <th>ID Loja</th>\n",
              "      <th>ID Produto</th>\n",
              "      <th>ID Cliente</th>\n",
              "      <th>No. Venda</th>\n",
              "      <th>Custo Unitário</th>\n",
              "      <th>Preço Unitário</th>\n",
              "      <th>Quantidade</th>\n",
              "      <th>Valor Desconto</th>\n",
              "      <th>Valor Venda</th>\n",
              "      <th>Produto</th>\n",
              "      <th>Fabricante</th>\n",
              "      <th>Marca</th>\n",
              "      <th>Classe</th>\n",
              "      <th>Cor</th>\n",
              "      <th>Custo</th>\n",
              "      <th>Lucro</th>\n",
              "      <th>Tempo Envio</th>\n",
              "    </tr>\n",
              "  </thead>\n",
              "  <tbody>\n",
              "    <tr>\n",
              "      <th>15</th>\n",
              "      <td>2009-07-08</td>\n",
              "      <td>2009-07-12</td>\n",
              "      <td>306</td>\n",
              "      <td>384</td>\n",
              "      <td>19070</td>\n",
              "      <td>200907083CS757</td>\n",
              "      <td>348.58</td>\n",
              "      <td>758.00</td>\n",
              "      <td>6</td>\n",
              "      <td>0.00</td>\n",
              "      <td>4,548.00</td>\n",
              "      <td>Adventure Works Laptop15.4W M1548 Red</td>\n",
              "      <td>Adventure Works</td>\n",
              "      <td>Adventure Works</td>\n",
              "      <td>Regular</td>\n",
              "      <td>Red</td>\n",
              "      <td>2,091.48</td>\n",
              "      <td>2,456.52</td>\n",
              "      <td>4</td>\n",
              "    </tr>\n",
              "    <tr>\n",
              "      <th>598</th>\n",
              "      <td>2009-06-26</td>\n",
              "      <td>2009-07-07</td>\n",
              "      <td>307</td>\n",
              "      <td>1155</td>\n",
              "      <td>19127</td>\n",
              "      <td>200906264CS717</td>\n",
              "      <td>324.69</td>\n",
              "      <td>980.00</td>\n",
              "      <td>8</td>\n",
              "      <td>784.00</td>\n",
              "      <td>7,056.00</td>\n",
              "      <td>Fabrikam Trendsetter 2/3'' 17mm X100 Black</td>\n",
              "      <td>Fabrikam, Inc.</td>\n",
              "      <td>Fabrikam</td>\n",
              "      <td>Regular</td>\n",
              "      <td>Black</td>\n",
              "      <td>2,597.52</td>\n",
              "      <td>4,458.48</td>\n",
              "      <td>11</td>\n",
              "    </tr>\n",
              "    <tr>\n",
              "      <th>505</th>\n",
              "      <td>2009-01-04</td>\n",
              "      <td>2009-01-10</td>\n",
              "      <td>307</td>\n",
              "      <td>366</td>\n",
              "      <td>19112</td>\n",
              "      <td>200901043CS679</td>\n",
              "      <td>348.58</td>\n",
              "      <td>758.00</td>\n",
              "      <td>7</td>\n",
              "      <td>795.90</td>\n",
              "      <td>4,510.10</td>\n",
              "      <td>Adventure Works Laptop15.4W M1548 Black</td>\n",
              "      <td>Adventure Works</td>\n",
              "      <td>Adventure Works</td>\n",
              "      <td>Regular</td>\n",
              "      <td>Black</td>\n",
              "      <td>2,440.06</td>\n",
              "      <td>2,070.04</td>\n",
              "      <td>6</td>\n",
              "    </tr>\n",
              "    <tr>\n",
              "      <th>114</th>\n",
              "      <td>2009-05-02</td>\n",
              "      <td>2009-05-14</td>\n",
              "      <td>199</td>\n",
              "      <td>1226</td>\n",
              "      <td>18938</td>\n",
              "      <td>200905024CS847</td>\n",
              "      <td>330.99</td>\n",
              "      <td>999.00</td>\n",
              "      <td>6</td>\n",
              "      <td>0.00</td>\n",
              "      <td>5,994.00</td>\n",
              "      <td>Fabrikam Trendsetter 1/3'' 8.5mm X200 Black</td>\n",
              "      <td>Fabrikam, Inc.</td>\n",
              "      <td>Fabrikam</td>\n",
              "      <td>Regular</td>\n",
              "      <td>Black</td>\n",
              "      <td>1,985.94</td>\n",
              "      <td>4,008.06</td>\n",
              "      <td>12</td>\n",
              "    </tr>\n",
              "    <tr>\n",
              "      <th>202</th>\n",
              "      <td>2009-06-04</td>\n",
              "      <td>2009-06-16</td>\n",
              "      <td>306</td>\n",
              "      <td>1226</td>\n",
              "      <td>19068</td>\n",
              "      <td>200906044CS748</td>\n",
              "      <td>330.99</td>\n",
              "      <td>999.00</td>\n",
              "      <td>12</td>\n",
              "      <td>0.00</td>\n",
              "      <td>11,988.00</td>\n",
              "      <td>Fabrikam Trendsetter 1/3'' 8.5mm X200 Black</td>\n",
              "      <td>Fabrikam, Inc.</td>\n",
              "      <td>Fabrikam</td>\n",
              "      <td>Regular</td>\n",
              "      <td>Black</td>\n",
              "      <td>3,971.88</td>\n",
              "      <td>8,016.12</td>\n",
              "      <td>12</td>\n",
              "    </tr>\n",
              "    <tr>\n",
              "      <th>203</th>\n",
              "      <td>2009-07-05</td>\n",
              "      <td>2009-07-09</td>\n",
              "      <td>306</td>\n",
              "      <td>366</td>\n",
              "      <td>19070</td>\n",
              "      <td>200907053CS757</td>\n",
              "      <td>348.58</td>\n",
              "      <td>758.00</td>\n",
              "      <td>12</td>\n",
              "      <td>0.00</td>\n",
              "      <td>9,096.00</td>\n",
              "      <td>Adventure Works Laptop15.4W M1548 Black</td>\n",
              "      <td>Adventure Works</td>\n",
              "      <td>Adventure Works</td>\n",
              "      <td>Regular</td>\n",
              "      <td>Black</td>\n",
              "      <td>4,182.96</td>\n",
              "      <td>4,913.04</td>\n",
              "      <td>4</td>\n",
              "    </tr>\n",
              "    <tr>\n",
              "      <th>241</th>\n",
              "      <td>2009-07-07</td>\n",
              "      <td>2009-07-19</td>\n",
              "      <td>307</td>\n",
              "      <td>1203</td>\n",
              "      <td>19128</td>\n",
              "      <td>200907074CS718</td>\n",
              "      <td>324.69</td>\n",
              "      <td>980.00</td>\n",
              "      <td>16</td>\n",
              "      <td>0.00</td>\n",
              "      <td>15,680.00</td>\n",
              "      <td>Fabrikam Trendsetter 2/3'' 17mm X100 Grey</td>\n",
              "      <td>Fabrikam, Inc.</td>\n",
              "      <td>Fabrikam</td>\n",
              "      <td>Regular</td>\n",
              "      <td>Grey</td>\n",
              "      <td>5,195.04</td>\n",
              "      <td>10,484.96</td>\n",
              "      <td>12</td>\n",
              "    </tr>\n",
              "    <tr>\n",
              "      <th>666</th>\n",
              "      <td>2009-03-02</td>\n",
              "      <td>2009-03-15</td>\n",
              "      <td>199</td>\n",
              "      <td>1203</td>\n",
              "      <td>18919</td>\n",
              "      <td>200903024CS827</td>\n",
              "      <td>324.69</td>\n",
              "      <td>980.00</td>\n",
              "      <td>5</td>\n",
              "      <td>245.00</td>\n",
              "      <td>4,655.00</td>\n",
              "      <td>Fabrikam Trendsetter 2/3'' 17mm X100 Grey</td>\n",
              "      <td>Fabrikam, Inc.</td>\n",
              "      <td>Fabrikam</td>\n",
              "      <td>Regular</td>\n",
              "      <td>Grey</td>\n",
              "      <td>1,623.45</td>\n",
              "      <td>3,031.55</td>\n",
              "      <td>13</td>\n",
              "    </tr>\n",
              "  </tbody>\n",
              "</table>\n",
              "</div>"
            ],
            "text/plain": [
              "    Data Venda Data Envio  ...                Lucro  Tempo Envio\n",
              "15  2009-07-08 2009-07-12  ...             2,456.52            4\n",
              "598 2009-06-26 2009-07-07  ...             4,458.48           11\n",
              "505 2009-01-04 2009-01-10  ...             2,070.04            6\n",
              "114 2009-05-02 2009-05-14  ...             4,008.06           12\n",
              "202 2009-06-04 2009-06-16  ...             8,016.12           12\n",
              "203 2009-07-05 2009-07-09  ...             4,913.04            4\n",
              "241 2009-07-07 2009-07-19  ...            10,484.96           12\n",
              "666 2009-03-02 2009-03-15  ...             3,031.55           13\n",
              "\n",
              "[8 rows x 19 columns]"
            ]
          },
          "metadata": {},
          "execution_count": 217
        }
      ]
    },
    {
      "cell_type": "code",
      "metadata": {
        "colab": {
          "base_uri": "https://localhost:8080/",
          "height": 376
        },
        "id": "xfgjPt3t-99j",
        "outputId": "1dc3f37f-95d9-40ae-d00d-ea3403d7b058"
      },
      "source": [
        "#Gráfico de linhas relacionando o lucro de cada mês do ano 2009:\n",
        "df_2009.groupby(df_2009['Data Venda'].dt.month)['Lucro'].sum().plot(title='Lucros de cada mês de 2009', color='black')\n",
        "plt.xlabel('Meses')\n",
        "plt.ylabel('Lucro');"
      ],
      "execution_count": 218,
      "outputs": [
        {
          "output_type": "display_data",
          "data": {
            "image/png": "[encoded data removed]",
            "text/plain": [
              "<Figure size 576x396 with 1 Axes>"
            ]
          },
          "metadata": {}
        }
      ]
    },
    {
      "cell_type": "code",
      "metadata": {
        "colab": {
          "base_uri": "https://localhost:8080/",
          "height": 376
        },
        "id": "3dAtT3UCAWev",
        "outputId": "6f3514f8-e9a8-4652-de10-ca062214e96f"
      },
      "source": [
        "#Gráfico de barras com a relação Marca x Lucro para o ano de 2009:\n",
        "df_2009.groupby(df_2009['Marca'])['Lucro'].sum().sort_values(ascending=False).plot.bar(title='Lucros de cada marca para 2009', color='black')\n",
        "plt.xlabel('Marca')\n",
        "plt.ylabel('Lucro')\n",
        "plt.xticks(rotation='horizontal');"
      ],
      "execution_count": 219,
      "outputs": [
        {
          "output_type": "display_data",
          "data": {
            "image/png": "[encoded data removed]",
            "text/plain": [
              "<Figure size 576x396 with 1 Axes>"
            ]
          },
          "metadata": {}
        }
      ]
    },
    {
      "cell_type": "code",
      "metadata": {
        "colab": {
          "base_uri": "https://localhost:8080/",
          "height": 376
        },
        "id": "dxZYX4W6B5p5",
        "outputId": "29b2075f-f749-4f08-ad78-ab8a1fd93812"
      },
      "source": [
        "#Gráfico em barras da relação luro x classe em 2009:\n",
        "df_2009.groupby(df_2009['Classe'])['Lucro'].sum().sort_values(ascending=False).plot.bar(title='Lucro por classe em 2009', color='black')\n",
        "plt.ylabel('Lucro')\n",
        "plt.xticks(rotation='horizontal');"
      ],
      "execution_count": 220,
      "outputs": [
        {
          "output_type": "display_data",
          "data": {
            "image/png": "[encoded data removed]",
            "text/plain": [
              "<Figure size 576x396 with 1 Axes>"
            ]
          },
          "metadata": {}
        }
      ]
    },
    {
      "cell_type": "code",
      "metadata": {
        "colab": {
          "base_uri": "https://localhost:8080/",
          "height": 297
        },
        "id": "M6wjLdHnETGz",
        "outputId": "856c2c04-78e1-4354-b4f7-731fd37b8705"
      },
      "source": [
        "#Resumo das estatísticas do tempo de envio do dataframe:\n",
        "df['Tempo Envio'].describe().reset_index()\n",
        "#Total: 904 dias\n",
        "#Média: 8,54 dias\n",
        "#Desvio padrão: 3,06 dias\n",
        "#Valor mínimo: 4 dias\n",
        "#Primeiro quartil: 6 dias\n",
        "#Segundo quartil (Mediana): 9 dias\n",
        "#Terceiro quartil: 11 dias\n",
        "#Valor máximo: 20 dias"
      ],
      "execution_count": 221,
      "outputs": [
        {
          "output_type": "execute_result",
          "data": {
            "text/html": [
              "<div>\n",
              "<style scoped>\n",
              "    .dataframe tbody tr th:only-of-type {\n",
              "        vertical-align: middle;\n",
              "    }\n",
              "\n",
              "    .dataframe tbody tr th {\n",
              "        vertical-align: top;\n",
              "    }\n",
              "\n",
              "    .dataframe thead th {\n",
              "        text-align: right;\n",
              "    }\n",
              "</style>\n",
              "<table border=\"1\" class=\"dataframe\">\n",
              "  <thead>\n",
              "    <tr style=\"text-align: right;\">\n",
              "      <th></th>\n",
              "      <th>index</th>\n",
              "      <th>Tempo Envio</th>\n",
              "    </tr>\n",
              "  </thead>\n",
              "  <tbody>\n",
              "    <tr>\n",
              "      <th>0</th>\n",
              "      <td>count</td>\n",
              "      <td>904.00</td>\n",
              "    </tr>\n",
              "    <tr>\n",
              "      <th>1</th>\n",
              "      <td>mean</td>\n",
              "      <td>8.54</td>\n",
              "    </tr>\n",
              "    <tr>\n",
              "      <th>2</th>\n",
              "      <td>std</td>\n",
              "      <td>3.06</td>\n",
              "    </tr>\n",
              "    <tr>\n",
              "      <th>3</th>\n",
              "      <td>min</td>\n",
              "      <td>4.00</td>\n",
              "    </tr>\n",
              "    <tr>\n",
              "      <th>4</th>\n",
              "      <td>25%</td>\n",
              "      <td>6.00</td>\n",
              "    </tr>\n",
              "    <tr>\n",
              "      <th>5</th>\n",
              "      <td>50%</td>\n",
              "      <td>9.00</td>\n",
              "    </tr>\n",
              "    <tr>\n",
              "      <th>6</th>\n",
              "      <td>75%</td>\n",
              "      <td>11.00</td>\n",
              "    </tr>\n",
              "    <tr>\n",
              "      <th>7</th>\n",
              "      <td>max</td>\n",
              "      <td>20.00</td>\n",
              "    </tr>\n",
              "  </tbody>\n",
              "</table>\n",
              "</div>"
            ],
            "text/plain": [
              "   index          Tempo Envio\n",
              "0  count               904.00\n",
              "1   mean                 8.54\n",
              "2    std                 3.06\n",
              "3    min                 4.00\n",
              "4    25%                 6.00\n",
              "5    50%                 9.00\n",
              "6    75%                11.00\n",
              "7    max                20.00"
            ]
          },
          "metadata": {},
          "execution_count": 221
        }
      ]
    },
    {
      "cell_type": "code",
      "metadata": {
        "colab": {
          "base_uri": "https://localhost:8080/",
          "height": 347
        },
        "id": "EFlQUU1eEYqc",
        "outputId": "4e20c3c4-f98a-4428-bd96-ad51378229da"
      },
      "source": [
        "#Boxplot do tempo de envio:\n",
        "plt.boxplot(df['Tempo Envio']);\n",
        "#Podemos ver que o valor 20 é um outlier"
      ],
      "execution_count": 222,
      "outputs": [
        {
          "output_type": "display_data",
          "data": {
            "image/png": "[encoded data removed]",
            "text/plain": [
              "<Figure size 576x396 with 1 Axes>"
            ]
          },
          "metadata": {}
        }
      ]
    },
    {
      "cell_type": "code",
      "metadata": {
        "colab": {
          "base_uri": "https://localhost:8080/",
          "height": 347
        },
        "id": "DG7lwvsNGEd5",
        "outputId": "67b0bd85-40e4-44b9-9d3b-e8920361c09b"
      },
      "source": [
        "#Histograma do tempo de envio:\n",
        "plt.hist(df['Tempo Envio'], color='black');"
      ],
      "execution_count": 223,
      "outputs": [
        {
          "output_type": "display_data",
          "data": {
            "image/png": "[encoded data removed]",
            "text/plain": [
              "<Figure size 576x396 with 1 Axes>"
            ]
          },
          "metadata": {}
        }
      ]
    },
    {
      "cell_type": "code",
      "metadata": {
        "colab": {
          "base_uri": "https://localhost:8080/"
        },
        "id": "NqY70PEsLu2n",
        "outputId": "a6d931be-0fbe-4d63-bf0b-e2807e4807c7"
      },
      "source": [
        "#Menor tempo de envio:\n",
        "df['Tempo Envio'].min()"
      ],
      "execution_count": 224,
      "outputs": [
        {
          "output_type": "execute_result",
          "data": {
            "text/plain": [
              "4"
            ]
          },
          "metadata": {},
          "execution_count": 224
        }
      ]
    },
    {
      "cell_type": "code",
      "metadata": {
        "colab": {
          "base_uri": "https://localhost:8080/",
          "height": 168
        },
        "id": "W5fkvRlSL2jk",
        "outputId": "937adb08-3304-4e6b-c2b0-3b2930f5b71a"
      },
      "source": [
        "#Identificação do outlier no dataframe:\n",
        "df[df['Tempo Envio'] == 20]"
      ],
      "execution_count": 225,
      "outputs": [
        {
          "output_type": "execute_result",
          "data": {
            "text/html": [
              "<div>\n",
              "<style scoped>\n",
              "    .dataframe tbody tr th:only-of-type {\n",
              "        vertical-align: middle;\n",
              "    }\n",
              "\n",
              "    .dataframe tbody tr th {\n",
              "        vertical-align: top;\n",
              "    }\n",
              "\n",
              "    .dataframe thead th {\n",
              "        text-align: right;\n",
              "    }\n",
              "</style>\n",
              "<table border=\"1\" class=\"dataframe\">\n",
              "  <thead>\n",
              "    <tr style=\"text-align: right;\">\n",
              "      <th></th>\n",
              "      <th>Data Venda</th>\n",
              "      <th>Data Envio</th>\n",
              "      <th>ID Loja</th>\n",
              "      <th>ID Produto</th>\n",
              "      <th>ID Cliente</th>\n",
              "      <th>No. Venda</th>\n",
              "      <th>Custo Unitário</th>\n",
              "      <th>Preço Unitário</th>\n",
              "      <th>Quantidade</th>\n",
              "      <th>Valor Desconto</th>\n",
              "      <th>Valor Venda</th>\n",
              "      <th>Produto</th>\n",
              "      <th>Fabricante</th>\n",
              "      <th>Marca</th>\n",
              "      <th>Classe</th>\n",
              "      <th>Cor</th>\n",
              "      <th>Custo</th>\n",
              "      <th>Lucro</th>\n",
              "      <th>Tempo Envio</th>\n",
              "    </tr>\n",
              "  </thead>\n",
              "  <tbody>\n",
              "    <tr>\n",
              "      <th>0</th>\n",
              "      <td>2008-05-09</td>\n",
              "      <td>2008-05-29</td>\n",
              "      <td>199</td>\n",
              "      <td>384</td>\n",
              "      <td>18839</td>\n",
              "      <td>200805093CS607</td>\n",
              "      <td>348.58</td>\n",
              "      <td>758.00</td>\n",
              "      <td>6</td>\n",
              "      <td>0.00</td>\n",
              "      <td>4,548.00</td>\n",
              "      <td>Adventure Works Laptop15.4W M1548 Red</td>\n",
              "      <td>Adventure Works</td>\n",
              "      <td>Adventure Works</td>\n",
              "      <td>Regular</td>\n",
              "      <td>Red</td>\n",
              "      <td>2,091.48</td>\n",
              "      <td>2,456.52</td>\n",
              "      <td>20</td>\n",
              "    </tr>\n",
              "  </tbody>\n",
              "</table>\n",
              "</div>"
            ],
            "text/plain": [
              "  Data Venda Data Envio  ...                Lucro  Tempo Envio\n",
              "0 2008-05-09 2008-05-29  ...             2,456.52           20\n",
              "\n",
              "[1 rows x 19 columns]"
            ]
          },
          "metadata": {},
          "execution_count": 225
        }
      ]
    },
    {
      "cell_type": "code",
      "metadata": {
        "id": "Z3oit2H7MaWu"
      },
      "source": [
        "#Salvando o dataframe para.csv:\n",
        "df.to_csv('novo_csv.csv', index=False)"
      ],
      "execution_count": 226,
      "outputs": []
    },
    {
      "cell_type": "markdown",
      "metadata": {
        "id": "4iveL0cmpF9p"
      },
      "source": [
        "#**Algumas análises utilizando técnicas baseadas na disciplina de Análise Exploratória de Dados que estou cursando como optativa na minha universidade:**"
      ]
    },
    {
      "cell_type": "markdown",
      "metadata": {
        "id": "gpuPEILPp_Ev"
      },
      "source": [
        "##Comparação de homogeneidade dos dados usando o desvio padrão e o coeficiente de variação\n"
      ]
    },
    {
      "cell_type": "markdown",
      "metadata": {
        "id": "6kTCymKvqv2M"
      },
      "source": [
        "####Tendo como base os datasets das relações de vendas em determinadas cidades, buscamos definir qual delas tem a distribuição de vendas mais homogênea, ou seja, qual delas apresenta o menor coeficiente de variação"
      ]
    },
    {
      "cell_type": "code",
      "metadata": {
        "id": "e9ELEDKcqufW"
      },
      "source": [
        "#Para isso atribuímos cada dataset de cada estado a uma variável específica:\n",
        "#Para arquivos do Excel:\n",
        "df1 = pd.read_excel('/content/drive/MyDrive/datasets_projeto_DIO/Aracaju.xlsx')\n",
        "df2 = pd.read_excel('/content/drive/MyDrive/datasets_projeto_DIO/Fortaleza.xlsx')\n",
        "df3 = pd.read_excel('/content/drive/MyDrive/datasets_projeto_DIO/Natal.xlsx')\n",
        "df4 = pd.read_excel('/content/drive/MyDrive/datasets_projeto_DIO/Recife.xlsx')\n",
        "df5 = pd.read_excel('/content/drive/MyDrive/datasets_projeto_DIO/Salvador.xlsx')"
      ],
      "execution_count": 227,
      "outputs": []
    },
    {
      "cell_type": "code",
      "metadata": {
        "colab": {
          "base_uri": "https://localhost:8080/",
          "height": 80
        },
        "id": "ppgf5FuftXBV",
        "outputId": "ddd9da4b-7f5b-4f0a-e717-542bfcebab26"
      },
      "source": [
        "#A concatenação dos dataframes facilitam a análise dos dados:\n",
        "df = pd.concat([df1, df2, df3, df4, df5])\n",
        "df.head(1)"
      ],
      "execution_count": 228,
      "outputs": [
        {
          "output_type": "execute_result",
          "data": {
            "text/html": [
              "<div>\n",
              "<style scoped>\n",
              "    .dataframe tbody tr th:only-of-type {\n",
              "        vertical-align: middle;\n",
              "    }\n",
              "\n",
              "    .dataframe tbody tr th {\n",
              "        vertical-align: top;\n",
              "    }\n",
              "\n",
              "    .dataframe thead th {\n",
              "        text-align: right;\n",
              "    }\n",
              "</style>\n",
              "<table border=\"1\" class=\"dataframe\">\n",
              "  <thead>\n",
              "    <tr style=\"text-align: right;\">\n",
              "      <th></th>\n",
              "      <th>Cidade</th>\n",
              "      <th>Data</th>\n",
              "      <th>Vendas</th>\n",
              "      <th>LojaID</th>\n",
              "      <th>Qtde</th>\n",
              "    </tr>\n",
              "  </thead>\n",
              "  <tbody>\n",
              "    <tr>\n",
              "      <th>0</th>\n",
              "      <td>Aracaju</td>\n",
              "      <td>2018-01-01</td>\n",
              "      <td>142.00</td>\n",
              "      <td>1520</td>\n",
              "      <td>1</td>\n",
              "    </tr>\n",
              "  </tbody>\n",
              "</table>\n",
              "</div>"
            ],
            "text/plain": [
              "    Cidade       Data               Vendas  LojaID  Qtde\n",
              "0  Aracaju 2018-01-01               142.00    1520     1"
            ]
          },
          "metadata": {},
          "execution_count": 228
        }
      ]
    },
    {
      "cell_type": "code",
      "metadata": {
        "colab": {
          "base_uri": "https://localhost:8080/",
          "height": 204
        },
        "id": "5yZaDIf_qk1I",
        "outputId": "6bd11e57-050a-4d3b-cddc-98da74e933f8"
      },
      "source": [
        "#Agrupando os estados com base no desvio padrão:\n",
        "df_dp = df.groupby(df.Cidade)['Vendas'].std().reset_index()\n",
        "df_dp.rename(columns={'Vendas': 'Desvio padrão'}, inplace=True)\n",
        "df_dp"
      ],
      "execution_count": 229,
      "outputs": [
        {
          "output_type": "execute_result",
          "data": {
            "text/html": [
              "<div>\n",
              "<style scoped>\n",
              "    .dataframe tbody tr th:only-of-type {\n",
              "        vertical-align: middle;\n",
              "    }\n",
              "\n",
              "    .dataframe tbody tr th {\n",
              "        vertical-align: top;\n",
              "    }\n",
              "\n",
              "    .dataframe thead th {\n",
              "        text-align: right;\n",
              "    }\n",
              "</style>\n",
              "<table border=\"1\" class=\"dataframe\">\n",
              "  <thead>\n",
              "    <tr style=\"text-align: right;\">\n",
              "      <th></th>\n",
              "      <th>Cidade</th>\n",
              "      <th>Desvio padrão</th>\n",
              "    </tr>\n",
              "  </thead>\n",
              "  <tbody>\n",
              "    <tr>\n",
              "      <th>0</th>\n",
              "      <td>Aracaju</td>\n",
              "      <td>66.08</td>\n",
              "    </tr>\n",
              "    <tr>\n",
              "      <th>1</th>\n",
              "      <td>Fortaleza</td>\n",
              "      <td>64.50</td>\n",
              "    </tr>\n",
              "    <tr>\n",
              "      <th>2</th>\n",
              "      <td>Natal</td>\n",
              "      <td>265.19</td>\n",
              "    </tr>\n",
              "    <tr>\n",
              "      <th>3</th>\n",
              "      <td>Recife</td>\n",
              "      <td>67.98</td>\n",
              "    </tr>\n",
              "    <tr>\n",
              "      <th>4</th>\n",
              "      <td>Salvador</td>\n",
              "      <td>70.37</td>\n",
              "    </tr>\n",
              "  </tbody>\n",
              "</table>\n",
              "</div>"
            ],
            "text/plain": [
              "      Cidade        Desvio padrão\n",
              "0    Aracaju                66.08\n",
              "1  Fortaleza                64.50\n",
              "2      Natal               265.19\n",
              "3     Recife                67.98\n",
              "4   Salvador                70.37"
            ]
          },
          "metadata": {},
          "execution_count": 229
        }
      ]
    },
    {
      "cell_type": "code",
      "metadata": {
        "colab": {
          "base_uri": "https://localhost:8080/",
          "height": 80
        },
        "id": "luwVt6kjwGKH",
        "outputId": "ee626c07-e42f-4e58-a6ed-cddd173c93cc"
      },
      "source": [
        "#Retornando o maior e o menor desvio padrão de uma forma mais explícita:\n",
        "#Maior desvio padrão\n",
        "df_dp[df_dp['Desvio padrão'] == df_dp['Desvio padrão'].max()]"
      ],
      "execution_count": 230,
      "outputs": [
        {
          "output_type": "execute_result",
          "data": {
            "text/html": [
              "<div>\n",
              "<style scoped>\n",
              "    .dataframe tbody tr th:only-of-type {\n",
              "        vertical-align: middle;\n",
              "    }\n",
              "\n",
              "    .dataframe tbody tr th {\n",
              "        vertical-align: top;\n",
              "    }\n",
              "\n",
              "    .dataframe thead th {\n",
              "        text-align: right;\n",
              "    }\n",
              "</style>\n",
              "<table border=\"1\" class=\"dataframe\">\n",
              "  <thead>\n",
              "    <tr style=\"text-align: right;\">\n",
              "      <th></th>\n",
              "      <th>Cidade</th>\n",
              "      <th>Desvio padrão</th>\n",
              "    </tr>\n",
              "  </thead>\n",
              "  <tbody>\n",
              "    <tr>\n",
              "      <th>2</th>\n",
              "      <td>Natal</td>\n",
              "      <td>265.19</td>\n",
              "    </tr>\n",
              "  </tbody>\n",
              "</table>\n",
              "</div>"
            ],
            "text/plain": [
              "  Cidade        Desvio padrão\n",
              "2  Natal               265.19"
            ]
          },
          "metadata": {},
          "execution_count": 230
        }
      ]
    },
    {
      "cell_type": "code",
      "metadata": {
        "colab": {
          "base_uri": "https://localhost:8080/",
          "height": 80
        },
        "id": "kohF67z8wHj-",
        "outputId": "c6b1a928-6cd1-4492-852c-d5d3fbfd0f13"
      },
      "source": [
        "#Menor desvio padrão\n",
        "df_dp[df_dp['Desvio padrão'] == df_dp['Desvio padrão'].min()]"
      ],
      "execution_count": 237,
      "outputs": [
        {
          "output_type": "execute_result",
          "data": {
            "text/html": [
              "<div>\n",
              "<style scoped>\n",
              "    .dataframe tbody tr th:only-of-type {\n",
              "        vertical-align: middle;\n",
              "    }\n",
              "\n",
              "    .dataframe tbody tr th {\n",
              "        vertical-align: top;\n",
              "    }\n",
              "\n",
              "    .dataframe thead th {\n",
              "        text-align: right;\n",
              "    }\n",
              "</style>\n",
              "<table border=\"1\" class=\"dataframe\">\n",
              "  <thead>\n",
              "    <tr style=\"text-align: right;\">\n",
              "      <th></th>\n",
              "      <th>Cidade</th>\n",
              "      <th>Desvio padrão</th>\n",
              "    </tr>\n",
              "  </thead>\n",
              "  <tbody>\n",
              "    <tr>\n",
              "      <th>1</th>\n",
              "      <td>Fortaleza</td>\n",
              "      <td>64.50</td>\n",
              "    </tr>\n",
              "  </tbody>\n",
              "</table>\n",
              "</div>"
            ],
            "text/plain": [
              "      Cidade        Desvio padrão\n",
              "1  Fortaleza                64.50"
            ]
          },
          "metadata": {},
          "execution_count": 237
        }
      ]
    },
    {
      "cell_type": "markdown",
      "metadata": {
        "id": "-Cp6PWVKy2yO"
      },
      "source": [
        "Os resultados acima sugerem que Fortaleza possui a distribuição de vendas mais homogênea, com uma menor dispersão, ao passo que Natal possui a distribuição menos homogênea, com maior dispersão. No entanto, sendo o desvio padrão uma medida absoluta, não leva em consideração a proporção da dispersão com relação à média. Para resolver esse problema e levar em conta esse fator, é necessário fazer as comparações usando o coeficiente de variação:"
      ]
    },
    {
      "cell_type": "code",
      "metadata": {
        "colab": {
          "base_uri": "https://localhost:8080/",
          "height": 204
        },
        "id": "iBws-ZjXrmwp",
        "outputId": "73204c95-70bc-45f3-939b-87518098bfba"
      },
      "source": [
        "#Adicionando a média de vendas no agrupamento a fim de facilitar os cálculos:\n",
        "df_dp['Média'] = df.groupby(df.Cidade)['Vendas'].mean().reset_index()['Vendas']\n",
        "df_dp"
      ],
      "execution_count": 241,
      "outputs": [
        {
          "output_type": "execute_result",
          "data": {
            "text/html": [
              "<div>\n",
              "<style scoped>\n",
              "    .dataframe tbody tr th:only-of-type {\n",
              "        vertical-align: middle;\n",
              "    }\n",
              "\n",
              "    .dataframe tbody tr th {\n",
              "        vertical-align: top;\n",
              "    }\n",
              "\n",
              "    .dataframe thead th {\n",
              "        text-align: right;\n",
              "    }\n",
              "</style>\n",
              "<table border=\"1\" class=\"dataframe\">\n",
              "  <thead>\n",
              "    <tr style=\"text-align: right;\">\n",
              "      <th></th>\n",
              "      <th>Cidade</th>\n",
              "      <th>Desvio padrão</th>\n",
              "      <th>Média</th>\n",
              "    </tr>\n",
              "  </thead>\n",
              "  <tbody>\n",
              "    <tr>\n",
              "      <th>0</th>\n",
              "      <td>Aracaju</td>\n",
              "      <td>66.08</td>\n",
              "      <td>72.87</td>\n",
              "    </tr>\n",
              "    <tr>\n",
              "      <th>1</th>\n",
              "      <td>Fortaleza</td>\n",
              "      <td>64.50</td>\n",
              "      <td>71.27</td>\n",
              "    </tr>\n",
              "    <tr>\n",
              "      <th>2</th>\n",
              "      <td>Natal</td>\n",
              "      <td>265.19</td>\n",
              "      <td>246.62</td>\n",
              "    </tr>\n",
              "    <tr>\n",
              "      <th>3</th>\n",
              "      <td>Recife</td>\n",
              "      <td>67.98</td>\n",
              "      <td>78.30</td>\n",
              "    </tr>\n",
              "    <tr>\n",
              "      <th>4</th>\n",
              "      <td>Salvador</td>\n",
              "      <td>70.37</td>\n",
              "      <td>82.14</td>\n",
              "    </tr>\n",
              "  </tbody>\n",
              "</table>\n",
              "</div>"
            ],
            "text/plain": [
              "      Cidade        Desvio padrão                Média\n",
              "0    Aracaju                66.08                72.87\n",
              "1  Fortaleza                64.50                71.27\n",
              "2      Natal               265.19               246.62\n",
              "3     Recife                67.98                78.30\n",
              "4   Salvador                70.37                82.14"
            ]
          },
          "metadata": {},
          "execution_count": 241
        }
      ]
    },
    {
      "cell_type": "code",
      "metadata": {
        "colab": {
          "base_uri": "https://localhost:8080/",
          "height": 204
        },
        "id": "_OXzE_fVqoZy",
        "outputId": "0edcef5b-6529-422b-bcba-ac9e96fbe6b1"
      },
      "source": [
        "#Calculando o coeficiente de variação para cada cidade:\n",
        "df_dp['CV'] = df_dp['Desvio padrão']/df_dp['Média']\n",
        "df_dp"
      ],
      "execution_count": 246,
      "outputs": [
        {
          "output_type": "execute_result",
          "data": {
            "text/html": [
              "<div>\n",
              "<style scoped>\n",
              "    .dataframe tbody tr th:only-of-type {\n",
              "        vertical-align: middle;\n",
              "    }\n",
              "\n",
              "    .dataframe tbody tr th {\n",
              "        vertical-align: top;\n",
              "    }\n",
              "\n",
              "    .dataframe thead th {\n",
              "        text-align: right;\n",
              "    }\n",
              "</style>\n",
              "<table border=\"1\" class=\"dataframe\">\n",
              "  <thead>\n",
              "    <tr style=\"text-align: right;\">\n",
              "      <th></th>\n",
              "      <th>Cidade</th>\n",
              "      <th>Desvio padrão</th>\n",
              "      <th>Média</th>\n",
              "      <th>CV</th>\n",
              "    </tr>\n",
              "  </thead>\n",
              "  <tbody>\n",
              "    <tr>\n",
              "      <th>0</th>\n",
              "      <td>Aracaju</td>\n",
              "      <td>66.08</td>\n",
              "      <td>72.87</td>\n",
              "      <td>0.91</td>\n",
              "    </tr>\n",
              "    <tr>\n",
              "      <th>1</th>\n",
              "      <td>Fortaleza</td>\n",
              "      <td>64.50</td>\n",
              "      <td>71.27</td>\n",
              "      <td>0.90</td>\n",
              "    </tr>\n",
              "    <tr>\n",
              "      <th>2</th>\n",
              "      <td>Natal</td>\n",
              "      <td>265.19</td>\n",
              "      <td>246.62</td>\n",
              "      <td>1.08</td>\n",
              "    </tr>\n",
              "    <tr>\n",
              "      <th>3</th>\n",
              "      <td>Recife</td>\n",
              "      <td>67.98</td>\n",
              "      <td>78.30</td>\n",
              "      <td>0.87</td>\n",
              "    </tr>\n",
              "    <tr>\n",
              "      <th>4</th>\n",
              "      <td>Salvador</td>\n",
              "      <td>70.37</td>\n",
              "      <td>82.14</td>\n",
              "      <td>0.86</td>\n",
              "    </tr>\n",
              "  </tbody>\n",
              "</table>\n",
              "</div>"
            ],
            "text/plain": [
              "      Cidade        Desvio padrão                Média                   CV\n",
              "0    Aracaju                66.08                72.87                 0.91\n",
              "1  Fortaleza                64.50                71.27                 0.90\n",
              "2      Natal               265.19               246.62                 1.08\n",
              "3     Recife                67.98                78.30                 0.87\n",
              "4   Salvador                70.37                82.14                 0.86"
            ]
          },
          "metadata": {},
          "execution_count": 246
        }
      ]
    },
    {
      "cell_type": "markdown",
      "metadata": {
        "id": "hwqexjdA7E1F"
      },
      "source": [
        "Agora podemos, usando o Pandas, retornar a cidade com o maior coeficiente de variação de vendas e a cidade com o menor. Embora possamos conferir essas informações diretamente na tabela, para uma grande quantidade de dados é mais simples e rápido obter as informações diretamente usando os artifícios do Pandas:"
      ]
    },
    {
      "cell_type": "code",
      "metadata": {
        "colab": {
          "base_uri": "https://localhost:8080/",
          "height": 80
        },
        "id": "_nvvffha70Kq",
        "outputId": "423cdb9f-f990-4997-8c73-aabafcb40ba8"
      },
      "source": [
        "#Cidade com o menor CV:\n",
        "df_dp[df_dp['CV'] == df_dp['CV'].min()]"
      ],
      "execution_count": 248,
      "outputs": [
        {
          "output_type": "execute_result",
          "data": {
            "text/html": [
              "<div>\n",
              "<style scoped>\n",
              "    .dataframe tbody tr th:only-of-type {\n",
              "        vertical-align: middle;\n",
              "    }\n",
              "\n",
              "    .dataframe tbody tr th {\n",
              "        vertical-align: top;\n",
              "    }\n",
              "\n",
              "    .dataframe thead th {\n",
              "        text-align: right;\n",
              "    }\n",
              "</style>\n",
              "<table border=\"1\" class=\"dataframe\">\n",
              "  <thead>\n",
              "    <tr style=\"text-align: right;\">\n",
              "      <th></th>\n",
              "      <th>Cidade</th>\n",
              "      <th>Desvio padrão</th>\n",
              "      <th>Média</th>\n",
              "      <th>CV</th>\n",
              "    </tr>\n",
              "  </thead>\n",
              "  <tbody>\n",
              "    <tr>\n",
              "      <th>4</th>\n",
              "      <td>Salvador</td>\n",
              "      <td>70.37</td>\n",
              "      <td>82.14</td>\n",
              "      <td>0.86</td>\n",
              "    </tr>\n",
              "  </tbody>\n",
              "</table>\n",
              "</div>"
            ],
            "text/plain": [
              "     Cidade        Desvio padrão                Média                   CV\n",
              "4  Salvador                70.37                82.14                 0.86"
            ]
          },
          "metadata": {},
          "execution_count": 248
        }
      ]
    },
    {
      "cell_type": "code",
      "metadata": {
        "colab": {
          "base_uri": "https://localhost:8080/",
          "height": 80
        },
        "id": "Nn8DAJdw7x_p",
        "outputId": "530d812e-9dc7-4e0d-bb1c-3d094f35dd6d"
      },
      "source": [
        "#Cidade com o maior CV:\n",
        "df_dp[df_dp['CV'] == df_dp['CV'].max()]"
      ],
      "execution_count": 249,
      "outputs": [
        {
          "output_type": "execute_result",
          "data": {
            "text/html": [
              "<div>\n",
              "<style scoped>\n",
              "    .dataframe tbody tr th:only-of-type {\n",
              "        vertical-align: middle;\n",
              "    }\n",
              "\n",
              "    .dataframe tbody tr th {\n",
              "        vertical-align: top;\n",
              "    }\n",
              "\n",
              "    .dataframe thead th {\n",
              "        text-align: right;\n",
              "    }\n",
              "</style>\n",
              "<table border=\"1\" class=\"dataframe\">\n",
              "  <thead>\n",
              "    <tr style=\"text-align: right;\">\n",
              "      <th></th>\n",
              "      <th>Cidade</th>\n",
              "      <th>Desvio padrão</th>\n",
              "      <th>Média</th>\n",
              "      <th>CV</th>\n",
              "    </tr>\n",
              "  </thead>\n",
              "  <tbody>\n",
              "    <tr>\n",
              "      <th>2</th>\n",
              "      <td>Natal</td>\n",
              "      <td>265.19</td>\n",
              "      <td>246.62</td>\n",
              "      <td>1.08</td>\n",
              "    </tr>\n",
              "  </tbody>\n",
              "</table>\n",
              "</div>"
            ],
            "text/plain": [
              "  Cidade        Desvio padrão                Média                   CV\n",
              "2  Natal               265.19               246.62                 1.08"
            ]
          },
          "metadata": {},
          "execution_count": 249
        }
      ]
    },
    {
      "cell_type": "markdown",
      "metadata": {
        "id": "Q-MBpv0Z8OPp"
      },
      "source": [
        "Pelo coeficiente de variação podemos ver que a cidade com a distribuição menos homogênea é de fato Natal. No entanto, a cidade com a maior homogeneidade na distribuiçao **não é Fortaleza**, como sugerido pelo desvio padrão, **mas sim Salvador**, pois esta possui o menor coeficiente de variação"
      ]
    },
    {
      "cell_type": "markdown",
      "metadata": {
        "id": "SZYsgn7r9kJt"
      },
      "source": [
        "Desta forma, convém usar o coeficiente de variação para comparações de homogeneidade em distribuições e acabamos de fazer isso usando Pandas"
      ]
    }
  ]
}