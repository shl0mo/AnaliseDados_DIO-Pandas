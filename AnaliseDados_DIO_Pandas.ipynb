{
  "nbformat": 4,
  "nbformat_minor": 0,
  "metadata": {
    "colab": {
      "name": " AnaliseDados_DIO-Pandas",
      "provenance": [],
      "collapsed_sections": []
    },
    "kernelspec": {
      "name": "python3",
      "display_name": "Python 3"
    },
    "language_info": {
      "name": "python"
    }
  },
  "cells": [
    {
      "cell_type": "code",
      "metadata": {
        "id": "csmiIdnkj58H"
      },
      "source": [
        "import pandas as pd\n",
        "df = pd.read_csv('/content/drive/MyDrive/datasets_projeto_DIO/Gapminder.csv', error_bad_lines=False, sep=';')\n",
        "df.rename(columns={'country': 'País', 'continent': 'Continente', 'year': 'Ano', 'lifeExp': 'Expectativa de vida', 'pop': 'População', 'gdpPercap': 'PIB per capta'}, inplace=True)"
      ],
      "execution_count": 540,
      "outputs": []
    },
    {
      "cell_type": "code",
      "metadata": {
        "colab": {
          "base_uri": "https://localhost:8080/",
          "height": 204
        },
        "id": "V39Vm3BpU5aT",
        "outputId": "bbffb117-2bbd-459f-e882-eb920b6eb1a4"
      },
      "source": [
        "#Mostrar as 5 primeiras linhas do dataframe:\n",
        "df.head()"
      ],
      "execution_count": 541,
      "outputs": [
        {
          "output_type": "execute_result",
          "data": {
            "text/html": [
              "<div>\n",
              "<style scoped>\n",
              "    .dataframe tbody tr th:only-of-type {\n",
              "        vertical-align: middle;\n",
              "    }\n",
              "\n",
              "    .dataframe tbody tr th {\n",
              "        vertical-align: top;\n",
              "    }\n",
              "\n",
              "    .dataframe thead th {\n",
              "        text-align: right;\n",
              "    }\n",
              "</style>\n",
              "<table border=\"1\" class=\"dataframe\">\n",
              "  <thead>\n",
              "    <tr style=\"text-align: right;\">\n",
              "      <th></th>\n",
              "      <th>País</th>\n",
              "      <th>Continente</th>\n",
              "      <th>Ano</th>\n",
              "      <th>Expectativa de vida</th>\n",
              "      <th>População</th>\n",
              "      <th>PIB per capta</th>\n",
              "    </tr>\n",
              "  </thead>\n",
              "  <tbody>\n",
              "    <tr>\n",
              "      <th>0</th>\n",
              "      <td>Afghanistan</td>\n",
              "      <td>Asia</td>\n",
              "      <td>1952</td>\n",
              "      <td>28.80</td>\n",
              "      <td>8425333</td>\n",
              "      <td>779.45</td>\n",
              "    </tr>\n",
              "    <tr>\n",
              "      <th>1</th>\n",
              "      <td>Afghanistan</td>\n",
              "      <td>Asia</td>\n",
              "      <td>1957</td>\n",
              "      <td>30.33</td>\n",
              "      <td>9240934</td>\n",
              "      <td>820.85</td>\n",
              "    </tr>\n",
              "    <tr>\n",
              "      <th>2</th>\n",
              "      <td>Afghanistan</td>\n",
              "      <td>Asia</td>\n",
              "      <td>1962</td>\n",
              "      <td>32.00</td>\n",
              "      <td>10267083</td>\n",
              "      <td>853.10</td>\n",
              "    </tr>\n",
              "    <tr>\n",
              "      <th>3</th>\n",
              "      <td>Afghanistan</td>\n",
              "      <td>Asia</td>\n",
              "      <td>1967</td>\n",
              "      <td>34.02</td>\n",
              "      <td>11537966</td>\n",
              "      <td>836.20</td>\n",
              "    </tr>\n",
              "    <tr>\n",
              "      <th>4</th>\n",
              "      <td>Afghanistan</td>\n",
              "      <td>Asia</td>\n",
              "      <td>1972</td>\n",
              "      <td>36.09</td>\n",
              "      <td>13079460</td>\n",
              "      <td>739.98</td>\n",
              "    </tr>\n",
              "  </tbody>\n",
              "</table>\n",
              "</div>"
            ],
            "text/plain": [
              "          País Continente  ...  População        PIB per capta\n",
              "0  Afghanistan       Asia  ...    8425333               779.45\n",
              "1  Afghanistan       Asia  ...    9240934               820.85\n",
              "2  Afghanistan       Asia  ...   10267083               853.10\n",
              "3  Afghanistan       Asia  ...   11537966               836.20\n",
              "4  Afghanistan       Asia  ...   13079460               739.98\n",
              "\n",
              "[5 rows x 6 columns]"
            ]
          },
          "metadata": {},
          "execution_count": 541
        }
      ]
    },
    {
      "cell_type": "code",
      "metadata": {
        "colab": {
          "base_uri": "https://localhost:8080/",
          "height": 514
        },
        "id": "GnKj2GgdVAjg",
        "outputId": "7105359f-b13a-47ff-a389-19519009e348"
      },
      "source": [
        "#Mostras as n primeiras linhas de um dataframe, onde n é passado como parâmetro para a função head():\n",
        "#Para n = 15:\n",
        "df.head(15)"
      ],
      "execution_count": 542,
      "outputs": [
        {
          "output_type": "execute_result",
          "data": {
            "text/html": [
              "<div>\n",
              "<style scoped>\n",
              "    .dataframe tbody tr th:only-of-type {\n",
              "        vertical-align: middle;\n",
              "    }\n",
              "\n",
              "    .dataframe tbody tr th {\n",
              "        vertical-align: top;\n",
              "    }\n",
              "\n",
              "    .dataframe thead th {\n",
              "        text-align: right;\n",
              "    }\n",
              "</style>\n",
              "<table border=\"1\" class=\"dataframe\">\n",
              "  <thead>\n",
              "    <tr style=\"text-align: right;\">\n",
              "      <th></th>\n",
              "      <th>País</th>\n",
              "      <th>Continente</th>\n",
              "      <th>Ano</th>\n",
              "      <th>Expectativa de vida</th>\n",
              "      <th>População</th>\n",
              "      <th>PIB per capta</th>\n",
              "    </tr>\n",
              "  </thead>\n",
              "  <tbody>\n",
              "    <tr>\n",
              "      <th>0</th>\n",
              "      <td>Afghanistan</td>\n",
              "      <td>Asia</td>\n",
              "      <td>1952</td>\n",
              "      <td>28.80</td>\n",
              "      <td>8425333</td>\n",
              "      <td>779.45</td>\n",
              "    </tr>\n",
              "    <tr>\n",
              "      <th>1</th>\n",
              "      <td>Afghanistan</td>\n",
              "      <td>Asia</td>\n",
              "      <td>1957</td>\n",
              "      <td>30.33</td>\n",
              "      <td>9240934</td>\n",
              "      <td>820.85</td>\n",
              "    </tr>\n",
              "    <tr>\n",
              "      <th>2</th>\n",
              "      <td>Afghanistan</td>\n",
              "      <td>Asia</td>\n",
              "      <td>1962</td>\n",
              "      <td>32.00</td>\n",
              "      <td>10267083</td>\n",
              "      <td>853.10</td>\n",
              "    </tr>\n",
              "    <tr>\n",
              "      <th>3</th>\n",
              "      <td>Afghanistan</td>\n",
              "      <td>Asia</td>\n",
              "      <td>1967</td>\n",
              "      <td>34.02</td>\n",
              "      <td>11537966</td>\n",
              "      <td>836.20</td>\n",
              "    </tr>\n",
              "    <tr>\n",
              "      <th>4</th>\n",
              "      <td>Afghanistan</td>\n",
              "      <td>Asia</td>\n",
              "      <td>1972</td>\n",
              "      <td>36.09</td>\n",
              "      <td>13079460</td>\n",
              "      <td>739.98</td>\n",
              "    </tr>\n",
              "    <tr>\n",
              "      <th>5</th>\n",
              "      <td>Afghanistan</td>\n",
              "      <td>Asia</td>\n",
              "      <td>1977</td>\n",
              "      <td>38.44</td>\n",
              "      <td>14880372</td>\n",
              "      <td>786.11</td>\n",
              "    </tr>\n",
              "    <tr>\n",
              "      <th>6</th>\n",
              "      <td>Afghanistan</td>\n",
              "      <td>Asia</td>\n",
              "      <td>1982</td>\n",
              "      <td>39.85</td>\n",
              "      <td>12881816</td>\n",
              "      <td>978.01</td>\n",
              "    </tr>\n",
              "    <tr>\n",
              "      <th>7</th>\n",
              "      <td>Afghanistan</td>\n",
              "      <td>Asia</td>\n",
              "      <td>1987</td>\n",
              "      <td>40.82</td>\n",
              "      <td>13867957</td>\n",
              "      <td>852.40</td>\n",
              "    </tr>\n",
              "    <tr>\n",
              "      <th>8</th>\n",
              "      <td>Afghanistan</td>\n",
              "      <td>Asia</td>\n",
              "      <td>1992</td>\n",
              "      <td>41.67</td>\n",
              "      <td>16317921</td>\n",
              "      <td>649.34</td>\n",
              "    </tr>\n",
              "    <tr>\n",
              "      <th>9</th>\n",
              "      <td>Afghanistan</td>\n",
              "      <td>Asia</td>\n",
              "      <td>1997</td>\n",
              "      <td>41.76</td>\n",
              "      <td>22227415</td>\n",
              "      <td>635.34</td>\n",
              "    </tr>\n",
              "    <tr>\n",
              "      <th>10</th>\n",
              "      <td>Afghanistan</td>\n",
              "      <td>Asia</td>\n",
              "      <td>2002</td>\n",
              "      <td>42.13</td>\n",
              "      <td>25268405</td>\n",
              "      <td>726.73</td>\n",
              "    </tr>\n",
              "    <tr>\n",
              "      <th>11</th>\n",
              "      <td>Afghanistan</td>\n",
              "      <td>Asia</td>\n",
              "      <td>2007</td>\n",
              "      <td>43.83</td>\n",
              "      <td>31889923</td>\n",
              "      <td>974.58</td>\n",
              "    </tr>\n",
              "    <tr>\n",
              "      <th>12</th>\n",
              "      <td>Albania</td>\n",
              "      <td>Europe</td>\n",
              "      <td>1952</td>\n",
              "      <td>55.23</td>\n",
              "      <td>1282697</td>\n",
              "      <td>1,601.06</td>\n",
              "    </tr>\n",
              "    <tr>\n",
              "      <th>13</th>\n",
              "      <td>Albania</td>\n",
              "      <td>Europe</td>\n",
              "      <td>1957</td>\n",
              "      <td>59.28</td>\n",
              "      <td>1476505</td>\n",
              "      <td>1,942.28</td>\n",
              "    </tr>\n",
              "    <tr>\n",
              "      <th>14</th>\n",
              "      <td>Albania</td>\n",
              "      <td>Europe</td>\n",
              "      <td>1962</td>\n",
              "      <td>64.82</td>\n",
              "      <td>1728137</td>\n",
              "      <td>2,312.89</td>\n",
              "    </tr>\n",
              "  </tbody>\n",
              "</table>\n",
              "</div>"
            ],
            "text/plain": [
              "           País Continente  ...  População        PIB per capta\n",
              "0   Afghanistan       Asia  ...    8425333               779.45\n",
              "1   Afghanistan       Asia  ...    9240934               820.85\n",
              "2   Afghanistan       Asia  ...   10267083               853.10\n",
              "3   Afghanistan       Asia  ...   11537966               836.20\n",
              "4   Afghanistan       Asia  ...   13079460               739.98\n",
              "5   Afghanistan       Asia  ...   14880372               786.11\n",
              "6   Afghanistan       Asia  ...   12881816               978.01\n",
              "7   Afghanistan       Asia  ...   13867957               852.40\n",
              "8   Afghanistan       Asia  ...   16317921               649.34\n",
              "9   Afghanistan       Asia  ...   22227415               635.34\n",
              "10  Afghanistan       Asia  ...   25268405               726.73\n",
              "11  Afghanistan       Asia  ...   31889923               974.58\n",
              "12      Albania     Europe  ...    1282697             1,601.06\n",
              "13      Albania     Europe  ...    1476505             1,942.28\n",
              "14      Albania     Europe  ...    1728137             2,312.89\n",
              "\n",
              "[15 rows x 6 columns]"
            ]
          },
          "metadata": {},
          "execution_count": 542
        }
      ]
    },
    {
      "cell_type": "code",
      "metadata": {
        "colab": {
          "base_uri": "https://localhost:8080/",
          "height": 204
        },
        "id": "dFDBXJdtVTTf",
        "outputId": "49eace8d-1e0b-48be-c2ca-5a38e1e51a38"
      },
      "source": [
        "#Exibir as 5 últimas linhas do dataframe:\n",
        "df.tail()"
      ],
      "execution_count": 543,
      "outputs": [
        {
          "output_type": "execute_result",
          "data": {
            "text/html": [
              "<div>\n",
              "<style scoped>\n",
              "    .dataframe tbody tr th:only-of-type {\n",
              "        vertical-align: middle;\n",
              "    }\n",
              "\n",
              "    .dataframe tbody tr th {\n",
              "        vertical-align: top;\n",
              "    }\n",
              "\n",
              "    .dataframe thead th {\n",
              "        text-align: right;\n",
              "    }\n",
              "</style>\n",
              "<table border=\"1\" class=\"dataframe\">\n",
              "  <thead>\n",
              "    <tr style=\"text-align: right;\">\n",
              "      <th></th>\n",
              "      <th>País</th>\n",
              "      <th>Continente</th>\n",
              "      <th>Ano</th>\n",
              "      <th>Expectativa de vida</th>\n",
              "      <th>População</th>\n",
              "      <th>PIB per capta</th>\n",
              "    </tr>\n",
              "  </thead>\n",
              "  <tbody>\n",
              "    <tr>\n",
              "      <th>3307</th>\n",
              "      <td>Zimbabwe</td>\n",
              "      <td>Africa</td>\n",
              "      <td>1987</td>\n",
              "      <td>62.35</td>\n",
              "      <td>9216418</td>\n",
              "      <td>706.16</td>\n",
              "    </tr>\n",
              "    <tr>\n",
              "      <th>3308</th>\n",
              "      <td>Zimbabwe</td>\n",
              "      <td>Africa</td>\n",
              "      <td>1992</td>\n",
              "      <td>60.38</td>\n",
              "      <td>10704340</td>\n",
              "      <td>693.42</td>\n",
              "    </tr>\n",
              "    <tr>\n",
              "      <th>3309</th>\n",
              "      <td>Zimbabwe</td>\n",
              "      <td>Africa</td>\n",
              "      <td>1997</td>\n",
              "      <td>46.81</td>\n",
              "      <td>11404948</td>\n",
              "      <td>792.45</td>\n",
              "    </tr>\n",
              "    <tr>\n",
              "      <th>3310</th>\n",
              "      <td>Zimbabwe</td>\n",
              "      <td>Africa</td>\n",
              "      <td>2002</td>\n",
              "      <td>39.99</td>\n",
              "      <td>11926563</td>\n",
              "      <td>672.04</td>\n",
              "    </tr>\n",
              "    <tr>\n",
              "      <th>3311</th>\n",
              "      <td>Zimbabwe</td>\n",
              "      <td>Africa</td>\n",
              "      <td>2007</td>\n",
              "      <td>43.49</td>\n",
              "      <td>12311143</td>\n",
              "      <td>469.71</td>\n",
              "    </tr>\n",
              "  </tbody>\n",
              "</table>\n",
              "</div>"
            ],
            "text/plain": [
              "          País Continente  ...  População        PIB per capta\n",
              "3307  Zimbabwe     Africa  ...    9216418               706.16\n",
              "3308  Zimbabwe     Africa  ...   10704340               693.42\n",
              "3309  Zimbabwe     Africa  ...   11404948               792.45\n",
              "3310  Zimbabwe     Africa  ...   11926563               672.04\n",
              "3311  Zimbabwe     Africa  ...   12311143               469.71\n",
              "\n",
              "[5 rows x 6 columns]"
            ]
          },
          "metadata": {},
          "execution_count": 543
        }
      ]
    },
    {
      "cell_type": "code",
      "metadata": {
        "colab": {
          "base_uri": "https://localhost:8080/",
          "height": 328
        },
        "id": "3tb8LSMVVbXR",
        "outputId": "40606c91-ea3c-4f07-ed3c-fdfdf43798c4"
      },
      "source": [
        "#Exbir as 9 últimas linhas do dataframe:\n",
        "df.tail(9)"
      ],
      "execution_count": 544,
      "outputs": [
        {
          "output_type": "execute_result",
          "data": {
            "text/html": [
              "<div>\n",
              "<style scoped>\n",
              "    .dataframe tbody tr th:only-of-type {\n",
              "        vertical-align: middle;\n",
              "    }\n",
              "\n",
              "    .dataframe tbody tr th {\n",
              "        vertical-align: top;\n",
              "    }\n",
              "\n",
              "    .dataframe thead th {\n",
              "        text-align: right;\n",
              "    }\n",
              "</style>\n",
              "<table border=\"1\" class=\"dataframe\">\n",
              "  <thead>\n",
              "    <tr style=\"text-align: right;\">\n",
              "      <th></th>\n",
              "      <th>País</th>\n",
              "      <th>Continente</th>\n",
              "      <th>Ano</th>\n",
              "      <th>Expectativa de vida</th>\n",
              "      <th>População</th>\n",
              "      <th>PIB per capta</th>\n",
              "    </tr>\n",
              "  </thead>\n",
              "  <tbody>\n",
              "    <tr>\n",
              "      <th>3303</th>\n",
              "      <td>Zimbabwe</td>\n",
              "      <td>Africa</td>\n",
              "      <td>1967</td>\n",
              "      <td>53.99</td>\n",
              "      <td>4995432</td>\n",
              "      <td>569.80</td>\n",
              "    </tr>\n",
              "    <tr>\n",
              "      <th>3304</th>\n",
              "      <td>Zimbabwe</td>\n",
              "      <td>Africa</td>\n",
              "      <td>1972</td>\n",
              "      <td>55.63</td>\n",
              "      <td>5861135</td>\n",
              "      <td>799.36</td>\n",
              "    </tr>\n",
              "    <tr>\n",
              "      <th>3305</th>\n",
              "      <td>Zimbabwe</td>\n",
              "      <td>Africa</td>\n",
              "      <td>1977</td>\n",
              "      <td>57.67</td>\n",
              "      <td>6642107</td>\n",
              "      <td>685.59</td>\n",
              "    </tr>\n",
              "    <tr>\n",
              "      <th>3306</th>\n",
              "      <td>Zimbabwe</td>\n",
              "      <td>Africa</td>\n",
              "      <td>1982</td>\n",
              "      <td>60.36</td>\n",
              "      <td>7636524</td>\n",
              "      <td>788.86</td>\n",
              "    </tr>\n",
              "    <tr>\n",
              "      <th>3307</th>\n",
              "      <td>Zimbabwe</td>\n",
              "      <td>Africa</td>\n",
              "      <td>1987</td>\n",
              "      <td>62.35</td>\n",
              "      <td>9216418</td>\n",
              "      <td>706.16</td>\n",
              "    </tr>\n",
              "    <tr>\n",
              "      <th>3308</th>\n",
              "      <td>Zimbabwe</td>\n",
              "      <td>Africa</td>\n",
              "      <td>1992</td>\n",
              "      <td>60.38</td>\n",
              "      <td>10704340</td>\n",
              "      <td>693.42</td>\n",
              "    </tr>\n",
              "    <tr>\n",
              "      <th>3309</th>\n",
              "      <td>Zimbabwe</td>\n",
              "      <td>Africa</td>\n",
              "      <td>1997</td>\n",
              "      <td>46.81</td>\n",
              "      <td>11404948</td>\n",
              "      <td>792.45</td>\n",
              "    </tr>\n",
              "    <tr>\n",
              "      <th>3310</th>\n",
              "      <td>Zimbabwe</td>\n",
              "      <td>Africa</td>\n",
              "      <td>2002</td>\n",
              "      <td>39.99</td>\n",
              "      <td>11926563</td>\n",
              "      <td>672.04</td>\n",
              "    </tr>\n",
              "    <tr>\n",
              "      <th>3311</th>\n",
              "      <td>Zimbabwe</td>\n",
              "      <td>Africa</td>\n",
              "      <td>2007</td>\n",
              "      <td>43.49</td>\n",
              "      <td>12311143</td>\n",
              "      <td>469.71</td>\n",
              "    </tr>\n",
              "  </tbody>\n",
              "</table>\n",
              "</div>"
            ],
            "text/plain": [
              "          País Continente  ...  População        PIB per capta\n",
              "3303  Zimbabwe     Africa  ...    4995432               569.80\n",
              "3304  Zimbabwe     Africa  ...    5861135               799.36\n",
              "3305  Zimbabwe     Africa  ...    6642107               685.59\n",
              "3306  Zimbabwe     Africa  ...    7636524               788.86\n",
              "3307  Zimbabwe     Africa  ...    9216418               706.16\n",
              "3308  Zimbabwe     Africa  ...   10704340               693.42\n",
              "3309  Zimbabwe     Africa  ...   11404948               792.45\n",
              "3310  Zimbabwe     Africa  ...   11926563               672.04\n",
              "3311  Zimbabwe     Africa  ...   12311143               469.71\n",
              "\n",
              "[9 rows x 6 columns]"
            ]
          },
          "metadata": {},
          "execution_count": 544
        }
      ]
    },
    {
      "cell_type": "code",
      "metadata": {
        "colab": {
          "base_uri": "https://localhost:8080/",
          "height": 419
        },
        "id": "9IEM4RdDDL3L",
        "outputId": "5ec6334a-7888-4432-b7bb-c45b397de6d6"
      },
      "source": [
        "#Filtro:\n",
        "oceania = df.loc[df.Continente == 'Oceania']\n",
        "oceania"
      ],
      "execution_count": 545,
      "outputs": [
        {
          "output_type": "execute_result",
          "data": {
            "text/html": [
              "<div>\n",
              "<style scoped>\n",
              "    .dataframe tbody tr th:only-of-type {\n",
              "        vertical-align: middle;\n",
              "    }\n",
              "\n",
              "    .dataframe tbody tr th {\n",
              "        vertical-align: top;\n",
              "    }\n",
              "\n",
              "    .dataframe thead th {\n",
              "        text-align: right;\n",
              "    }\n",
              "</style>\n",
              "<table border=\"1\" class=\"dataframe\">\n",
              "  <thead>\n",
              "    <tr style=\"text-align: right;\">\n",
              "      <th></th>\n",
              "      <th>País</th>\n",
              "      <th>Continente</th>\n",
              "      <th>Ano</th>\n",
              "      <th>Expectativa de vida</th>\n",
              "      <th>População</th>\n",
              "      <th>PIB per capta</th>\n",
              "    </tr>\n",
              "  </thead>\n",
              "  <tbody>\n",
              "    <tr>\n",
              "      <th>975</th>\n",
              "      <td>Fiji</td>\n",
              "      <td>Oceania</td>\n",
              "      <td>1962</td>\n",
              "      <td>56.49</td>\n",
              "      <td>421869</td>\n",
              "      <td>2,039.39</td>\n",
              "    </tr>\n",
              "    <tr>\n",
              "      <th>976</th>\n",
              "      <td>Fiji</td>\n",
              "      <td>Oceania</td>\n",
              "      <td>1967</td>\n",
              "      <td>58.61</td>\n",
              "      <td>485000</td>\n",
              "      <td>2,170.07</td>\n",
              "    </tr>\n",
              "    <tr>\n",
              "      <th>977</th>\n",
              "      <td>Fiji</td>\n",
              "      <td>Oceania</td>\n",
              "      <td>1972</td>\n",
              "      <td>60.64</td>\n",
              "      <td>544000</td>\n",
              "      <td>2,797.76</td>\n",
              "    </tr>\n",
              "    <tr>\n",
              "      <th>978</th>\n",
              "      <td>Fiji</td>\n",
              "      <td>Oceania</td>\n",
              "      <td>1977</td>\n",
              "      <td>62.67</td>\n",
              "      <td>599339</td>\n",
              "      <td>3,182.57</td>\n",
              "    </tr>\n",
              "    <tr>\n",
              "      <th>979</th>\n",
              "      <td>Fiji</td>\n",
              "      <td>Oceania</td>\n",
              "      <td>1982</td>\n",
              "      <td>64.68</td>\n",
              "      <td>658906</td>\n",
              "      <td>3,209.26</td>\n",
              "    </tr>\n",
              "    <tr>\n",
              "      <th>...</th>\n",
              "      <td>...</td>\n",
              "      <td>...</td>\n",
              "      <td>...</td>\n",
              "      <td>...</td>\n",
              "      <td>...</td>\n",
              "      <td>...</td>\n",
              "    </tr>\n",
              "    <tr>\n",
              "      <th>2696</th>\n",
              "      <td>Solomon Islands</td>\n",
              "      <td>Oceania</td>\n",
              "      <td>1987</td>\n",
              "      <td>55.78</td>\n",
              "      <td>300694</td>\n",
              "      <td>1,783.65</td>\n",
              "    </tr>\n",
              "    <tr>\n",
              "      <th>2697</th>\n",
              "      <td>Solomon Islands</td>\n",
              "      <td>Oceania</td>\n",
              "      <td>1992</td>\n",
              "      <td>58.27</td>\n",
              "      <td>358713</td>\n",
              "      <td>2,109.89</td>\n",
              "    </tr>\n",
              "    <tr>\n",
              "      <th>2698</th>\n",
              "      <td>Solomon Islands</td>\n",
              "      <td>Oceania</td>\n",
              "      <td>1997</td>\n",
              "      <td>60.71</td>\n",
              "      <td>424265</td>\n",
              "      <td>2,252.49</td>\n",
              "    </tr>\n",
              "    <tr>\n",
              "      <th>2699</th>\n",
              "      <td>Solomon Islands</td>\n",
              "      <td>Oceania</td>\n",
              "      <td>2002</td>\n",
              "      <td>62.27</td>\n",
              "      <td>494786</td>\n",
              "      <td>1,530.50</td>\n",
              "    </tr>\n",
              "    <tr>\n",
              "      <th>2700</th>\n",
              "      <td>Solomon Islands</td>\n",
              "      <td>Oceania</td>\n",
              "      <td>2007</td>\n",
              "      <td>63.57</td>\n",
              "      <td>566842</td>\n",
              "      <td>1,829.32</td>\n",
              "    </tr>\n",
              "  </tbody>\n",
              "</table>\n",
              "<p>74 rows × 6 columns</p>\n",
              "</div>"
            ],
            "text/plain": [
              "                 País Continente  ...  População        PIB per capta\n",
              "975              Fiji    Oceania  ...     421869             2,039.39\n",
              "976              Fiji    Oceania  ...     485000             2,170.07\n",
              "977              Fiji    Oceania  ...     544000             2,797.76\n",
              "978              Fiji    Oceania  ...     599339             3,182.57\n",
              "979              Fiji    Oceania  ...     658906             3,209.26\n",
              "...               ...        ...  ...        ...                  ...\n",
              "2696  Solomon Islands    Oceania  ...     300694             1,783.65\n",
              "2697  Solomon Islands    Oceania  ...     358713             2,109.89\n",
              "2698  Solomon Islands    Oceania  ...     424265             2,252.49\n",
              "2699  Solomon Islands    Oceania  ...     494786             1,530.50\n",
              "2700  Solomon Islands    Oceania  ...     566842             1,829.32\n",
              "\n",
              "[74 rows x 6 columns]"
            ]
          },
          "metadata": {},
          "execution_count": 545
        }
      ]
    },
    {
      "cell_type": "code",
      "metadata": {
        "colab": {
          "base_uri": "https://localhost:8080/"
        },
        "id": "_58p80C-Xiuy",
        "outputId": "28797933-e0e2-47b8-dc96-6beae275d664"
      },
      "source": [
        "#Exibir as dimensões do dataframe:\n",
        "df.shape #894 linha e 5 colunas"
      ],
      "execution_count": 546,
      "outputs": [
        {
          "output_type": "execute_result",
          "data": {
            "text/plain": [
              "(3312, 6)"
            ]
          },
          "metadata": {},
          "execution_count": 546
        }
      ]
    },
    {
      "cell_type": "code",
      "metadata": {
        "colab": {
          "base_uri": "https://localhost:8080/"
        },
        "id": "rNnSIwMkD5n0",
        "outputId": "445ebd72-4ee8-47a2-9e34-6633a590d056"
      },
      "source": [
        "#Groupby:\n",
        "print('Número de países por continente:')\n",
        "df.groupby('Continente')['País'].nunique()"
      ],
      "execution_count": 547,
      "outputs": [
        {
          "output_type": "stream",
          "name": "stdout",
          "text": [
            "Número de países por continente:\n"
          ]
        },
        {
          "output_type": "execute_result",
          "data": {
            "text/plain": [
              "Continente\n",
              "Africa      51\n",
              "Americas    25\n",
              "Asia        41\n",
              "Europe      35\n",
              "FSU          6\n",
              "Oceania      3\n",
              "Name: País, dtype: int64"
            ]
          },
          "metadata": {},
          "execution_count": 547
        }
      ]
    },
    {
      "cell_type": "code",
      "metadata": {
        "colab": {
          "base_uri": "https://localhost:8080/"
        },
        "id": "x1Y3iQYUEXX6",
        "outputId": "6cd01b7a-8538-452c-8842-243e36c41216"
      },
      "source": [
        "#Espectativa de vida média para cada país da base de dados:\n",
        "print('Espectativa de vida média para cada país:')\n",
        "df.groupby('Ano')['Expectativa de vida'].mean()"
      ],
      "execution_count": 548,
      "outputs": [
        {
          "output_type": "stream",
          "name": "stdout",
          "text": [
            "Espectativa de vida média para cada país:\n"
          ]
        },
        {
          "output_type": "execute_result",
          "data": {
            "text/plain": [
              "Ano\n",
              "1950                  62.00\n",
              "1951                  65.90\n",
              "1952                  49.21\n",
              "1953                  66.67\n",
              "1954                  67.46\n",
              "1955                  67.81\n",
              "1956                  67.95\n",
              "1957                  51.61\n",
              "1958                  68.82\n",
              "1959                  68.23\n",
              "1960                  68.47\n",
              "1961                  68.86\n",
              "1962                  54.04\n",
              "1963                  69.60\n",
              "1964                  70.06\n",
              "1965                  70.26\n",
              "1966                  70.45\n",
              "1967                  56.26\n",
              "1968                  70.69\n",
              "1969                  70.65\n",
              "1970                  70.96\n",
              "1971                  71.10\n",
              "1972                  58.47\n",
              "1973                  71.50\n",
              "1974                  71.78\n",
              "1975                  71.94\n",
              "1976                  72.16\n",
              "1977                  60.43\n",
              "1978                  72.72\n",
              "1979                  73.02\n",
              "1980                  73.06\n",
              "1981                  73.34\n",
              "1982                  62.37\n",
              "1983                  73.79\n",
              "1984                  74.10\n",
              "1985                  74.11\n",
              "1986                  74.45\n",
              "1987                  63.98\n",
              "1988                  74.76\n",
              "1989                  74.92\n",
              "1990                  74.28\n",
              "1991                  74.37\n",
              "1992                  65.01\n",
              "1993                  74.32\n",
              "1994                  74.46\n",
              "1995                  74.55\n",
              "1996                  75.03\n",
              "1997                  65.87\n",
              "1998                  75.57\n",
              "1999                  75.70\n",
              "2000                  76.03\n",
              "2001                  76.26\n",
              "2002                  66.84\n",
              "2003                  76.59\n",
              "2004                  76.92\n",
              "2005                  76.72\n",
              "2006                  77.89\n",
              "2007                  67.87\n",
              "Name: Expectativa de vida, dtype: float64"
            ]
          },
          "metadata": {},
          "execution_count": 548
        }
      ]
    },
    {
      "cell_type": "code",
      "metadata": {
        "id": "-rLgIiW4PnoU"
      },
      "source": [
        "#Para arquivos do Excel:\n",
        "df1 = pd.read_excel('/content/drive/MyDrive/datasets_projeto_DIO/Aracaju.xlsx')\n",
        "df2 = pd.read_excel('/content/drive/MyDrive/datasets_projeto_DIO/Fortaleza.xlsx')\n",
        "df3 = pd.read_excel('/content/drive/MyDrive/datasets_projeto_DIO/Natal.xlsx')\n",
        "df4 = pd.read_excel('/content/drive/MyDrive/datasets_projeto_DIO/Recife.xlsx')\n",
        "df5 = pd.read_excel('/content/drive/MyDrive/datasets_projeto_DIO/Salvador.xlsx')"
      ],
      "execution_count": 549,
      "outputs": []
    },
    {
      "cell_type": "code",
      "metadata": {
        "colab": {
          "base_uri": "https://localhost:8080/",
          "height": 419
        },
        "id": "7w3SYKB_QOYC",
        "outputId": "3cf24530-86fa-484c-982d-481b2aa9ee31"
      },
      "source": [
        "df = pd.concat([df1, df2, df3, df4, df5])\n",
        "df"
      ],
      "execution_count": 550,
      "outputs": [
        {
          "output_type": "execute_result",
          "data": {
            "text/html": [
              "<div>\n",
              "<style scoped>\n",
              "    .dataframe tbody tr th:only-of-type {\n",
              "        vertical-align: middle;\n",
              "    }\n",
              "\n",
              "    .dataframe tbody tr th {\n",
              "        vertical-align: top;\n",
              "    }\n",
              "\n",
              "    .dataframe thead th {\n",
              "        text-align: right;\n",
              "    }\n",
              "</style>\n",
              "<table border=\"1\" class=\"dataframe\">\n",
              "  <thead>\n",
              "    <tr style=\"text-align: right;\">\n",
              "      <th></th>\n",
              "      <th>Cidade</th>\n",
              "      <th>Data</th>\n",
              "      <th>Vendas</th>\n",
              "      <th>LojaID</th>\n",
              "      <th>Qtde</th>\n",
              "    </tr>\n",
              "  </thead>\n",
              "  <tbody>\n",
              "    <tr>\n",
              "      <th>0</th>\n",
              "      <td>Aracaju</td>\n",
              "      <td>2018-01-01</td>\n",
              "      <td>142.00</td>\n",
              "      <td>1520</td>\n",
              "      <td>1</td>\n",
              "    </tr>\n",
              "    <tr>\n",
              "      <th>1</th>\n",
              "      <td>Aracaju</td>\n",
              "      <td>2018-01-01</td>\n",
              "      <td>14.21</td>\n",
              "      <td>1522</td>\n",
              "      <td>6</td>\n",
              "    </tr>\n",
              "    <tr>\n",
              "      <th>2</th>\n",
              "      <td>Aracaju</td>\n",
              "      <td>2018-01-01</td>\n",
              "      <td>71.55</td>\n",
              "      <td>1520</td>\n",
              "      <td>1</td>\n",
              "    </tr>\n",
              "    <tr>\n",
              "      <th>3</th>\n",
              "      <td>Aracaju</td>\n",
              "      <td>2018-01-01</td>\n",
              "      <td>3.01</td>\n",
              "      <td>1521</td>\n",
              "      <td>7</td>\n",
              "    </tr>\n",
              "    <tr>\n",
              "      <th>4</th>\n",
              "      <td>Aracaju</td>\n",
              "      <td>2018-01-01</td>\n",
              "      <td>24.51</td>\n",
              "      <td>1522</td>\n",
              "      <td>8</td>\n",
              "    </tr>\n",
              "    <tr>\n",
              "      <th>...</th>\n",
              "      <td>...</td>\n",
              "      <td>...</td>\n",
              "      <td>...</td>\n",
              "      <td>...</td>\n",
              "      <td>...</td>\n",
              "    </tr>\n",
              "    <tr>\n",
              "      <th>235</th>\n",
              "      <td>Salvador</td>\n",
              "      <td>2019-01-03</td>\n",
              "      <td>41.84</td>\n",
              "      <td>1034</td>\n",
              "      <td>1</td>\n",
              "    </tr>\n",
              "    <tr>\n",
              "      <th>236</th>\n",
              "      <td>Salvador</td>\n",
              "      <td>2019-01-03</td>\n",
              "      <td>126.29</td>\n",
              "      <td>1035</td>\n",
              "      <td>3</td>\n",
              "    </tr>\n",
              "    <tr>\n",
              "      <th>237</th>\n",
              "      <td>Salvador</td>\n",
              "      <td>2019-01-03</td>\n",
              "      <td>38.06</td>\n",
              "      <td>1036</td>\n",
              "      <td>3</td>\n",
              "    </tr>\n",
              "    <tr>\n",
              "      <th>238</th>\n",
              "      <td>Salvador</td>\n",
              "      <td>2019-01-03</td>\n",
              "      <td>139.64</td>\n",
              "      <td>1035</td>\n",
              "      <td>1</td>\n",
              "    </tr>\n",
              "    <tr>\n",
              "      <th>239</th>\n",
              "      <td>Salvador</td>\n",
              "      <td>2019-01-03</td>\n",
              "      <td>161.41</td>\n",
              "      <td>1037</td>\n",
              "      <td>3</td>\n",
              "    </tr>\n",
              "  </tbody>\n",
              "</table>\n",
              "<p>894 rows × 5 columns</p>\n",
              "</div>"
            ],
            "text/plain": [
              "       Cidade       Data               Vendas  LojaID  Qtde\n",
              "0     Aracaju 2018-01-01               142.00    1520     1\n",
              "1     Aracaju 2018-01-01                14.21    1522     6\n",
              "2     Aracaju 2018-01-01                71.55    1520     1\n",
              "3     Aracaju 2018-01-01                 3.01    1521     7\n",
              "4     Aracaju 2018-01-01                24.51    1522     8\n",
              "..        ...        ...                  ...     ...   ...\n",
              "235  Salvador 2019-01-03                41.84    1034     1\n",
              "236  Salvador 2019-01-03               126.29    1035     3\n",
              "237  Salvador 2019-01-03                38.06    1036     3\n",
              "238  Salvador 2019-01-03               139.64    1035     1\n",
              "239  Salvador 2019-01-03               161.41    1037     3\n",
              "\n",
              "[894 rows x 5 columns]"
            ]
          },
          "metadata": {},
          "execution_count": 550
        }
      ]
    },
    {
      "cell_type": "code",
      "metadata": {
        "colab": {
          "base_uri": "https://localhost:8080/",
          "height": 669
        },
        "id": "n5bFcsAyVlQq",
        "outputId": "d6f8db38-a5cd-4508-bea5-bdf875f44cd6"
      },
      "source": [
        "#Pegar uma amostra aleatória de n elementos do dataframe:\n",
        "#Para n = 20:\n",
        "df.sample(20)"
      ],
      "execution_count": 551,
      "outputs": [
        {
          "output_type": "execute_result",
          "data": {
            "text/html": [
              "<div>\n",
              "<style scoped>\n",
              "    .dataframe tbody tr th:only-of-type {\n",
              "        vertical-align: middle;\n",
              "    }\n",
              "\n",
              "    .dataframe tbody tr th {\n",
              "        vertical-align: top;\n",
              "    }\n",
              "\n",
              "    .dataframe thead th {\n",
              "        text-align: right;\n",
              "    }\n",
              "</style>\n",
              "<table border=\"1\" class=\"dataframe\">\n",
              "  <thead>\n",
              "    <tr style=\"text-align: right;\">\n",
              "      <th></th>\n",
              "      <th>Cidade</th>\n",
              "      <th>Data</th>\n",
              "      <th>Vendas</th>\n",
              "      <th>LojaID</th>\n",
              "      <th>Qtde</th>\n",
              "    </tr>\n",
              "  </thead>\n",
              "  <tbody>\n",
              "    <tr>\n",
              "      <th>125</th>\n",
              "      <td>Aracaju</td>\n",
              "      <td>2018-01-01</td>\n",
              "      <td>15.62</td>\n",
              "      <td>1522</td>\n",
              "      <td>2</td>\n",
              "    </tr>\n",
              "    <tr>\n",
              "      <th>62</th>\n",
              "      <td>Recife</td>\n",
              "      <td>2019-01-01</td>\n",
              "      <td>23.04</td>\n",
              "      <td>983</td>\n",
              "      <td>6</td>\n",
              "    </tr>\n",
              "    <tr>\n",
              "      <th>226</th>\n",
              "      <td>Natal</td>\n",
              "      <td>2019-01-02</td>\n",
              "      <td>38.32</td>\n",
              "      <td>1035</td>\n",
              "      <td>2</td>\n",
              "    </tr>\n",
              "    <tr>\n",
              "      <th>17</th>\n",
              "      <td>Natal</td>\n",
              "      <td>2018-02-18</td>\n",
              "      <td>276.00</td>\n",
              "      <td>854</td>\n",
              "      <td>3</td>\n",
              "    </tr>\n",
              "    <tr>\n",
              "      <th>172</th>\n",
              "      <td>Natal</td>\n",
              "      <td>2019-01-02</td>\n",
              "      <td>6.70</td>\n",
              "      <td>1035</td>\n",
              "      <td>1</td>\n",
              "    </tr>\n",
              "    <tr>\n",
              "      <th>49</th>\n",
              "      <td>Recife</td>\n",
              "      <td>2019-01-01</td>\n",
              "      <td>122.55</td>\n",
              "      <td>981</td>\n",
              "      <td>1</td>\n",
              "    </tr>\n",
              "    <tr>\n",
              "      <th>87</th>\n",
              "      <td>Fortaleza</td>\n",
              "      <td>2019-01-01</td>\n",
              "      <td>42.04</td>\n",
              "      <td>1002</td>\n",
              "      <td>5</td>\n",
              "    </tr>\n",
              "    <tr>\n",
              "      <th>166</th>\n",
              "      <td>Natal</td>\n",
              "      <td>2019-01-02</td>\n",
              "      <td>111.72</td>\n",
              "      <td>1035</td>\n",
              "      <td>3</td>\n",
              "    </tr>\n",
              "    <tr>\n",
              "      <th>30</th>\n",
              "      <td>Salvador</td>\n",
              "      <td>2019-01-01</td>\n",
              "      <td>47.96</td>\n",
              "      <td>1034</td>\n",
              "      <td>2</td>\n",
              "    </tr>\n",
              "    <tr>\n",
              "      <th>108</th>\n",
              "      <td>Natal</td>\n",
              "      <td>2019-01-02</td>\n",
              "      <td>11.72</td>\n",
              "      <td>1037</td>\n",
              "      <td>1</td>\n",
              "    </tr>\n",
              "    <tr>\n",
              "      <th>68</th>\n",
              "      <td>Salvador</td>\n",
              "      <td>2019-01-01</td>\n",
              "      <td>162.35</td>\n",
              "      <td>1037</td>\n",
              "      <td>3</td>\n",
              "    </tr>\n",
              "    <tr>\n",
              "      <th>187</th>\n",
              "      <td>Natal</td>\n",
              "      <td>2019-01-02</td>\n",
              "      <td>3.85</td>\n",
              "      <td>1035</td>\n",
              "      <td>3</td>\n",
              "    </tr>\n",
              "    <tr>\n",
              "      <th>48</th>\n",
              "      <td>Fortaleza</td>\n",
              "      <td>2019-01-01</td>\n",
              "      <td>40.71</td>\n",
              "      <td>1002</td>\n",
              "      <td>6</td>\n",
              "    </tr>\n",
              "    <tr>\n",
              "      <th>83</th>\n",
              "      <td>Recife</td>\n",
              "      <td>2019-01-01</td>\n",
              "      <td>143.61</td>\n",
              "      <td>983</td>\n",
              "      <td>6</td>\n",
              "    </tr>\n",
              "    <tr>\n",
              "      <th>239</th>\n",
              "      <td>Natal</td>\n",
              "      <td>2019-01-03</td>\n",
              "      <td>161.41</td>\n",
              "      <td>1037</td>\n",
              "      <td>3</td>\n",
              "    </tr>\n",
              "    <tr>\n",
              "      <th>70</th>\n",
              "      <td>Aracaju</td>\n",
              "      <td>2018-01-01</td>\n",
              "      <td>8.44</td>\n",
              "      <td>1523</td>\n",
              "      <td>9</td>\n",
              "    </tr>\n",
              "    <tr>\n",
              "      <th>22</th>\n",
              "      <td>Salvador</td>\n",
              "      <td>2019-01-01</td>\n",
              "      <td>32.57</td>\n",
              "      <td>1035</td>\n",
              "      <td>1</td>\n",
              "    </tr>\n",
              "    <tr>\n",
              "      <th>144</th>\n",
              "      <td>Salvador</td>\n",
              "      <td>2019-01-02</td>\n",
              "      <td>23.38</td>\n",
              "      <td>1034</td>\n",
              "      <td>1</td>\n",
              "    </tr>\n",
              "    <tr>\n",
              "      <th>116</th>\n",
              "      <td>Aracaju</td>\n",
              "      <td>2018-01-01</td>\n",
              "      <td>48.44</td>\n",
              "      <td>1522</td>\n",
              "      <td>4</td>\n",
              "    </tr>\n",
              "    <tr>\n",
              "      <th>14</th>\n",
              "      <td>Recife</td>\n",
              "      <td>2019-01-12</td>\n",
              "      <td>102.91</td>\n",
              "      <td>982</td>\n",
              "      <td>3</td>\n",
              "    </tr>\n",
              "  </tbody>\n",
              "</table>\n",
              "</div>"
            ],
            "text/plain": [
              "        Cidade       Data               Vendas  LojaID  Qtde\n",
              "125    Aracaju 2018-01-01                15.62    1522     2\n",
              "62      Recife 2019-01-01                23.04     983     6\n",
              "226      Natal 2019-01-02                38.32    1035     2\n",
              "17       Natal 2018-02-18               276.00     854     3\n",
              "172      Natal 2019-01-02                 6.70    1035     1\n",
              "49      Recife 2019-01-01               122.55     981     1\n",
              "87   Fortaleza 2019-01-01                42.04    1002     5\n",
              "166      Natal 2019-01-02               111.72    1035     3\n",
              "30    Salvador 2019-01-01                47.96    1034     2\n",
              "108      Natal 2019-01-02                11.72    1037     1\n",
              "68    Salvador 2019-01-01               162.35    1037     3\n",
              "187      Natal 2019-01-02                 3.85    1035     3\n",
              "48   Fortaleza 2019-01-01                40.71    1002     6\n",
              "83      Recife 2019-01-01               143.61     983     6\n",
              "239      Natal 2019-01-03               161.41    1037     3\n",
              "70     Aracaju 2018-01-01                 8.44    1523     9\n",
              "22    Salvador 2019-01-01                32.57    1035     1\n",
              "144   Salvador 2019-01-02                23.38    1034     1\n",
              "116    Aracaju 2018-01-01                48.44    1522     4\n",
              "14      Recife 2019-01-12               102.91     982     3"
            ]
          },
          "metadata": {},
          "execution_count": 551
        }
      ]
    },
    {
      "cell_type": "code",
      "metadata": {
        "colab": {
          "base_uri": "https://localhost:8080/"
        },
        "id": "5mDadu80QWJd",
        "outputId": "bf93072f-ad42-4e1b-c107-4f6446c20eb2"
      },
      "source": [
        "df.dtypes"
      ],
      "execution_count": 552,
      "outputs": [
        {
          "output_type": "execute_result",
          "data": {
            "text/plain": [
              "Cidade            object\n",
              "Data      datetime64[ns]\n",
              "Vendas           float64\n",
              "LojaID             int64\n",
              "Qtde               int64\n",
              "dtype: object"
            ]
          },
          "metadata": {},
          "execution_count": 552
        }
      ]
    },
    {
      "cell_type": "code",
      "metadata": {
        "colab": {
          "base_uri": "https://localhost:8080/"
        },
        "id": "cjOsybYNR3n5",
        "outputId": "d4d08927-6e29-4862-9e07-c6cda5fb4af0"
      },
      "source": [
        "df.LojaID = df.LojaID.astype('object')\n",
        "df.dtypes"
      ],
      "execution_count": 553,
      "outputs": [
        {
          "output_type": "execute_result",
          "data": {
            "text/plain": [
              "Cidade            object\n",
              "Data      datetime64[ns]\n",
              "Vendas           float64\n",
              "LojaID            object\n",
              "Qtde               int64\n",
              "dtype: object"
            ]
          },
          "metadata": {},
          "execution_count": 553
        }
      ]
    },
    {
      "cell_type": "code",
      "metadata": {
        "colab": {
          "base_uri": "https://localhost:8080/"
        },
        "id": "HiRPkuRdSnzL",
        "outputId": "fafc185d-ebfb-4721-8048-160baad51d51"
      },
      "source": [
        "#Verificação de valores nulos por coluna:\n",
        "df.isnull().sum()"
      ],
      "execution_count": 554,
      "outputs": [
        {
          "output_type": "execute_result",
          "data": {
            "text/plain": [
              "Cidade    0\n",
              "Data      0\n",
              "Vendas    0\n",
              "LojaID    0\n",
              "Qtde      0\n",
              "dtype: int64"
            ]
          },
          "metadata": {},
          "execution_count": 554
        }
      ]
    },
    {
      "cell_type": "code",
      "metadata": {
        "id": "_rMjT6JDUQ2O"
      },
      "source": [
        "#Subustituição de valores nulos:\n",
        "#df.fillna(selecao_coluna e atribuicao_valor, inplace=True)"
      ],
      "execution_count": 555,
      "outputs": []
    },
    {
      "cell_type": "code",
      "metadata": {
        "id": "pjX5h3EmUr6w"
      },
      "source": [
        "#Apagar todas as linhas que contenham valores nulos em pelo menos uma coluna do dataframe:\n",
        "df.dropna(inplace=True)"
      ],
      "execution_count": 556,
      "outputs": []
    },
    {
      "cell_type": "code",
      "metadata": {
        "id": "iHv4xVM8YJUU"
      },
      "source": [
        "#Apagar todas as linhas com valores nulos de uma coluna específica:\n",
        "#df.dropna(subset=['nome_da_coluna'], inplace=True)\n",
        "df.dropna(subset=['Vendas'], inplace=True)"
      ],
      "execution_count": 557,
      "outputs": []
    },
    {
      "cell_type": "code",
      "metadata": {
        "id": "o5oGhh-uY6Co"
      },
      "source": [
        "#Apagar linhas que apresentam valores nulos para todas as colunas - apaga a linha na qual todos os valores são nulos\n",
        "df.dropna(how='all', inplace=True)"
      ],
      "execution_count": 558,
      "outputs": []
    },
    {
      "cell_type": "code",
      "metadata": {
        "colab": {
          "base_uri": "https://localhost:8080/",
          "height": 419
        },
        "id": "Du0t9tFsZ76K",
        "outputId": "080426bf-3804-4fda-dfdf-02977cd17336"
      },
      "source": [
        "#Criação de uma nova coluna no dataframe:\n",
        "#df['nome_nova_coluna'] = definição_genérica_do_valor_de_cada_linha ou\n",
        "df['Receita'] = df.Vendas.mul(df.Qtde)\n",
        "df"
      ],
      "execution_count": 559,
      "outputs": [
        {
          "output_type": "execute_result",
          "data": {
            "text/html": [
              "<div>\n",
              "<style scoped>\n",
              "    .dataframe tbody tr th:only-of-type {\n",
              "        vertical-align: middle;\n",
              "    }\n",
              "\n",
              "    .dataframe tbody tr th {\n",
              "        vertical-align: top;\n",
              "    }\n",
              "\n",
              "    .dataframe thead th {\n",
              "        text-align: right;\n",
              "    }\n",
              "</style>\n",
              "<table border=\"1\" class=\"dataframe\">\n",
              "  <thead>\n",
              "    <tr style=\"text-align: right;\">\n",
              "      <th></th>\n",
              "      <th>Cidade</th>\n",
              "      <th>Data</th>\n",
              "      <th>Vendas</th>\n",
              "      <th>LojaID</th>\n",
              "      <th>Qtde</th>\n",
              "      <th>Receita</th>\n",
              "    </tr>\n",
              "  </thead>\n",
              "  <tbody>\n",
              "    <tr>\n",
              "      <th>0</th>\n",
              "      <td>Aracaju</td>\n",
              "      <td>2018-01-01</td>\n",
              "      <td>142.00</td>\n",
              "      <td>1520</td>\n",
              "      <td>1</td>\n",
              "      <td>142.00</td>\n",
              "    </tr>\n",
              "    <tr>\n",
              "      <th>1</th>\n",
              "      <td>Aracaju</td>\n",
              "      <td>2018-01-01</td>\n",
              "      <td>14.21</td>\n",
              "      <td>1522</td>\n",
              "      <td>6</td>\n",
              "      <td>85.26</td>\n",
              "    </tr>\n",
              "    <tr>\n",
              "      <th>2</th>\n",
              "      <td>Aracaju</td>\n",
              "      <td>2018-01-01</td>\n",
              "      <td>71.55</td>\n",
              "      <td>1520</td>\n",
              "      <td>1</td>\n",
              "      <td>71.55</td>\n",
              "    </tr>\n",
              "    <tr>\n",
              "      <th>3</th>\n",
              "      <td>Aracaju</td>\n",
              "      <td>2018-01-01</td>\n",
              "      <td>3.01</td>\n",
              "      <td>1521</td>\n",
              "      <td>7</td>\n",
              "      <td>21.07</td>\n",
              "    </tr>\n",
              "    <tr>\n",
              "      <th>4</th>\n",
              "      <td>Aracaju</td>\n",
              "      <td>2018-01-01</td>\n",
              "      <td>24.51</td>\n",
              "      <td>1522</td>\n",
              "      <td>8</td>\n",
              "      <td>196.08</td>\n",
              "    </tr>\n",
              "    <tr>\n",
              "      <th>...</th>\n",
              "      <td>...</td>\n",
              "      <td>...</td>\n",
              "      <td>...</td>\n",
              "      <td>...</td>\n",
              "      <td>...</td>\n",
              "      <td>...</td>\n",
              "    </tr>\n",
              "    <tr>\n",
              "      <th>235</th>\n",
              "      <td>Salvador</td>\n",
              "      <td>2019-01-03</td>\n",
              "      <td>41.84</td>\n",
              "      <td>1034</td>\n",
              "      <td>1</td>\n",
              "      <td>41.84</td>\n",
              "    </tr>\n",
              "    <tr>\n",
              "      <th>236</th>\n",
              "      <td>Salvador</td>\n",
              "      <td>2019-01-03</td>\n",
              "      <td>126.29</td>\n",
              "      <td>1035</td>\n",
              "      <td>3</td>\n",
              "      <td>378.87</td>\n",
              "    </tr>\n",
              "    <tr>\n",
              "      <th>237</th>\n",
              "      <td>Salvador</td>\n",
              "      <td>2019-01-03</td>\n",
              "      <td>38.06</td>\n",
              "      <td>1036</td>\n",
              "      <td>3</td>\n",
              "      <td>114.18</td>\n",
              "    </tr>\n",
              "    <tr>\n",
              "      <th>238</th>\n",
              "      <td>Salvador</td>\n",
              "      <td>2019-01-03</td>\n",
              "      <td>139.64</td>\n",
              "      <td>1035</td>\n",
              "      <td>1</td>\n",
              "      <td>139.64</td>\n",
              "    </tr>\n",
              "    <tr>\n",
              "      <th>239</th>\n",
              "      <td>Salvador</td>\n",
              "      <td>2019-01-03</td>\n",
              "      <td>161.41</td>\n",
              "      <td>1037</td>\n",
              "      <td>3</td>\n",
              "      <td>484.23</td>\n",
              "    </tr>\n",
              "  </tbody>\n",
              "</table>\n",
              "<p>894 rows × 6 columns</p>\n",
              "</div>"
            ],
            "text/plain": [
              "       Cidade       Data               Vendas LojaID  Qtde              Receita\n",
              "0     Aracaju 2018-01-01               142.00   1520     1               142.00\n",
              "1     Aracaju 2018-01-01                14.21   1522     6                85.26\n",
              "2     Aracaju 2018-01-01                71.55   1520     1                71.55\n",
              "3     Aracaju 2018-01-01                 3.01   1521     7                21.07\n",
              "4     Aracaju 2018-01-01                24.51   1522     8               196.08\n",
              "..        ...        ...                  ...    ...   ...                  ...\n",
              "235  Salvador 2019-01-03                41.84   1034     1                41.84\n",
              "236  Salvador 2019-01-03               126.29   1035     3               378.87\n",
              "237  Salvador 2019-01-03                38.06   1036     3               114.18\n",
              "238  Salvador 2019-01-03               139.64   1035     1               139.64\n",
              "239  Salvador 2019-01-03               161.41   1037     3               484.23\n",
              "\n",
              "[894 rows x 6 columns]"
            ]
          },
          "metadata": {},
          "execution_count": 559
        }
      ]
    },
    {
      "cell_type": "code",
      "metadata": {
        "colab": {
          "base_uri": "https://localhost:8080/"
        },
        "id": "sD05LORJbIjH",
        "outputId": "b70eae49-0d1f-45cd-c774-f00ac142d6cd"
      },
      "source": [
        "#Maior elemeneto de uma coluna:\n",
        "#df['nome_coluna'].max() ou\n",
        "#df.nome_coluna.max()\n",
        "\n",
        "#Maior receita do dataframe:\n",
        "df.Receita.max()"
      ],
      "execution_count": 560,
      "outputs": [
        {
          "output_type": "execute_result",
          "data": {
            "text/plain": [
              "3544.0"
            ]
          },
          "metadata": {},
          "execution_count": 560
        }
      ]
    },
    {
      "cell_type": "code",
      "metadata": {
        "colab": {
          "base_uri": "https://localhost:8080/"
        },
        "id": "_zJqv-HWbWtd",
        "outputId": "74fd745f-f723-4faf-e6b6-cde4ff2e6017"
      },
      "source": [
        "#Menor elemeneto de uma coluna:\n",
        "#df['nome_coluna'].min() ou\n",
        "#df.nome_coluna.min()\n",
        "\n",
        "#Menor receita do dataframe:\n",
        "df.Receita.min()"
      ],
      "execution_count": 561,
      "outputs": [
        {
          "output_type": "execute_result",
          "data": {
            "text/plain": [
              "3.34"
            ]
          },
          "metadata": {},
          "execution_count": 561
        }
      ]
    },
    {
      "cell_type": "code",
      "metadata": {
        "colab": {
          "base_uri": "https://localhost:8080/",
          "height": 142
        },
        "id": "46RtxlQEb1so",
        "outputId": "f51c1da9-2f85-45e0-f15e-b007b1ab0b0f"
      },
      "source": [
        "#Exibir as n linhas com os maiores valores de uma coluna:\n",
        "#df.nlargest(n, nome_coluna)\n",
        "df.nlargest(3, 'Receita')"
      ],
      "execution_count": 562,
      "outputs": [
        {
          "output_type": "execute_result",
          "data": {
            "text/html": [
              "<div>\n",
              "<style scoped>\n",
              "    .dataframe tbody tr th:only-of-type {\n",
              "        vertical-align: middle;\n",
              "    }\n",
              "\n",
              "    .dataframe tbody tr th {\n",
              "        vertical-align: top;\n",
              "    }\n",
              "\n",
              "    .dataframe thead th {\n",
              "        text-align: right;\n",
              "    }\n",
              "</style>\n",
              "<table border=\"1\" class=\"dataframe\">\n",
              "  <thead>\n",
              "    <tr style=\"text-align: right;\">\n",
              "      <th></th>\n",
              "      <th>Cidade</th>\n",
              "      <th>Data</th>\n",
              "      <th>Vendas</th>\n",
              "      <th>LojaID</th>\n",
              "      <th>Qtde</th>\n",
              "      <th>Receita</th>\n",
              "    </tr>\n",
              "  </thead>\n",
              "  <tbody>\n",
              "    <tr>\n",
              "      <th>7</th>\n",
              "      <td>Natal</td>\n",
              "      <td>2019-03-18</td>\n",
              "      <td>886.00</td>\n",
              "      <td>853</td>\n",
              "      <td>4</td>\n",
              "      <td>3,544.00</td>\n",
              "    </tr>\n",
              "    <tr>\n",
              "      <th>51</th>\n",
              "      <td>Natal</td>\n",
              "      <td>2018-01-21</td>\n",
              "      <td>859.00</td>\n",
              "      <td>852</td>\n",
              "      <td>4</td>\n",
              "      <td>3,436.00</td>\n",
              "    </tr>\n",
              "    <tr>\n",
              "      <th>55</th>\n",
              "      <td>Natal</td>\n",
              "      <td>2019-01-08</td>\n",
              "      <td>859.00</td>\n",
              "      <td>854</td>\n",
              "      <td>4</td>\n",
              "      <td>3,436.00</td>\n",
              "    </tr>\n",
              "  </tbody>\n",
              "</table>\n",
              "</div>"
            ],
            "text/plain": [
              "   Cidade       Data               Vendas LojaID  Qtde              Receita\n",
              "7   Natal 2019-03-18               886.00    853     4             3,544.00\n",
              "51  Natal 2018-01-21               859.00    852     4             3,436.00\n",
              "55  Natal 2019-01-08               859.00    854     4             3,436.00"
            ]
          },
          "metadata": {},
          "execution_count": 562
        }
      ]
    },
    {
      "cell_type": "code",
      "metadata": {
        "colab": {
          "base_uri": "https://localhost:8080/",
          "height": 142
        },
        "id": "MTCZLNJccMW-",
        "outputId": "4042ab0c-eaf3-4218-904f-1fbfbc5843fd"
      },
      "source": [
        "#Exibir as n linhas com os menores valores de uma coluna:\n",
        "#df.nsmallest(n, nome_coluna)\n",
        "df.nsmallest(3, 'Receita')"
      ],
      "execution_count": 563,
      "outputs": [
        {
          "output_type": "execute_result",
          "data": {
            "text/html": [
              "<div>\n",
              "<style scoped>\n",
              "    .dataframe tbody tr th:only-of-type {\n",
              "        vertical-align: middle;\n",
              "    }\n",
              "\n",
              "    .dataframe tbody tr th {\n",
              "        vertical-align: top;\n",
              "    }\n",
              "\n",
              "    .dataframe thead th {\n",
              "        text-align: right;\n",
              "    }\n",
              "</style>\n",
              "<table border=\"1\" class=\"dataframe\">\n",
              "  <thead>\n",
              "    <tr style=\"text-align: right;\">\n",
              "      <th></th>\n",
              "      <th>Cidade</th>\n",
              "      <th>Data</th>\n",
              "      <th>Vendas</th>\n",
              "      <th>LojaID</th>\n",
              "      <th>Qtde</th>\n",
              "      <th>Receita</th>\n",
              "    </tr>\n",
              "  </thead>\n",
              "  <tbody>\n",
              "    <tr>\n",
              "      <th>118</th>\n",
              "      <td>Aracaju</td>\n",
              "      <td>2018-01-01</td>\n",
              "      <td>3.34</td>\n",
              "      <td>1522</td>\n",
              "      <td>1</td>\n",
              "      <td>3.34</td>\n",
              "    </tr>\n",
              "    <tr>\n",
              "      <th>65</th>\n",
              "      <td>Recife</td>\n",
              "      <td>2019-01-01</td>\n",
              "      <td>4.01</td>\n",
              "      <td>981</td>\n",
              "      <td>1</td>\n",
              "      <td>4.01</td>\n",
              "    </tr>\n",
              "    <tr>\n",
              "      <th>92</th>\n",
              "      <td>Natal</td>\n",
              "      <td>2019-01-02</td>\n",
              "      <td>4.57</td>\n",
              "      <td>1035</td>\n",
              "      <td>1</td>\n",
              "      <td>4.57</td>\n",
              "    </tr>\n",
              "  </tbody>\n",
              "</table>\n",
              "</div>"
            ],
            "text/plain": [
              "      Cidade       Data               Vendas LojaID  Qtde              Receita\n",
              "118  Aracaju 2018-01-01                 3.34   1522     1                 3.34\n",
              "65    Recife 2019-01-01                 4.01    981     1                 4.01\n",
              "92     Natal 2019-01-02                 4.57   1035     1                 4.57"
            ]
          },
          "metadata": {},
          "execution_count": 563
        }
      ]
    },
    {
      "cell_type": "code",
      "metadata": {
        "colab": {
          "base_uri": "https://localhost:8080/"
        },
        "id": "hhB2WKfAcg8x",
        "outputId": "7013ee0d-6e05-4a8b-b1da-9370017d5a1a"
      },
      "source": [
        "#Agrupamento da receita por cidade:\n",
        "df.groupby('Cidade').Receita.sum()"
      ],
      "execution_count": 564,
      "outputs": [
        {
          "output_type": "execute_result",
          "data": {
            "text/plain": [
              "Cidade\n",
              "Aracaju                48,748.25\n",
              "Fortaleza              37,913.97\n",
              "Natal                 167,227.52\n",
              "Recife                 51,936.51\n",
              "Salvador               40,596.73\n",
              "Name: Receita, dtype: float64"
            ]
          },
          "metadata": {},
          "execution_count": 564
        }
      ]
    },
    {
      "cell_type": "code",
      "metadata": {
        "colab": {
          "base_uri": "https://localhost:8080/",
          "height": 204
        },
        "id": "M0zPMzRSc7vq",
        "outputId": "55eaba18-7b90-486e-8631-b8afb2b1213a"
      },
      "source": [
        "#Ordenação de valores:\n",
        "#df.sort_values('nome_coluna', ascending=[True | False]) #se ascending=True: ordem crescente; se ascending=False: ordem decrescente\n",
        "df.sort_values('Receita', ascending=False).head()"
      ],
      "execution_count": 565,
      "outputs": [
        {
          "output_type": "execute_result",
          "data": {
            "text/html": [
              "<div>\n",
              "<style scoped>\n",
              "    .dataframe tbody tr th:only-of-type {\n",
              "        vertical-align: middle;\n",
              "    }\n",
              "\n",
              "    .dataframe tbody tr th {\n",
              "        vertical-align: top;\n",
              "    }\n",
              "\n",
              "    .dataframe thead th {\n",
              "        text-align: right;\n",
              "    }\n",
              "</style>\n",
              "<table border=\"1\" class=\"dataframe\">\n",
              "  <thead>\n",
              "    <tr style=\"text-align: right;\">\n",
              "      <th></th>\n",
              "      <th>Cidade</th>\n",
              "      <th>Data</th>\n",
              "      <th>Vendas</th>\n",
              "      <th>LojaID</th>\n",
              "      <th>Qtde</th>\n",
              "      <th>Receita</th>\n",
              "    </tr>\n",
              "  </thead>\n",
              "  <tbody>\n",
              "    <tr>\n",
              "      <th>7</th>\n",
              "      <td>Natal</td>\n",
              "      <td>2019-03-18</td>\n",
              "      <td>886.00</td>\n",
              "      <td>853</td>\n",
              "      <td>4</td>\n",
              "      <td>3,544.00</td>\n",
              "    </tr>\n",
              "    <tr>\n",
              "      <th>55</th>\n",
              "      <td>Natal</td>\n",
              "      <td>2019-01-08</td>\n",
              "      <td>859.00</td>\n",
              "      <td>854</td>\n",
              "      <td>4</td>\n",
              "      <td>3,436.00</td>\n",
              "    </tr>\n",
              "    <tr>\n",
              "      <th>51</th>\n",
              "      <td>Natal</td>\n",
              "      <td>2018-01-21</td>\n",
              "      <td>859.00</td>\n",
              "      <td>852</td>\n",
              "      <td>4</td>\n",
              "      <td>3,436.00</td>\n",
              "    </tr>\n",
              "    <tr>\n",
              "      <th>30</th>\n",
              "      <td>Natal</td>\n",
              "      <td>2018-10-02</td>\n",
              "      <td>856.00</td>\n",
              "      <td>853</td>\n",
              "      <td>4</td>\n",
              "      <td>3,424.00</td>\n",
              "    </tr>\n",
              "    <tr>\n",
              "      <th>41</th>\n",
              "      <td>Natal</td>\n",
              "      <td>2018-05-20</td>\n",
              "      <td>835.00</td>\n",
              "      <td>852</td>\n",
              "      <td>4</td>\n",
              "      <td>3,340.00</td>\n",
              "    </tr>\n",
              "  </tbody>\n",
              "</table>\n",
              "</div>"
            ],
            "text/plain": [
              "   Cidade       Data               Vendas LojaID  Qtde              Receita\n",
              "7   Natal 2019-03-18               886.00    853     4             3,544.00\n",
              "55  Natal 2019-01-08               859.00    854     4             3,436.00\n",
              "51  Natal 2018-01-21               859.00    852     4             3,436.00\n",
              "30  Natal 2018-10-02               856.00    853     4             3,424.00\n",
              "41  Natal 2018-05-20               835.00    852     4             3,340.00"
            ]
          },
          "metadata": {},
          "execution_count": 565
        }
      ]
    },
    {
      "cell_type": "code",
      "metadata": {
        "colab": {
          "base_uri": "https://localhost:8080/"
        },
        "id": "D-GPWe-yj8M7",
        "outputId": "b7d8016f-5088-4081-cb3a-bcf5f3882300"
      },
      "source": [
        "df.dtypes"
      ],
      "execution_count": 566,
      "outputs": [
        {
          "output_type": "execute_result",
          "data": {
            "text/plain": [
              "Cidade             object\n",
              "Data       datetime64[ns]\n",
              "Vendas            float64\n",
              "LojaID             object\n",
              "Qtde                int64\n",
              "Receita           float64\n",
              "dtype: object"
            ]
          },
          "metadata": {},
          "execution_count": 566
        }
      ]
    },
    {
      "cell_type": "code",
      "metadata": {
        "colab": {
          "base_uri": "https://localhost:8080/"
        },
        "id": "SqHsdtShjOg0",
        "outputId": "cc50b493-5474-4239-9d31-2f8d3e42c3f9"
      },
      "source": [
        "#Transformar a data para inteiro:\n",
        "df.Data = df.Data.astype('int64')\n",
        "df.dtypes"
      ],
      "execution_count": 567,
      "outputs": [
        {
          "output_type": "execute_result",
          "data": {
            "text/plain": [
              "Cidade      object\n",
              "Data         int64\n",
              "Vendas     float64\n",
              "LojaID      object\n",
              "Qtde         int64\n",
              "Receita    float64\n",
              "dtype: object"
            ]
          },
          "metadata": {},
          "execution_count": 567
        }
      ]
    },
    {
      "cell_type": "code",
      "metadata": {
        "colab": {
          "base_uri": "https://localhost:8080/"
        },
        "id": "bi-LXY8KkoIl",
        "outputId": "b2d8e6ab-b6e6-4577-fdac-9804e1028b8b"
      },
      "source": [
        "#Transformar a data para datetime:\n",
        "#Funçao to_datetime():\n",
        "#df.nome_coluna = pd.todatetime()\n",
        "df.Data = pd.to_datetime(df.Data)\n",
        "df.dtypes"
      ],
      "execution_count": 568,
      "outputs": [
        {
          "output_type": "execute_result",
          "data": {
            "text/plain": [
              "Cidade             object\n",
              "Data       datetime64[ns]\n",
              "Vendas            float64\n",
              "LojaID             object\n",
              "Qtde                int64\n",
              "Receita           float64\n",
              "dtype: object"
            ]
          },
          "metadata": {},
          "execution_count": 568
        }
      ]
    },
    {
      "cell_type": "code",
      "metadata": {
        "colab": {
          "base_uri": "https://localhost:8080/"
        },
        "id": "FEckKNS7l7uw",
        "outputId": "a6ec3e0a-54a8-4aea-ccc5-38d3c4d6005c"
      },
      "source": [
        "#Agrupamento da receita por ano:\n",
        "#Atributo year do atributo dt - dt.year:\n",
        "#df.coluna_data.dt.year\n",
        "df.groupby(df.Data.dt.year)['Receita'].sum()"
      ],
      "execution_count": 569,
      "outputs": [
        {
          "output_type": "execute_result",
          "data": {
            "text/plain": [
              "Data\n",
              "2018             118,176.53\n",
              "2019             228,246.45\n",
              "Name: Receita, dtype: float64"
            ]
          },
          "metadata": {},
          "execution_count": 569
        }
      ]
    },
    {
      "cell_type": "code",
      "metadata": {
        "colab": {
          "base_uri": "https://localhost:8080/",
          "height": 204
        },
        "id": "mvCJbB3Dm_QH",
        "outputId": "b4cf7edc-0a4b-42f9-d0da-d6e96ca2eabd"
      },
      "source": [
        "#Criação de uma coluna com os respectivos anos:\n",
        "df['Ano'] = df.Data.dt.year\n",
        "df.head()"
      ],
      "execution_count": 570,
      "outputs": [
        {
          "output_type": "execute_result",
          "data": {
            "text/html": [
              "<div>\n",
              "<style scoped>\n",
              "    .dataframe tbody tr th:only-of-type {\n",
              "        vertical-align: middle;\n",
              "    }\n",
              "\n",
              "    .dataframe tbody tr th {\n",
              "        vertical-align: top;\n",
              "    }\n",
              "\n",
              "    .dataframe thead th {\n",
              "        text-align: right;\n",
              "    }\n",
              "</style>\n",
              "<table border=\"1\" class=\"dataframe\">\n",
              "  <thead>\n",
              "    <tr style=\"text-align: right;\">\n",
              "      <th></th>\n",
              "      <th>Cidade</th>\n",
              "      <th>Data</th>\n",
              "      <th>Vendas</th>\n",
              "      <th>LojaID</th>\n",
              "      <th>Qtde</th>\n",
              "      <th>Receita</th>\n",
              "      <th>Ano</th>\n",
              "    </tr>\n",
              "  </thead>\n",
              "  <tbody>\n",
              "    <tr>\n",
              "      <th>0</th>\n",
              "      <td>Aracaju</td>\n",
              "      <td>2018-01-01</td>\n",
              "      <td>142.00</td>\n",
              "      <td>1520</td>\n",
              "      <td>1</td>\n",
              "      <td>142.00</td>\n",
              "      <td>2018</td>\n",
              "    </tr>\n",
              "    <tr>\n",
              "      <th>1</th>\n",
              "      <td>Aracaju</td>\n",
              "      <td>2018-01-01</td>\n",
              "      <td>14.21</td>\n",
              "      <td>1522</td>\n",
              "      <td>6</td>\n",
              "      <td>85.26</td>\n",
              "      <td>2018</td>\n",
              "    </tr>\n",
              "    <tr>\n",
              "      <th>2</th>\n",
              "      <td>Aracaju</td>\n",
              "      <td>2018-01-01</td>\n",
              "      <td>71.55</td>\n",
              "      <td>1520</td>\n",
              "      <td>1</td>\n",
              "      <td>71.55</td>\n",
              "      <td>2018</td>\n",
              "    </tr>\n",
              "    <tr>\n",
              "      <th>3</th>\n",
              "      <td>Aracaju</td>\n",
              "      <td>2018-01-01</td>\n",
              "      <td>3.01</td>\n",
              "      <td>1521</td>\n",
              "      <td>7</td>\n",
              "      <td>21.07</td>\n",
              "      <td>2018</td>\n",
              "    </tr>\n",
              "    <tr>\n",
              "      <th>4</th>\n",
              "      <td>Aracaju</td>\n",
              "      <td>2018-01-01</td>\n",
              "      <td>24.51</td>\n",
              "      <td>1522</td>\n",
              "      <td>8</td>\n",
              "      <td>196.08</td>\n",
              "      <td>2018</td>\n",
              "    </tr>\n",
              "  </tbody>\n",
              "</table>\n",
              "</div>"
            ],
            "text/plain": [
              "    Cidade       Data               Vendas  ... Qtde              Receita   Ano\n",
              "0  Aracaju 2018-01-01               142.00  ...    1               142.00  2018\n",
              "1  Aracaju 2018-01-01                14.21  ...    6                85.26  2018\n",
              "2  Aracaju 2018-01-01                71.55  ...    1                71.55  2018\n",
              "3  Aracaju 2018-01-01                 3.01  ...    7                21.07  2018\n",
              "4  Aracaju 2018-01-01                24.51  ...    8               196.08  2018\n",
              "\n",
              "[5 rows x 7 columns]"
            ]
          },
          "metadata": {},
          "execution_count": 570
        }
      ]
    },
    {
      "cell_type": "code",
      "metadata": {
        "colab": {
          "base_uri": "https://localhost:8080/",
          "height": 297
        },
        "id": "kzF6mjqxnZc6",
        "outputId": "896e7c4a-184f-455e-f57b-8c147ffc643c"
      },
      "source": [
        "#Criação de uma coluna para o mês e outra para o dia das vendas:\n",
        "df['Mês'] = df.Data.dt.month\n",
        "df['Dia'] = df.Data.dt.day\n",
        "df.sample(8)"
      ],
      "execution_count": 571,
      "outputs": [
        {
          "output_type": "execute_result",
          "data": {
            "text/html": [
              "<div>\n",
              "<style scoped>\n",
              "    .dataframe tbody tr th:only-of-type {\n",
              "        vertical-align: middle;\n",
              "    }\n",
              "\n",
              "    .dataframe tbody tr th {\n",
              "        vertical-align: top;\n",
              "    }\n",
              "\n",
              "    .dataframe thead th {\n",
              "        text-align: right;\n",
              "    }\n",
              "</style>\n",
              "<table border=\"1\" class=\"dataframe\">\n",
              "  <thead>\n",
              "    <tr style=\"text-align: right;\">\n",
              "      <th></th>\n",
              "      <th>Cidade</th>\n",
              "      <th>Data</th>\n",
              "      <th>Vendas</th>\n",
              "      <th>LojaID</th>\n",
              "      <th>Qtde</th>\n",
              "      <th>Receita</th>\n",
              "      <th>Ano</th>\n",
              "      <th>Mês</th>\n",
              "      <th>Dia</th>\n",
              "    </tr>\n",
              "  </thead>\n",
              "  <tbody>\n",
              "    <tr>\n",
              "      <th>132</th>\n",
              "      <td>Salvador</td>\n",
              "      <td>2019-03-02</td>\n",
              "      <td>19.61</td>\n",
              "      <td>1036</td>\n",
              "      <td>2</td>\n",
              "      <td>39.22</td>\n",
              "      <td>2019</td>\n",
              "      <td>3</td>\n",
              "      <td>2</td>\n",
              "    </tr>\n",
              "    <tr>\n",
              "      <th>82</th>\n",
              "      <td>Recife</td>\n",
              "      <td>2019-01-01</td>\n",
              "      <td>29.55</td>\n",
              "      <td>981</td>\n",
              "      <td>6</td>\n",
              "      <td>177.30</td>\n",
              "      <td>2019</td>\n",
              "      <td>1</td>\n",
              "      <td>1</td>\n",
              "    </tr>\n",
              "    <tr>\n",
              "      <th>56</th>\n",
              "      <td>Natal</td>\n",
              "      <td>2018-03-02</td>\n",
              "      <td>704.00</td>\n",
              "      <td>852</td>\n",
              "      <td>4</td>\n",
              "      <td>2,816.00</td>\n",
              "      <td>2018</td>\n",
              "      <td>3</td>\n",
              "      <td>2</td>\n",
              "    </tr>\n",
              "    <tr>\n",
              "      <th>43</th>\n",
              "      <td>Fortaleza</td>\n",
              "      <td>2019-01-01</td>\n",
              "      <td>191.52</td>\n",
              "      <td>1004</td>\n",
              "      <td>1</td>\n",
              "      <td>191.52</td>\n",
              "      <td>2019</td>\n",
              "      <td>1</td>\n",
              "      <td>1</td>\n",
              "    </tr>\n",
              "    <tr>\n",
              "      <th>143</th>\n",
              "      <td>Salvador</td>\n",
              "      <td>2019-01-02</td>\n",
              "      <td>41.18</td>\n",
              "      <td>1037</td>\n",
              "      <td>2</td>\n",
              "      <td>82.36</td>\n",
              "      <td>2019</td>\n",
              "      <td>1</td>\n",
              "      <td>2</td>\n",
              "    </tr>\n",
              "    <tr>\n",
              "      <th>188</th>\n",
              "      <td>Natal</td>\n",
              "      <td>2019-01-02</td>\n",
              "      <td>178.11</td>\n",
              "      <td>1035</td>\n",
              "      <td>3</td>\n",
              "      <td>534.33</td>\n",
              "      <td>2019</td>\n",
              "      <td>1</td>\n",
              "      <td>2</td>\n",
              "    </tr>\n",
              "    <tr>\n",
              "      <th>124</th>\n",
              "      <td>Salvador</td>\n",
              "      <td>2019-03-02</td>\n",
              "      <td>44.82</td>\n",
              "      <td>1034</td>\n",
              "      <td>3</td>\n",
              "      <td>134.46</td>\n",
              "      <td>2019</td>\n",
              "      <td>3</td>\n",
              "      <td>2</td>\n",
              "    </tr>\n",
              "    <tr>\n",
              "      <th>125</th>\n",
              "      <td>Natal</td>\n",
              "      <td>2019-01-02</td>\n",
              "      <td>25.00</td>\n",
              "      <td>1037</td>\n",
              "      <td>2</td>\n",
              "      <td>50.00</td>\n",
              "      <td>2019</td>\n",
              "      <td>1</td>\n",
              "      <td>2</td>\n",
              "    </tr>\n",
              "  </tbody>\n",
              "</table>\n",
              "</div>"
            ],
            "text/plain": [
              "        Cidade       Data               Vendas  ...   Ano  Mês  Dia\n",
              "132   Salvador 2019-03-02                19.61  ...  2019    3    2\n",
              "82      Recife 2019-01-01                29.55  ...  2019    1    1\n",
              "56       Natal 2018-03-02               704.00  ...  2018    3    2\n",
              "43   Fortaleza 2019-01-01               191.52  ...  2019    1    1\n",
              "143   Salvador 2019-01-02                41.18  ...  2019    1    2\n",
              "188      Natal 2019-01-02               178.11  ...  2019    1    2\n",
              "124   Salvador 2019-03-02                44.82  ...  2019    3    2\n",
              "125      Natal 2019-01-02                25.00  ...  2019    1    2\n",
              "\n",
              "[8 rows x 9 columns]"
            ]
          },
          "metadata": {},
          "execution_count": 571
        }
      ]
    },
    {
      "cell_type": "code",
      "metadata": {
        "colab": {
          "base_uri": "https://localhost:8080/"
        },
        "id": "x-1WxYmSpJU2",
        "outputId": "a75158c7-7508-4c88-9786-e46baee47eee"
      },
      "source": [
        "#Data da venda mais antiga:\n",
        "df.Data.min()"
      ],
      "execution_count": 572,
      "outputs": [
        {
          "output_type": "execute_result",
          "data": {
            "text/plain": [
              "Timestamp('2018-01-01 00:00:00')"
            ]
          },
          "metadata": {},
          "execution_count": 572
        }
      ]
    },
    {
      "cell_type": "code",
      "metadata": {
        "colab": {
          "base_uri": "https://localhost:8080/"
        },
        "id": "yFYJLT_Ep9UM",
        "outputId": "5260d17b-af22-4364-e3f9-4c9b4c8d28c6"
      },
      "source": [
        "#Data da venda mais recente:\n",
        "df.Data.max()"
      ],
      "execution_count": 573,
      "outputs": [
        {
          "output_type": "execute_result",
          "data": {
            "text/plain": [
              "Timestamp('2019-04-05 00:00:00')"
            ]
          },
          "metadata": {},
          "execution_count": 573
        }
      ]
    },
    {
      "cell_type": "code",
      "metadata": {
        "colab": {
          "base_uri": "https://localhost:8080/",
          "height": 297
        },
        "id": "GwQBZde2qTVz",
        "outputId": "dcbf0907-6af4-47a1-c151-04b6fe15449a"
      },
      "source": [
        "#Calculo de diferença de dias entre datas:\n",
        "df['Diferença_dias'] = df.Data - df.Data.min()\n",
        "df.sample(8)"
      ],
      "execution_count": 574,
      "outputs": [
        {
          "output_type": "execute_result",
          "data": {
            "text/html": [
              "<div>\n",
              "<style scoped>\n",
              "    .dataframe tbody tr th:only-of-type {\n",
              "        vertical-align: middle;\n",
              "    }\n",
              "\n",
              "    .dataframe tbody tr th {\n",
              "        vertical-align: top;\n",
              "    }\n",
              "\n",
              "    .dataframe thead th {\n",
              "        text-align: right;\n",
              "    }\n",
              "</style>\n",
              "<table border=\"1\" class=\"dataframe\">\n",
              "  <thead>\n",
              "    <tr style=\"text-align: right;\">\n",
              "      <th></th>\n",
              "      <th>Cidade</th>\n",
              "      <th>Data</th>\n",
              "      <th>Vendas</th>\n",
              "      <th>LojaID</th>\n",
              "      <th>Qtde</th>\n",
              "      <th>Receita</th>\n",
              "      <th>Ano</th>\n",
              "      <th>Mês</th>\n",
              "      <th>Dia</th>\n",
              "      <th>Diferença_dias</th>\n",
              "    </tr>\n",
              "  </thead>\n",
              "  <tbody>\n",
              "    <tr>\n",
              "      <th>83</th>\n",
              "      <td>Fortaleza</td>\n",
              "      <td>2019-01-01</td>\n",
              "      <td>3.88</td>\n",
              "      <td>1002</td>\n",
              "      <td>6</td>\n",
              "      <td>23.28</td>\n",
              "      <td>2019</td>\n",
              "      <td>1</td>\n",
              "      <td>1</td>\n",
              "      <td>365 days</td>\n",
              "    </tr>\n",
              "    <tr>\n",
              "      <th>179</th>\n",
              "      <td>Natal</td>\n",
              "      <td>2019-01-02</td>\n",
              "      <td>64.95</td>\n",
              "      <td>1036</td>\n",
              "      <td>1</td>\n",
              "      <td>64.95</td>\n",
              "      <td>2019</td>\n",
              "      <td>1</td>\n",
              "      <td>2</td>\n",
              "      <td>366 days</td>\n",
              "    </tr>\n",
              "    <tr>\n",
              "      <th>216</th>\n",
              "      <td>Salvador</td>\n",
              "      <td>2019-01-02</td>\n",
              "      <td>5.82</td>\n",
              "      <td>1035</td>\n",
              "      <td>1</td>\n",
              "      <td>5.82</td>\n",
              "      <td>2019</td>\n",
              "      <td>1</td>\n",
              "      <td>2</td>\n",
              "      <td>366 days</td>\n",
              "    </tr>\n",
              "    <tr>\n",
              "      <th>56</th>\n",
              "      <td>Aracaju</td>\n",
              "      <td>2018-01-01</td>\n",
              "      <td>41.90</td>\n",
              "      <td>1523</td>\n",
              "      <td>6</td>\n",
              "      <td>251.40</td>\n",
              "      <td>2018</td>\n",
              "      <td>1</td>\n",
              "      <td>1</td>\n",
              "      <td>0 days</td>\n",
              "    </tr>\n",
              "    <tr>\n",
              "      <th>0</th>\n",
              "      <td>Natal</td>\n",
              "      <td>2018-08-27</td>\n",
              "      <td>606.00</td>\n",
              "      <td>853</td>\n",
              "      <td>2</td>\n",
              "      <td>1,212.00</td>\n",
              "      <td>2018</td>\n",
              "      <td>8</td>\n",
              "      <td>27</td>\n",
              "      <td>238 days</td>\n",
              "    </tr>\n",
              "    <tr>\n",
              "      <th>10</th>\n",
              "      <td>Fortaleza</td>\n",
              "      <td>2019-01-01</td>\n",
              "      <td>179.88</td>\n",
              "      <td>1002</td>\n",
              "      <td>4</td>\n",
              "      <td>719.52</td>\n",
              "      <td>2019</td>\n",
              "      <td>1</td>\n",
              "      <td>1</td>\n",
              "      <td>365 days</td>\n",
              "    </tr>\n",
              "    <tr>\n",
              "      <th>92</th>\n",
              "      <td>Aracaju</td>\n",
              "      <td>2018-01-01</td>\n",
              "      <td>37.46</td>\n",
              "      <td>1520</td>\n",
              "      <td>7</td>\n",
              "      <td>262.22</td>\n",
              "      <td>2018</td>\n",
              "      <td>1</td>\n",
              "      <td>1</td>\n",
              "      <td>0 days</td>\n",
              "    </tr>\n",
              "    <tr>\n",
              "      <th>53</th>\n",
              "      <td>Salvador</td>\n",
              "      <td>2019-01-01</td>\n",
              "      <td>39.50</td>\n",
              "      <td>1035</td>\n",
              "      <td>3</td>\n",
              "      <td>118.50</td>\n",
              "      <td>2019</td>\n",
              "      <td>1</td>\n",
              "      <td>1</td>\n",
              "      <td>365 days</td>\n",
              "    </tr>\n",
              "  </tbody>\n",
              "</table>\n",
              "</div>"
            ],
            "text/plain": [
              "        Cidade       Data               Vendas  ... Mês  Dia  Diferença_dias\n",
              "83   Fortaleza 2019-01-01                 3.88  ...   1    1        365 days\n",
              "179      Natal 2019-01-02                64.95  ...   1    2        366 days\n",
              "216   Salvador 2019-01-02                 5.82  ...   1    2        366 days\n",
              "56     Aracaju 2018-01-01                41.90  ...   1    1          0 days\n",
              "0        Natal 2018-08-27               606.00  ...   8   27        238 days\n",
              "10   Fortaleza 2019-01-01               179.88  ...   1    1        365 days\n",
              "92     Aracaju 2018-01-01                37.46  ...   1    1          0 days\n",
              "53    Salvador 2019-01-01                39.50  ...   1    1        365 days\n",
              "\n",
              "[8 rows x 10 columns]"
            ]
          },
          "metadata": {},
          "execution_count": 574
        }
      ]
    },
    {
      "cell_type": "code",
      "metadata": {
        "colab": {
          "base_uri": "https://localhost:8080/",
          "height": 359
        },
        "id": "mFBnY7jdq1ek",
        "outputId": "9681691c-b871-47e1-be17-3982423072a9"
      },
      "source": [
        "#Adição da coluna do trimestre do ano em que cada venda ocorreu:\n",
        "#Atributo quarter - dt.quarter:\n",
        "df['Trimestre'] = df.Data.dt.quarter\n",
        "df.sample(10)"
      ],
      "execution_count": 575,
      "outputs": [
        {
          "output_type": "execute_result",
          "data": {
            "text/html": [
              "<div>\n",
              "<style scoped>\n",
              "    .dataframe tbody tr th:only-of-type {\n",
              "        vertical-align: middle;\n",
              "    }\n",
              "\n",
              "    .dataframe tbody tr th {\n",
              "        vertical-align: top;\n",
              "    }\n",
              "\n",
              "    .dataframe thead th {\n",
              "        text-align: right;\n",
              "    }\n",
              "</style>\n",
              "<table border=\"1\" class=\"dataframe\">\n",
              "  <thead>\n",
              "    <tr style=\"text-align: right;\">\n",
              "      <th></th>\n",
              "      <th>Cidade</th>\n",
              "      <th>Data</th>\n",
              "      <th>Vendas</th>\n",
              "      <th>LojaID</th>\n",
              "      <th>Qtde</th>\n",
              "      <th>Receita</th>\n",
              "      <th>Ano</th>\n",
              "      <th>Mês</th>\n",
              "      <th>Dia</th>\n",
              "      <th>Diferença_dias</th>\n",
              "      <th>Trimestre</th>\n",
              "    </tr>\n",
              "  </thead>\n",
              "  <tbody>\n",
              "    <tr>\n",
              "      <th>116</th>\n",
              "      <td>Aracaju</td>\n",
              "      <td>2018-01-01</td>\n",
              "      <td>48.44</td>\n",
              "      <td>1522</td>\n",
              "      <td>4</td>\n",
              "      <td>193.76</td>\n",
              "      <td>2018</td>\n",
              "      <td>1</td>\n",
              "      <td>1</td>\n",
              "      <td>0 days</td>\n",
              "      <td>1</td>\n",
              "    </tr>\n",
              "    <tr>\n",
              "      <th>105</th>\n",
              "      <td>Aracaju</td>\n",
              "      <td>2018-01-01</td>\n",
              "      <td>24.81</td>\n",
              "      <td>1520</td>\n",
              "      <td>5</td>\n",
              "      <td>124.05</td>\n",
              "      <td>2018</td>\n",
              "      <td>1</td>\n",
              "      <td>1</td>\n",
              "      <td>0 days</td>\n",
              "      <td>1</td>\n",
              "    </tr>\n",
              "    <tr>\n",
              "      <th>56</th>\n",
              "      <td>Salvador</td>\n",
              "      <td>2019-01-01</td>\n",
              "      <td>178.44</td>\n",
              "      <td>1035</td>\n",
              "      <td>3</td>\n",
              "      <td>535.32</td>\n",
              "      <td>2019</td>\n",
              "      <td>1</td>\n",
              "      <td>1</td>\n",
              "      <td>365 days</td>\n",
              "      <td>1</td>\n",
              "    </tr>\n",
              "    <tr>\n",
              "      <th>37</th>\n",
              "      <td>Fortaleza</td>\n",
              "      <td>2019-01-01</td>\n",
              "      <td>35.86</td>\n",
              "      <td>1002</td>\n",
              "      <td>6</td>\n",
              "      <td>215.16</td>\n",
              "      <td>2019</td>\n",
              "      <td>1</td>\n",
              "      <td>1</td>\n",
              "      <td>365 days</td>\n",
              "      <td>1</td>\n",
              "    </tr>\n",
              "    <tr>\n",
              "      <th>124</th>\n",
              "      <td>Natal</td>\n",
              "      <td>2019-01-02</td>\n",
              "      <td>44.82</td>\n",
              "      <td>1034</td>\n",
              "      <td>3</td>\n",
              "      <td>134.46</td>\n",
              "      <td>2019</td>\n",
              "      <td>1</td>\n",
              "      <td>2</td>\n",
              "      <td>366 days</td>\n",
              "      <td>1</td>\n",
              "    </tr>\n",
              "    <tr>\n",
              "      <th>119</th>\n",
              "      <td>Salvador</td>\n",
              "      <td>2019-03-02</td>\n",
              "      <td>136.37</td>\n",
              "      <td>1034</td>\n",
              "      <td>2</td>\n",
              "      <td>272.74</td>\n",
              "      <td>2019</td>\n",
              "      <td>3</td>\n",
              "      <td>2</td>\n",
              "      <td>425 days</td>\n",
              "      <td>1</td>\n",
              "    </tr>\n",
              "    <tr>\n",
              "      <th>236</th>\n",
              "      <td>Salvador</td>\n",
              "      <td>2019-01-03</td>\n",
              "      <td>126.29</td>\n",
              "      <td>1035</td>\n",
              "      <td>3</td>\n",
              "      <td>378.87</td>\n",
              "      <td>2019</td>\n",
              "      <td>1</td>\n",
              "      <td>3</td>\n",
              "      <td>367 days</td>\n",
              "      <td>1</td>\n",
              "    </tr>\n",
              "    <tr>\n",
              "      <th>209</th>\n",
              "      <td>Natal</td>\n",
              "      <td>2019-01-02</td>\n",
              "      <td>69.98</td>\n",
              "      <td>1034</td>\n",
              "      <td>2</td>\n",
              "      <td>139.96</td>\n",
              "      <td>2019</td>\n",
              "      <td>1</td>\n",
              "      <td>2</td>\n",
              "      <td>366 days</td>\n",
              "      <td>1</td>\n",
              "    </tr>\n",
              "    <tr>\n",
              "      <th>140</th>\n",
              "      <td>Salvador</td>\n",
              "      <td>2019-03-02</td>\n",
              "      <td>20.79</td>\n",
              "      <td>1036</td>\n",
              "      <td>2</td>\n",
              "      <td>41.58</td>\n",
              "      <td>2019</td>\n",
              "      <td>3</td>\n",
              "      <td>2</td>\n",
              "      <td>425 days</td>\n",
              "      <td>1</td>\n",
              "    </tr>\n",
              "    <tr>\n",
              "      <th>91</th>\n",
              "      <td>Fortaleza</td>\n",
              "      <td>2019-01-01</td>\n",
              "      <td>37.49</td>\n",
              "      <td>1002</td>\n",
              "      <td>1</td>\n",
              "      <td>37.49</td>\n",
              "      <td>2019</td>\n",
              "      <td>1</td>\n",
              "      <td>1</td>\n",
              "      <td>365 days</td>\n",
              "      <td>1</td>\n",
              "    </tr>\n",
              "  </tbody>\n",
              "</table>\n",
              "</div>"
            ],
            "text/plain": [
              "        Cidade       Data               Vendas  ... Dia  Diferença_dias  Trimestre\n",
              "116    Aracaju 2018-01-01                48.44  ...   1          0 days          1\n",
              "105    Aracaju 2018-01-01                24.81  ...   1          0 days          1\n",
              "56    Salvador 2019-01-01               178.44  ...   1        365 days          1\n",
              "37   Fortaleza 2019-01-01                35.86  ...   1        365 days          1\n",
              "124      Natal 2019-01-02                44.82  ...   2        366 days          1\n",
              "119   Salvador 2019-03-02               136.37  ...   2        425 days          1\n",
              "236   Salvador 2019-01-03               126.29  ...   3        367 days          1\n",
              "209      Natal 2019-01-02                69.98  ...   2        366 days          1\n",
              "140   Salvador 2019-03-02                20.79  ...   2        425 days          1\n",
              "91   Fortaleza 2019-01-01                37.49  ...   1        365 days          1\n",
              "\n",
              "[10 rows x 11 columns]"
            ]
          },
          "metadata": {},
          "execution_count": 575
        }
      ]
    },
    {
      "cell_type": "code",
      "metadata": {
        "colab": {
          "base_uri": "https://localhost:8080/",
          "height": 359
        },
        "id": "UR-S8v42tMR7",
        "outputId": "0aecfae6-6d6e-4c05-d551-c1c9161fa92c"
      },
      "source": [
        "#Filtrar as vendas de 2019 do mês de março\n",
        "vendas_marco_2019 = df.loc[(df.Data.dt.year == 2019) & (df.Data.dt.month == 3)]\n",
        "vendas_marco_2019.sample(10)"
      ],
      "execution_count": 576,
      "outputs": [
        {
          "output_type": "execute_result",
          "data": {
            "text/html": [
              "<div>\n",
              "<style scoped>\n",
              "    .dataframe tbody tr th:only-of-type {\n",
              "        vertical-align: middle;\n",
              "    }\n",
              "\n",
              "    .dataframe tbody tr th {\n",
              "        vertical-align: top;\n",
              "    }\n",
              "\n",
              "    .dataframe thead th {\n",
              "        text-align: right;\n",
              "    }\n",
              "</style>\n",
              "<table border=\"1\" class=\"dataframe\">\n",
              "  <thead>\n",
              "    <tr style=\"text-align: right;\">\n",
              "      <th></th>\n",
              "      <th>Cidade</th>\n",
              "      <th>Data</th>\n",
              "      <th>Vendas</th>\n",
              "      <th>LojaID</th>\n",
              "      <th>Qtde</th>\n",
              "      <th>Receita</th>\n",
              "      <th>Ano</th>\n",
              "      <th>Mês</th>\n",
              "      <th>Dia</th>\n",
              "      <th>Diferença_dias</th>\n",
              "      <th>Trimestre</th>\n",
              "    </tr>\n",
              "  </thead>\n",
              "  <tbody>\n",
              "    <tr>\n",
              "      <th>50</th>\n",
              "      <td>Natal</td>\n",
              "      <td>2019-03-08</td>\n",
              "      <td>324.00</td>\n",
              "      <td>854</td>\n",
              "      <td>4</td>\n",
              "      <td>1,296.00</td>\n",
              "      <td>2019</td>\n",
              "      <td>3</td>\n",
              "      <td>8</td>\n",
              "      <td>431 days</td>\n",
              "      <td>1</td>\n",
              "    </tr>\n",
              "    <tr>\n",
              "      <th>19</th>\n",
              "      <td>Natal</td>\n",
              "      <td>2019-03-31</td>\n",
              "      <td>282.00</td>\n",
              "      <td>854</td>\n",
              "      <td>2</td>\n",
              "      <td>564.00</td>\n",
              "      <td>2019</td>\n",
              "      <td>3</td>\n",
              "      <td>31</td>\n",
              "      <td>454 days</td>\n",
              "      <td>1</td>\n",
              "    </tr>\n",
              "    <tr>\n",
              "      <th>125</th>\n",
              "      <td>Salvador</td>\n",
              "      <td>2019-03-02</td>\n",
              "      <td>25.00</td>\n",
              "      <td>1037</td>\n",
              "      <td>2</td>\n",
              "      <td>50.00</td>\n",
              "      <td>2019</td>\n",
              "      <td>3</td>\n",
              "      <td>2</td>\n",
              "      <td>425 days</td>\n",
              "      <td>1</td>\n",
              "    </tr>\n",
              "    <tr>\n",
              "      <th>131</th>\n",
              "      <td>Fortaleza</td>\n",
              "      <td>2019-03-02</td>\n",
              "      <td>139.07</td>\n",
              "      <td>982</td>\n",
              "      <td>6</td>\n",
              "      <td>834.42</td>\n",
              "      <td>2019</td>\n",
              "      <td>3</td>\n",
              "      <td>2</td>\n",
              "      <td>425 days</td>\n",
              "      <td>1</td>\n",
              "    </tr>\n",
              "    <tr>\n",
              "      <th>139</th>\n",
              "      <td>Salvador</td>\n",
              "      <td>2019-03-02</td>\n",
              "      <td>169.01</td>\n",
              "      <td>1036</td>\n",
              "      <td>1</td>\n",
              "      <td>169.01</td>\n",
              "      <td>2019</td>\n",
              "      <td>3</td>\n",
              "      <td>2</td>\n",
              "      <td>425 days</td>\n",
              "      <td>1</td>\n",
              "    </tr>\n",
              "    <tr>\n",
              "      <th>135</th>\n",
              "      <td>Salvador</td>\n",
              "      <td>2019-03-02</td>\n",
              "      <td>9.95</td>\n",
              "      <td>1037</td>\n",
              "      <td>3</td>\n",
              "      <td>29.85</td>\n",
              "      <td>2019</td>\n",
              "      <td>3</td>\n",
              "      <td>2</td>\n",
              "      <td>425 days</td>\n",
              "      <td>1</td>\n",
              "    </tr>\n",
              "    <tr>\n",
              "      <th>139</th>\n",
              "      <td>Recife</td>\n",
              "      <td>2019-03-02</td>\n",
              "      <td>141.16</td>\n",
              "      <td>980</td>\n",
              "      <td>7</td>\n",
              "      <td>988.12</td>\n",
              "      <td>2019</td>\n",
              "      <td>3</td>\n",
              "      <td>2</td>\n",
              "      <td>425 days</td>\n",
              "      <td>1</td>\n",
              "    </tr>\n",
              "    <tr>\n",
              "      <th>111</th>\n",
              "      <td>Fortaleza</td>\n",
              "      <td>2019-03-02</td>\n",
              "      <td>8.00</td>\n",
              "      <td>981</td>\n",
              "      <td>3</td>\n",
              "      <td>24.00</td>\n",
              "      <td>2019</td>\n",
              "      <td>3</td>\n",
              "      <td>2</td>\n",
              "      <td>425 days</td>\n",
              "      <td>1</td>\n",
              "    </tr>\n",
              "    <tr>\n",
              "      <th>134</th>\n",
              "      <td>Fortaleza</td>\n",
              "      <td>2019-03-02</td>\n",
              "      <td>195.18</td>\n",
              "      <td>980</td>\n",
              "      <td>5</td>\n",
              "      <td>975.90</td>\n",
              "      <td>2019</td>\n",
              "      <td>3</td>\n",
              "      <td>2</td>\n",
              "      <td>425 days</td>\n",
              "      <td>1</td>\n",
              "    </tr>\n",
              "    <tr>\n",
              "      <th>123</th>\n",
              "      <td>Recife</td>\n",
              "      <td>2019-03-02</td>\n",
              "      <td>20.22</td>\n",
              "      <td>981</td>\n",
              "      <td>6</td>\n",
              "      <td>121.32</td>\n",
              "      <td>2019</td>\n",
              "      <td>3</td>\n",
              "      <td>2</td>\n",
              "      <td>425 days</td>\n",
              "      <td>1</td>\n",
              "    </tr>\n",
              "  </tbody>\n",
              "</table>\n",
              "</div>"
            ],
            "text/plain": [
              "        Cidade       Data               Vendas  ... Dia  Diferença_dias  Trimestre\n",
              "50       Natal 2019-03-08               324.00  ...   8        431 days          1\n",
              "19       Natal 2019-03-31               282.00  ...  31        454 days          1\n",
              "125   Salvador 2019-03-02                25.00  ...   2        425 days          1\n",
              "131  Fortaleza 2019-03-02               139.07  ...   2        425 days          1\n",
              "139   Salvador 2019-03-02               169.01  ...   2        425 days          1\n",
              "135   Salvador 2019-03-02                 9.95  ...   2        425 days          1\n",
              "139     Recife 2019-03-02               141.16  ...   2        425 days          1\n",
              "111  Fortaleza 2019-03-02                 8.00  ...   2        425 days          1\n",
              "134  Fortaleza 2019-03-02               195.18  ...   2        425 days          1\n",
              "123     Recife 2019-03-02                20.22  ...   2        425 days          1\n",
              "\n",
              "[10 rows x 11 columns]"
            ]
          },
          "metadata": {},
          "execution_count": 576
        }
      ]
    },
    {
      "cell_type": "code",
      "metadata": {
        "colab": {
          "base_uri": "https://localhost:8080/"
        },
        "id": "H8U9w6LeRp4y",
        "outputId": "32e558d2-04a9-47ed-d83d-395889b00cf3"
      },
      "source": [
        "#Contar o  número de vendas de cada loja e exibi-los em ordem crescente:\n",
        "#Método value_counts() - conta o número de ocorrências de cada única ocorrência de uma coluna e as agrupa, retornando o resultado do agrupamento\n",
        "#Embora lembre o agrupamento pelo groupby, o value_counts() relaciona cada valor único de uma coluna com o seu número de ocorrênias na coluna,\n",
        "#ao passo que o groupby relaciona duas variáveis - em termos estatísticos - de um dataframe ao acumular os valores de uma coluna que são correspondentes\n",
        "#a um valor específico de outra, e então agrupá-los, mostrando a relação resutlante dessa operação\n",
        "df.LojaID.value_counts(ascending=False)"
      ],
      "execution_count": 577,
      "outputs": [
        {
          "output_type": "execute_result",
          "data": {
            "text/plain": [
              "1036    117\n",
              "1035    112\n",
              "1037    101\n",
              "1034     67\n",
              "983      65\n",
              "982      44\n",
              "1522     41\n",
              "1520     39\n",
              "980      36\n",
              "981      31\n",
              "1002     30\n",
              "1005     30\n",
              "852      29\n",
              "1523     29\n",
              "1004     28\n",
              "854      28\n",
              "853      26\n",
              "1521     21\n",
              "1003     20\n",
              "Name: LojaID, dtype: int64"
            ]
          },
          "metadata": {},
          "execution_count": 577
        }
      ]
    },
    {
      "cell_type": "code",
      "metadata": {
        "colab": {
          "base_uri": "https://localhost:8080/",
          "height": 359
        },
        "id": "eq3GE8ZZSRwI",
        "outputId": "30425954-51a8-4566-e941-690d56b7d5a3"
      },
      "source": [
        "#Gráfico de barras verticais para o número de vendas de cada loja:\n",
        "#Método plot.bar()\n",
        "df.LojaID.value_counts(ascending=False).plot.bar();"
      ],
      "execution_count": 578,
      "outputs": [
        {
          "output_type": "display_data",
          "data": {
            "image/png": "[encoded data removed]",
            "text/plain": [
              "<Figure size 576x396 with 1 Axes>"
            ]
          },
          "metadata": {}
        }
      ]
    },
    {
      "cell_type": "code",
      "metadata": {
        "colab": {
          "base_uri": "https://localhost:8080/",
          "height": 347
        },
        "id": "sc9na0etSpLw",
        "outputId": "ae993ce0-c71a-4d1c-f4fc-469f9c359528"
      },
      "source": [
        "#Gráfico de barras horizontais para o número de vendas de cada loja do menor para o maoir:\n",
        "#Método plot.barh(), com ascending=False\n",
        "df.LojaID.value_counts(ascending=False).plot.barh(); #ou\n",
        "#df.LojaID.value_counts().plot.barh()"
      ],
      "execution_count": 579,
      "outputs": [
        {
          "output_type": "display_data",
          "data": {
            "image/png": "[encoded data removed]",
            "text/plain": [
              "<Figure size 576x396 with 1 Axes>"
            ]
          },
          "metadata": {}
        }
      ]
    },
    {
      "cell_type": "code",
      "metadata": {
        "colab": {
          "base_uri": "https://localhost:8080/",
          "height": 347
        },
        "id": "1zS9ovw6TOqS",
        "outputId": "e87eedd0-d487-434d-d08c-e60e760929b3"
      },
      "source": [
        "#Gráfico de barras horizontais para o número de vendas de cada loja do maior para o menor:\n",
        "#Método plot.barh(), com ascending=True\n",
        "df.LojaID.value_counts(ascending=True).plot.barh();"
      ],
      "execution_count": 580,
      "outputs": [
        {
          "output_type": "display_data",
          "data": {
            "image/png": "[encoded data removed]",
            "text/plain": [
              "<Figure size 576x396 with 1 Axes>"
            ]
          },
          "metadata": {}
        }
      ]
    },
    {
      "cell_type": "code",
      "metadata": {
        "colab": {
          "base_uri": "https://localhost:8080/",
          "height": 330
        },
        "id": "-lsChmFsTrGW",
        "outputId": "008f70b6-703f-4b0a-f345-bdfa969d2bce"
      },
      "source": [
        "#Gráfico de pizza para a receita\n",
        "#Método plot.pie()\n",
        "df.groupby(df.Data.dt.year)['Receita'].sum().plot.pie();"
      ],
      "execution_count": 581,
      "outputs": [
        {
          "output_type": "display_data",
          "data": {
            "image/png": "[encoded data removed]",
            "text/plain": [
              "<Figure size 576x396 with 1 Axes>"
            ]
          },
          "metadata": {}
        }
      ]
    },
    {
      "cell_type": "code",
      "metadata": {
        "colab": {
          "base_uri": "https://localhost:8080/"
        },
        "id": "kiXYyG9KUi2l",
        "outputId": "c8cb6ffa-3338-4fc2-c47f-5cfb033c33fc"
      },
      "source": [
        "#Total de vendas por cidade usando o value_counts():\n",
        "df.Cidade.value_counts()"
      ],
      "execution_count": 582,
      "outputs": [
        {
          "output_type": "execute_result",
          "data": {
            "text/plain": [
              "Natal        240\n",
              "Salvador     240\n",
              "Fortaleza    142\n",
              "Recife       142\n",
              "Aracaju      130\n",
              "Name: Cidade, dtype: int64"
            ]
          },
          "metadata": {},
          "execution_count": 582
        }
      ]
    },
    {
      "cell_type": "code",
      "metadata": {
        "colab": {
          "base_uri": "https://localhost:8080/",
          "height": 408
        },
        "id": "aWZ8gy0mVMOt",
        "outputId": "4f53d61d-49e8-42ad-b600-689c0abc9c29"
      },
      "source": [
        "#Adicionar um título para o gráfico e labels nos seus eixos:\n",
        "#Para isso é necessário usar o método pyplot da biblioteca Matplotlib\n",
        "#Parâmetro title para o método bar de plor\n",
        "#Métodos xlabel e ylabel de pyplot\n",
        "import matplotlib.pyplot as plt\n",
        "df.Cidade.value_counts().plot.bar(title='Vendas por Cidade')\n",
        "plt.xlabel('Cidade')\n",
        "plt.ylabel('Total de vendas');"
      ],
      "execution_count": 583,
      "outputs": [
        {
          "output_type": "display_data",
          "data": {
            "image/png": "[encoded data removed]",
            "text/plain": [
              "<Figure size 576x396 with 1 Axes>"
            ]
          },
          "metadata": {}
        }
      ]
    },
    {
      "cell_type": "code",
      "metadata": {
        "colab": {
          "base_uri": "https://localhost:8080/",
          "height": 408
        },
        "id": "IcFzhnyBXFgW",
        "outputId": "dd2a2393-35d4-41f1-9f9b-0c842bcfc6d4"
      },
      "source": [
        "#Altear a cor do gráfico:\n",
        "df.Cidade.value_counts().plot.bar(title='Vendas por Cidade', color='purple')\n",
        "plt.xlabel('Cidade')\n",
        "plt.ylabel('Total de vendas');"
      ],
      "execution_count": 584,
      "outputs": [
        {
          "output_type": "display_data",
          "data": {
            "image/png": "[encoded data removed]",
            "text/plain": [
              "<Figure size 576x396 with 1 Axes>"
            ]
          },
          "metadata": {}
        }
      ]
    },
    {
      "cell_type": "code",
      "metadata": {
        "colab": {
          "base_uri": "https://localhost:8080/",
          "height": 380
        },
        "id": "9qWS733lXFxG",
        "outputId": "3e71c10d-bee6-4b05-8324-76e145254433"
      },
      "source": [
        "#Alterar o estilo do gráfico:\n",
        "#Método style.use() do pyplot\n",
        "plt.style.use('ggplot')\n",
        "\n",
        "#Agrupar quantidade de venas por mês:\n",
        "df.groupby(df.Mês)['Qtde'].sum().plot(title = 'Vendas por mês')\n",
        "plt.xlabel('Mês')\n",
        "plt.ylabel('Vendas')\n",
        "plt.legend();"
      ],
      "execution_count": 585,
      "outputs": [
        {
          "output_type": "display_data",
          "data": {
            "image/png": "[encoded data removed]",
            "text/plain": [
              "<Figure size 576x396 with 1 Axes>"
            ]
          },
          "metadata": {}
        }
      ]
    },
    {
      "cell_type": "code",
      "metadata": {
        "colab": {
          "base_uri": "https://localhost:8080/",
          "height": 347
        },
        "id": "_1Q2urE-dXW4",
        "outputId": "0b8b60c1-f902-4a79-b2ed-df10f30bea19"
      },
      "source": [
        "#Boxplot para a quantidade de vendas por loja:\n",
        "\n",
        "#Vendas por loja:\n",
        "vendas_loja = df.groupby(df.LojaID)['Qtde'].sum()\n",
        "plt.boxplot(vendas_loja);"
      ],
      "execution_count": 586,
      "outputs": [
        {
          "output_type": "display_data",
          "data": {
            "image/png": "[encoded data removed]",
            "text/plain": [
              "<Figure size 576x396 with 1 Axes>"
            ]
          },
          "metadata": {}
        }
      ]
    },
    {
      "cell_type": "code",
      "metadata": {
        "colab": {
          "base_uri": "https://localhost:8080/"
        },
        "id": "Zapxjb4Ygsgv",
        "outputId": "e06bc2e1-fe19-4e52-c4ab-34194098bff8"
      },
      "source": [
        "#Conferindo os quartis:\n",
        "q1 = vendas_loja.quantile(0.25)\n",
        "q2 = vendas_loja.quantile(0.50) #mediana\n",
        "q3 = vendas_loja.quantile(0.75)\n",
        "print('25% das lojas tiveram um total de vendas menor ou igual', q1)\n",
        "print('50% das lojas tiveram um total de vendas menor ou igual', q2)\n",
        "print('75% das lojas tiveram um total de vendas menor ou igual', q3)\n",
        "\n",
        "#25% das lojas tiveram um total de vendas menor ou igual a 97.5\n",
        "#50% das lojas tiveram um total de vendas menor ou igual a 132.0\n",
        "#75% das lojas tiveram um total de vendas menor ou igual a 205.\n",
        "\n",
        "#Exatamente como o boxplot sugere"
      ],
      "execution_count": 587,
      "outputs": [
        {
          "output_type": "stream",
          "name": "stdout",
          "text": [
            "25% das lojas tiveram um total de vendas menor ou igual 97.5\n",
            "50% das lojas tiveram um total de vendas menor ou igual 132.0\n",
            "75% das lojas tiveram um total de vendas menor ou igual 205.5\n"
          ]
        }
      ]
    },
    {
      "cell_type": "code",
      "metadata": {
        "colab": {
          "base_uri": "https://localhost:8080/"
        },
        "id": "WGUMLLTFi1Ka",
        "outputId": "e09b3b82-81f6-4653-c884-56bc50d4d3a8"
      },
      "source": [
        "#Comparando a mediana com o segundo quartil:\n",
        "mediana = vendas_loja.median()\n",
        "print('Mediana:', mediana)\n",
        "print('Segundo quartil:', q2)"
      ],
      "execution_count": 588,
      "outputs": [
        {
          "output_type": "stream",
          "name": "stdout",
          "text": [
            "Mediana: 132.0\n",
            "Segundo quartil: 132.0\n"
          ]
        }
      ]
    },
    {
      "cell_type": "code",
      "metadata": {
        "colab": {
          "base_uri": "https://localhost:8080/",
          "height": 204
        },
        "id": "9zPC2_fCjEzI",
        "outputId": "6cab3070-0f81-4449-baa4-c82c9016925b"
      },
      "source": [
        "#Selecionando as vendas do ano 2019\n",
        "df_2019 = df[df.Ano == 2019]\n",
        "df_2019.sample(5)"
      ],
      "execution_count": 589,
      "outputs": [
        {
          "output_type": "execute_result",
          "data": {
            "text/html": [
              "<div>\n",
              "<style scoped>\n",
              "    .dataframe tbody tr th:only-of-type {\n",
              "        vertical-align: middle;\n",
              "    }\n",
              "\n",
              "    .dataframe tbody tr th {\n",
              "        vertical-align: top;\n",
              "    }\n",
              "\n",
              "    .dataframe thead th {\n",
              "        text-align: right;\n",
              "    }\n",
              "</style>\n",
              "<table border=\"1\" class=\"dataframe\">\n",
              "  <thead>\n",
              "    <tr style=\"text-align: right;\">\n",
              "      <th></th>\n",
              "      <th>Cidade</th>\n",
              "      <th>Data</th>\n",
              "      <th>Vendas</th>\n",
              "      <th>LojaID</th>\n",
              "      <th>Qtde</th>\n",
              "      <th>Receita</th>\n",
              "      <th>Ano</th>\n",
              "      <th>Mês</th>\n",
              "      <th>Dia</th>\n",
              "      <th>Diferença_dias</th>\n",
              "      <th>Trimestre</th>\n",
              "    </tr>\n",
              "  </thead>\n",
              "  <tbody>\n",
              "    <tr>\n",
              "      <th>79</th>\n",
              "      <td>Recife</td>\n",
              "      <td>2019-01-01</td>\n",
              "      <td>14.53</td>\n",
              "      <td>983</td>\n",
              "      <td>6</td>\n",
              "      <td>87.18</td>\n",
              "      <td>2019</td>\n",
              "      <td>1</td>\n",
              "      <td>1</td>\n",
              "      <td>365 days</td>\n",
              "      <td>1</td>\n",
              "    </tr>\n",
              "    <tr>\n",
              "      <th>113</th>\n",
              "      <td>Salvador</td>\n",
              "      <td>2019-03-02</td>\n",
              "      <td>18.90</td>\n",
              "      <td>1034</td>\n",
              "      <td>3</td>\n",
              "      <td>56.70</td>\n",
              "      <td>2019</td>\n",
              "      <td>3</td>\n",
              "      <td>2</td>\n",
              "      <td>425 days</td>\n",
              "      <td>1</td>\n",
              "    </tr>\n",
              "    <tr>\n",
              "      <th>62</th>\n",
              "      <td>Recife</td>\n",
              "      <td>2019-01-01</td>\n",
              "      <td>23.04</td>\n",
              "      <td>983</td>\n",
              "      <td>6</td>\n",
              "      <td>138.24</td>\n",
              "      <td>2019</td>\n",
              "      <td>1</td>\n",
              "      <td>1</td>\n",
              "      <td>365 days</td>\n",
              "      <td>1</td>\n",
              "    </tr>\n",
              "    <tr>\n",
              "      <th>128</th>\n",
              "      <td>Natal</td>\n",
              "      <td>2019-01-02</td>\n",
              "      <td>36.84</td>\n",
              "      <td>1034</td>\n",
              "      <td>1</td>\n",
              "      <td>36.84</td>\n",
              "      <td>2019</td>\n",
              "      <td>1</td>\n",
              "      <td>2</td>\n",
              "      <td>366 days</td>\n",
              "      <td>1</td>\n",
              "    </tr>\n",
              "    <tr>\n",
              "      <th>57</th>\n",
              "      <td>Salvador</td>\n",
              "      <td>2019-01-01</td>\n",
              "      <td>11.72</td>\n",
              "      <td>1035</td>\n",
              "      <td>1</td>\n",
              "      <td>11.72</td>\n",
              "      <td>2019</td>\n",
              "      <td>1</td>\n",
              "      <td>1</td>\n",
              "      <td>365 days</td>\n",
              "      <td>1</td>\n",
              "    </tr>\n",
              "  </tbody>\n",
              "</table>\n",
              "</div>"
            ],
            "text/plain": [
              "       Cidade       Data               Vendas  ... Dia  Diferença_dias  Trimestre\n",
              "79     Recife 2019-01-01                14.53  ...   1        365 days          1\n",
              "113  Salvador 2019-03-02                18.90  ...   2        425 days          1\n",
              "62     Recife 2019-01-01                23.04  ...   1        365 days          1\n",
              "128     Natal 2019-01-02                36.84  ...   2        366 days          1\n",
              "57   Salvador 2019-01-01                11.72  ...   1        365 days          1\n",
              "\n",
              "[5 rows x 11 columns]"
            ]
          },
          "metadata": {},
          "execution_count": 589
        }
      ]
    },
    {
      "cell_type": "code",
      "metadata": {
        "colab": {
          "base_uri": "https://localhost:8080/",
          "height": 397
        },
        "id": "sWitYaBUrTIU",
        "outputId": "da5134f3-9a5a-4f18-91f7-b196159e46bc"
      },
      "source": [
        "#Total de vendas para cada mês do ano de 2019:\n",
        "df_2019.groupby(df_2019.Mês)['Qtde'].sum().plot(title='Vendas por mês de 2019',marker='o')\n",
        "plt.xlabel('Mês')\n",
        "plt.ylabel('Vendas')\n",
        "plt.legend()"
      ],
      "execution_count": 590,
      "outputs": [
        {
          "output_type": "execute_result",
          "data": {
            "text/plain": [
              "<matplotlib.legend.Legend at 0x7f45db939cd0>"
            ]
          },
          "metadata": {},
          "execution_count": 590
        },
        {
          "output_type": "display_data",
          "data": {
            "image/png": "[encoded data removed]",
            "text/plain": [
              "<Figure size 576x396 with 1 Axes>"
            ]
          },
          "metadata": {}
        }
      ]
    },
    {
      "cell_type": "code",
      "metadata": {
        "colab": {
          "base_uri": "https://localhost:8080/",
          "height": 347
        },
        "id": "fDTBsgW7tZ9f",
        "outputId": "181a092a-ed06-43b1-8d58-365d087606d8"
      },
      "source": [
        "#Histograma das quantidades de vendas:\n",
        "#Método hist()\n",
        "plt.hist(df.Qtde, color='black');"
      ],
      "execution_count": 591,
      "outputs": [
        {
          "output_type": "display_data",
          "data": {
            "image/png": "[encoded data removed]",
            "text/plain": [
              "<Figure size 576x396 with 1 Axes>"
            ]
          },
          "metadata": {}
        }
      ]
    },
    {
      "cell_type": "code",
      "metadata": {
        "colab": {
          "base_uri": "https://localhost:8080/",
          "height": 347
        },
        "id": "beTr1ul0uCSS",
        "outputId": "f75b48bc-fa1e-46bc-c96c-a1919a849f9d"
      },
      "source": [
        "#Gráfico de dispersão para os dias e as receitas do ano de 2019\n",
        "#Método scatter()\n",
        "plt.scatter(x = df_2019.Dia, y = df_2019.Receita, color='black')\n",
        "\n",
        "#Salvar o gráfico gerado:\n",
        "plt.savefig('Gráfico de dispersão Dias x Receitas 2019.png')"
      ],
      "execution_count": 592,
      "outputs": [
        {
          "output_type": "display_data",
          "data": {
            "image/png": "[encoded data removed]",
            "text/plain": [
              "<Figure size 576x396 with 1 Axes>"
            ]
          },
          "metadata": {}
        }
      ]
    },
    {
      "cell_type": "code",
      "metadata": {
        "id": "JQ5fHeu7umv0"
      },
      "source": [
        "plt.style.use('seaborn')"
      ],
      "execution_count": 593,
      "outputs": []
    },
    {
      "cell_type": "code",
      "metadata": {
        "colab": {
          "base_uri": "https://localhost:8080/",
          "height": 476
        },
        "id": "imL6kkFbpfgs",
        "outputId": "38206189-35dd-400d-d079-ea3af7dfc415"
      },
      "source": [
        "df = pd.read_excel('/content/drive/MyDrive/datasets_projeto_DIO/AdventureWorks.xlsx')\n",
        "df.head()"
      ],
      "execution_count": 594,
      "outputs": [
        {
          "output_type": "execute_result",
          "data": {
            "text/html": [
              "<div>\n",
              "<style scoped>\n",
              "    .dataframe tbody tr th:only-of-type {\n",
              "        vertical-align: middle;\n",
              "    }\n",
              "\n",
              "    .dataframe tbody tr th {\n",
              "        vertical-align: top;\n",
              "    }\n",
              "\n",
              "    .dataframe thead th {\n",
              "        text-align: right;\n",
              "    }\n",
              "</style>\n",
              "<table border=\"1\" class=\"dataframe\">\n",
              "  <thead>\n",
              "    <tr style=\"text-align: right;\">\n",
              "      <th></th>\n",
              "      <th>Data Venda</th>\n",
              "      <th>Data Envio</th>\n",
              "      <th>ID Loja</th>\n",
              "      <th>ID Produto</th>\n",
              "      <th>ID Cliente</th>\n",
              "      <th>No. Venda</th>\n",
              "      <th>Custo Unitário</th>\n",
              "      <th>Preço Unitário</th>\n",
              "      <th>Quantidade</th>\n",
              "      <th>Valor Desconto</th>\n",
              "      <th>Valor Venda</th>\n",
              "      <th>Produto</th>\n",
              "      <th>Fabricante</th>\n",
              "      <th>Marca</th>\n",
              "      <th>Classe</th>\n",
              "      <th>Cor</th>\n",
              "    </tr>\n",
              "  </thead>\n",
              "  <tbody>\n",
              "    <tr>\n",
              "      <th>0</th>\n",
              "      <td>2008-05-09</td>\n",
              "      <td>2008-05-29</td>\n",
              "      <td>199</td>\n",
              "      <td>384</td>\n",
              "      <td>18839</td>\n",
              "      <td>200805093CS607</td>\n",
              "      <td>348.58</td>\n",
              "      <td>758.00</td>\n",
              "      <td>6</td>\n",
              "      <td>0.00</td>\n",
              "      <td>4,548.00</td>\n",
              "      <td>Adventure Works Laptop15.4W M1548 Red</td>\n",
              "      <td>Adventure Works</td>\n",
              "      <td>Adventure Works</td>\n",
              "      <td>Regular</td>\n",
              "      <td>Red</td>\n",
              "    </tr>\n",
              "    <tr>\n",
              "      <th>1</th>\n",
              "      <td>2008-05-12</td>\n",
              "      <td>2008-05-17</td>\n",
              "      <td>306</td>\n",
              "      <td>384</td>\n",
              "      <td>19051</td>\n",
              "      <td>200805123CS567</td>\n",
              "      <td>348.58</td>\n",
              "      <td>758.00</td>\n",
              "      <td>6</td>\n",
              "      <td>0.00</td>\n",
              "      <td>4,548.00</td>\n",
              "      <td>Adventure Works Laptop15.4W M1548 Red</td>\n",
              "      <td>Adventure Works</td>\n",
              "      <td>Adventure Works</td>\n",
              "      <td>Regular</td>\n",
              "      <td>Red</td>\n",
              "    </tr>\n",
              "    <tr>\n",
              "      <th>2</th>\n",
              "      <td>2008-05-14</td>\n",
              "      <td>2008-05-20</td>\n",
              "      <td>306</td>\n",
              "      <td>384</td>\n",
              "      <td>19052</td>\n",
              "      <td>200805143CS576</td>\n",
              "      <td>348.58</td>\n",
              "      <td>758.00</td>\n",
              "      <td>6</td>\n",
              "      <td>0.00</td>\n",
              "      <td>4,548.00</td>\n",
              "      <td>Adventure Works Laptop15.4W M1548 Red</td>\n",
              "      <td>Adventure Works</td>\n",
              "      <td>Adventure Works</td>\n",
              "      <td>Regular</td>\n",
              "      <td>Red</td>\n",
              "    </tr>\n",
              "    <tr>\n",
              "      <th>3</th>\n",
              "      <td>2008-05-21</td>\n",
              "      <td>2008-05-27</td>\n",
              "      <td>306</td>\n",
              "      <td>384</td>\n",
              "      <td>19052</td>\n",
              "      <td>200805213CS576</td>\n",
              "      <td>348.58</td>\n",
              "      <td>758.00</td>\n",
              "      <td>6</td>\n",
              "      <td>0.00</td>\n",
              "      <td>4,548.00</td>\n",
              "      <td>Adventure Works Laptop15.4W M1548 Red</td>\n",
              "      <td>Adventure Works</td>\n",
              "      <td>Adventure Works</td>\n",
              "      <td>Regular</td>\n",
              "      <td>Red</td>\n",
              "    </tr>\n",
              "    <tr>\n",
              "      <th>4</th>\n",
              "      <td>2008-06-20</td>\n",
              "      <td>2008-06-27</td>\n",
              "      <td>306</td>\n",
              "      <td>384</td>\n",
              "      <td>19053</td>\n",
              "      <td>200806203CS586</td>\n",
              "      <td>348.58</td>\n",
              "      <td>758.00</td>\n",
              "      <td>6</td>\n",
              "      <td>0.00</td>\n",
              "      <td>4,548.00</td>\n",
              "      <td>Adventure Works Laptop15.4W M1548 Red</td>\n",
              "      <td>Adventure Works</td>\n",
              "      <td>Adventure Works</td>\n",
              "      <td>Regular</td>\n",
              "      <td>Red</td>\n",
              "    </tr>\n",
              "  </tbody>\n",
              "</table>\n",
              "</div>"
            ],
            "text/plain": [
              "  Data Venda Data Envio  ID Loja  ...            Marca   Classe  Cor\n",
              "0 2008-05-09 2008-05-29      199  ...  Adventure Works  Regular  Red\n",
              "1 2008-05-12 2008-05-17      306  ...  Adventure Works  Regular  Red\n",
              "2 2008-05-14 2008-05-20      306  ...  Adventure Works  Regular  Red\n",
              "3 2008-05-21 2008-05-27      306  ...  Adventure Works  Regular  Red\n",
              "4 2008-06-20 2008-06-27      306  ...  Adventure Works  Regular  Red\n",
              "\n",
              "[5 rows x 16 columns]"
            ]
          },
          "metadata": {},
          "execution_count": 594
        }
      ]
    },
    {
      "cell_type": "code",
      "metadata": {
        "colab": {
          "base_uri": "https://localhost:8080/"
        },
        "id": "7DUkhruWvBvk",
        "outputId": "73b1da5d-cc32-47a0-a2e7-badc0eb0db8d"
      },
      "source": [
        "df.shape #904 linhas, 16 colunas"
      ],
      "execution_count": 595,
      "outputs": [
        {
          "output_type": "execute_result",
          "data": {
            "text/plain": [
              "(904, 16)"
            ]
          },
          "metadata": {},
          "execution_count": 595
        }
      ]
    },
    {
      "cell_type": "code",
      "metadata": {
        "colab": {
          "base_uri": "https://localhost:8080/"
        },
        "id": "Ehfv1iqkvR2Y",
        "outputId": "1898c846-4625-4a90-ba20-a783ab7b1c1d"
      },
      "source": [
        "#Tipos dos dados das colunas\n",
        "df.dtypes"
      ],
      "execution_count": 596,
      "outputs": [
        {
          "output_type": "execute_result",
          "data": {
            "text/plain": [
              "Data Venda        datetime64[ns]\n",
              "Data Envio        datetime64[ns]\n",
              "ID Loja                    int64\n",
              "ID Produto                 int64\n",
              "ID Cliente                 int64\n",
              "No. Venda                 object\n",
              "Custo Unitário           float64\n",
              "Preço Unitário           float64\n",
              "Quantidade                 int64\n",
              "Valor Desconto           float64\n",
              "Valor Venda              float64\n",
              "Produto                   object\n",
              "Fabricante                object\n",
              "Marca                     object\n",
              "Classe                    object\n",
              "Cor                       object\n",
              "dtype: object"
            ]
          },
          "metadata": {},
          "execution_count": 596
        }
      ]
    },
    {
      "cell_type": "code",
      "metadata": {
        "colab": {
          "base_uri": "https://localhost:8080/"
        },
        "id": "b0HJVzdevZxc",
        "outputId": "ed715c7d-3635-43b3-ab2a-d412af62fac8"
      },
      "source": [
        "#Receita total:\n",
        "df['Valor Venda'].sum()"
      ],
      "execution_count": 597,
      "outputs": [
        {
          "output_type": "execute_result",
          "data": {
            "text/plain": [
              "5984606.1426"
            ]
          },
          "metadata": {},
          "execution_count": 597
        }
      ]
    },
    {
      "cell_type": "code",
      "metadata": {
        "colab": {
          "base_uri": "https://localhost:8080/",
          "height": 349
        },
        "id": "GzUBo-YvvwCw",
        "outputId": "6622c2f4-5809-4f1e-93f7-217a4365d6a8"
      },
      "source": [
        "#Criação de uma coluna de custo total para cada linha do dataframe:\n",
        "df['Custo'] = df['Custo Unitário'].mul(df['Quantidade'])\n",
        "df.sample(3)"
      ],
      "execution_count": 598,
      "outputs": [
        {
          "output_type": "execute_result",
          "data": {
            "text/html": [
              "<div>\n",
              "<style scoped>\n",
              "    .dataframe tbody tr th:only-of-type {\n",
              "        vertical-align: middle;\n",
              "    }\n",
              "\n",
              "    .dataframe tbody tr th {\n",
              "        vertical-align: top;\n",
              "    }\n",
              "\n",
              "    .dataframe thead th {\n",
              "        text-align: right;\n",
              "    }\n",
              "</style>\n",
              "<table border=\"1\" class=\"dataframe\">\n",
              "  <thead>\n",
              "    <tr style=\"text-align: right;\">\n",
              "      <th></th>\n",
              "      <th>Data Venda</th>\n",
              "      <th>Data Envio</th>\n",
              "      <th>ID Loja</th>\n",
              "      <th>ID Produto</th>\n",
              "      <th>ID Cliente</th>\n",
              "      <th>No. Venda</th>\n",
              "      <th>Custo Unitário</th>\n",
              "      <th>Preço Unitário</th>\n",
              "      <th>Quantidade</th>\n",
              "      <th>Valor Desconto</th>\n",
              "      <th>Valor Venda</th>\n",
              "      <th>Produto</th>\n",
              "      <th>Fabricante</th>\n",
              "      <th>Marca</th>\n",
              "      <th>Classe</th>\n",
              "      <th>Cor</th>\n",
              "      <th>Custo</th>\n",
              "    </tr>\n",
              "  </thead>\n",
              "  <tbody>\n",
              "    <tr>\n",
              "      <th>474</th>\n",
              "      <td>2008-01-02</td>\n",
              "      <td>2008-01-12</td>\n",
              "      <td>306</td>\n",
              "      <td>1226</td>\n",
              "      <td>19046</td>\n",
              "      <td>200801024CS525</td>\n",
              "      <td>330.99</td>\n",
              "      <td>999.00</td>\n",
              "      <td>12</td>\n",
              "      <td>2,397.60</td>\n",
              "      <td>9,590.40</td>\n",
              "      <td>Fabrikam Trendsetter 1/3'' 8.5mm X200 Black</td>\n",
              "      <td>Fabrikam, Inc.</td>\n",
              "      <td>Fabrikam</td>\n",
              "      <td>Regular</td>\n",
              "      <td>Black</td>\n",
              "      <td>3,971.88</td>\n",
              "    </tr>\n",
              "    <tr>\n",
              "      <th>624</th>\n",
              "      <td>2009-04-10</td>\n",
              "      <td>2009-04-14</td>\n",
              "      <td>307</td>\n",
              "      <td>366</td>\n",
              "      <td>19120</td>\n",
              "      <td>200904103CS710</td>\n",
              "      <td>348.58</td>\n",
              "      <td>758.00</td>\n",
              "      <td>5</td>\n",
              "      <td>758.00</td>\n",
              "      <td>3,032.00</td>\n",
              "      <td>Adventure Works Laptop15.4W M1548 Black</td>\n",
              "      <td>Adventure Works</td>\n",
              "      <td>Adventure Works</td>\n",
              "      <td>Regular</td>\n",
              "      <td>Black</td>\n",
              "      <td>1,742.90</td>\n",
              "    </tr>\n",
              "    <tr>\n",
              "      <th>280</th>\n",
              "      <td>2009-07-18</td>\n",
              "      <td>2009-07-31</td>\n",
              "      <td>307</td>\n",
              "      <td>2497</td>\n",
              "      <td>19129</td>\n",
              "      <td>200907185CS719</td>\n",
              "      <td>5.09</td>\n",
              "      <td>9.99</td>\n",
              "      <td>1152</td>\n",
              "      <td>0.00</td>\n",
              "      <td>11,508.48</td>\n",
              "      <td>Headphone Adapter for Contoso Phone E130 White</td>\n",
              "      <td>Contoso, Ltd</td>\n",
              "      <td>Contoso</td>\n",
              "      <td>Economy</td>\n",
              "      <td>White</td>\n",
              "      <td>5,863.68</td>\n",
              "    </tr>\n",
              "  </tbody>\n",
              "</table>\n",
              "</div>"
            ],
            "text/plain": [
              "    Data Venda Data Envio  ID Loja  ...   Classe    Cor                Custo\n",
              "474 2008-01-02 2008-01-12      306  ...  Regular  Black             3,971.88\n",
              "624 2009-04-10 2009-04-14      307  ...  Regular  Black             1,742.90\n",
              "280 2009-07-18 2009-07-31      307  ...  Economy  White             5,863.68\n",
              "\n",
              "[3 rows x 17 columns]"
            ]
          },
          "metadata": {},
          "execution_count": 598
        }
      ]
    },
    {
      "cell_type": "code",
      "metadata": {
        "colab": {
          "base_uri": "https://localhost:8080/"
        },
        "id": "XFfpT5igwnRC",
        "outputId": "885951fb-363c-4ec3-a4cf-91566bd2571a"
      },
      "source": [
        "#Custo total considerando todo o dataframe, arredondando para duas casas decimais:\n",
        "round(df.Custo.sum(), 2)"
      ],
      "execution_count": 599,
      "outputs": [
        {
          "output_type": "execute_result",
          "data": {
            "text/plain": [
              "2486783.05"
            ]
          },
          "metadata": {},
          "execution_count": 599
        }
      ]
    },
    {
      "cell_type": "code",
      "metadata": {
        "colab": {
          "base_uri": "https://localhost:8080/",
          "height": 168
        },
        "id": "SfARf240x0xj",
        "outputId": "7a186f3f-d480-44ad-eb7f-2f91f02301bf"
      },
      "source": [
        "#Lucro para cada registro do dataframe:\n",
        "df['Lucro'] = df['Valor Venda'] - df['Custo']\n",
        "df.head(1)"
      ],
      "execution_count": 600,
      "outputs": [
        {
          "output_type": "execute_result",
          "data": {
            "text/html": [
              "<div>\n",
              "<style scoped>\n",
              "    .dataframe tbody tr th:only-of-type {\n",
              "        vertical-align: middle;\n",
              "    }\n",
              "\n",
              "    .dataframe tbody tr th {\n",
              "        vertical-align: top;\n",
              "    }\n",
              "\n",
              "    .dataframe thead th {\n",
              "        text-align: right;\n",
              "    }\n",
              "</style>\n",
              "<table border=\"1\" class=\"dataframe\">\n",
              "  <thead>\n",
              "    <tr style=\"text-align: right;\">\n",
              "      <th></th>\n",
              "      <th>Data Venda</th>\n",
              "      <th>Data Envio</th>\n",
              "      <th>ID Loja</th>\n",
              "      <th>ID Produto</th>\n",
              "      <th>ID Cliente</th>\n",
              "      <th>No. Venda</th>\n",
              "      <th>Custo Unitário</th>\n",
              "      <th>Preço Unitário</th>\n",
              "      <th>Quantidade</th>\n",
              "      <th>Valor Desconto</th>\n",
              "      <th>Valor Venda</th>\n",
              "      <th>Produto</th>\n",
              "      <th>Fabricante</th>\n",
              "      <th>Marca</th>\n",
              "      <th>Classe</th>\n",
              "      <th>Cor</th>\n",
              "      <th>Custo</th>\n",
              "      <th>Lucro</th>\n",
              "    </tr>\n",
              "  </thead>\n",
              "  <tbody>\n",
              "    <tr>\n",
              "      <th>0</th>\n",
              "      <td>2008-05-09</td>\n",
              "      <td>2008-05-29</td>\n",
              "      <td>199</td>\n",
              "      <td>384</td>\n",
              "      <td>18839</td>\n",
              "      <td>200805093CS607</td>\n",
              "      <td>348.58</td>\n",
              "      <td>758.00</td>\n",
              "      <td>6</td>\n",
              "      <td>0.00</td>\n",
              "      <td>4,548.00</td>\n",
              "      <td>Adventure Works Laptop15.4W M1548 Red</td>\n",
              "      <td>Adventure Works</td>\n",
              "      <td>Adventure Works</td>\n",
              "      <td>Regular</td>\n",
              "      <td>Red</td>\n",
              "      <td>2,091.48</td>\n",
              "      <td>2,456.52</td>\n",
              "    </tr>\n",
              "  </tbody>\n",
              "</table>\n",
              "</div>"
            ],
            "text/plain": [
              "  Data Venda Data Envio  ID Loja  ...  Cor                Custo                Lucro\n",
              "0 2008-05-09 2008-05-29      199  ...  Red             2,091.48             2,456.52\n",
              "\n",
              "[1 rows x 18 columns]"
            ]
          },
          "metadata": {},
          "execution_count": 600
        }
      ]
    },
    {
      "cell_type": "code",
      "metadata": {
        "colab": {
          "base_uri": "https://localhost:8080/"
        },
        "id": "XDTzMA3-y2e0",
        "outputId": "62d55ef1-7fb3-4014-eda0-6c920d66b446"
      },
      "source": [
        "#Lucro total considerando todos os registros do dataframe:\n",
        "round(df.Lucro.sum(), 2)"
      ],
      "execution_count": 601,
      "outputs": [
        {
          "output_type": "execute_result",
          "data": {
            "text/plain": [
              "3497823.09"
            ]
          },
          "metadata": {},
          "execution_count": 601
        }
      ]
    },
    {
      "cell_type": "code",
      "metadata": {
        "colab": {
          "base_uri": "https://localhost:8080/",
          "height": 168
        },
        "id": "pfK1-4ZizX1A",
        "outputId": "c61173c7-602d-4c66-b059-787c1161087c"
      },
      "source": [
        "#Criação de uma coluna para relacionar cada produto o seu tempo de envio (em dias):\n",
        "df['Tempo Envio'] = df['Data Envio'] - df['Data Venda']\n",
        "df.head(1)"
      ],
      "execution_count": 602,
      "outputs": [
        {
          "output_type": "execute_result",
          "data": {
            "text/html": [
              "<div>\n",
              "<style scoped>\n",
              "    .dataframe tbody tr th:only-of-type {\n",
              "        vertical-align: middle;\n",
              "    }\n",
              "\n",
              "    .dataframe tbody tr th {\n",
              "        vertical-align: top;\n",
              "    }\n",
              "\n",
              "    .dataframe thead th {\n",
              "        text-align: right;\n",
              "    }\n",
              "</style>\n",
              "<table border=\"1\" class=\"dataframe\">\n",
              "  <thead>\n",
              "    <tr style=\"text-align: right;\">\n",
              "      <th></th>\n",
              "      <th>Data Venda</th>\n",
              "      <th>Data Envio</th>\n",
              "      <th>ID Loja</th>\n",
              "      <th>ID Produto</th>\n",
              "      <th>ID Cliente</th>\n",
              "      <th>No. Venda</th>\n",
              "      <th>Custo Unitário</th>\n",
              "      <th>Preço Unitário</th>\n",
              "      <th>Quantidade</th>\n",
              "      <th>Valor Desconto</th>\n",
              "      <th>Valor Venda</th>\n",
              "      <th>Produto</th>\n",
              "      <th>Fabricante</th>\n",
              "      <th>Marca</th>\n",
              "      <th>Classe</th>\n",
              "      <th>Cor</th>\n",
              "      <th>Custo</th>\n",
              "      <th>Lucro</th>\n",
              "      <th>Tempo Envio</th>\n",
              "    </tr>\n",
              "  </thead>\n",
              "  <tbody>\n",
              "    <tr>\n",
              "      <th>0</th>\n",
              "      <td>2008-05-09</td>\n",
              "      <td>2008-05-29</td>\n",
              "      <td>199</td>\n",
              "      <td>384</td>\n",
              "      <td>18839</td>\n",
              "      <td>200805093CS607</td>\n",
              "      <td>348.58</td>\n",
              "      <td>758.00</td>\n",
              "      <td>6</td>\n",
              "      <td>0.00</td>\n",
              "      <td>4,548.00</td>\n",
              "      <td>Adventure Works Laptop15.4W M1548 Red</td>\n",
              "      <td>Adventure Works</td>\n",
              "      <td>Adventure Works</td>\n",
              "      <td>Regular</td>\n",
              "      <td>Red</td>\n",
              "      <td>2,091.48</td>\n",
              "      <td>2,456.52</td>\n",
              "      <td>20 days</td>\n",
              "    </tr>\n",
              "  </tbody>\n",
              "</table>\n",
              "</div>"
            ],
            "text/plain": [
              "  Data Venda Data Envio  ...                Lucro  Tempo Envio\n",
              "0 2008-05-09 2008-05-29  ...             2,456.52      20 days\n",
              "\n",
              "[1 rows x 19 columns]"
            ]
          },
          "metadata": {},
          "execution_count": 602
        }
      ]
    },
    {
      "cell_type": "code",
      "metadata": {
        "colab": {
          "base_uri": "https://localhost:8080/"
        },
        "id": "Yx0_9X-D0UDz",
        "outputId": "e88c5199-e73a-40a1-b938-5eca2f96b96f"
      },
      "source": [
        "#No entanto, o tempo de envio está em um formato que não admite operações matemáticas sem que seja convertido para o formato inteiro a  cada operação, sendo necessário ser transformado para inteiro para facilitar os cálculos:\n",
        "df['Tempo Envio'].dtypes"
      ],
      "execution_count": 603,
      "outputs": [
        {
          "output_type": "execute_result",
          "data": {
            "text/plain": [
              "dtype('<m8[ns]')"
            ]
          },
          "metadata": {},
          "execution_count": 603
        }
      ]
    },
    {
      "cell_type": "code",
      "metadata": {
        "colab": {
          "base_uri": "https://localhost:8080/",
          "height": 168
        },
        "id": "Il1dp1tuzwkp",
        "outputId": "7be21fc1-b388-4cb7-ecf2-af2161bc52c7"
      },
      "source": [
        "#Para fazer a transformação, extraimos apenas os dias do tempo de envio:\n",
        "df['Tempo Envio'] = (df['Data Envio'] - df['Data Venda']).dt.days\n",
        "df.head(1)"
      ],
      "execution_count": 604,
      "outputs": [
        {
          "output_type": "execute_result",
          "data": {
            "text/html": [
              "<div>\n",
              "<style scoped>\n",
              "    .dataframe tbody tr th:only-of-type {\n",
              "        vertical-align: middle;\n",
              "    }\n",
              "\n",
              "    .dataframe tbody tr th {\n",
              "        vertical-align: top;\n",
              "    }\n",
              "\n",
              "    .dataframe thead th {\n",
              "        text-align: right;\n",
              "    }\n",
              "</style>\n",
              "<table border=\"1\" class=\"dataframe\">\n",
              "  <thead>\n",
              "    <tr style=\"text-align: right;\">\n",
              "      <th></th>\n",
              "      <th>Data Venda</th>\n",
              "      <th>Data Envio</th>\n",
              "      <th>ID Loja</th>\n",
              "      <th>ID Produto</th>\n",
              "      <th>ID Cliente</th>\n",
              "      <th>No. Venda</th>\n",
              "      <th>Custo Unitário</th>\n",
              "      <th>Preço Unitário</th>\n",
              "      <th>Quantidade</th>\n",
              "      <th>Valor Desconto</th>\n",
              "      <th>Valor Venda</th>\n",
              "      <th>Produto</th>\n",
              "      <th>Fabricante</th>\n",
              "      <th>Marca</th>\n",
              "      <th>Classe</th>\n",
              "      <th>Cor</th>\n",
              "      <th>Custo</th>\n",
              "      <th>Lucro</th>\n",
              "      <th>Tempo Envio</th>\n",
              "    </tr>\n",
              "  </thead>\n",
              "  <tbody>\n",
              "    <tr>\n",
              "      <th>0</th>\n",
              "      <td>2008-05-09</td>\n",
              "      <td>2008-05-29</td>\n",
              "      <td>199</td>\n",
              "      <td>384</td>\n",
              "      <td>18839</td>\n",
              "      <td>200805093CS607</td>\n",
              "      <td>348.58</td>\n",
              "      <td>758.00</td>\n",
              "      <td>6</td>\n",
              "      <td>0.00</td>\n",
              "      <td>4,548.00</td>\n",
              "      <td>Adventure Works Laptop15.4W M1548 Red</td>\n",
              "      <td>Adventure Works</td>\n",
              "      <td>Adventure Works</td>\n",
              "      <td>Regular</td>\n",
              "      <td>Red</td>\n",
              "      <td>2,091.48</td>\n",
              "      <td>2,456.52</td>\n",
              "      <td>20</td>\n",
              "    </tr>\n",
              "  </tbody>\n",
              "</table>\n",
              "</div>"
            ],
            "text/plain": [
              "  Data Venda Data Envio  ...                Lucro  Tempo Envio\n",
              "0 2008-05-09 2008-05-29  ...             2,456.52           20\n",
              "\n",
              "[1 rows x 19 columns]"
            ]
          },
          "metadata": {},
          "execution_count": 604
        }
      ]
    },
    {
      "cell_type": "code",
      "metadata": {
        "colab": {
          "base_uri": "https://localhost:8080/"
        },
        "id": "Avn_6F5M1PlJ",
        "outputId": "7c7b9335-cd04-4b6d-abc4-dec955a8dd8f"
      },
      "source": [
        "#Agora a coluna Tempo Envio contém dados do tipo inteiro:\n",
        "df['Tempo Envio'].dtypes"
      ],
      "execution_count": 605,
      "outputs": [
        {
          "output_type": "execute_result",
          "data": {
            "text/plain": [
              "dtype('int64')"
            ]
          },
          "metadata": {},
          "execution_count": 605
        }
      ]
    },
    {
      "cell_type": "code",
      "metadata": {
        "colab": {
          "base_uri": "https://localhost:8080/"
        },
        "id": "f2tSVey83PNU",
        "outputId": "8a20de77-fe35-46e1-f2c9-fdfcf0592527"
      },
      "source": [
        "#Média do tempo de envio para cada marca:\n",
        "df.groupby(df['Marca'])['Tempo Envio'].mean()"
      ],
      "execution_count": 606,
      "outputs": [
        {
          "output_type": "execute_result",
          "data": {
            "text/plain": [
              "Marca\n",
              "Adventure Works                   8.66\n",
              "Contoso                           8.47\n",
              "Fabrikam                          8.51\n",
              "Name: Tempo Envio, dtype: float64"
            ]
          },
          "metadata": {},
          "execution_count": 606
        }
      ]
    },
    {
      "cell_type": "code",
      "metadata": {
        "colab": {
          "base_uri": "https://localhost:8080/"
        },
        "id": "p16Lhh8K3v73",
        "outputId": "f0b3fcb9-3487-4a0b-bb9c-90e0637907a7"
      },
      "source": [
        "#Verificação de valores nulos no dataframe:\n",
        "df.isnull().sum()"
      ],
      "execution_count": 607,
      "outputs": [
        {
          "output_type": "execute_result",
          "data": {
            "text/plain": [
              "Data Venda        0\n",
              "Data Envio        0\n",
              "ID Loja           0\n",
              "ID Produto        0\n",
              "ID Cliente        0\n",
              "No. Venda         0\n",
              "Custo Unitário    0\n",
              "Preço Unitário    0\n",
              "Quantidade        0\n",
              "Valor Desconto    0\n",
              "Valor Venda       0\n",
              "Produto           0\n",
              "Fabricante        0\n",
              "Marca             0\n",
              "Classe            0\n",
              "Cor               0\n",
              "Custo             0\n",
              "Lucro             0\n",
              "Tempo Envio       0\n",
              "dtype: int64"
            ]
          },
          "metadata": {},
          "execution_count": 607
        }
      ]
    },
    {
      "cell_type": "code",
      "metadata": {
        "colab": {
          "base_uri": "https://localhost:8080/"
        },
        "id": "rVps2Jma339C",
        "outputId": "cd7abccc-31d8-44d0-9636-6e0e77d973dd"
      },
      "source": [
        "#Agrupamento do lucro por ano da venda e marca:\n",
        "pd.options.display.float_format = '{:20,.2f}'.format #setar a exibição apropriada dos dados em ponto flutuante\n",
        "df.groupby([df['Data Venda'].dt.year, df['Marca']])['Lucro'].sum()"
      ],
      "execution_count": 608,
      "outputs": [
        {
          "output_type": "execute_result",
          "data": {
            "text/plain": [
              "Data Venda  Marca          \n",
              "2008        Adventure Works             306,641.16\n",
              "            Contoso                      56,416.00\n",
              "            Fabrikam                  1,557,020.55\n",
              "2009        Adventure Works             405,395.08\n",
              "            Contoso                     138,258.95\n",
              "            Fabrikam                  1,034,091.35\n",
              "Name: Lucro, dtype: float64"
            ]
          },
          "metadata": {},
          "execution_count": 608
        }
      ]
    },
    {
      "cell_type": "code",
      "metadata": {
        "colab": {
          "base_uri": "https://localhost:8080/",
          "height": 235
        },
        "id": "BqHlZyjb509j",
        "outputId": "4dc4155e-3a35-4696-a63b-8083c24f97f0"
      },
      "source": [
        "#Transformando os valores do agrupamento obtido acima para o formato de dataframe\n",
        "#Usando o método reset_index()\n",
        "lucro_ano = df.groupby([df['Data Venda'].dt.year, df['Marca']])['Lucro'].sum().reset_index()\n",
        "lucro_ano"
      ],
      "execution_count": 609,
      "outputs": [
        {
          "output_type": "execute_result",
          "data": {
            "text/html": [
              "<div>\n",
              "<style scoped>\n",
              "    .dataframe tbody tr th:only-of-type {\n",
              "        vertical-align: middle;\n",
              "    }\n",
              "\n",
              "    .dataframe tbody tr th {\n",
              "        vertical-align: top;\n",
              "    }\n",
              "\n",
              "    .dataframe thead th {\n",
              "        text-align: right;\n",
              "    }\n",
              "</style>\n",
              "<table border=\"1\" class=\"dataframe\">\n",
              "  <thead>\n",
              "    <tr style=\"text-align: right;\">\n",
              "      <th></th>\n",
              "      <th>Data Venda</th>\n",
              "      <th>Marca</th>\n",
              "      <th>Lucro</th>\n",
              "    </tr>\n",
              "  </thead>\n",
              "  <tbody>\n",
              "    <tr>\n",
              "      <th>0</th>\n",
              "      <td>2008</td>\n",
              "      <td>Adventure Works</td>\n",
              "      <td>306,641.16</td>\n",
              "    </tr>\n",
              "    <tr>\n",
              "      <th>1</th>\n",
              "      <td>2008</td>\n",
              "      <td>Contoso</td>\n",
              "      <td>56,416.00</td>\n",
              "    </tr>\n",
              "    <tr>\n",
              "      <th>2</th>\n",
              "      <td>2008</td>\n",
              "      <td>Fabrikam</td>\n",
              "      <td>1,557,020.55</td>\n",
              "    </tr>\n",
              "    <tr>\n",
              "      <th>3</th>\n",
              "      <td>2009</td>\n",
              "      <td>Adventure Works</td>\n",
              "      <td>405,395.08</td>\n",
              "    </tr>\n",
              "    <tr>\n",
              "      <th>4</th>\n",
              "      <td>2009</td>\n",
              "      <td>Contoso</td>\n",
              "      <td>138,258.95</td>\n",
              "    </tr>\n",
              "    <tr>\n",
              "      <th>5</th>\n",
              "      <td>2009</td>\n",
              "      <td>Fabrikam</td>\n",
              "      <td>1,034,091.35</td>\n",
              "    </tr>\n",
              "  </tbody>\n",
              "</table>\n",
              "</div>"
            ],
            "text/plain": [
              "   Data Venda            Marca                Lucro\n",
              "0        2008  Adventure Works           306,641.16\n",
              "1        2008          Contoso            56,416.00\n",
              "2        2008         Fabrikam         1,557,020.55\n",
              "3        2009  Adventure Works           405,395.08\n",
              "4        2009          Contoso           138,258.95\n",
              "5        2009         Fabrikam         1,034,091.35"
            ]
          },
          "metadata": {},
          "execution_count": 609
        }
      ]
    },
    {
      "cell_type": "code",
      "metadata": {
        "colab": {
          "base_uri": "https://localhost:8080/",
          "height": 328
        },
        "id": "2XiFXFSo6W5x",
        "outputId": "37db6dc9-5137-483d-d580-a15883d97980"
      },
      "source": [
        "#Agrupamento em ordem crescente do número total de produtos vendidos para cada produto:\n",
        "df.groupby(df['Produto'])['Quantidade'].sum().sort_values(ascending=False).reset_index()"
      ],
      "execution_count": 610,
      "outputs": [
        {
          "output_type": "execute_result",
          "data": {
            "text/html": [
              "<div>\n",
              "<style scoped>\n",
              "    .dataframe tbody tr th:only-of-type {\n",
              "        vertical-align: middle;\n",
              "    }\n",
              "\n",
              "    .dataframe tbody tr th {\n",
              "        vertical-align: top;\n",
              "    }\n",
              "\n",
              "    .dataframe thead th {\n",
              "        text-align: right;\n",
              "    }\n",
              "</style>\n",
              "<table border=\"1\" class=\"dataframe\">\n",
              "  <thead>\n",
              "    <tr style=\"text-align: right;\">\n",
              "      <th></th>\n",
              "      <th>Produto</th>\n",
              "      <th>Quantidade</th>\n",
              "    </tr>\n",
              "  </thead>\n",
              "  <tbody>\n",
              "    <tr>\n",
              "      <th>0</th>\n",
              "      <td>Headphone Adapter for Contoso Phone E130 Silver</td>\n",
              "      <td>25232</td>\n",
              "    </tr>\n",
              "    <tr>\n",
              "      <th>1</th>\n",
              "      <td>Headphone Adapter for Contoso Phone E130 White</td>\n",
              "      <td>25008</td>\n",
              "    </tr>\n",
              "    <tr>\n",
              "      <th>2</th>\n",
              "      <td>Adventure Works Laptop15.4W M1548 Black</td>\n",
              "      <td>1089</td>\n",
              "    </tr>\n",
              "    <tr>\n",
              "      <th>3</th>\n",
              "      <td>Fabrikam Trendsetter 2/3'' 17mm X100 Grey</td>\n",
              "      <td>1087</td>\n",
              "    </tr>\n",
              "    <tr>\n",
              "      <th>4</th>\n",
              "      <td>Adventure Works Laptop15.4W M1548 Red</td>\n",
              "      <td>1047</td>\n",
              "    </tr>\n",
              "    <tr>\n",
              "      <th>5</th>\n",
              "      <td>Fabrikam Trendsetter 2/3'' 17mm X100 Black</td>\n",
              "      <td>926</td>\n",
              "    </tr>\n",
              "    <tr>\n",
              "      <th>6</th>\n",
              "      <td>Fabrikam Trendsetter 1/3'' 8.5mm X200 Black</td>\n",
              "      <td>884</td>\n",
              "    </tr>\n",
              "    <tr>\n",
              "      <th>7</th>\n",
              "      <td>Fabrikam Trendsetter 1/3'' 8.5mm X200 Grey</td>\n",
              "      <td>845</td>\n",
              "    </tr>\n",
              "    <tr>\n",
              "      <th>8</th>\n",
              "      <td>Fabrikam Trendsetter 1/3'' 8.5mm X200 White</td>\n",
              "      <td>789</td>\n",
              "    </tr>\n",
              "  </tbody>\n",
              "</table>\n",
              "</div>"
            ],
            "text/plain": [
              "                                           Produto  Quantidade\n",
              "0  Headphone Adapter for Contoso Phone E130 Silver       25232\n",
              "1   Headphone Adapter for Contoso Phone E130 White       25008\n",
              "2          Adventure Works Laptop15.4W M1548 Black        1089\n",
              "3        Fabrikam Trendsetter 2/3'' 17mm X100 Grey        1087\n",
              "4            Adventure Works Laptop15.4W M1548 Red        1047\n",
              "5       Fabrikam Trendsetter 2/3'' 17mm X100 Black         926\n",
              "6      Fabrikam Trendsetter 1/3'' 8.5mm X200 Black         884\n",
              "7       Fabrikam Trendsetter 1/3'' 8.5mm X200 Grey         845\n",
              "8      Fabrikam Trendsetter 1/3'' 8.5mm X200 White         789"
            ]
          },
          "metadata": {},
          "execution_count": 610
        }
      ]
    },
    {
      "cell_type": "code",
      "metadata": {
        "colab": {
          "base_uri": "https://localhost:8080/",
          "height": 393
        },
        "id": "UPKtmr377JDk",
        "outputId": "e5b24b51-a08e-485b-819c-1ac4f68591d6"
      },
      "source": [
        "#Gráfico da relação Produto x Quantidade - quantidade de cada produto vendido - com a visualização do gráfico horizontal em ordem decrescente:\n",
        "df.groupby(df['Produto'])['Quantidade'].sum().sort_values(ascending=True).plot.barh(title='Vendas dos produtos', color='black');\n",
        "plt.xlabel('Vendas')\n",
        "plt.ylabel('Produtos')"
      ],
      "execution_count": 611,
      "outputs": [
        {
          "output_type": "execute_result",
          "data": {
            "text/plain": [
              "Text(0, 0.5, 'Produtos')"
            ]
          },
          "metadata": {},
          "execution_count": 611
        },
        {
          "output_type": "display_data",
          "data": {
            "image/png": "[encoded data removed]",
            "text/plain": [
              "<Figure size 576x396 with 1 Axes>"
            ]
          },
          "metadata": {}
        }
      ]
    },
    {
      "cell_type": "code",
      "metadata": {
        "colab": {
          "base_uri": "https://localhost:8080/",
          "height": 388
        },
        "id": "h5DwPLGV8z8l",
        "outputId": "62a55397-461a-4e19-916e-96379040f1d1"
      },
      "source": [
        "#Gráfico da relação Lucro x Ano - valor do lucro para cada ano - com a visualização do gráfico vertical em ordem decrescente:\n",
        "df.groupby(df['Data Venda'].dt.year)['Lucro'].sum().sort_values(ascending=False).plot.bar(title='Lucro no ano', color='black')\n",
        "plt.xlabel('Lucro')\n",
        "plt.ylabel('Ano');"
      ],
      "execution_count": 612,
      "outputs": [
        {
          "output_type": "display_data",
          "data": {
            "image/png": "[encoded data removed]",
            "text/plain": [
              "<Figure size 576x396 with 1 Axes>"
            ]
          },
          "metadata": {}
        }
      ]
    },
    {
      "cell_type": "code",
      "metadata": {
        "colab": {
          "base_uri": "https://localhost:8080/"
        },
        "id": "59Lj7eYh-XBU",
        "outputId": "7ab9f5a6-51f4-4000-f0bb-540ae3098673"
      },
      "source": [
        "#Agrupamento dos valores analisados acima:\n",
        "df.groupby(df['Data Venda'].dt.year)['Lucro'].sum().sort_values(ascending=False)\n"
      ],
      "execution_count": 613,
      "outputs": [
        {
          "output_type": "execute_result",
          "data": {
            "text/plain": [
              "Data Venda\n",
              "2008           1,920,077.71\n",
              "2009           1,577,745.38\n",
              "Name: Lucro, dtype: float64"
            ]
          },
          "metadata": {},
          "execution_count": 613
        }
      ]
    },
    {
      "cell_type": "code",
      "metadata": {
        "colab": {
          "base_uri": "https://localhost:8080/",
          "height": 742
        },
        "id": "jTRgf-YO91Zw",
        "outputId": "946e91a3-4d9d-4b60-e206-e2a24aad77dd"
      },
      "source": [
        "#Vendas do ano 2009:\n",
        "df_2009 = df[df['Data Venda'].dt.year == 2009]\n",
        "df_2009.sample(8)"
      ],
      "execution_count": 614,
      "outputs": [
        {
          "output_type": "execute_result",
          "data": {
            "text/html": [
              "<div>\n",
              "<style scoped>\n",
              "    .dataframe tbody tr th:only-of-type {\n",
              "        vertical-align: middle;\n",
              "    }\n",
              "\n",
              "    .dataframe tbody tr th {\n",
              "        vertical-align: top;\n",
              "    }\n",
              "\n",
              "    .dataframe thead th {\n",
              "        text-align: right;\n",
              "    }\n",
              "</style>\n",
              "<table border=\"1\" class=\"dataframe\">\n",
              "  <thead>\n",
              "    <tr style=\"text-align: right;\">\n",
              "      <th></th>\n",
              "      <th>Data Venda</th>\n",
              "      <th>Data Envio</th>\n",
              "      <th>ID Loja</th>\n",
              "      <th>ID Produto</th>\n",
              "      <th>ID Cliente</th>\n",
              "      <th>No. Venda</th>\n",
              "      <th>Custo Unitário</th>\n",
              "      <th>Preço Unitário</th>\n",
              "      <th>Quantidade</th>\n",
              "      <th>Valor Desconto</th>\n",
              "      <th>Valor Venda</th>\n",
              "      <th>Produto</th>\n",
              "      <th>Fabricante</th>\n",
              "      <th>Marca</th>\n",
              "      <th>Classe</th>\n",
              "      <th>Cor</th>\n",
              "      <th>Custo</th>\n",
              "      <th>Lucro</th>\n",
              "      <th>Tempo Envio</th>\n",
              "    </tr>\n",
              "  </thead>\n",
              "  <tbody>\n",
              "    <tr>\n",
              "      <th>463</th>\n",
              "      <td>2009-02-07</td>\n",
              "      <td>2009-02-13</td>\n",
              "      <td>199</td>\n",
              "      <td>366</td>\n",
              "      <td>18912</td>\n",
              "      <td>200902073CS820</td>\n",
              "      <td>348.58</td>\n",
              "      <td>758.00</td>\n",
              "      <td>11</td>\n",
              "      <td>416.90</td>\n",
              "      <td>7,921.10</td>\n",
              "      <td>Adventure Works Laptop15.4W M1548 Black</td>\n",
              "      <td>Adventure Works</td>\n",
              "      <td>Adventure Works</td>\n",
              "      <td>Regular</td>\n",
              "      <td>Black</td>\n",
              "      <td>3,834.38</td>\n",
              "      <td>4,086.72</td>\n",
              "      <td>6</td>\n",
              "    </tr>\n",
              "    <tr>\n",
              "      <th>80</th>\n",
              "      <td>2009-06-19</td>\n",
              "      <td>2009-06-29</td>\n",
              "      <td>199</td>\n",
              "      <td>1202</td>\n",
              "      <td>18956</td>\n",
              "      <td>200906194CS867</td>\n",
              "      <td>330.66</td>\n",
              "      <td>998.00</td>\n",
              "      <td>6</td>\n",
              "      <td>0.00</td>\n",
              "      <td>5,988.00</td>\n",
              "      <td>Fabrikam Trendsetter 1/3'' 8.5mm X200 Grey</td>\n",
              "      <td>Fabrikam, Inc.</td>\n",
              "      <td>Fabrikam</td>\n",
              "      <td>Regular</td>\n",
              "      <td>Grey</td>\n",
              "      <td>1,983.96</td>\n",
              "      <td>4,004.04</td>\n",
              "      <td>10</td>\n",
              "    </tr>\n",
              "    <tr>\n",
              "      <th>525</th>\n",
              "      <td>2009-10-13</td>\n",
              "      <td>2009-10-22</td>\n",
              "      <td>306</td>\n",
              "      <td>1178</td>\n",
              "      <td>19075</td>\n",
              "      <td>200910134CS765</td>\n",
              "      <td>330.66</td>\n",
              "      <td>998.00</td>\n",
              "      <td>4</td>\n",
              "      <td>798.40</td>\n",
              "      <td>3,193.60</td>\n",
              "      <td>Fabrikam Trendsetter 1/3'' 8.5mm X200 White</td>\n",
              "      <td>Fabrikam, Inc.</td>\n",
              "      <td>Fabrikam</td>\n",
              "      <td>Regular</td>\n",
              "      <td>White</td>\n",
              "      <td>1,322.64</td>\n",
              "      <td>1,870.96</td>\n",
              "      <td>9</td>\n",
              "    </tr>\n",
              "    <tr>\n",
              "      <th>83</th>\n",
              "      <td>2009-07-17</td>\n",
              "      <td>2009-07-22</td>\n",
              "      <td>306</td>\n",
              "      <td>1203</td>\n",
              "      <td>19071</td>\n",
              "      <td>200907174CS760</td>\n",
              "      <td>324.69</td>\n",
              "      <td>980.00</td>\n",
              "      <td>6</td>\n",
              "      <td>0.00</td>\n",
              "      <td>5,880.00</td>\n",
              "      <td>Fabrikam Trendsetter 2/3'' 17mm X100 Grey</td>\n",
              "      <td>Fabrikam, Inc.</td>\n",
              "      <td>Fabrikam</td>\n",
              "      <td>Regular</td>\n",
              "      <td>Grey</td>\n",
              "      <td>1,948.14</td>\n",
              "      <td>3,931.86</td>\n",
              "      <td>5</td>\n",
              "    </tr>\n",
              "    <tr>\n",
              "      <th>213</th>\n",
              "      <td>2009-05-26</td>\n",
              "      <td>2009-06-07</td>\n",
              "      <td>306</td>\n",
              "      <td>366</td>\n",
              "      <td>19068</td>\n",
              "      <td>200905263CS748</td>\n",
              "      <td>348.58</td>\n",
              "      <td>758.00</td>\n",
              "      <td>18</td>\n",
              "      <td>0.00</td>\n",
              "      <td>13,644.00</td>\n",
              "      <td>Adventure Works Laptop15.4W M1548 Black</td>\n",
              "      <td>Adventure Works</td>\n",
              "      <td>Adventure Works</td>\n",
              "      <td>Regular</td>\n",
              "      <td>Black</td>\n",
              "      <td>6,274.44</td>\n",
              "      <td>7,369.56</td>\n",
              "      <td>12</td>\n",
              "    </tr>\n",
              "    <tr>\n",
              "      <th>843</th>\n",
              "      <td>2009-03-19</td>\n",
              "      <td>2009-03-31</td>\n",
              "      <td>307</td>\n",
              "      <td>1202</td>\n",
              "      <td>19118</td>\n",
              "      <td>200903194CS708</td>\n",
              "      <td>330.66</td>\n",
              "      <td>998.00</td>\n",
              "      <td>6</td>\n",
              "      <td>1,197.60</td>\n",
              "      <td>4,790.40</td>\n",
              "      <td>Fabrikam Trendsetter 1/3'' 8.5mm X200 Grey</td>\n",
              "      <td>Fabrikam, Inc.</td>\n",
              "      <td>Fabrikam</td>\n",
              "      <td>Regular</td>\n",
              "      <td>Grey</td>\n",
              "      <td>1,983.96</td>\n",
              "      <td>2,806.44</td>\n",
              "      <td>12</td>\n",
              "    </tr>\n",
              "    <tr>\n",
              "      <th>315</th>\n",
              "      <td>2009-12-25</td>\n",
              "      <td>2010-01-02</td>\n",
              "      <td>199</td>\n",
              "      <td>384</td>\n",
              "      <td>19034</td>\n",
              "      <td>200912253CS950</td>\n",
              "      <td>348.58</td>\n",
              "      <td>758.00</td>\n",
              "      <td>15</td>\n",
              "      <td>2,274.00</td>\n",
              "      <td>9,096.00</td>\n",
              "      <td>Adventure Works Laptop15.4W M1548 Red</td>\n",
              "      <td>Adventure Works</td>\n",
              "      <td>Adventure Works</td>\n",
              "      <td>Regular</td>\n",
              "      <td>Red</td>\n",
              "      <td>5,228.70</td>\n",
              "      <td>3,867.30</td>\n",
              "      <td>8</td>\n",
              "    </tr>\n",
              "    <tr>\n",
              "      <th>869</th>\n",
              "      <td>2009-07-11</td>\n",
              "      <td>2009-07-19</td>\n",
              "      <td>199</td>\n",
              "      <td>366</td>\n",
              "      <td>18964</td>\n",
              "      <td>200907113CS875</td>\n",
              "      <td>348.58</td>\n",
              "      <td>758.00</td>\n",
              "      <td>6</td>\n",
              "      <td>454.80</td>\n",
              "      <td>4,093.20</td>\n",
              "      <td>Adventure Works Laptop15.4W M1548 Black</td>\n",
              "      <td>Adventure Works</td>\n",
              "      <td>Adventure Works</td>\n",
              "      <td>Regular</td>\n",
              "      <td>Black</td>\n",
              "      <td>2,091.48</td>\n",
              "      <td>2,001.72</td>\n",
              "      <td>8</td>\n",
              "    </tr>\n",
              "  </tbody>\n",
              "</table>\n",
              "</div>"
            ],
            "text/plain": [
              "    Data Venda Data Envio  ...                Lucro  Tempo Envio\n",
              "463 2009-02-07 2009-02-13  ...             4,086.72            6\n",
              "80  2009-06-19 2009-06-29  ...             4,004.04           10\n",
              "525 2009-10-13 2009-10-22  ...             1,870.96            9\n",
              "83  2009-07-17 2009-07-22  ...             3,931.86            5\n",
              "213 2009-05-26 2009-06-07  ...             7,369.56           12\n",
              "843 2009-03-19 2009-03-31  ...             2,806.44           12\n",
              "315 2009-12-25 2010-01-02  ...             3,867.30            8\n",
              "869 2009-07-11 2009-07-19  ...             2,001.72            8\n",
              "\n",
              "[8 rows x 19 columns]"
            ]
          },
          "metadata": {},
          "execution_count": 614
        }
      ]
    },
    {
      "cell_type": "code",
      "metadata": {
        "colab": {
          "base_uri": "https://localhost:8080/",
          "height": 376
        },
        "id": "xfgjPt3t-99j",
        "outputId": "fefcd03c-d545-42cc-8cbb-9cc54ba152b7"
      },
      "source": [
        "#Gráfico de linhas relacionando o lucro de cada mês do ano 2009:\n",
        "df_2009.groupby(df_2009['Data Venda'].dt.month)['Lucro'].sum().plot(title='Lucros de cada mês de 2009', color='black')\n",
        "plt.xlabel('Meses')\n",
        "plt.ylabel('Lucro');"
      ],
      "execution_count": 615,
      "outputs": [
        {
          "output_type": "display_data",
          "data": {
            "image/png": "[encoded data removed]",
            "text/plain": [
              "<Figure size 576x396 with 1 Axes>"
            ]
          },
          "metadata": {}
        }
      ]
    },
    {
      "cell_type": "code",
      "metadata": {
        "colab": {
          "base_uri": "https://localhost:8080/",
          "height": 376
        },
        "id": "3dAtT3UCAWev",
        "outputId": "b0fdfde9-a590-465d-b823-c486a4f406fb"
      },
      "source": [
        "#Gráfico de barras com a relação Marca x Lucro para o ano de 2009:\n",
        "df_2009.groupby(df_2009['Marca'])['Lucro'].sum().sort_values(ascending=False).plot.bar(title='Lucros de cada marca para 2009', color='black')\n",
        "plt.xlabel('Marca')\n",
        "plt.ylabel('Lucro')\n",
        "plt.xticks(rotation='horizontal');"
      ],
      "execution_count": 616,
      "outputs": [
        {
          "output_type": "display_data",
          "data": {
            "image/png": "[encoded data removed]",
            "text/plain": [
              "<Figure size 576x396 with 1 Axes>"
            ]
          },
          "metadata": {}
        }
      ]
    },
    {
      "cell_type": "code",
      "metadata": {
        "colab": {
          "base_uri": "https://localhost:8080/",
          "height": 376
        },
        "id": "dxZYX4W6B5p5",
        "outputId": "7f7115c1-7ba8-443f-c04f-60d3f02340bc"
      },
      "source": [
        "#Gráfico em barras da relação luro x classe em 2009:\n",
        "df_2009.groupby(df_2009['Classe'])['Lucro'].sum().sort_values(ascending=False).plot.bar(title='Lucro por classe em 2009', color='black')\n",
        "plt.ylabel('Lucro')\n",
        "plt.xticks(rotation='horizontal');"
      ],
      "execution_count": 617,
      "outputs": [
        {
          "output_type": "display_data",
          "data": {
            "image/png": "[encoded data removed]",
            "text/plain": [
              "<Figure size 576x396 with 1 Axes>"
            ]
          },
          "metadata": {}
        }
      ]
    },
    {
      "cell_type": "code",
      "metadata": {
        "colab": {
          "base_uri": "https://localhost:8080/",
          "height": 297
        },
        "id": "M6wjLdHnETGz",
        "outputId": "9ab0091c-6194-4164-b9d0-33596991bb9a"
      },
      "source": [
        "#Resumo das estatísticas do tempo de envio do dataframe:\n",
        "df['Tempo Envio'].describe().reset_index()\n",
        "#Total: 904 dias\n",
        "#Média: 8,54 dias\n",
        "#Desvio padrão: 3,06 dias\n",
        "#Valor mínimo: 4 dias\n",
        "#Primeiro quartil: 6 dias\n",
        "#Segundo quartil (Mediana): 9 dias\n",
        "#Terceiro quartil: 11 dias\n",
        "#Valor máximo: 20 dias"
      ],
      "execution_count": 618,
      "outputs": [
        {
          "output_type": "execute_result",
          "data": {
            "text/html": [
              "<div>\n",
              "<style scoped>\n",
              "    .dataframe tbody tr th:only-of-type {\n",
              "        vertical-align: middle;\n",
              "    }\n",
              "\n",
              "    .dataframe tbody tr th {\n",
              "        vertical-align: top;\n",
              "    }\n",
              "\n",
              "    .dataframe thead th {\n",
              "        text-align: right;\n",
              "    }\n",
              "</style>\n",
              "<table border=\"1\" class=\"dataframe\">\n",
              "  <thead>\n",
              "    <tr style=\"text-align: right;\">\n",
              "      <th></th>\n",
              "      <th>index</th>\n",
              "      <th>Tempo Envio</th>\n",
              "    </tr>\n",
              "  </thead>\n",
              "  <tbody>\n",
              "    <tr>\n",
              "      <th>0</th>\n",
              "      <td>count</td>\n",
              "      <td>904.00</td>\n",
              "    </tr>\n",
              "    <tr>\n",
              "      <th>1</th>\n",
              "      <td>mean</td>\n",
              "      <td>8.54</td>\n",
              "    </tr>\n",
              "    <tr>\n",
              "      <th>2</th>\n",
              "      <td>std</td>\n",
              "      <td>3.06</td>\n",
              "    </tr>\n",
              "    <tr>\n",
              "      <th>3</th>\n",
              "      <td>min</td>\n",
              "      <td>4.00</td>\n",
              "    </tr>\n",
              "    <tr>\n",
              "      <th>4</th>\n",
              "      <td>25%</td>\n",
              "      <td>6.00</td>\n",
              "    </tr>\n",
              "    <tr>\n",
              "      <th>5</th>\n",
              "      <td>50%</td>\n",
              "      <td>9.00</td>\n",
              "    </tr>\n",
              "    <tr>\n",
              "      <th>6</th>\n",
              "      <td>75%</td>\n",
              "      <td>11.00</td>\n",
              "    </tr>\n",
              "    <tr>\n",
              "      <th>7</th>\n",
              "      <td>max</td>\n",
              "      <td>20.00</td>\n",
              "    </tr>\n",
              "  </tbody>\n",
              "</table>\n",
              "</div>"
            ],
            "text/plain": [
              "   index          Tempo Envio\n",
              "0  count               904.00\n",
              "1   mean                 8.54\n",
              "2    std                 3.06\n",
              "3    min                 4.00\n",
              "4    25%                 6.00\n",
              "5    50%                 9.00\n",
              "6    75%                11.00\n",
              "7    max                20.00"
            ]
          },
          "metadata": {},
          "execution_count": 618
        }
      ]
    },
    {
      "cell_type": "code",
      "metadata": {
        "colab": {
          "base_uri": "https://localhost:8080/",
          "height": 347
        },
        "id": "EFlQUU1eEYqc",
        "outputId": "1e8bbb93-8c6c-43e8-d6a1-37a0c009d227"
      },
      "source": [
        "#Boxplot do tempo de envio:\n",
        "plt.boxplot(df['Tempo Envio']);\n",
        "#Podemos ver que o valor 20 é um outlier"
      ],
      "execution_count": 619,
      "outputs": [
        {
          "output_type": "display_data",
          "data": {
            "image/png": "[encoded data removed]",
            "text/plain": [
              "<Figure size 576x396 with 1 Axes>"
            ]
          },
          "metadata": {}
        }
      ]
    },
    {
      "cell_type": "code",
      "metadata": {
        "colab": {
          "base_uri": "https://localhost:8080/",
          "height": 347
        },
        "id": "DG7lwvsNGEd5",
        "outputId": "df311524-5142-477e-e818-05ddbd13cb22"
      },
      "source": [
        "#Histograma do tempo de envio:\n",
        "plt.hist(df['Tempo Envio'], color='black');"
      ],
      "execution_count": 620,
      "outputs": [
        {
          "output_type": "display_data",
          "data": {
            "image/png": "[encoded data removed]",
            "text/plain": [
              "<Figure size 576x396 with 1 Axes>"
            ]
          },
          "metadata": {}
        }
      ]
    },
    {
      "cell_type": "code",
      "metadata": {
        "colab": {
          "base_uri": "https://localhost:8080/"
        },
        "id": "NqY70PEsLu2n",
        "outputId": "f1eeeb31-8642-4ace-a58d-c17d8c247152"
      },
      "source": [
        "#Menor tempo de envio:\n",
        "df['Tempo Envio'].min()"
      ],
      "execution_count": 621,
      "outputs": [
        {
          "output_type": "execute_result",
          "data": {
            "text/plain": [
              "4"
            ]
          },
          "metadata": {},
          "execution_count": 621
        }
      ]
    },
    {
      "cell_type": "code",
      "metadata": {
        "colab": {
          "base_uri": "https://localhost:8080/",
          "height": 168
        },
        "id": "W5fkvRlSL2jk",
        "outputId": "fa5ac0d9-1fd0-4169-d242-1a25d2dfce9e"
      },
      "source": [
        "#Identificação do outlier no dataframe:\n",
        "df[df['Tempo Envio'] == 20]"
      ],
      "execution_count": 622,
      "outputs": [
        {
          "output_type": "execute_result",
          "data": {
            "text/html": [
              "<div>\n",
              "<style scoped>\n",
              "    .dataframe tbody tr th:only-of-type {\n",
              "        vertical-align: middle;\n",
              "    }\n",
              "\n",
              "    .dataframe tbody tr th {\n",
              "        vertical-align: top;\n",
              "    }\n",
              "\n",
              "    .dataframe thead th {\n",
              "        text-align: right;\n",
              "    }\n",
              "</style>\n",
              "<table border=\"1\" class=\"dataframe\">\n",
              "  <thead>\n",
              "    <tr style=\"text-align: right;\">\n",
              "      <th></th>\n",
              "      <th>Data Venda</th>\n",
              "      <th>Data Envio</th>\n",
              "      <th>ID Loja</th>\n",
              "      <th>ID Produto</th>\n",
              "      <th>ID Cliente</th>\n",
              "      <th>No. Venda</th>\n",
              "      <th>Custo Unitário</th>\n",
              "      <th>Preço Unitário</th>\n",
              "      <th>Quantidade</th>\n",
              "      <th>Valor Desconto</th>\n",
              "      <th>Valor Venda</th>\n",
              "      <th>Produto</th>\n",
              "      <th>Fabricante</th>\n",
              "      <th>Marca</th>\n",
              "      <th>Classe</th>\n",
              "      <th>Cor</th>\n",
              "      <th>Custo</th>\n",
              "      <th>Lucro</th>\n",
              "      <th>Tempo Envio</th>\n",
              "    </tr>\n",
              "  </thead>\n",
              "  <tbody>\n",
              "    <tr>\n",
              "      <th>0</th>\n",
              "      <td>2008-05-09</td>\n",
              "      <td>2008-05-29</td>\n",
              "      <td>199</td>\n",
              "      <td>384</td>\n",
              "      <td>18839</td>\n",
              "      <td>200805093CS607</td>\n",
              "      <td>348.58</td>\n",
              "      <td>758.00</td>\n",
              "      <td>6</td>\n",
              "      <td>0.00</td>\n",
              "      <td>4,548.00</td>\n",
              "      <td>Adventure Works Laptop15.4W M1548 Red</td>\n",
              "      <td>Adventure Works</td>\n",
              "      <td>Adventure Works</td>\n",
              "      <td>Regular</td>\n",
              "      <td>Red</td>\n",
              "      <td>2,091.48</td>\n",
              "      <td>2,456.52</td>\n",
              "      <td>20</td>\n",
              "    </tr>\n",
              "  </tbody>\n",
              "</table>\n",
              "</div>"
            ],
            "text/plain": [
              "  Data Venda Data Envio  ...                Lucro  Tempo Envio\n",
              "0 2008-05-09 2008-05-29  ...             2,456.52           20\n",
              "\n",
              "[1 rows x 19 columns]"
            ]
          },
          "metadata": {},
          "execution_count": 622
        }
      ]
    },
    {
      "cell_type": "code",
      "metadata": {
        "id": "Z3oit2H7MaWu"
      },
      "source": [
        "#Salvando o dataframe para.csv:\n",
        "df.to_csv('novo_csv.csv', index=False)"
      ],
      "execution_count": 623,
      "outputs": []
    },
    {
      "cell_type": "markdown",
      "metadata": {
        "id": "4iveL0cmpF9p"
      },
      "source": [
        "#**Algumas análises utilizando técnicas baseadas na disciplina de Análise Exploratória de Dados que estou cursando como optativa na minha universidade:**"
      ]
    },
    {
      "cell_type": "markdown",
      "metadata": {
        "id": "gpuPEILPp_Ev"
      },
      "source": [
        "##Comparação de homogeneidade dos dados usando o desvio padrão e o coeficiente de variação\n"
      ]
    },
    {
      "cell_type": "markdown",
      "metadata": {
        "id": "6kTCymKvqv2M"
      },
      "source": [
        "####Tendo como base os datasets das relações de vendas em determinadas cidades, buscamos definir qual delas tem a distribuição de vendas mais homogênea, ou seja, qual delas apresenta o menor coeficiente de variação, considerando as vendas de cada **tipo** de produto"
      ]
    },
    {
      "cell_type": "code",
      "metadata": {
        "id": "e9ELEDKcqufW"
      },
      "source": [
        "#Para isso atribuímos cada dataset de cada estado a uma variável específica:\n",
        "#Para arquivos do Excel:\n",
        "df1 = pd.read_excel('/content/drive/MyDrive/datasets_projeto_DIO/Aracaju.xlsx')\n",
        "df2 = pd.read_excel('/content/drive/MyDrive/datasets_projeto_DIO/Fortaleza.xlsx')\n",
        "df3 = pd.read_excel('/content/drive/MyDrive/datasets_projeto_DIO/Natal.xlsx')\n",
        "df4 = pd.read_excel('/content/drive/MyDrive/datasets_projeto_DIO/Recife.xlsx')\n",
        "df5 = pd.read_excel('/content/drive/MyDrive/datasets_projeto_DIO/Salvador.xlsx')"
      ],
      "execution_count": 624,
      "outputs": []
    },
    {
      "cell_type": "code",
      "metadata": {
        "colab": {
          "base_uri": "https://localhost:8080/",
          "height": 80
        },
        "id": "ppgf5FuftXBV",
        "outputId": "8e4c5a6b-8ea3-4258-f6eb-1f19cdac4ad2"
      },
      "source": [
        "#A concatenação dos dataframes facilitam a análise dos dados:\n",
        "df = pd.concat([df1, df2, df3, df4, df5])\n",
        "df.head(1)"
      ],
      "execution_count": 625,
      "outputs": [
        {
          "output_type": "execute_result",
          "data": {
            "text/html": [
              "<div>\n",
              "<style scoped>\n",
              "    .dataframe tbody tr th:only-of-type {\n",
              "        vertical-align: middle;\n",
              "    }\n",
              "\n",
              "    .dataframe tbody tr th {\n",
              "        vertical-align: top;\n",
              "    }\n",
              "\n",
              "    .dataframe thead th {\n",
              "        text-align: right;\n",
              "    }\n",
              "</style>\n",
              "<table border=\"1\" class=\"dataframe\">\n",
              "  <thead>\n",
              "    <tr style=\"text-align: right;\">\n",
              "      <th></th>\n",
              "      <th>Cidade</th>\n",
              "      <th>Data</th>\n",
              "      <th>Vendas</th>\n",
              "      <th>LojaID</th>\n",
              "      <th>Qtde</th>\n",
              "    </tr>\n",
              "  </thead>\n",
              "  <tbody>\n",
              "    <tr>\n",
              "      <th>0</th>\n",
              "      <td>Aracaju</td>\n",
              "      <td>2018-01-01</td>\n",
              "      <td>142.00</td>\n",
              "      <td>1520</td>\n",
              "      <td>1</td>\n",
              "    </tr>\n",
              "  </tbody>\n",
              "</table>\n",
              "</div>"
            ],
            "text/plain": [
              "    Cidade       Data               Vendas  LojaID  Qtde\n",
              "0  Aracaju 2018-01-01               142.00    1520     1"
            ]
          },
          "metadata": {},
          "execution_count": 625
        }
      ]
    },
    {
      "cell_type": "code",
      "metadata": {
        "colab": {
          "base_uri": "https://localhost:8080/",
          "height": 204
        },
        "id": "5yZaDIf_qk1I",
        "outputId": "39062470-f94e-41cf-bb70-b6d78713c26d"
      },
      "source": [
        "#Agrupando os estados com base no desvio padrão:\n",
        "df_dp = df.groupby(df.Cidade)['Vendas'].std().reset_index()\n",
        "df_dp.rename(columns={'Vendas': 'Desvio padrão'}, inplace=True)\n",
        "df_dp"
      ],
      "execution_count": 626,
      "outputs": [
        {
          "output_type": "execute_result",
          "data": {
            "text/html": [
              "<div>\n",
              "<style scoped>\n",
              "    .dataframe tbody tr th:only-of-type {\n",
              "        vertical-align: middle;\n",
              "    }\n",
              "\n",
              "    .dataframe tbody tr th {\n",
              "        vertical-align: top;\n",
              "    }\n",
              "\n",
              "    .dataframe thead th {\n",
              "        text-align: right;\n",
              "    }\n",
              "</style>\n",
              "<table border=\"1\" class=\"dataframe\">\n",
              "  <thead>\n",
              "    <tr style=\"text-align: right;\">\n",
              "      <th></th>\n",
              "      <th>Cidade</th>\n",
              "      <th>Desvio padrão</th>\n",
              "    </tr>\n",
              "  </thead>\n",
              "  <tbody>\n",
              "    <tr>\n",
              "      <th>0</th>\n",
              "      <td>Aracaju</td>\n",
              "      <td>66.08</td>\n",
              "    </tr>\n",
              "    <tr>\n",
              "      <th>1</th>\n",
              "      <td>Fortaleza</td>\n",
              "      <td>64.50</td>\n",
              "    </tr>\n",
              "    <tr>\n",
              "      <th>2</th>\n",
              "      <td>Natal</td>\n",
              "      <td>265.19</td>\n",
              "    </tr>\n",
              "    <tr>\n",
              "      <th>3</th>\n",
              "      <td>Recife</td>\n",
              "      <td>67.98</td>\n",
              "    </tr>\n",
              "    <tr>\n",
              "      <th>4</th>\n",
              "      <td>Salvador</td>\n",
              "      <td>70.37</td>\n",
              "    </tr>\n",
              "  </tbody>\n",
              "</table>\n",
              "</div>"
            ],
            "text/plain": [
              "      Cidade        Desvio padrão\n",
              "0    Aracaju                66.08\n",
              "1  Fortaleza                64.50\n",
              "2      Natal               265.19\n",
              "3     Recife                67.98\n",
              "4   Salvador                70.37"
            ]
          },
          "metadata": {},
          "execution_count": 626
        }
      ]
    },
    {
      "cell_type": "code",
      "metadata": {
        "colab": {
          "base_uri": "https://localhost:8080/",
          "height": 80
        },
        "id": "luwVt6kjwGKH",
        "outputId": "8a54dbf4-ebe2-4379-d655-ac4bc8b43906"
      },
      "source": [
        "#Retornando o maior e o menor desvio padrão de uma forma mais explícita - não ordenamos os valores diretamente no dataframe acima \n",
        "#porque pode gerar inconsistência de dados no agrupamento da média na tabela do desvio padrão, isso porque a ordem em que as cidades aparecem\n",
        "#na tabela acima é diferente da ordem das suas orcorrências únicas no dataframe original\n",
        "#Maior desvio padrão\n",
        "df_dp[df_dp['Desvio padrão'] == df_dp['Desvio padrão'].max()]"
      ],
      "execution_count": 627,
      "outputs": [
        {
          "output_type": "execute_result",
          "data": {
            "text/html": [
              "<div>\n",
              "<style scoped>\n",
              "    .dataframe tbody tr th:only-of-type {\n",
              "        vertical-align: middle;\n",
              "    }\n",
              "\n",
              "    .dataframe tbody tr th {\n",
              "        vertical-align: top;\n",
              "    }\n",
              "\n",
              "    .dataframe thead th {\n",
              "        text-align: right;\n",
              "    }\n",
              "</style>\n",
              "<table border=\"1\" class=\"dataframe\">\n",
              "  <thead>\n",
              "    <tr style=\"text-align: right;\">\n",
              "      <th></th>\n",
              "      <th>Cidade</th>\n",
              "      <th>Desvio padrão</th>\n",
              "    </tr>\n",
              "  </thead>\n",
              "  <tbody>\n",
              "    <tr>\n",
              "      <th>2</th>\n",
              "      <td>Natal</td>\n",
              "      <td>265.19</td>\n",
              "    </tr>\n",
              "  </tbody>\n",
              "</table>\n",
              "</div>"
            ],
            "text/plain": [
              "  Cidade        Desvio padrão\n",
              "2  Natal               265.19"
            ]
          },
          "metadata": {},
          "execution_count": 627
        }
      ]
    },
    {
      "cell_type": "code",
      "metadata": {
        "colab": {
          "base_uri": "https://localhost:8080/",
          "height": 80
        },
        "id": "kohF67z8wHj-",
        "outputId": "544d6ac9-7b79-4226-8a17-44f42f156c6f"
      },
      "source": [
        "#Menor desvio padrão\n",
        "df_dp[df_dp['Desvio padrão'] == df_dp['Desvio padrão'].min()]"
      ],
      "execution_count": 628,
      "outputs": [
        {
          "output_type": "execute_result",
          "data": {
            "text/html": [
              "<div>\n",
              "<style scoped>\n",
              "    .dataframe tbody tr th:only-of-type {\n",
              "        vertical-align: middle;\n",
              "    }\n",
              "\n",
              "    .dataframe tbody tr th {\n",
              "        vertical-align: top;\n",
              "    }\n",
              "\n",
              "    .dataframe thead th {\n",
              "        text-align: right;\n",
              "    }\n",
              "</style>\n",
              "<table border=\"1\" class=\"dataframe\">\n",
              "  <thead>\n",
              "    <tr style=\"text-align: right;\">\n",
              "      <th></th>\n",
              "      <th>Cidade</th>\n",
              "      <th>Desvio padrão</th>\n",
              "    </tr>\n",
              "  </thead>\n",
              "  <tbody>\n",
              "    <tr>\n",
              "      <th>1</th>\n",
              "      <td>Fortaleza</td>\n",
              "      <td>64.50</td>\n",
              "    </tr>\n",
              "  </tbody>\n",
              "</table>\n",
              "</div>"
            ],
            "text/plain": [
              "      Cidade        Desvio padrão\n",
              "1  Fortaleza                64.50"
            ]
          },
          "metadata": {},
          "execution_count": 628
        }
      ]
    },
    {
      "cell_type": "markdown",
      "metadata": {
        "id": "-Cp6PWVKy2yO"
      },
      "source": [
        "Os resultados acima sugerem que Fortaleza possui a distribuição de vendas para cada tipo de produto mais homogênea, com uma menor dispersão, ao passo que Natal possui a distribuição menos homogênea, com maior dispersão. No entanto, sendo o desvio padrão uma medida absoluta, não leva em consideração a proporção da dispersão com relação a média. Para resolver esse problema e levar em conta esse fator, é necessário fazer as comparações usando o coeficiente de variação:"
      ]
    },
    {
      "cell_type": "code",
      "metadata": {
        "colab": {
          "base_uri": "https://localhost:8080/",
          "height": 204
        },
        "id": "iBws-ZjXrmwp",
        "outputId": "127bc48a-2f0d-4d50-e72d-6050070d9faf"
      },
      "source": [
        "#Adicionando a média de vendas no agrupamento a fim de facilitar os cálculos:\n",
        "df_dp['Média'] = df.groupby(df.Cidade)['Vendas'].mean().reset_index()['Vendas']\n",
        "df_dp"
      ],
      "execution_count": 629,
      "outputs": [
        {
          "output_type": "execute_result",
          "data": {
            "text/html": [
              "<div>\n",
              "<style scoped>\n",
              "    .dataframe tbody tr th:only-of-type {\n",
              "        vertical-align: middle;\n",
              "    }\n",
              "\n",
              "    .dataframe tbody tr th {\n",
              "        vertical-align: top;\n",
              "    }\n",
              "\n",
              "    .dataframe thead th {\n",
              "        text-align: right;\n",
              "    }\n",
              "</style>\n",
              "<table border=\"1\" class=\"dataframe\">\n",
              "  <thead>\n",
              "    <tr style=\"text-align: right;\">\n",
              "      <th></th>\n",
              "      <th>Cidade</th>\n",
              "      <th>Desvio padrão</th>\n",
              "      <th>Média</th>\n",
              "    </tr>\n",
              "  </thead>\n",
              "  <tbody>\n",
              "    <tr>\n",
              "      <th>0</th>\n",
              "      <td>Aracaju</td>\n",
              "      <td>66.08</td>\n",
              "      <td>72.87</td>\n",
              "    </tr>\n",
              "    <tr>\n",
              "      <th>1</th>\n",
              "      <td>Fortaleza</td>\n",
              "      <td>64.50</td>\n",
              "      <td>71.27</td>\n",
              "    </tr>\n",
              "    <tr>\n",
              "      <th>2</th>\n",
              "      <td>Natal</td>\n",
              "      <td>265.19</td>\n",
              "      <td>246.62</td>\n",
              "    </tr>\n",
              "    <tr>\n",
              "      <th>3</th>\n",
              "      <td>Recife</td>\n",
              "      <td>67.98</td>\n",
              "      <td>78.30</td>\n",
              "    </tr>\n",
              "    <tr>\n",
              "      <th>4</th>\n",
              "      <td>Salvador</td>\n",
              "      <td>70.37</td>\n",
              "      <td>82.14</td>\n",
              "    </tr>\n",
              "  </tbody>\n",
              "</table>\n",
              "</div>"
            ],
            "text/plain": [
              "      Cidade        Desvio padrão                Média\n",
              "0    Aracaju                66.08                72.87\n",
              "1  Fortaleza                64.50                71.27\n",
              "2      Natal               265.19               246.62\n",
              "3     Recife                67.98                78.30\n",
              "4   Salvador                70.37                82.14"
            ]
          },
          "metadata": {},
          "execution_count": 629
        }
      ]
    },
    {
      "cell_type": "code",
      "metadata": {
        "colab": {
          "base_uri": "https://localhost:8080/",
          "height": 204
        },
        "id": "_OXzE_fVqoZy",
        "outputId": "074f2d1e-f307-44bd-8fc0-ec99ddd492e2"
      },
      "source": [
        "#Calculando o coeficiente de variação para cada cidade:\n",
        "df_dp['CV'] = df_dp['Desvio padrão']/df_dp['Média']\n",
        "df_dp"
      ],
      "execution_count": 630,
      "outputs": [
        {
          "output_type": "execute_result",
          "data": {
            "text/html": [
              "<div>\n",
              "<style scoped>\n",
              "    .dataframe tbody tr th:only-of-type {\n",
              "        vertical-align: middle;\n",
              "    }\n",
              "\n",
              "    .dataframe tbody tr th {\n",
              "        vertical-align: top;\n",
              "    }\n",
              "\n",
              "    .dataframe thead th {\n",
              "        text-align: right;\n",
              "    }\n",
              "</style>\n",
              "<table border=\"1\" class=\"dataframe\">\n",
              "  <thead>\n",
              "    <tr style=\"text-align: right;\">\n",
              "      <th></th>\n",
              "      <th>Cidade</th>\n",
              "      <th>Desvio padrão</th>\n",
              "      <th>Média</th>\n",
              "      <th>CV</th>\n",
              "    </tr>\n",
              "  </thead>\n",
              "  <tbody>\n",
              "    <tr>\n",
              "      <th>0</th>\n",
              "      <td>Aracaju</td>\n",
              "      <td>66.08</td>\n",
              "      <td>72.87</td>\n",
              "      <td>0.91</td>\n",
              "    </tr>\n",
              "    <tr>\n",
              "      <th>1</th>\n",
              "      <td>Fortaleza</td>\n",
              "      <td>64.50</td>\n",
              "      <td>71.27</td>\n",
              "      <td>0.90</td>\n",
              "    </tr>\n",
              "    <tr>\n",
              "      <th>2</th>\n",
              "      <td>Natal</td>\n",
              "      <td>265.19</td>\n",
              "      <td>246.62</td>\n",
              "      <td>1.08</td>\n",
              "    </tr>\n",
              "    <tr>\n",
              "      <th>3</th>\n",
              "      <td>Recife</td>\n",
              "      <td>67.98</td>\n",
              "      <td>78.30</td>\n",
              "      <td>0.87</td>\n",
              "    </tr>\n",
              "    <tr>\n",
              "      <th>4</th>\n",
              "      <td>Salvador</td>\n",
              "      <td>70.37</td>\n",
              "      <td>82.14</td>\n",
              "      <td>0.86</td>\n",
              "    </tr>\n",
              "  </tbody>\n",
              "</table>\n",
              "</div>"
            ],
            "text/plain": [
              "      Cidade        Desvio padrão                Média                   CV\n",
              "0    Aracaju                66.08                72.87                 0.91\n",
              "1  Fortaleza                64.50                71.27                 0.90\n",
              "2      Natal               265.19               246.62                 1.08\n",
              "3     Recife                67.98                78.30                 0.87\n",
              "4   Salvador                70.37                82.14                 0.86"
            ]
          },
          "metadata": {},
          "execution_count": 630
        }
      ]
    },
    {
      "cell_type": "markdown",
      "metadata": {
        "id": "hwqexjdA7E1F"
      },
      "source": [
        "Agora podemos, usando o Pandas, retornar a cidade com o maior coeficiente de variação de vendas e a cidade com o menor. Embora possamos conferir essas informações diretamente na tabela, para uma grande quantidade de dados é mais simples e rápido obter as informações diretamente usando os artifícios do Pandas:"
      ]
    },
    {
      "cell_type": "code",
      "metadata": {
        "colab": {
          "base_uri": "https://localhost:8080/",
          "height": 80
        },
        "id": "_nvvffha70Kq",
        "outputId": "c2392b1c-d0fc-4be0-87f0-71d7cdf778a6"
      },
      "source": [
        "#Cidade com o menor CV:\n",
        "df_dp[df_dp['CV'] == df_dp['CV'].min()]"
      ],
      "execution_count": 631,
      "outputs": [
        {
          "output_type": "execute_result",
          "data": {
            "text/html": [
              "<div>\n",
              "<style scoped>\n",
              "    .dataframe tbody tr th:only-of-type {\n",
              "        vertical-align: middle;\n",
              "    }\n",
              "\n",
              "    .dataframe tbody tr th {\n",
              "        vertical-align: top;\n",
              "    }\n",
              "\n",
              "    .dataframe thead th {\n",
              "        text-align: right;\n",
              "    }\n",
              "</style>\n",
              "<table border=\"1\" class=\"dataframe\">\n",
              "  <thead>\n",
              "    <tr style=\"text-align: right;\">\n",
              "      <th></th>\n",
              "      <th>Cidade</th>\n",
              "      <th>Desvio padrão</th>\n",
              "      <th>Média</th>\n",
              "      <th>CV</th>\n",
              "    </tr>\n",
              "  </thead>\n",
              "  <tbody>\n",
              "    <tr>\n",
              "      <th>4</th>\n",
              "      <td>Salvador</td>\n",
              "      <td>70.37</td>\n",
              "      <td>82.14</td>\n",
              "      <td>0.86</td>\n",
              "    </tr>\n",
              "  </tbody>\n",
              "</table>\n",
              "</div>"
            ],
            "text/plain": [
              "     Cidade        Desvio padrão                Média                   CV\n",
              "4  Salvador                70.37                82.14                 0.86"
            ]
          },
          "metadata": {},
          "execution_count": 631
        }
      ]
    },
    {
      "cell_type": "code",
      "metadata": {
        "colab": {
          "base_uri": "https://localhost:8080/",
          "height": 80
        },
        "id": "Nn8DAJdw7x_p",
        "outputId": "9989fcb7-b769-495b-c359-a858d2ecbcc1"
      },
      "source": [
        "#Cidade com o maior CV:\n",
        "df_dp[df_dp['CV'] == df_dp['CV'].max()]"
      ],
      "execution_count": 632,
      "outputs": [
        {
          "output_type": "execute_result",
          "data": {
            "text/html": [
              "<div>\n",
              "<style scoped>\n",
              "    .dataframe tbody tr th:only-of-type {\n",
              "        vertical-align: middle;\n",
              "    }\n",
              "\n",
              "    .dataframe tbody tr th {\n",
              "        vertical-align: top;\n",
              "    }\n",
              "\n",
              "    .dataframe thead th {\n",
              "        text-align: right;\n",
              "    }\n",
              "</style>\n",
              "<table border=\"1\" class=\"dataframe\">\n",
              "  <thead>\n",
              "    <tr style=\"text-align: right;\">\n",
              "      <th></th>\n",
              "      <th>Cidade</th>\n",
              "      <th>Desvio padrão</th>\n",
              "      <th>Média</th>\n",
              "      <th>CV</th>\n",
              "    </tr>\n",
              "  </thead>\n",
              "  <tbody>\n",
              "    <tr>\n",
              "      <th>2</th>\n",
              "      <td>Natal</td>\n",
              "      <td>265.19</td>\n",
              "      <td>246.62</td>\n",
              "      <td>1.08</td>\n",
              "    </tr>\n",
              "  </tbody>\n",
              "</table>\n",
              "</div>"
            ],
            "text/plain": [
              "  Cidade        Desvio padrão                Média                   CV\n",
              "2  Natal               265.19               246.62                 1.08"
            ]
          },
          "metadata": {},
          "execution_count": 632
        }
      ]
    },
    {
      "cell_type": "markdown",
      "metadata": {
        "id": "Q-MBpv0Z8OPp"
      },
      "source": [
        "Pelo coeficiente de variação podemos ver que a cidade com a distribuição menos homogênea é de fato Natal. No entanto, a cidade com a maior homogeneidade na distribuiçao **não é Fortaleza**, como sugerido pelo desvio padrão, **mas sim Salvador**, pois esta possui o menor coeficiente de variação"
      ]
    },
    {
      "cell_type": "markdown",
      "metadata": {
        "id": "CuDSOneS7mB_"
      },
      "source": [
        "Os gráficos de densidade das vendas para cada cidade confirmam nossa conclusão, mostrando menor homogeneidade para Natal e maior homogeneidade para Salvador - e a segunda distribuição mais homogênea é a de Recife, justamente a que possui o segundo menor coeficiente de variação:"
      ]
    },
    {
      "cell_type": "code",
      "metadata": {
        "colab": {
          "base_uri": "https://localhost:8080/",
          "height": 362
        },
        "id": "gDqppkyhzZUn",
        "outputId": "fdc0ff1c-9e0e-4328-a502-8fefd1e906ec"
      },
      "source": [
        "df1['Vendas'].plot.kde(title='Aracaju');"
      ],
      "execution_count": 633,
      "outputs": [
        {
          "output_type": "display_data",
          "data": {
            "image/png": "[encoded data removed]",
            "text/plain": [
              "<Figure size 576x396 with 1 Axes>"
            ]
          },
          "metadata": {}
        }
      ]
    },
    {
      "cell_type": "code",
      "metadata": {
        "colab": {
          "base_uri": "https://localhost:8080/",
          "height": 362
        },
        "id": "H0Zvucat1giV",
        "outputId": "6d9999dd-93d7-4c7c-cf84-8b29479875e5"
      },
      "source": [
        "df2['Vendas'].plot.kde(title='Fortaleza');"
      ],
      "execution_count": 634,
      "outputs": [
        {
          "output_type": "display_data",
          "data": {
            "image/png": "[encoded data removed]",
            "text/plain": [
              "<Figure size 576x396 with 1 Axes>"
            ]
          },
          "metadata": {}
        }
      ]
    },
    {
      "cell_type": "code",
      "metadata": {
        "colab": {
          "base_uri": "https://localhost:8080/",
          "height": 362
        },
        "id": "QZ2r9IpI1hJ1",
        "outputId": "5f37d05f-6d70-4f93-8d7f-45c00dc97159"
      },
      "source": [
        "df3['Vendas'].plot.kde(title='Natal');"
      ],
      "execution_count": 635,
      "outputs": [
        {
          "output_type": "display_data",
          "data": {
            "image/png": "[encoded data removed]",
            "text/plain": [
              "<Figure size 576x396 with 1 Axes>"
            ]
          },
          "metadata": {}
        }
      ]
    },
    {
      "cell_type": "code",
      "metadata": {
        "colab": {
          "base_uri": "https://localhost:8080/",
          "height": 362
        },
        "id": "_nrz7vop1hob",
        "outputId": "ba7f54f4-3825-47a1-cf14-f01b2fe2f3b8"
      },
      "source": [
        "df4['Vendas'].plot.kde(title='Recife');"
      ],
      "execution_count": 636,
      "outputs": [
        {
          "output_type": "display_data",
          "data": {
            "image/png": "[encoded data removed]",
            "text/plain": [
              "<Figure size 576x396 with 1 Axes>"
            ]
          },
          "metadata": {}
        }
      ]
    },
    {
      "cell_type": "code",
      "metadata": {
        "colab": {
          "base_uri": "https://localhost:8080/",
          "height": 362
        },
        "id": "_hvst_rq1bSM",
        "outputId": "9d50b68b-b009-45bf-cd11-85fef6a19c85"
      },
      "source": [
        "df5['Vendas'].plot.kde(title='Salvador');"
      ],
      "execution_count": 637,
      "outputs": [
        {
          "output_type": "display_data",
          "data": {
            "image/png": "[encoded data removed]",
            "text/plain": [
              "<Figure size 576x396 with 1 Axes>"
            ]
          },
          "metadata": {}
        }
      ]
    },
    {
      "cell_type": "markdown",
      "metadata": {
        "id": "SZYsgn7r9kJt"
      },
      "source": [
        "Desta forma, convém usar o coeficiente de variação para comparações de homogeneidade em distribuições e acabamos de fazer isso usando Pandas"
      ]
    },
    {
      "cell_type": "markdown",
      "metadata": {
        "id": "HD1A1AoG8Z0W"
      },
      "source": [
        "##Criando tabelas de frequências discretas e contínuas"
      ]
    },
    {
      "cell_type": "markdown",
      "metadata": {
        "id": "0vhgYxjN9SqG"
      },
      "source": [
        "Usaremos o mesmo dataset das relações das cidades com suas vendas para montar uma tabela de frequências para relacionar a ocorrência de cada loja no dataset"
      ]
    },
    {
      "cell_type": "code",
      "metadata": {
        "colab": {
          "base_uri": "https://localhost:8080/",
          "height": 638
        },
        "id": "3ZNlFkrNBkd0",
        "outputId": "24d32cf6-d8be-4018-af47-f94f8e552828"
      },
      "source": [
        "#Criando a tabela e ordenando por maior ocorrência\n",
        "tab_disc = pd.crosstab(df.LojaID, df.LojaID.sum()).reset_index()\n",
        "tab_disc.rename(columns={df.LojaID.sum(): 'Frequência'}, inplace=True)\n",
        "tab_disc.sort_values(ascending=False,by='Frequência')\n",
        "\n",
        "#Deixaremos os índices fora de ordem para sabermos qual é a posição de cada loja no dataframe original"
      ],
      "execution_count": 638,
      "outputs": [
        {
          "output_type": "execute_result",
          "data": {
            "text/html": [
              "<div>\n",
              "<style scoped>\n",
              "    .dataframe tbody tr th:only-of-type {\n",
              "        vertical-align: middle;\n",
              "    }\n",
              "\n",
              "    .dataframe tbody tr th {\n",
              "        vertical-align: top;\n",
              "    }\n",
              "\n",
              "    .dataframe thead th {\n",
              "        text-align: right;\n",
              "    }\n",
              "</style>\n",
              "<table border=\"1\" class=\"dataframe\">\n",
              "  <thead>\n",
              "    <tr style=\"text-align: right;\">\n",
              "      <th>col_0</th>\n",
              "      <th>LojaID</th>\n",
              "      <th>Frequência</th>\n",
              "    </tr>\n",
              "  </thead>\n",
              "  <tbody>\n",
              "    <tr>\n",
              "      <th>13</th>\n",
              "      <td>1036</td>\n",
              "      <td>117</td>\n",
              "    </tr>\n",
              "    <tr>\n",
              "      <th>12</th>\n",
              "      <td>1035</td>\n",
              "      <td>112</td>\n",
              "    </tr>\n",
              "    <tr>\n",
              "      <th>14</th>\n",
              "      <td>1037</td>\n",
              "      <td>101</td>\n",
              "    </tr>\n",
              "    <tr>\n",
              "      <th>11</th>\n",
              "      <td>1034</td>\n",
              "      <td>67</td>\n",
              "    </tr>\n",
              "    <tr>\n",
              "      <th>6</th>\n",
              "      <td>983</td>\n",
              "      <td>65</td>\n",
              "    </tr>\n",
              "    <tr>\n",
              "      <th>5</th>\n",
              "      <td>982</td>\n",
              "      <td>44</td>\n",
              "    </tr>\n",
              "    <tr>\n",
              "      <th>17</th>\n",
              "      <td>1522</td>\n",
              "      <td>41</td>\n",
              "    </tr>\n",
              "    <tr>\n",
              "      <th>15</th>\n",
              "      <td>1520</td>\n",
              "      <td>39</td>\n",
              "    </tr>\n",
              "    <tr>\n",
              "      <th>3</th>\n",
              "      <td>980</td>\n",
              "      <td>36</td>\n",
              "    </tr>\n",
              "    <tr>\n",
              "      <th>4</th>\n",
              "      <td>981</td>\n",
              "      <td>31</td>\n",
              "    </tr>\n",
              "    <tr>\n",
              "      <th>7</th>\n",
              "      <td>1002</td>\n",
              "      <td>30</td>\n",
              "    </tr>\n",
              "    <tr>\n",
              "      <th>10</th>\n",
              "      <td>1005</td>\n",
              "      <td>30</td>\n",
              "    </tr>\n",
              "    <tr>\n",
              "      <th>0</th>\n",
              "      <td>852</td>\n",
              "      <td>29</td>\n",
              "    </tr>\n",
              "    <tr>\n",
              "      <th>18</th>\n",
              "      <td>1523</td>\n",
              "      <td>29</td>\n",
              "    </tr>\n",
              "    <tr>\n",
              "      <th>2</th>\n",
              "      <td>854</td>\n",
              "      <td>28</td>\n",
              "    </tr>\n",
              "    <tr>\n",
              "      <th>9</th>\n",
              "      <td>1004</td>\n",
              "      <td>28</td>\n",
              "    </tr>\n",
              "    <tr>\n",
              "      <th>1</th>\n",
              "      <td>853</td>\n",
              "      <td>26</td>\n",
              "    </tr>\n",
              "    <tr>\n",
              "      <th>16</th>\n",
              "      <td>1521</td>\n",
              "      <td>21</td>\n",
              "    </tr>\n",
              "    <tr>\n",
              "      <th>8</th>\n",
              "      <td>1003</td>\n",
              "      <td>20</td>\n",
              "    </tr>\n",
              "  </tbody>\n",
              "</table>\n",
              "</div>"
            ],
            "text/plain": [
              "col_0  LojaID  Frequência\n",
              "13       1036         117\n",
              "12       1035         112\n",
              "14       1037         101\n",
              "11       1034          67\n",
              "6         983          65\n",
              "5         982          44\n",
              "17       1522          41\n",
              "15       1520          39\n",
              "3         980          36\n",
              "4         981          31\n",
              "7        1002          30\n",
              "10       1005          30\n",
              "0         852          29\n",
              "18       1523          29\n",
              "2         854          28\n",
              "9        1004          28\n",
              "1         853          26\n",
              "16       1521          21\n",
              "8        1003          20"
            ]
          },
          "metadata": {},
          "execution_count": 638
        }
      ]
    },
    {
      "cell_type": "markdown",
      "metadata": {
        "id": "VH4UawLYn1eL"
      },
      "source": [
        "Agrora, criaremos uma tabela de frequências contínua para as vendas de cada tipo de produto: "
      ]
    },
    {
      "cell_type": "code",
      "metadata": {
        "id": "FWzqcQ3Uobzt"
      },
      "source": [
        "#Para isso, é necessário definir os intervalos de classe da tabela. Faremos isso usando uma função que, atravé de uma lamda function, será aplicada\n",
        "#em nosso dataset\n",
        "from math import floor\n",
        "def limites_classes(dataframe):\n",
        "  classes = []\n",
        "  n = dataframe['Vendas'].count()\n",
        "  numero_classes = floor(n**(1/2))\n",
        "  maximo = dataframe['Vendas'].max()\n",
        "  minimo = dataframe['Vendas'].min()\n",
        "  amplitude = (maximo - minimo)/numero_classes\n",
        "  limite_inferior = minimo\n",
        "  limite_superior = 0\n",
        "  i = 1\n",
        "  while (limite_superior <= maximo):\n",
        "    limite_superior = minimo + amplitude*(i)\n",
        "    classes.append(str(round(limite_inferior,2)) + ' - ' + str(round(limite_superior,2)))\n",
        "    limite_inferior = limite_superior\n",
        "    i = i + 1\n",
        "  return classes"
      ],
      "execution_count": 639,
      "outputs": []
    },
    {
      "cell_type": "code",
      "metadata": {
        "id": "6r3qNizN-d-P",
        "colab": {
          "base_uri": "https://localhost:8080/",
          "height": 1000
        },
        "outputId": "fa8c60c8-03de-4c82-80fa-8e9ca1bfd563"
      },
      "source": [
        "#Criando um dataset com as classes usando a função definida acima:\n",
        "def tabela_frequencias_cont(df):\n",
        "  classes = limites_classes(df)\n",
        "  df_freq = pd.DataFrame(index=[classes], columns=['Frequência', 'Frequência Acumulada', 'Frequência Relativa', 'Frequência Relativa Acumulada']).reset_index()\n",
        "  df_freq.rename(columns={'level_0': 'Intervalos de classe'}, inplace=True)\n",
        "  df_freq['Frequência Relativa Acumulada'].fillna(0, inplace=True)\n",
        "  freq_acumulada = 0\n",
        "  freq_rel_acumulada = 0\n",
        "  n = df['Vendas'].count()\n",
        "  for i in range(len(classes)):\n",
        "    superior = float(classes[i].split(' - ')[1])\n",
        "    inferior = float(classes[i].split(' - ')[0])\n",
        "    freq = 0\n",
        "    freq_rel = 0\n",
        "    for j in range(len(df['Vendas'])):\n",
        "      if (df['Vendas'].iloc[j] >= inferior and df['Vendas'].iloc[j] < superior):\n",
        "        freq = freq + 1\n",
        "        freq_acumulada = freq_acumulada + 1\n",
        "        freq_rel = freq/n\n",
        "      if(i == (len(classes) - 1) and df['Vendas'].iloc[j] == superior):\n",
        "        freq = freq + 1\n",
        "        freq_acumulada = freq_acumulada + 1\n",
        "        freq_rel = freq/n\n",
        "    df_freq['Frequência'].iloc[i] = freq\n",
        "    df_freq['Frequência Acumulada'].iloc[i] = freq_acumulada\n",
        "    df_freq['Frequência Relativa'].iloc[i] = freq_rel\n",
        "    if (i != 0):\n",
        "      df_freq['Frequência Relativa Acumulada'].iloc[i] = df_freq['Frequência Relativa Acumulada'].iloc[i - 1] + freq_rel\n",
        "    else:\n",
        "      df_freq['Frequência Relativa Acumulada'].iloc[i] = freq_rel\n",
        "  return df_freq\n",
        "df_freq = tabela_frequencias_cont(df)\n",
        "df_freq"
      ],
      "execution_count": 640,
      "outputs": [
        {
          "output_type": "stream",
          "name": "stderr",
          "text": [
            "/usr/local/lib/python3.7/dist-packages/pandas/core/indexing.py:670: SettingWithCopyWarning: \n",
            "A value is trying to be set on a copy of a slice from a DataFrame\n",
            "\n",
            "See the caveats in the documentation: https://pandas.pydata.org/pandas-docs/stable/user_guide/indexing.html#returning-a-view-versus-a-copy\n",
            "  iloc._setitem_with_indexer(indexer, value)\n"
          ]
        },
        {
          "output_type": "execute_result",
          "data": {
            "text/html": [
              "<div>\n",
              "<style scoped>\n",
              "    .dataframe tbody tr th:only-of-type {\n",
              "        vertical-align: middle;\n",
              "    }\n",
              "\n",
              "    .dataframe tbody tr th {\n",
              "        vertical-align: top;\n",
              "    }\n",
              "\n",
              "    .dataframe thead th {\n",
              "        text-align: right;\n",
              "    }\n",
              "</style>\n",
              "<table border=\"1\" class=\"dataframe\">\n",
              "  <thead>\n",
              "    <tr style=\"text-align: right;\">\n",
              "      <th></th>\n",
              "      <th>Intervalos de classe</th>\n",
              "      <th>Frequência</th>\n",
              "      <th>Frequência Acumulada</th>\n",
              "      <th>Frequência Relativa</th>\n",
              "      <th>Frequência Relativa Acumulada</th>\n",
              "    </tr>\n",
              "  </thead>\n",
              "  <tbody>\n",
              "    <tr>\n",
              "      <th>0</th>\n",
              "      <td>3.01 - 33.46</td>\n",
              "      <td>275</td>\n",
              "      <td>275</td>\n",
              "      <td>0.31</td>\n",
              "      <td>0.31</td>\n",
              "    </tr>\n",
              "    <tr>\n",
              "      <th>1</th>\n",
              "      <td>33.46 - 63.91</td>\n",
              "      <td>213</td>\n",
              "      <td>488</td>\n",
              "      <td>0.24</td>\n",
              "      <td>0.55</td>\n",
              "    </tr>\n",
              "    <tr>\n",
              "      <th>2</th>\n",
              "      <td>63.91 - 94.35</td>\n",
              "      <td>31</td>\n",
              "      <td>519</td>\n",
              "      <td>0.03</td>\n",
              "      <td>0.58</td>\n",
              "    </tr>\n",
              "    <tr>\n",
              "      <th>3</th>\n",
              "      <td>94.35 - 124.8</td>\n",
              "      <td>34</td>\n",
              "      <td>553</td>\n",
              "      <td>0.04</td>\n",
              "      <td>0.62</td>\n",
              "    </tr>\n",
              "    <tr>\n",
              "      <th>4</th>\n",
              "      <td>124.8 - 155.25</td>\n",
              "      <td>106</td>\n",
              "      <td>659</td>\n",
              "      <td>0.12</td>\n",
              "      <td>0.74</td>\n",
              "    </tr>\n",
              "    <tr>\n",
              "      <th>5</th>\n",
              "      <td>155.25 - 185.7</td>\n",
              "      <td>90</td>\n",
              "      <td>749</td>\n",
              "      <td>0.10</td>\n",
              "      <td>0.84</td>\n",
              "    </tr>\n",
              "    <tr>\n",
              "      <th>6</th>\n",
              "      <td>185.7 - 216.15</td>\n",
              "      <td>42</td>\n",
              "      <td>791</td>\n",
              "      <td>0.05</td>\n",
              "      <td>0.88</td>\n",
              "    </tr>\n",
              "    <tr>\n",
              "      <th>7</th>\n",
              "      <td>216.15 - 246.59</td>\n",
              "      <td>21</td>\n",
              "      <td>812</td>\n",
              "      <td>0.02</td>\n",
              "      <td>0.91</td>\n",
              "    </tr>\n",
              "    <tr>\n",
              "      <th>8</th>\n",
              "      <td>246.59 - 277.04</td>\n",
              "      <td>6</td>\n",
              "      <td>818</td>\n",
              "      <td>0.01</td>\n",
              "      <td>0.91</td>\n",
              "    </tr>\n",
              "    <tr>\n",
              "      <th>9</th>\n",
              "      <td>277.04 - 307.49</td>\n",
              "      <td>6</td>\n",
              "      <td>824</td>\n",
              "      <td>0.01</td>\n",
              "      <td>0.92</td>\n",
              "    </tr>\n",
              "    <tr>\n",
              "      <th>10</th>\n",
              "      <td>307.49 - 337.94</td>\n",
              "      <td>5</td>\n",
              "      <td>829</td>\n",
              "      <td>0.01</td>\n",
              "      <td>0.93</td>\n",
              "    </tr>\n",
              "    <tr>\n",
              "      <th>11</th>\n",
              "      <td>337.94 - 368.39</td>\n",
              "      <td>1</td>\n",
              "      <td>830</td>\n",
              "      <td>0.00</td>\n",
              "      <td>0.93</td>\n",
              "    </tr>\n",
              "    <tr>\n",
              "      <th>12</th>\n",
              "      <td>368.39 - 398.83</td>\n",
              "      <td>5</td>\n",
              "      <td>835</td>\n",
              "      <td>0.01</td>\n",
              "      <td>0.93</td>\n",
              "    </tr>\n",
              "    <tr>\n",
              "      <th>13</th>\n",
              "      <td>398.83 - 429.28</td>\n",
              "      <td>3</td>\n",
              "      <td>838</td>\n",
              "      <td>0.00</td>\n",
              "      <td>0.94</td>\n",
              "    </tr>\n",
              "    <tr>\n",
              "      <th>14</th>\n",
              "      <td>429.28 - 459.73</td>\n",
              "      <td>3</td>\n",
              "      <td>841</td>\n",
              "      <td>0.00</td>\n",
              "      <td>0.94</td>\n",
              "    </tr>\n",
              "    <tr>\n",
              "      <th>15</th>\n",
              "      <td>459.73 - 490.18</td>\n",
              "      <td>1</td>\n",
              "      <td>842</td>\n",
              "      <td>0.00</td>\n",
              "      <td>0.94</td>\n",
              "    </tr>\n",
              "    <tr>\n",
              "      <th>16</th>\n",
              "      <td>490.18 - 520.62</td>\n",
              "      <td>2</td>\n",
              "      <td>844</td>\n",
              "      <td>0.00</td>\n",
              "      <td>0.94</td>\n",
              "    </tr>\n",
              "    <tr>\n",
              "      <th>17</th>\n",
              "      <td>520.62 - 551.07</td>\n",
              "      <td>3</td>\n",
              "      <td>847</td>\n",
              "      <td>0.00</td>\n",
              "      <td>0.95</td>\n",
              "    </tr>\n",
              "    <tr>\n",
              "      <th>18</th>\n",
              "      <td>551.07 - 581.52</td>\n",
              "      <td>8</td>\n",
              "      <td>855</td>\n",
              "      <td>0.01</td>\n",
              "      <td>0.96</td>\n",
              "    </tr>\n",
              "    <tr>\n",
              "      <th>19</th>\n",
              "      <td>581.52 - 611.97</td>\n",
              "      <td>3</td>\n",
              "      <td>858</td>\n",
              "      <td>0.00</td>\n",
              "      <td>0.96</td>\n",
              "    </tr>\n",
              "    <tr>\n",
              "      <th>20</th>\n",
              "      <td>611.97 - 642.42</td>\n",
              "      <td>2</td>\n",
              "      <td>860</td>\n",
              "      <td>0.00</td>\n",
              "      <td>0.96</td>\n",
              "    </tr>\n",
              "    <tr>\n",
              "      <th>21</th>\n",
              "      <td>642.42 - 672.86</td>\n",
              "      <td>3</td>\n",
              "      <td>863</td>\n",
              "      <td>0.00</td>\n",
              "      <td>0.97</td>\n",
              "    </tr>\n",
              "    <tr>\n",
              "      <th>22</th>\n",
              "      <td>672.86 - 703.31</td>\n",
              "      <td>4</td>\n",
              "      <td>867</td>\n",
              "      <td>0.00</td>\n",
              "      <td>0.97</td>\n",
              "    </tr>\n",
              "    <tr>\n",
              "      <th>23</th>\n",
              "      <td>703.31 - 733.76</td>\n",
              "      <td>7</td>\n",
              "      <td>874</td>\n",
              "      <td>0.01</td>\n",
              "      <td>0.98</td>\n",
              "    </tr>\n",
              "    <tr>\n",
              "      <th>24</th>\n",
              "      <td>733.76 - 764.21</td>\n",
              "      <td>3</td>\n",
              "      <td>877</td>\n",
              "      <td>0.00</td>\n",
              "      <td>0.98</td>\n",
              "    </tr>\n",
              "    <tr>\n",
              "      <th>25</th>\n",
              "      <td>764.21 - 794.66</td>\n",
              "      <td>4</td>\n",
              "      <td>881</td>\n",
              "      <td>0.00</td>\n",
              "      <td>0.99</td>\n",
              "    </tr>\n",
              "    <tr>\n",
              "      <th>26</th>\n",
              "      <td>794.66 - 825.1</td>\n",
              "      <td>1</td>\n",
              "      <td>882</td>\n",
              "      <td>0.00</td>\n",
              "      <td>0.99</td>\n",
              "    </tr>\n",
              "    <tr>\n",
              "      <th>27</th>\n",
              "      <td>825.1 - 855.55</td>\n",
              "      <td>5</td>\n",
              "      <td>887</td>\n",
              "      <td>0.01</td>\n",
              "      <td>0.99</td>\n",
              "    </tr>\n",
              "    <tr>\n",
              "      <th>28</th>\n",
              "      <td>855.55 - 886.0</td>\n",
              "      <td>6</td>\n",
              "      <td>893</td>\n",
              "      <td>0.01</td>\n",
              "      <td>1.00</td>\n",
              "    </tr>\n",
              "    <tr>\n",
              "      <th>29</th>\n",
              "      <td>886.0 - 916.45</td>\n",
              "      <td>1</td>\n",
              "      <td>894</td>\n",
              "      <td>0.00</td>\n",
              "      <td>1.00</td>\n",
              "    </tr>\n",
              "  </tbody>\n",
              "</table>\n",
              "</div>"
            ],
            "text/plain": [
              "   Intervalos de classe  ... Frequência Relativa Acumulada\n",
              "0          3.01 - 33.46  ...                          0.31\n",
              "1         33.46 - 63.91  ...                          0.55\n",
              "2         63.91 - 94.35  ...                          0.58\n",
              "3         94.35 - 124.8  ...                          0.62\n",
              "4        124.8 - 155.25  ...                          0.74\n",
              "5        155.25 - 185.7  ...                          0.84\n",
              "6        185.7 - 216.15  ...                          0.88\n",
              "7       216.15 - 246.59  ...                          0.91\n",
              "8       246.59 - 277.04  ...                          0.91\n",
              "9       277.04 - 307.49  ...                          0.92\n",
              "10      307.49 - 337.94  ...                          0.93\n",
              "11      337.94 - 368.39  ...                          0.93\n",
              "12      368.39 - 398.83  ...                          0.93\n",
              "13      398.83 - 429.28  ...                          0.94\n",
              "14      429.28 - 459.73  ...                          0.94\n",
              "15      459.73 - 490.18  ...                          0.94\n",
              "16      490.18 - 520.62  ...                          0.94\n",
              "17      520.62 - 551.07  ...                          0.95\n",
              "18      551.07 - 581.52  ...                          0.96\n",
              "19      581.52 - 611.97  ...                          0.96\n",
              "20      611.97 - 642.42  ...                          0.96\n",
              "21      642.42 - 672.86  ...                          0.97\n",
              "22      672.86 - 703.31  ...                          0.97\n",
              "23      703.31 - 733.76  ...                          0.98\n",
              "24      733.76 - 764.21  ...                          0.98\n",
              "25      764.21 - 794.66  ...                          0.99\n",
              "26       794.66 - 825.1  ...                          0.99\n",
              "27       825.1 - 855.55  ...                          0.99\n",
              "28       855.55 - 886.0  ...                          1.00\n",
              "29       886.0 - 916.45  ...                          1.00\n",
              "\n",
              "[30 rows x 5 columns]"
            ]
          },
          "metadata": {},
          "execution_count": 640
        }
      ]
    },
    {
      "cell_type": "markdown",
      "metadata": {
        "id": "Q5r4Kt2wP1PU"
      },
      "source": [
        "##Cálculo da mediana com base na tabela de frequências acima"
      ]
    },
    {
      "cell_type": "code",
      "metadata": {
        "colab": {
          "base_uri": "https://localhost:8080/",
          "height": 80
        },
        "id": "ct_PiZapQDZD",
        "outputId": "0aa52f87-e098-47a4-cf39-8962a13848bb"
      },
      "source": [
        "#Definição da classe mediana:\n",
        "indice_mediana = ceil(df.shape[0]/2)\n",
        "classe_mediana = df_freq[df_freq['Frequência Acumulada'] >= indice_mediana].head(1)\n",
        "classe_mediana\n"
      ],
      "execution_count": 655,
      "outputs": [
        {
          "output_type": "execute_result",
          "data": {
            "text/html": [
              "<div>\n",
              "<style scoped>\n",
              "    .dataframe tbody tr th:only-of-type {\n",
              "        vertical-align: middle;\n",
              "    }\n",
              "\n",
              "    .dataframe tbody tr th {\n",
              "        vertical-align: top;\n",
              "    }\n",
              "\n",
              "    .dataframe thead th {\n",
              "        text-align: right;\n",
              "    }\n",
              "</style>\n",
              "<table border=\"1\" class=\"dataframe\">\n",
              "  <thead>\n",
              "    <tr style=\"text-align: right;\">\n",
              "      <th></th>\n",
              "      <th>Intervalos de classe</th>\n",
              "      <th>Frequência</th>\n",
              "      <th>Frequência Acumulada</th>\n",
              "      <th>Frequência Relativa</th>\n",
              "      <th>Frequência Relativa Acumulada</th>\n",
              "    </tr>\n",
              "  </thead>\n",
              "  <tbody>\n",
              "    <tr>\n",
              "      <th>1</th>\n",
              "      <td>33.46 - 63.91</td>\n",
              "      <td>213</td>\n",
              "      <td>488</td>\n",
              "      <td>0.24</td>\n",
              "      <td>0.55</td>\n",
              "    </tr>\n",
              "  </tbody>\n",
              "</table>\n",
              "</div>"
            ],
            "text/plain": [
              "  Intervalos de classe  ... Frequência Relativa Acumulada\n",
              "1        33.46 - 63.91  ...                          0.55\n",
              "\n",
              "[1 rows x 5 columns]"
            ]
          },
          "metadata": {},
          "execution_count": 655
        }
      ]
    },
    {
      "cell_type": "code",
      "metadata": {
        "colab": {
          "base_uri": "https://localhost:8080/"
        },
        "id": "nkgksyF_P9sR",
        "outputId": "8977f126-0745-4f8a-d869-3541e099c1a9"
      },
      "source": [
        "#Função par o cálculo da mediana da tabela:\n",
        "def md_tab_freq_cont(df, df_freq):\n",
        "  indice_mediana = ceil(df.shape[0]/2)\n",
        "  cls_mediana = df_freq[df_freq['Frequência Acumulada'] >= indice_mediana].head(1)\n",
        "  n_2 = ceil(df.shape[0]/2)\n",
        "  LI_md = float(str(cls_mediana['Intervalos de classe']).split(' - ')[0].split(' ')[-1])\n",
        "  LS_md = float(str(cls_mediana['Intervalos de classe']).split(' - ')[-1].split('\\n')[0])\n",
        "  h_md = round(LS_md - LI_md, 2)\n",
        "  NAnt_md = int(str(df_freq.iloc[cls_mediana.index - 1]['Frequência Acumulada']).split('\\n')[0].split(' ')[-1])\n",
        "  N_md = int(str(cls_mediana['Frequência']).split('\\n')[0].split(' ')[-1])\n",
        "  md = LI_md + (n_2 - NAnt_md)*(h_md)/(N_md)\n",
        "  return round(md,2)\n",
        "\n",
        "md = md_tab_freq_cont(df, df_freq)\n",
        "md"
      ],
      "execution_count": 674,
      "outputs": [
        {
          "output_type": "execute_result",
          "data": {
            "text/plain": [
              "58.05"
            ]
          },
          "metadata": {},
          "execution_count": 674
        }
      ]
    },
    {
      "cell_type": "markdown",
      "metadata": {
        "id": "8y-1LjHieWyw"
      },
      "source": [
        "Usando a fórmula de cálculo da mediana para a tabela de frequências, obtemos 58. Podemos sabemos que essa, por ser uma forma de calcular a mediada diretamente pela tabela de frequências, é uma estimativa do real valor dela. Podemos calcular o real valor da mediana para fins de comparação:"
      ]
    },
    {
      "cell_type": "code",
      "metadata": {
        "id": "fNYLEbiF9oeU",
        "colab": {
          "base_uri": "https://localhost:8080/"
        },
        "outputId": "4fea7081-0cd0-49ba-e659-5d093203c9fe"
      },
      "source": [
        "#Cálculo da mediana da tabela:\n",
        "df['Vendas'].median()"
      ],
      "execution_count": 643,
      "outputs": [
        {
          "output_type": "execute_result",
          "data": {
            "text/plain": [
              "44.0"
            ]
          },
          "metadata": {},
          "execution_count": 643
        }
      ]
    },
    {
      "cell_type": "markdown",
      "metadata": {
        "id": "A0IYQhCve2Np"
      },
      "source": [
        "Para o número de observações da amostra a aproximação da mediana real é realmente muito boa. No entanto, vemos que a diferença da mediana real para o valor máximo é exorbitante. Podemos constatar isso pelo boxplot:"
      ]
    },
    {
      "cell_type": "code",
      "metadata": {
        "id": "ZAnNK5vz9PXT",
        "colab": {
          "base_uri": "https://localhost:8080/",
          "height": 347
        },
        "outputId": "5f9557aa-50af-4101-ae8a-3e33a48d2bec"
      },
      "source": [
        "plt.boxplot(df.Vendas);"
      ],
      "execution_count": 644,
      "outputs": [
        {
          "output_type": "display_data",
          "data": {
            "image/png": "[encoded data removed]",
            "text/plain": [
              "<Figure size 576x396 with 1 Axes>"
            ]
          },
          "metadata": {}
        }
      ]
    },
    {
      "cell_type": "markdown",
      "metadata": {
        "id": "TwKMwtxUfX1r"
      },
      "source": [
        "Nossa! De fato temos uma grande quantidade de outliers!"
      ]
    },
    {
      "cell_type": "markdown",
      "metadata": {
        "id": "DGIjOSSgg7If"
      },
      "source": [
        "Considerando a fórmula do cálculo para a mediana diretamente pela tabela de frequências, podemos inferir que os outilers interferem no cálculo da mediana **quando é feito diretamente pela tabela de frequências**, já que ele **não interfere no cálculo da mediana real**. Podemos criar uma função para eliminar os outliers e então calcular a mediana para a tabela de frequências contínua resultante, a fim de testarmos essa hipótese para o nosso dataframe:"
      ]
    },
    {
      "cell_type": "code",
      "metadata": {
        "colab": {
          "base_uri": "https://localhost:8080/",
          "height": 419
        },
        "id": "0blb4JdkhOzF",
        "outputId": "35b262ed-4958-439e-9357-cb81b2021d58"
      },
      "source": [
        "#Fução para remover os outilers do dataframe original:\n",
        "def remover_outliers(df):\n",
        "    q3 = df['Vendas'].quantile(0.75)\n",
        "    q1 = df['Vendas'].quantile(0.25)\n",
        "    iqr = q3-q1\n",
        "    LI  = q1-1.5*iqr\n",
        "    LS = q3+1.5*iqr\n",
        "    novo_df = df.loc[(df['Vendas'] > LI) & (df['Vendas'] < LS)]\n",
        "    return novo_df\n",
        "novo_df = remover_outliers(df)\n",
        "novo_df"
      ],
      "execution_count": 675,
      "outputs": [
        {
          "output_type": "execute_result",
          "data": {
            "text/html": [
              "<div>\n",
              "<style scoped>\n",
              "    .dataframe tbody tr th:only-of-type {\n",
              "        vertical-align: middle;\n",
              "    }\n",
              "\n",
              "    .dataframe tbody tr th {\n",
              "        vertical-align: top;\n",
              "    }\n",
              "\n",
              "    .dataframe thead th {\n",
              "        text-align: right;\n",
              "    }\n",
              "</style>\n",
              "<table border=\"1\" class=\"dataframe\">\n",
              "  <thead>\n",
              "    <tr style=\"text-align: right;\">\n",
              "      <th></th>\n",
              "      <th>Cidade</th>\n",
              "      <th>Data</th>\n",
              "      <th>Vendas</th>\n",
              "      <th>LojaID</th>\n",
              "      <th>Qtde</th>\n",
              "    </tr>\n",
              "  </thead>\n",
              "  <tbody>\n",
              "    <tr>\n",
              "      <th>0</th>\n",
              "      <td>Aracaju</td>\n",
              "      <td>2018-01-01</td>\n",
              "      <td>142.00</td>\n",
              "      <td>1520</td>\n",
              "      <td>1</td>\n",
              "    </tr>\n",
              "    <tr>\n",
              "      <th>1</th>\n",
              "      <td>Aracaju</td>\n",
              "      <td>2018-01-01</td>\n",
              "      <td>14.21</td>\n",
              "      <td>1522</td>\n",
              "      <td>6</td>\n",
              "    </tr>\n",
              "    <tr>\n",
              "      <th>2</th>\n",
              "      <td>Aracaju</td>\n",
              "      <td>2018-01-01</td>\n",
              "      <td>71.55</td>\n",
              "      <td>1520</td>\n",
              "      <td>1</td>\n",
              "    </tr>\n",
              "    <tr>\n",
              "      <th>3</th>\n",
              "      <td>Aracaju</td>\n",
              "      <td>2018-01-01</td>\n",
              "      <td>3.01</td>\n",
              "      <td>1521</td>\n",
              "      <td>7</td>\n",
              "    </tr>\n",
              "    <tr>\n",
              "      <th>4</th>\n",
              "      <td>Aracaju</td>\n",
              "      <td>2018-01-01</td>\n",
              "      <td>24.51</td>\n",
              "      <td>1522</td>\n",
              "      <td>8</td>\n",
              "    </tr>\n",
              "    <tr>\n",
              "      <th>...</th>\n",
              "      <td>...</td>\n",
              "      <td>...</td>\n",
              "      <td>...</td>\n",
              "      <td>...</td>\n",
              "      <td>...</td>\n",
              "    </tr>\n",
              "    <tr>\n",
              "      <th>235</th>\n",
              "      <td>Salvador</td>\n",
              "      <td>2019-01-03</td>\n",
              "      <td>41.84</td>\n",
              "      <td>1034</td>\n",
              "      <td>1</td>\n",
              "    </tr>\n",
              "    <tr>\n",
              "      <th>236</th>\n",
              "      <td>Salvador</td>\n",
              "      <td>2019-01-03</td>\n",
              "      <td>126.29</td>\n",
              "      <td>1035</td>\n",
              "      <td>3</td>\n",
              "    </tr>\n",
              "    <tr>\n",
              "      <th>237</th>\n",
              "      <td>Salvador</td>\n",
              "      <td>2019-01-03</td>\n",
              "      <td>38.06</td>\n",
              "      <td>1036</td>\n",
              "      <td>3</td>\n",
              "    </tr>\n",
              "    <tr>\n",
              "      <th>238</th>\n",
              "      <td>Salvador</td>\n",
              "      <td>2019-01-03</td>\n",
              "      <td>139.64</td>\n",
              "      <td>1035</td>\n",
              "      <td>1</td>\n",
              "    </tr>\n",
              "    <tr>\n",
              "      <th>239</th>\n",
              "      <td>Salvador</td>\n",
              "      <td>2019-01-03</td>\n",
              "      <td>161.41</td>\n",
              "      <td>1037</td>\n",
              "      <td>3</td>\n",
              "    </tr>\n",
              "  </tbody>\n",
              "</table>\n",
              "<p>830 rows × 5 columns</p>\n",
              "</div>"
            ],
            "text/plain": [
              "       Cidade       Data               Vendas  LojaID  Qtde\n",
              "0     Aracaju 2018-01-01               142.00    1520     1\n",
              "1     Aracaju 2018-01-01                14.21    1522     6\n",
              "2     Aracaju 2018-01-01                71.55    1520     1\n",
              "3     Aracaju 2018-01-01                 3.01    1521     7\n",
              "4     Aracaju 2018-01-01                24.51    1522     8\n",
              "..        ...        ...                  ...     ...   ...\n",
              "235  Salvador 2019-01-03                41.84    1034     1\n",
              "236  Salvador 2019-01-03               126.29    1035     3\n",
              "237  Salvador 2019-01-03                38.06    1036     3\n",
              "238  Salvador 2019-01-03               139.64    1035     1\n",
              "239  Salvador 2019-01-03               161.41    1037     3\n",
              "\n",
              "[830 rows x 5 columns]"
            ]
          },
          "metadata": {},
          "execution_count": 675
        }
      ]
    },
    {
      "cell_type": "markdown",
      "metadata": {
        "id": "9yrwdYzWijUm"
      },
      "source": [
        "Observando o boxplot para o novo dataset, vemos que praticamente todos os outliers foram removidos, restando apenas um:"
      ]
    },
    {
      "cell_type": "code",
      "metadata": {
        "colab": {
          "base_uri": "https://localhost:8080/",
          "height": 347
        },
        "id": "olwksbfFinNE",
        "outputId": "499d6f9b-efeb-483f-b415-096e7c18d3ce"
      },
      "source": [
        "plt.boxplot(novo_df.Vendas);"
      ],
      "execution_count": 676,
      "outputs": [
        {
          "output_type": "display_data",
          "data": {
            "image/png": "[encoded data removed]",
            "text/plain": [
              "<Figure size 576x396 with 1 Axes>"
            ]
          },
          "metadata": {}
        }
      ]
    },
    {
      "cell_type": "markdown",
      "metadata": {
        "id": "7yXNiXhI6dxP"
      },
      "source": [
        "Nova tabela:"
      ]
    },
    {
      "cell_type": "code",
      "metadata": {
        "colab": {
          "base_uri": "https://localhost:8080/",
          "height": 1000
        },
        "id": "cF4tH5d-5_2F",
        "outputId": "e978dd44-f207-47df-fc15-1dbaa982e57d"
      },
      "source": [
        "nova_tabela = tabela_frequencias_cont(novo_df)\n",
        "nova_tabela"
      ],
      "execution_count": 679,
      "outputs": [
        {
          "output_type": "stream",
          "name": "stderr",
          "text": [
            "/usr/local/lib/python3.7/dist-packages/pandas/core/indexing.py:670: SettingWithCopyWarning: \n",
            "A value is trying to be set on a copy of a slice from a DataFrame\n",
            "\n",
            "See the caveats in the documentation: https://pandas.pydata.org/pandas-docs/stable/user_guide/indexing.html#returning-a-view-versus-a-copy\n",
            "  iloc._setitem_with_indexer(indexer, value)\n"
          ]
        },
        {
          "output_type": "execute_result",
          "data": {
            "text/html": [
              "<div>\n",
              "<style scoped>\n",
              "    .dataframe tbody tr th:only-of-type {\n",
              "        vertical-align: middle;\n",
              "    }\n",
              "\n",
              "    .dataframe tbody tr th {\n",
              "        vertical-align: top;\n",
              "    }\n",
              "\n",
              "    .dataframe thead th {\n",
              "        text-align: right;\n",
              "    }\n",
              "</style>\n",
              "<table border=\"1\" class=\"dataframe\">\n",
              "  <thead>\n",
              "    <tr style=\"text-align: right;\">\n",
              "      <th></th>\n",
              "      <th>Intervalos de classe</th>\n",
              "      <th>Frequência</th>\n",
              "      <th>Frequência Acumulada</th>\n",
              "      <th>Frequência Relativa</th>\n",
              "      <th>Frequência Relativa Acumulada</th>\n",
              "    </tr>\n",
              "  </thead>\n",
              "  <tbody>\n",
              "    <tr>\n",
              "      <th>0</th>\n",
              "      <td>3.01 - 15.9</td>\n",
              "      <td>147</td>\n",
              "      <td>147</td>\n",
              "      <td>0.18</td>\n",
              "      <td>0.18</td>\n",
              "    </tr>\n",
              "    <tr>\n",
              "      <th>1</th>\n",
              "      <td>15.9 - 28.8</td>\n",
              "      <td>104</td>\n",
              "      <td>251</td>\n",
              "      <td>0.13</td>\n",
              "      <td>0.30</td>\n",
              "    </tr>\n",
              "    <tr>\n",
              "      <th>2</th>\n",
              "      <td>28.8 - 41.69</td>\n",
              "      <td>161</td>\n",
              "      <td>412</td>\n",
              "      <td>0.19</td>\n",
              "      <td>0.50</td>\n",
              "    </tr>\n",
              "    <tr>\n",
              "      <th>3</th>\n",
              "      <td>41.69 - 54.58</td>\n",
              "      <td>67</td>\n",
              "      <td>479</td>\n",
              "      <td>0.08</td>\n",
              "      <td>0.58</td>\n",
              "    </tr>\n",
              "    <tr>\n",
              "      <th>4</th>\n",
              "      <td>54.58 - 67.47</td>\n",
              "      <td>12</td>\n",
              "      <td>491</td>\n",
              "      <td>0.01</td>\n",
              "      <td>0.59</td>\n",
              "    </tr>\n",
              "    <tr>\n",
              "      <th>5</th>\n",
              "      <td>67.47 - 80.37</td>\n",
              "      <td>13</td>\n",
              "      <td>504</td>\n",
              "      <td>0.02</td>\n",
              "      <td>0.61</td>\n",
              "    </tr>\n",
              "    <tr>\n",
              "      <th>6</th>\n",
              "      <td>80.37 - 93.26</td>\n",
              "      <td>15</td>\n",
              "      <td>519</td>\n",
              "      <td>0.02</td>\n",
              "      <td>0.63</td>\n",
              "    </tr>\n",
              "    <tr>\n",
              "      <th>7</th>\n",
              "      <td>93.26 - 106.15</td>\n",
              "      <td>10</td>\n",
              "      <td>529</td>\n",
              "      <td>0.01</td>\n",
              "      <td>0.64</td>\n",
              "    </tr>\n",
              "    <tr>\n",
              "      <th>8</th>\n",
              "      <td>106.15 - 119.04</td>\n",
              "      <td>16</td>\n",
              "      <td>545</td>\n",
              "      <td>0.02</td>\n",
              "      <td>0.66</td>\n",
              "    </tr>\n",
              "    <tr>\n",
              "      <th>9</th>\n",
              "      <td>119.04 - 131.94</td>\n",
              "      <td>24</td>\n",
              "      <td>569</td>\n",
              "      <td>0.03</td>\n",
              "      <td>0.69</td>\n",
              "    </tr>\n",
              "    <tr>\n",
              "      <th>10</th>\n",
              "      <td>131.94 - 144.83</td>\n",
              "      <td>43</td>\n",
              "      <td>612</td>\n",
              "      <td>0.05</td>\n",
              "      <td>0.74</td>\n",
              "    </tr>\n",
              "    <tr>\n",
              "      <th>11</th>\n",
              "      <td>144.83 - 157.72</td>\n",
              "      <td>53</td>\n",
              "      <td>665</td>\n",
              "      <td>0.06</td>\n",
              "      <td>0.80</td>\n",
              "    </tr>\n",
              "    <tr>\n",
              "      <th>12</th>\n",
              "      <td>157.72 - 170.61</td>\n",
              "      <td>44</td>\n",
              "      <td>709</td>\n",
              "      <td>0.05</td>\n",
              "      <td>0.85</td>\n",
              "    </tr>\n",
              "    <tr>\n",
              "      <th>13</th>\n",
              "      <td>170.61 - 183.5</td>\n",
              "      <td>34</td>\n",
              "      <td>743</td>\n",
              "      <td>0.04</td>\n",
              "      <td>0.90</td>\n",
              "    </tr>\n",
              "    <tr>\n",
              "      <th>14</th>\n",
              "      <td>183.5 - 196.4</td>\n",
              "      <td>28</td>\n",
              "      <td>771</td>\n",
              "      <td>0.03</td>\n",
              "      <td>0.93</td>\n",
              "    </tr>\n",
              "    <tr>\n",
              "      <th>15</th>\n",
              "      <td>196.4 - 209.29</td>\n",
              "      <td>13</td>\n",
              "      <td>784</td>\n",
              "      <td>0.02</td>\n",
              "      <td>0.94</td>\n",
              "    </tr>\n",
              "    <tr>\n",
              "      <th>16</th>\n",
              "      <td>209.29 - 222.18</td>\n",
              "      <td>10</td>\n",
              "      <td>794</td>\n",
              "      <td>0.01</td>\n",
              "      <td>0.96</td>\n",
              "    </tr>\n",
              "    <tr>\n",
              "      <th>17</th>\n",
              "      <td>222.18 - 235.07</td>\n",
              "      <td>6</td>\n",
              "      <td>800</td>\n",
              "      <td>0.01</td>\n",
              "      <td>0.96</td>\n",
              "    </tr>\n",
              "    <tr>\n",
              "      <th>18</th>\n",
              "      <td>235.07 - 247.97</td>\n",
              "      <td>12</td>\n",
              "      <td>812</td>\n",
              "      <td>0.01</td>\n",
              "      <td>0.98</td>\n",
              "    </tr>\n",
              "    <tr>\n",
              "      <th>19</th>\n",
              "      <td>247.97 - 260.86</td>\n",
              "      <td>0</td>\n",
              "      <td>812</td>\n",
              "      <td>0</td>\n",
              "      <td>0.98</td>\n",
              "    </tr>\n",
              "    <tr>\n",
              "      <th>20</th>\n",
              "      <td>260.86 - 273.75</td>\n",
              "      <td>4</td>\n",
              "      <td>816</td>\n",
              "      <td>0.00</td>\n",
              "      <td>0.98</td>\n",
              "    </tr>\n",
              "    <tr>\n",
              "      <th>21</th>\n",
              "      <td>273.75 - 286.64</td>\n",
              "      <td>3</td>\n",
              "      <td>819</td>\n",
              "      <td>0.00</td>\n",
              "      <td>0.99</td>\n",
              "    </tr>\n",
              "    <tr>\n",
              "      <th>22</th>\n",
              "      <td>286.64 - 299.54</td>\n",
              "      <td>3</td>\n",
              "      <td>822</td>\n",
              "      <td>0.00</td>\n",
              "      <td>0.99</td>\n",
              "    </tr>\n",
              "    <tr>\n",
              "      <th>23</th>\n",
              "      <td>299.54 - 312.43</td>\n",
              "      <td>4</td>\n",
              "      <td>826</td>\n",
              "      <td>0.00</td>\n",
              "      <td>1.00</td>\n",
              "    </tr>\n",
              "    <tr>\n",
              "      <th>24</th>\n",
              "      <td>312.43 - 325.32</td>\n",
              "      <td>2</td>\n",
              "      <td>828</td>\n",
              "      <td>0.00</td>\n",
              "      <td>1.00</td>\n",
              "    </tr>\n",
              "    <tr>\n",
              "      <th>25</th>\n",
              "      <td>325.32 - 338.21</td>\n",
              "      <td>1</td>\n",
              "      <td>829</td>\n",
              "      <td>0.00</td>\n",
              "      <td>1.00</td>\n",
              "    </tr>\n",
              "    <tr>\n",
              "      <th>26</th>\n",
              "      <td>338.21 - 351.11</td>\n",
              "      <td>0</td>\n",
              "      <td>829</td>\n",
              "      <td>0</td>\n",
              "      <td>1.00</td>\n",
              "    </tr>\n",
              "    <tr>\n",
              "      <th>27</th>\n",
              "      <td>351.11 - 364.0</td>\n",
              "      <td>0</td>\n",
              "      <td>829</td>\n",
              "      <td>0</td>\n",
              "      <td>1.00</td>\n",
              "    </tr>\n",
              "    <tr>\n",
              "      <th>28</th>\n",
              "      <td>364.0 - 376.89</td>\n",
              "      <td>1</td>\n",
              "      <td>830</td>\n",
              "      <td>0.00</td>\n",
              "      <td>1.00</td>\n",
              "    </tr>\n",
              "  </tbody>\n",
              "</table>\n",
              "</div>"
            ],
            "text/plain": [
              "   Intervalos de classe  ... Frequência Relativa Acumulada\n",
              "0           3.01 - 15.9  ...                          0.18\n",
              "1           15.9 - 28.8  ...                          0.30\n",
              "2          28.8 - 41.69  ...                          0.50\n",
              "3         41.69 - 54.58  ...                          0.58\n",
              "4         54.58 - 67.47  ...                          0.59\n",
              "5         67.47 - 80.37  ...                          0.61\n",
              "6         80.37 - 93.26  ...                          0.63\n",
              "7        93.26 - 106.15  ...                          0.64\n",
              "8       106.15 - 119.04  ...                          0.66\n",
              "9       119.04 - 131.94  ...                          0.69\n",
              "10      131.94 - 144.83  ...                          0.74\n",
              "11      144.83 - 157.72  ...                          0.80\n",
              "12      157.72 - 170.61  ...                          0.85\n",
              "13       170.61 - 183.5  ...                          0.90\n",
              "14        183.5 - 196.4  ...                          0.93\n",
              "15       196.4 - 209.29  ...                          0.94\n",
              "16      209.29 - 222.18  ...                          0.96\n",
              "17      222.18 - 235.07  ...                          0.96\n",
              "18      235.07 - 247.97  ...                          0.98\n",
              "19      247.97 - 260.86  ...                          0.98\n",
              "20      260.86 - 273.75  ...                          0.98\n",
              "21      273.75 - 286.64  ...                          0.99\n",
              "22      286.64 - 299.54  ...                          0.99\n",
              "23      299.54 - 312.43  ...                          1.00\n",
              "24      312.43 - 325.32  ...                          1.00\n",
              "25      325.32 - 338.21  ...                          1.00\n",
              "26      338.21 - 351.11  ...                          1.00\n",
              "27       351.11 - 364.0  ...                          1.00\n",
              "28       364.0 - 376.89  ...                          1.00\n",
              "\n",
              "[29 rows x 5 columns]"
            ]
          },
          "metadata": {},
          "execution_count": 679
        }
      ]
    },
    {
      "cell_type": "markdown",
      "metadata": {
        "id": "jNjrH0i651Sq"
      },
      "source": [
        "Comparando a mediana obtida pela tabela de frequências com a real:"
      ]
    },
    {
      "cell_type": "code",
      "metadata": {
        "colab": {
          "base_uri": "https://localhost:8080/"
        },
        "id": "y4OOIlDw6lNn",
        "outputId": "c437dc94-00ed-4f88-874c-36a91d93fe88"
      },
      "source": [
        "#Pela tabela:\n",
        "md_tab_freq_cont(novo_df, nova_tabela)"
      ],
      "execution_count": 680,
      "outputs": [
        {
          "output_type": "execute_result",
          "data": {
            "text/plain": [
              "42.27"
            ]
          },
          "metadata": {},
          "execution_count": 680
        }
      ]
    },
    {
      "cell_type": "code",
      "metadata": {
        "colab": {
          "base_uri": "https://localhost:8080/"
        },
        "id": "w3Ns1xkD6vLT",
        "outputId": "7f854784-f666-4013-fee1-0b96c5649cd5"
      },
      "source": [
        "#Mediana real:\n",
        "novo_df.Vendas.median()"
      ],
      "execution_count": 681,
      "outputs": [
        {
          "output_type": "execute_result",
          "data": {
            "text/plain": [
              "41.78"
            ]
          },
          "metadata": {},
          "execution_count": 681
        }
      ]
    },
    {
      "cell_type": "markdown",
      "metadata": {
        "id": "rE4LbR9ci0Fx"
      },
      "source": [
        "Podemos ver que a estimativa se aproximou mais do valor real após a remoção dos outliers"
      ]
    }
  ]
}